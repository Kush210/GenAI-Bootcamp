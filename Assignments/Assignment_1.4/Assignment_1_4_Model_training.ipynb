{
  "nbformat": 4,
  "nbformat_minor": 0,
  "metadata": {
    "colab": {
      "provenance": []
    },
    "kernelspec": {
      "name": "python3",
      "display_name": "Python 3"
    },
    "language_info": {
      "name": "python"
    }
  },
  "cells": [
    {
      "cell_type": "code",
      "source": [
        "from sklearn.feature_extraction.text import TfidfVectorizer\n",
        "from sklearn.naive_bayes import MultinomialNB\n",
        "from sklearn.model_selection import train_test_split\n",
        "from sklearn.metrics import classification_report\n",
        "from joblib import dump, load\n",
        "import pandas as pd\n",
        "import spacy\n",
        "import numpy as np"
      ],
      "metadata": {
        "id": "UaS33YFgLkFF"
      },
      "execution_count": null,
      "outputs": []
    },
    {
      "cell_type": "code",
      "source": [
        "nlp = spacy.load(\"en_core_web_sm\")"
      ],
      "metadata": {
        "id": "9fshIlu9R_Bi"
      },
      "execution_count": null,
      "outputs": []
    },
    {
      "cell_type": "code",
      "source": [
        "# Preprocessing function\n",
        "# Define a function to process text by removing stopwords, punctuation, and lemmatizing\n",
        "def preprocess(text):\n",
        "    pass  # Fill in the preprocessing logic here"
      ],
      "metadata": {
        "id": "aLXP2zmdQhEc"
      },
      "execution_count": null,
      "outputs": []
    },
    {
      "cell_type": "code",
      "source": [
        "# Load dataset\n",
        "df = pd.read_csv(\"Enter Dataset Path\")"
      ],
      "metadata": {
        "id": "3UlLxA8ZEmcE"
      },
      "execution_count": null,
      "outputs": []
    },
    {
      "cell_type": "code",
      "source": [
        "# Encode the classes horror  as 1, romance as 0 with a new column named `genre_numerical`\n",
        "\n",
        "# code goes here"
      ],
      "metadata": {
        "id": "fxXKOzeOEqXx"
      },
      "execution_count": null,
      "outputs": []
    },
    {
      "cell_type": "code",
      "source": [
        "# Preprocess descriptions and store them in dataframe with column name as `preprocessed_description`\n",
        "\n",
        "# code goes here"
      ],
      "metadata": {
        "id": "rT-jAVlXEtCo"
      },
      "execution_count": null,
      "outputs": []
    },
    {
      "cell_type": "code",
      "source": [
        "# print first five rows of dataframe\n",
        "\n",
        "# code goes here"
      ],
      "metadata": {
        "id": "8WuoqLO6Ewaq"
      },
      "execution_count": null,
      "outputs": []
    },
    {
      "cell_type": "code",
      "source": [
        "# Split data into train and test sets; condider X as `preprocessed_description` column and Y as `genre_numerical` column\n",
        "\n",
        "# code goes here"
      ],
      "metadata": {
        "id": "AyhvEdn3Ey_p"
      },
      "execution_count": null,
      "outputs": []
    },
    {
      "cell_type": "code",
      "source": [
        "# Create TF-IDF vectors\n",
        "tfidf_vectorizer = TfidfVectorizer()\n",
        "# create vectors of x train using fit_transform function.\n",
        "X_train_tfidf = ## code goes here\n",
        "\n",
        "# create vectors of x test using transform function as we have already fitted the data.\n",
        "X_test_tfidf = ## code goes here"
      ],
      "metadata": {
        "id": "tj5UqN9kFEn0"
      },
      "execution_count": null,
      "outputs": []
    },
    {
      "cell_type": "code",
      "source": [
        "# print length of vocabulary\n",
        "\n",
        "# code goes here"
      ],
      "metadata": {
        "id": "GuU-yU1mXdVY"
      },
      "execution_count": null,
      "outputs": []
    },
    {
      "cell_type": "code",
      "source": [
        "# print size of y train\n",
        "\n",
        "# code goes here"
      ],
      "metadata": {
        "id": "JLVOW6sNOw9I"
      },
      "execution_count": null,
      "outputs": []
    },
    {
      "cell_type": "code",
      "source": [
        "# print size of X_train_tfidf\n",
        "\n",
        "# code goes here"
      ],
      "metadata": {
        "id": "XyPJqGjtO0JT"
      },
      "execution_count": null,
      "outputs": []
    },
    {
      "cell_type": "code",
      "source": [
        "# Calculate mean vectors for each genre using X_train_tfidf\n",
        "horror_mean_vector = # code goes here\n",
        "romance_mean_vector = # code goes here"
      ],
      "metadata": {
        "id": "PFbhnDyiFMiL"
      },
      "execution_count": null,
      "outputs": []
    },
    {
      "cell_type": "code",
      "source": [
        "# Train Naive Bayes classifier\n",
        "clf = MultinomialNB()\n",
        "# fit the data in classifier\n",
        "\n",
        "# code goes here"
      ],
      "metadata": {
        "id": "PCf7oNh6Flre"
      },
      "execution_count": null,
      "outputs": []
    },
    {
      "cell_type": "code",
      "source": [
        "# Predict and evaluate the classifier using classification report\n",
        "\n",
        "# code goes here"
      ],
      "metadata": {
        "id": "jdQJW9vLFyj3"
      },
      "execution_count": null,
      "outputs": []
    },
    {
      "cell_type": "code",
      "source": [
        "# Prediction function\n",
        "\n",
        "# Prediction function (Fill this in)\n",
        "def predict(user_input):\n",
        "    # Preprocess the input text\n",
        "    # code goes here\n",
        "\n",
        "    # Convert the preprocessed input into TF-IDF vector\n",
        "    # code goes here\n",
        "\n",
        "    # Predict the genre using the trained model\n",
        "    # code goes here\n",
        "\n",
        "    # Return the genre\n",
        "    # code goes here"
      ],
      "metadata": {
        "id": "Y5T3YuS9F_GE"
      },
      "execution_count": null,
      "outputs": []
    },
    {
      "cell_type": "code",
      "source": [
        "# Show two predictions\n",
        "\n",
        "# code goes here"
      ],
      "metadata": {
        "id": "QB-UgHdJGW2r"
      },
      "execution_count": null,
      "outputs": []
    },
    {
      "cell_type": "code",
      "source": [
        "# Save the model, vectorizer, and mean vectors separately\n",
        "\n",
        "\n",
        "# code goes here"
      ],
      "metadata": {
        "id": "GtFEoB4yF07_"
      },
      "execution_count": null,
      "outputs": []
    },
    {
      "cell_type": "code",
      "source": [
        "# Load the saved model, vectorizer\n",
        "\n",
        "model = load('Path to saved model')\n",
        "vectorizer = load('Path to saved vectorizer')"
      ],
      "metadata": {
        "id": "81sI45o7F37R"
      },
      "execution_count": null,
      "outputs": []
    },
    {
      "cell_type": "code",
      "source": [
        "# Prediction function for saved model\n",
        "\n",
        "def predict_from_loaded_model(user_input):\n",
        "   # Preprocess the input text\n",
        "    # code goes here\n",
        "\n",
        "    # Convert the preprocessed input into TF-IDF vector\n",
        "    # code goes here\n",
        "\n",
        "    # Predict the genre using the trained model\n",
        "    # code goes here\n",
        "\n",
        "    # Return the genre\n",
        "    # code goes here"
      ],
      "metadata": {
        "id": "nwsGXjYAGwxm"
      },
      "execution_count": null,
      "outputs": []
    },
    {
      "cell_type": "code",
      "source": [
        "# Show two predictions\n",
        "\n",
        "# code goes here"
      ],
      "metadata": {
        "id": "2xHWVKUUHBDj"
      },
      "execution_count": null,
      "outputs": []
    }
  ]
}