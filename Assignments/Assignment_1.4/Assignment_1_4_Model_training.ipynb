{
  "cells": [
    {
      "cell_type": "markdown",
      "metadata": {},
      "source": [
        "## Follow the similar logic as Movie Classifer Demo done in the class."
      ]
    },
    {
      "cell_type": "markdown",
      "metadata": {},
      "source": [
        "- Tokenize text using spacy.\n",
        "- Download the Word2Vec Model\n",
        "- Vectorize all words in each review.\n",
        "- Calculate mean vector of the reviews\n",
        "- Train a Neural Network for classification\n",
        "- Test the trained neural network with few examples."
      ]
    },
    {
      "cell_type": "code",
      "execution_count": null,
      "metadata": {
        "id": "UaS33YFgLkFF"
      },
      "outputs": [],
      "source": []
    },
    {
      "cell_type": "code",
      "execution_count": null,
      "metadata": {
        "id": "9fshIlu9R_Bi"
      },
      "outputs": [],
      "source": []
    }
  ],
  "metadata": {
    "colab": {
      "provenance": []
    },
    "kernelspec": {
      "display_name": "Python 3",
      "name": "python3"
    },
    "language_info": {
      "name": "python"
    }
  },
  "nbformat": 4,
  "nbformat_minor": 0
}
