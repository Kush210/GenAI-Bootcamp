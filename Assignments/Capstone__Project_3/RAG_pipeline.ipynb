{
 "cells": [
  {
   "cell_type": "code",
   "execution_count": null,
   "metadata": {},
   "outputs": [],
   "source": [
    "# Create a Vectore store for Niva bupa documents"
   ]
  },
  {
   "cell_type": "code",
   "execution_count": 1,
   "metadata": {},
   "outputs": [],
   "source": [
    "from langchain_community.document_loaders import PyMuPDFLoader\n",
    "from langchain_community.document_loaders.parsers import RapidOCRBlobParser\n",
    "from langchain_community.document_loaders import FileSystemBlobLoader\n",
    "from langchain_community.document_loaders.generic import GenericLoader\n",
    "from langchain_community.document_loaders.parsers import PyMuPDFParser\n",
    "\n",
    "file_path = \"Files/goactive-brochure.pdf\"\n",
    "loader =  GenericLoader(\n",
    "    blob_loader=FileSystemBlobLoader(\n",
    "    path = \"./Files/\",\n",
    "    glob=\"*.pdf\",\n",
    "    show_progress = True\n",
    "    ),\n",
    "    blob_parser=PyMuPDFParser(\n",
    "        mode=\"page\",\n",
    "        extract_tables=\"markdown\",\n",
    "    ),\n",
    ")\n"
   ]
  },
  {
   "cell_type": "code",
   "execution_count": 2,
   "metadata": {},
   "outputs": [],
   "source": [
    "import re\n",
    "def clean_text(text):\n",
    "    \"\"\"Cleans text by removing unwanted characters and excessive whitespace.\"\"\"\n",
    "    text = re.sub(r'\\s+', ' ', text)\n",
    "    text = re.sub(r'[^\\w\\s.,;!?-]', '', text)\n",
    "    return text.strip()"
   ]
  },
  {
   "cell_type": "code",
   "execution_count": 10,
   "metadata": {},
   "outputs": [],
   "source": [
    "from langchain_chroma import Chroma\n",
    "from langchain_huggingface import HuggingFaceEmbeddings\n",
    "\n",
    "def setup_vectorstore():\n",
    "    \"\"\"Creates vector store from processed PDF content.\"\"\"\n",
    "    embeddings = HuggingFaceEmbeddings(model_name=\"BAAI/bge-large-en\", model_kwargs = {\"device\":\"cuda\"},encode_kwargs={'normalize_embeddings': True})\n",
    "    vector_store = Chroma(\n",
    "    collection_name=\"Insuarance\",\n",
    "    embedding_function=embeddings,\n",
    "    persist_directory=\"./chroma_db\",\n",
    ")\n",
    "    return vector_store\n",
    "vector_store = setup_vectorstore()"
   ]
  },
  {
   "cell_type": "code",
   "execution_count": 16,
   "metadata": {},
   "outputs": [
    {
     "name": "stderr",
     "output_type": "stream",
     "text": [
      "  0%|          | 0/24 [00:00<?, ?it/s]"
     ]
    },
    {
     "name": "stdout",
     "output_type": "stream",
     "text": [
      "---------processing: Files/GoActive-Proposal-Form.pdf\n",
      "---------processing: Files/GoActive-Proposal-Form.pdf\n",
      "---------processing: Files/GoActive-Proposal-Form.pdf\n",
      "---------processing: Files/GoActive-Proposal-Form.pdf\n",
      "---------processing: Files/GoActive-Proposal-Form.pdf\n",
      "---------processing: Files/GoActive-Proposal-Form.pdf\n"
     ]
    },
    {
     "name": "stderr",
     "output_type": "stream",
     "text": [
      "  4%|▍         | 1/24 [01:09<26:35, 69.37s/it]"
     ]
    },
    {
     "name": "stdout",
     "output_type": "stream",
     "text": [
      "---------processing: Files/heartbeat-claim-form.pdf\n",
      "---------processing: Files/heartbeat-claim-form.pdf\n",
      "---------processing: Files/heartbeat-claim-form.pdf\n",
      "---------processing: Files/heartbeat-claim-form.pdf\n",
      "---------processing: Files/heartbeat-claim-form.pdf\n",
      "---------processing: Files/heartbeat-claim-form.pdf\n",
      "---------processing: Files/heartbeat-claim-form.pdf\n",
      "---------processing: Files/heartbeat-claim-form.pdf\n"
     ]
    },
    {
     "name": "stderr",
     "output_type": "stream",
     "text": [
      "  8%|▊         | 2/24 [02:20<25:49, 70.45s/it]"
     ]
    },
    {
     "name": "stdout",
     "output_type": "stream",
     "text": [
      "---------processing: Files/healthpremia brochure.pdf\n",
      "---------processing: Files/healthpremia brochure.pdf\n",
      "---------processing: Files/healthpremia brochure.pdf\n",
      "---------processing: Files/healthpremia brochure.pdf\n",
      "---------processing: Files/healthpremia brochure.pdf\n",
      "---------processing: Files/healthpremia brochure.pdf\n",
      "---------processing: Files/healthpremia brochure.pdf\n",
      "---------processing: Files/healthpremia brochure.pdf\n",
      "---------processing: Files/healthpremia brochure.pdf\n",
      "---------processing: Files/healthpremia brochure.pdf\n",
      "---------processing: Files/healthpremia brochure.pdf\n",
      "---------processing: Files/healthpremia brochure.pdf\n",
      "---------processing: Files/healthpremia brochure.pdf\n",
      "---------processing: Files/healthpremia brochure.pdf\n",
      "---------processing: Files/healthpremia brochure.pdf\n",
      "---------processing: Files/healthpremia brochure.pdf\n",
      "---------processing: Files/healthpremia brochure.pdf\n"
     ]
    },
    {
     "name": "stderr",
     "output_type": "stream",
     "text": [
      " 12%|█▎        | 3/24 [02:31<15:12, 43.47s/it]"
     ]
    },
    {
     "name": "stdout",
     "output_type": "stream",
     "text": [
      "---------processing: Files/healthpremia brochure.pdf\n",
      "---------processing: Files/policy wording.pdf\n",
      "---------processing: Files/policy wording.pdf\n",
      "---------processing: Files/policy wording.pdf\n",
      "---------processing: Files/policy wording.pdf\n",
      "---------processing: Files/policy wording.pdf\n",
      "---------processing: Files/policy wording.pdf\n",
      "---------processing: Files/policy wording.pdf\n",
      "---------processing: Files/policy wording.pdf\n",
      "---------processing: Files/policy wording.pdf\n",
      "---------processing: Files/policy wording.pdf\n",
      "---------processing: Files/policy wording.pdf\n",
      "---------processing: Files/policy wording.pdf\n",
      "---------processing: Files/policy wording.pdf\n",
      "---------processing: Files/policy wording.pdf\n",
      "---------processing: Files/policy wording.pdf\n",
      "---------processing: Files/policy wording.pdf\n",
      "---------processing: Files/policy wording.pdf\n",
      "---------processing: Files/policy wording.pdf\n",
      "---------processing: Files/policy wording.pdf\n",
      "---------processing: Files/policy wording.pdf\n",
      "---------processing: Files/policy wording.pdf\n",
      "---------processing: Files/policy wording.pdf\n",
      "---------processing: Files/policy wording.pdf\n",
      "---------processing: Files/policy wording.pdf\n",
      "---------processing: Files/policy wording.pdf\n",
      "---------processing: Files/policy wording.pdf\n",
      "---------processing: Files/policy wording.pdf\n",
      "---------processing: Files/policy wording.pdf\n",
      "---------processing: Files/policy wording.pdf\n",
      "---------processing: Files/policy wording.pdf\n",
      "---------processing: Files/policy wording.pdf\n",
      "---------processing: Files/policy wording.pdf\n",
      "---------processing: Files/policy wording.pdf\n",
      "---------processing: Files/policy wording.pdf\n",
      "---------processing: Files/policy wording.pdf\n",
      "---------processing: Files/policy wording.pdf\n",
      "---------processing: Files/policy wording.pdf\n",
      "---------processing: Files/policy wording.pdf\n",
      "---------processing: Files/policy wording.pdf\n",
      "---------processing: Files/policy wording.pdf\n",
      "---------processing: Files/policy wording.pdf\n",
      "---------processing: Files/policy wording.pdf\n",
      "---------processing: Files/policy wording.pdf\n",
      "---------processing: Files/policy wording.pdf\n",
      "---------processing: Files/policy wording.pdf\n",
      "---------processing: Files/policy wording.pdf\n",
      "---------processing: Files/policy wording.pdf\n",
      "---------processing: Files/policy wording.pdf\n",
      "---------processing: Files/policy wording.pdf\n",
      "---------processing: Files/policy wording.pdf\n",
      "---------processing: Files/policy wording.pdf\n",
      "---------processing: Files/policy wording.pdf\n",
      "---------processing: Files/policy wording.pdf\n",
      "---------processing: Files/policy wording.pdf\n",
      "---------processing: Files/policy wording.pdf\n",
      "---------processing: Files/policy wording.pdf\n",
      "---------processing: Files/policy wording.pdf\n",
      "---------processing: Files/policy wording.pdf\n",
      "---------processing: Files/policy wording.pdf\n",
      "---------processing: Files/policy wording.pdf\n",
      "---------processing: Files/policy wording.pdf\n",
      "---------processing: Files/policy wording.pdf\n",
      "---------processing: Files/policy wording.pdf\n",
      "---------processing: Files/policy wording.pdf\n",
      "---------processing: Files/policy wording.pdf\n",
      "---------processing: Files/policy wording.pdf\n"
     ]
    },
    {
     "name": "stderr",
     "output_type": "stream",
     "text": [
      " 17%|█▋        | 4/24 [06:00<36:14, 108.73s/it]"
     ]
    },
    {
     "name": "stdout",
     "output_type": "stream",
     "text": [
      "---------processing: Files/combo_hc_hr_brochure.pdf\n"
     ]
    },
    {
     "name": "stderr",
     "output_type": "stream",
     "text": [
      " 21%|██        | 5/24 [06:02<22:11, 70.10s/it] "
     ]
    },
    {
     "name": "stdout",
     "output_type": "stream",
     "text": [
      "---------processing: Files/nivabupa-health-recharge-t-and-c.pdf\n",
      "---------processing: Files/nivabupa-health-recharge-t-and-c.pdf\n",
      "---------processing: Files/nivabupa-health-recharge-t-and-c.pdf\n",
      "---------processing: Files/nivabupa-health-recharge-t-and-c.pdf\n",
      "---------processing: Files/nivabupa-health-recharge-t-and-c.pdf\n",
      "---------processing: Files/nivabupa-health-recharge-t-and-c.pdf\n",
      "---------processing: Files/nivabupa-health-recharge-t-and-c.pdf\n",
      "---------processing: Files/nivabupa-health-recharge-t-and-c.pdf\n",
      "---------processing: Files/nivabupa-health-recharge-t-and-c.pdf\n",
      "---------processing: Files/nivabupa-health-recharge-t-and-c.pdf\n",
      "---------processing: Files/nivabupa-health-recharge-t-and-c.pdf\n",
      "---------processing: Files/nivabupa-health-recharge-t-and-c.pdf\n",
      "---------processing: Files/nivabupa-health-recharge-t-and-c.pdf\n",
      "---------processing: Files/nivabupa-health-recharge-t-and-c.pdf\n",
      "---------processing: Files/nivabupa-health-recharge-t-and-c.pdf\n",
      "---------processing: Files/nivabupa-health-recharge-t-and-c.pdf\n",
      "---------processing: Files/nivabupa-health-recharge-t-and-c.pdf\n",
      "---------processing: Files/nivabupa-health-recharge-t-and-c.pdf\n",
      "---------processing: Files/nivabupa-health-recharge-t-and-c.pdf\n",
      "---------processing: Files/nivabupa-health-recharge-t-and-c.pdf\n",
      "---------processing: Files/nivabupa-health-recharge-t-and-c.pdf\n",
      "---------processing: Files/nivabupa-health-recharge-t-and-c.pdf\n",
      "---------processing: Files/nivabupa-health-recharge-t-and-c.pdf\n",
      "---------processing: Files/nivabupa-health-recharge-t-and-c.pdf\n",
      "---------processing: Files/nivabupa-health-recharge-t-and-c.pdf\n",
      "---------processing: Files/nivabupa-health-recharge-t-and-c.pdf\n",
      "---------processing: Files/nivabupa-health-recharge-t-and-c.pdf\n",
      "---------processing: Files/nivabupa-health-recharge-t-and-c.pdf\n",
      "---------processing: Files/nivabupa-health-recharge-t-and-c.pdf\n",
      "---------processing: Files/nivabupa-health-recharge-t-and-c.pdf\n",
      "---------processing: Files/nivabupa-health-recharge-t-and-c.pdf\n"
     ]
    },
    {
     "name": "stderr",
     "output_type": "stream",
     "text": [
      " 25%|██▌       | 6/24 [07:22<22:05, 73.66s/it]"
     ]
    },
    {
     "name": "stdout",
     "output_type": "stream",
     "text": [
      "---------processing: Files/goactive-policy-document.pdf\n",
      "---------processing: Files/goactive-policy-document.pdf\n",
      "---------processing: Files/goactive-policy-document.pdf\n",
      "---------processing: Files/goactive-policy-document.pdf\n",
      "---------processing: Files/goactive-policy-document.pdf\n",
      "---------processing: Files/goactive-policy-document.pdf\n",
      "---------processing: Files/goactive-policy-document.pdf\n",
      "---------processing: Files/goactive-policy-document.pdf\n",
      "---------processing: Files/goactive-policy-document.pdf\n",
      "---------processing: Files/goactive-policy-document.pdf\n",
      "---------processing: Files/goactive-policy-document.pdf\n",
      "---------processing: Files/goactive-policy-document.pdf\n",
      "---------processing: Files/goactive-policy-document.pdf\n",
      "---------processing: Files/goactive-policy-document.pdf\n",
      "---------processing: Files/goactive-policy-document.pdf\n",
      "---------processing: Files/goactive-policy-document.pdf\n",
      "---------processing: Files/goactive-policy-document.pdf\n",
      "---------processing: Files/goactive-policy-document.pdf\n",
      "---------processing: Files/goactive-policy-document.pdf\n",
      "---------processing: Files/goactive-policy-document.pdf\n",
      "---------processing: Files/goactive-policy-document.pdf\n",
      "---------processing: Files/goactive-policy-document.pdf\n",
      "---------processing: Files/goactive-policy-document.pdf\n",
      "---------processing: Files/goactive-policy-document.pdf\n",
      "---------processing: Files/goactive-policy-document.pdf\n",
      "---------processing: Files/goactive-policy-document.pdf\n",
      "---------processing: Files/goactive-policy-document.pdf\n",
      "---------processing: Files/goactive-policy-document.pdf\n",
      "---------processing: Files/goactive-policy-document.pdf\n",
      "---------processing: Files/goactive-policy-document.pdf\n",
      "---------processing: Files/goactive-policy-document.pdf\n",
      "---------processing: Files/goactive-policy-document.pdf\n",
      "---------processing: Files/goactive-policy-document.pdf\n",
      "---------processing: Files/goactive-policy-document.pdf\n",
      "---------processing: Files/goactive-policy-document.pdf\n",
      "---------processing: Files/goactive-policy-document.pdf\n",
      "---------processing: Files/goactive-policy-document.pdf\n",
      "---------processing: Files/goactive-policy-document.pdf\n",
      "---------processing: Files/goactive-policy-document.pdf\n",
      "---------processing: Files/goactive-policy-document.pdf\n",
      "---------processing: Files/goactive-policy-document.pdf\n",
      "---------processing: Files/goactive-policy-document.pdf\n",
      "---------processing: Files/goactive-policy-document.pdf\n",
      "---------processing: Files/goactive-policy-document.pdf\n",
      "---------processing: Files/goactive-policy-document.pdf\n",
      "---------processing: Files/goactive-policy-document.pdf\n",
      "---------processing: Files/goactive-policy-document.pdf\n",
      "---------processing: Files/goactive-policy-document.pdf\n",
      "---------processing: Files/goactive-policy-document.pdf\n",
      "---------processing: Files/goactive-policy-document.pdf\n",
      "---------processing: Files/goactive-policy-document.pdf\n"
     ]
    },
    {
     "name": "stderr",
     "output_type": "stream",
     "text": [
      " 29%|██▉       | 7/24 [09:20<24:55, 87.95s/it]"
     ]
    },
    {
     "name": "stdout",
     "output_type": "stream",
     "text": [
      "---------processing: Files/NivaBupa-pre-auth-claim-form (1).pdf\n",
      "---------processing: Files/NivaBupa-pre-auth-claim-form (1).pdf\n",
      "---------processing: Files/NivaBupa-pre-auth-claim-form (1).pdf\n",
      "---------processing: Files/NivaBupa-pre-auth-claim-form (1).pdf\n",
      "---------processing: Files/NivaBupa-pre-auth-claim-form (1).pdf\n"
     ]
    },
    {
     "name": "stderr",
     "output_type": "stream",
     "text": [
      " 33%|███▎      | 8/24 [09:38<17:29, 65.60s/it]"
     ]
    },
    {
     "name": "stdout",
     "output_type": "stream",
     "text": [
      "---------processing: Files/health companion proposal form.pdf\n",
      "---------processing: Files/health companion proposal form.pdf\n",
      "---------processing: Files/health companion proposal form.pdf\n",
      "---------processing: Files/health companion proposal form.pdf\n",
      "---------processing: Files/health companion proposal form.pdf\n",
      "---------processing: Files/health companion proposal form.pdf\n",
      "---------processing: Files/health companion proposal form.pdf\n",
      "---------processing: Files/health companion proposal form.pdf\n",
      "---------processing: Files/health companion proposal form.pdf\n"
     ]
    },
    {
     "name": "stderr",
     "output_type": "stream",
     "text": [
      " 38%|███▊      | 9/24 [10:12<13:56, 55.78s/it]"
     ]
    },
    {
     "name": "stdout",
     "output_type": "stream",
     "text": [
      "---------processing: Files/health-companion-claim-form.pdf\n",
      "---------processing: Files/health-companion-claim-form.pdf\n",
      "---------processing: Files/health-companion-claim-form.pdf\n",
      "---------processing: Files/health-companion-claim-form.pdf\n",
      "---------processing: Files/health-companion-claim-form.pdf\n",
      "---------processing: Files/health-companion-claim-form.pdf\n",
      "---------processing: Files/health-companion-claim-form.pdf\n",
      "---------processing: Files/health-companion-claim-form.pdf\n"
     ]
    },
    {
     "name": "stderr",
     "output_type": "stream",
     "text": [
      " 42%|████▏     | 10/24 [10:41<11:07, 47.71s/it]"
     ]
    },
    {
     "name": "stdout",
     "output_type": "stream",
     "text": [
      "---------processing: Files/hp-single-sheeter.pdf\n",
      "---------processing: Files/hp-single-sheeter.pdf\n"
     ]
    },
    {
     "name": "stderr",
     "output_type": "stream",
     "text": [
      " 46%|████▌     | 11/24 [10:45<07:26, 34.35s/it]"
     ]
    },
    {
     "name": "stdout",
     "output_type": "stream",
     "text": [
      "---------processing: Files/goactive-brochure.pdf\n",
      "---------processing: Files/goactive-brochure.pdf\n"
     ]
    },
    {
     "name": "stderr",
     "output_type": "stream",
     "text": [
      " 50%|█████     | 12/24 [11:03<05:51, 29.32s/it]"
     ]
    },
    {
     "name": "stdout",
     "output_type": "stream",
     "text": [
      "---------processing: Files/health-companion-claim-form (1).pdf\n",
      "---------processing: Files/health-companion-claim-form (1).pdf\n",
      "---------processing: Files/health-companion-claim-form (1).pdf\n",
      "---------processing: Files/health-companion-claim-form (1).pdf\n",
      "---------processing: Files/health-companion-claim-form (1).pdf\n",
      "---------processing: Files/health-companion-claim-form (1).pdf\n",
      "---------processing: Files/health-companion-claim-form (1).pdf\n",
      "---------processing: Files/health-companion-claim-form (1).pdf\n"
     ]
    },
    {
     "name": "stderr",
     "output_type": "stream",
     "text": [
      " 54%|█████▍    | 13/24 [11:32<05:21, 29.20s/it]"
     ]
    },
    {
     "name": "stdout",
     "output_type": "stream",
     "text": [
      "---------processing: Files/hr-single-sheeter.pdf\n",
      "---------processing: Files/hr-single-sheeter.pdf\n"
     ]
    },
    {
     "name": "stderr",
     "output_type": "stream",
     "text": [
      " 58%|█████▊    | 14/24 [11:35<03:32, 21.29s/it]"
     ]
    },
    {
     "name": "stdout",
     "output_type": "stream",
     "text": [
      "---------processing: Files/heartbeat-proposal-form.pdf\n",
      "---------processing: Files/heartbeat-proposal-form.pdf\n",
      "---------processing: Files/heartbeat-proposal-form.pdf\n",
      "---------processing: Files/heartbeat-proposal-form.pdf\n",
      "---------processing: Files/heartbeat-proposal-form.pdf\n",
      "---------processing: Files/heartbeat-proposal-form.pdf\n",
      "---------processing: Files/heartbeat-proposal-form.pdf\n",
      "---------processing: Files/heartbeat-proposal-form.pdf\n",
      "---------processing: Files/heartbeat-proposal-form.pdf\n",
      "---------processing: Files/heartbeat-proposal-form.pdf\n"
     ]
    },
    {
     "name": "stderr",
     "output_type": "stream",
     "text": [
      " 62%|██████▎   | 15/24 [12:12<03:54, 26.10s/it]"
     ]
    },
    {
     "name": "stdout",
     "output_type": "stream",
     "text": [
      "---------processing: Files/mbhr-proporsal-form.pdf\n",
      "---------processing: Files/mbhr-proporsal-form.pdf\n",
      "---------processing: Files/mbhr-proporsal-form.pdf\n",
      "---------processing: Files/mbhr-proporsal-form.pdf\n",
      "---------processing: Files/mbhr-proporsal-form.pdf\n",
      "---------processing: Files/mbhr-proporsal-form.pdf\n",
      "---------processing: Files/mbhr-proporsal-form.pdf\n",
      "---------processing: Files/mbhr-proporsal-form.pdf\n"
     ]
    },
    {
     "name": "stderr",
     "output_type": "stream",
     "text": [
      " 67%|██████▋   | 16/24 [12:43<03:39, 27.42s/it]"
     ]
    },
    {
     "name": "stdout",
     "output_type": "stream",
     "text": [
      "---------processing: Files/NivaBupa-pre-auth-claim-form.pdf\n",
      "---------processing: Files/NivaBupa-pre-auth-claim-form.pdf\n",
      "---------processing: Files/NivaBupa-pre-auth-claim-form.pdf\n",
      "---------processing: Files/NivaBupa-pre-auth-claim-form.pdf\n",
      "---------processing: Files/NivaBupa-pre-auth-claim-form.pdf\n"
     ]
    },
    {
     "name": "stderr",
     "output_type": "stream",
     "text": [
      " 71%|███████   | 17/24 [13:01<02:51, 24.56s/it]"
     ]
    },
    {
     "name": "stdout",
     "output_type": "stream",
     "text": [
      "---------processing: Files/nivabupa-health-pulse-t-and-c.pdf\n",
      "---------processing: Files/nivabupa-health-pulse-t-and-c.pdf\n",
      "---------processing: Files/nivabupa-health-pulse-t-and-c.pdf\n",
      "---------processing: Files/nivabupa-health-pulse-t-and-c.pdf\n",
      "---------processing: Files/nivabupa-health-pulse-t-and-c.pdf\n",
      "---------processing: Files/nivabupa-health-pulse-t-and-c.pdf\n",
      "---------processing: Files/nivabupa-health-pulse-t-and-c.pdf\n",
      "---------processing: Files/nivabupa-health-pulse-t-and-c.pdf\n",
      "---------processing: Files/nivabupa-health-pulse-t-and-c.pdf\n",
      "---------processing: Files/nivabupa-health-pulse-t-and-c.pdf\n",
      "---------processing: Files/nivabupa-health-pulse-t-and-c.pdf\n",
      "---------processing: Files/nivabupa-health-pulse-t-and-c.pdf\n",
      "---------processing: Files/nivabupa-health-pulse-t-and-c.pdf\n",
      "---------processing: Files/nivabupa-health-pulse-t-and-c.pdf\n",
      "---------processing: Files/nivabupa-health-pulse-t-and-c.pdf\n",
      "---------processing: Files/nivabupa-health-pulse-t-and-c.pdf\n",
      "---------processing: Files/nivabupa-health-pulse-t-and-c.pdf\n",
      "---------processing: Files/nivabupa-health-pulse-t-and-c.pdf\n",
      "---------processing: Files/nivabupa-health-pulse-t-and-c.pdf\n",
      "---------processing: Files/nivabupa-health-pulse-t-and-c.pdf\n",
      "---------processing: Files/nivabupa-health-pulse-t-and-c.pdf\n",
      "---------processing: Files/nivabupa-health-pulse-t-and-c.pdf\n",
      "---------processing: Files/nivabupa-health-pulse-t-and-c.pdf\n",
      "---------processing: Files/nivabupa-health-pulse-t-and-c.pdf\n",
      "---------processing: Files/nivabupa-health-pulse-t-and-c.pdf\n",
      "---------processing: Files/nivabupa-health-pulse-t-and-c.pdf\n",
      "---------processing: Files/nivabupa-health-pulse-t-and-c.pdf\n",
      "---------processing: Files/nivabupa-health-pulse-t-and-c.pdf\n",
      "---------processing: Files/nivabupa-health-pulse-t-and-c.pdf\n",
      "---------processing: Files/nivabupa-health-pulse-t-and-c.pdf\n",
      "---------processing: Files/nivabupa-health-pulse-t-and-c.pdf\n",
      "---------processing: Files/nivabupa-health-pulse-t-and-c.pdf\n",
      "---------processing: Files/nivabupa-health-pulse-t-and-c.pdf\n",
      "---------processing: Files/nivabupa-health-pulse-t-and-c.pdf\n",
      "---------processing: Files/nivabupa-health-pulse-t-and-c.pdf\n",
      "---------processing: Files/nivabupa-health-pulse-t-and-c.pdf\n",
      "---------processing: Files/nivabupa-health-pulse-t-and-c.pdf\n",
      "---------processing: Files/nivabupa-health-pulse-t-and-c.pdf\n",
      "---------processing: Files/nivabupa-health-pulse-t-and-c.pdf\n",
      "---------processing: Files/nivabupa-health-pulse-t-and-c.pdf\n",
      "---------processing: Files/nivabupa-health-pulse-t-and-c.pdf\n",
      "---------processing: Files/nivabupa-health-pulse-t-and-c.pdf\n",
      "---------processing: Files/nivabupa-health-pulse-t-and-c.pdf\n",
      "---------processing: Files/nivabupa-health-pulse-t-and-c.pdf\n",
      "---------processing: Files/nivabupa-health-pulse-t-and-c.pdf\n",
      "---------processing: Files/nivabupa-health-pulse-t-and-c.pdf\n",
      "---------processing: Files/nivabupa-health-pulse-t-and-c.pdf\n",
      "---------processing: Files/nivabupa-health-pulse-t-and-c.pdf\n",
      "---------processing: Files/nivabupa-health-pulse-t-and-c.pdf\n",
      "---------processing: Files/nivabupa-health-pulse-t-and-c.pdf\n",
      "---------processing: Files/nivabupa-health-pulse-t-and-c.pdf\n",
      "---------processing: Files/nivabupa-health-pulse-t-and-c.pdf\n",
      "---------processing: Files/nivabupa-health-pulse-t-and-c.pdf\n",
      "---------processing: Files/nivabupa-health-pulse-t-and-c.pdf\n"
     ]
    },
    {
     "name": "stderr",
     "output_type": "stream",
     "text": [
      " 75%|███████▌  | 18/24 [15:10<05:35, 55.96s/it]"
     ]
    },
    {
     "name": "stdout",
     "output_type": "stream",
     "text": [
      "---------processing: Files/nivabupa-health-pulse-t-and-c.pdf\n",
      "---------processing: Files/HPR-RETAIL-AppForm.pdf\n",
      "---------processing: Files/HPR-RETAIL-AppForm.pdf\n",
      "---------processing: Files/HPR-RETAIL-AppForm.pdf\n",
      "---------processing: Files/HPR-RETAIL-AppForm.pdf\n",
      "---------processing: Files/HPR-RETAIL-AppForm.pdf\n",
      "---------processing: Files/HPR-RETAIL-AppForm.pdf\n",
      "---------processing: Files/HPR-RETAIL-AppForm.pdf\n",
      "---------processing: Files/HPR-RETAIL-AppForm.pdf\n"
     ]
    },
    {
     "name": "stderr",
     "output_type": "stream",
     "text": [
      " 79%|███████▉  | 19/24 [15:37<03:57, 47.44s/it]"
     ]
    },
    {
     "name": "stdout",
     "output_type": "stream",
     "text": [
      "---------processing: Files/health-companion-policy-wording.pdf\n",
      "---------processing: Files/health-companion-policy-wording.pdf\n",
      "---------processing: Files/health-companion-policy-wording.pdf\n",
      "---------processing: Files/health-companion-policy-wording.pdf\n",
      "---------processing: Files/health-companion-policy-wording.pdf\n",
      "---------processing: Files/health-companion-policy-wording.pdf\n",
      "---------processing: Files/health-companion-policy-wording.pdf\n",
      "---------processing: Files/health-companion-policy-wording.pdf\n",
      "---------processing: Files/health-companion-policy-wording.pdf\n",
      "---------processing: Files/health-companion-policy-wording.pdf\n",
      "---------processing: Files/health-companion-policy-wording.pdf\n",
      "---------processing: Files/health-companion-policy-wording.pdf\n",
      "---------processing: Files/health-companion-policy-wording.pdf\n",
      "---------processing: Files/health-companion-policy-wording.pdf\n",
      "---------processing: Files/health-companion-policy-wording.pdf\n",
      "---------processing: Files/health-companion-policy-wording.pdf\n",
      "---------processing: Files/health-companion-policy-wording.pdf\n",
      "---------processing: Files/health-companion-policy-wording.pdf\n",
      "---------processing: Files/health-companion-policy-wording.pdf\n",
      "---------processing: Files/health-companion-policy-wording.pdf\n",
      "---------processing: Files/health-companion-policy-wording.pdf\n",
      "---------processing: Files/health-companion-policy-wording.pdf\n",
      "---------processing: Files/health-companion-policy-wording.pdf\n",
      "---------processing: Files/health-companion-policy-wording.pdf\n",
      "---------processing: Files/health-companion-policy-wording.pdf\n",
      "---------processing: Files/health-companion-policy-wording.pdf\n",
      "---------processing: Files/health-companion-policy-wording.pdf\n",
      "---------processing: Files/health-companion-policy-wording.pdf\n",
      "---------processing: Files/health-companion-policy-wording.pdf\n",
      "---------processing: Files/health-companion-policy-wording.pdf\n"
     ]
    },
    {
     "name": "stderr",
     "output_type": "stream",
     "text": [
      " 83%|████████▎ | 20/24 [16:22<03:06, 46.71s/it]"
     ]
    },
    {
     "name": "stdout",
     "output_type": "stream",
     "text": [
      "---------processing: Files/Health Premia Policy Wording.pdf\n",
      "---------processing: Files/Health Premia Policy Wording.pdf\n",
      "---------processing: Files/Health Premia Policy Wording.pdf\n",
      "---------processing: Files/Health Premia Policy Wording.pdf\n",
      "---------processing: Files/Health Premia Policy Wording.pdf\n",
      "---------processing: Files/Health Premia Policy Wording.pdf\n",
      "---------processing: Files/Health Premia Policy Wording.pdf\n",
      "---------processing: Files/Health Premia Policy Wording.pdf\n",
      "---------processing: Files/Health Premia Policy Wording.pdf\n",
      "---------processing: Files/Health Premia Policy Wording.pdf\n",
      "---------processing: Files/Health Premia Policy Wording.pdf\n",
      "---------processing: Files/Health Premia Policy Wording.pdf\n",
      "---------processing: Files/Health Premia Policy Wording.pdf\n",
      "---------processing: Files/Health Premia Policy Wording.pdf\n",
      "---------processing: Files/Health Premia Policy Wording.pdf\n",
      "---------processing: Files/Health Premia Policy Wording.pdf\n",
      "---------processing: Files/Health Premia Policy Wording.pdf\n",
      "---------processing: Files/Health Premia Policy Wording.pdf\n",
      "---------processing: Files/Health Premia Policy Wording.pdf\n",
      "---------processing: Files/Health Premia Policy Wording.pdf\n",
      "---------processing: Files/Health Premia Policy Wording.pdf\n",
      "---------processing: Files/Health Premia Policy Wording.pdf\n",
      "---------processing: Files/Health Premia Policy Wording.pdf\n",
      "---------processing: Files/Health Premia Policy Wording.pdf\n",
      "---------processing: Files/Health Premia Policy Wording.pdf\n",
      "---------processing: Files/Health Premia Policy Wording.pdf\n",
      "---------processing: Files/Health Premia Policy Wording.pdf\n",
      "---------processing: Files/Health Premia Policy Wording.pdf\n",
      "---------processing: Files/Health Premia Policy Wording.pdf\n",
      "---------processing: Files/Health Premia Policy Wording.pdf\n",
      "---------processing: Files/Health Premia Policy Wording.pdf\n",
      "---------processing: Files/Health Premia Policy Wording.pdf\n",
      "---------processing: Files/Health Premia Policy Wording.pdf\n",
      "---------processing: Files/Health Premia Policy Wording.pdf\n",
      "---------processing: Files/Health Premia Policy Wording.pdf\n",
      "---------processing: Files/Health Premia Policy Wording.pdf\n",
      "---------processing: Files/Health Premia Policy Wording.pdf\n",
      "---------processing: Files/Health Premia Policy Wording.pdf\n",
      "---------processing: Files/Health Premia Policy Wording.pdf\n",
      "---------processing: Files/Health Premia Policy Wording.pdf\n",
      "---------processing: Files/Health Premia Policy Wording.pdf\n",
      "---------processing: Files/Health Premia Policy Wording.pdf\n",
      "---------processing: Files/Health Premia Policy Wording.pdf\n",
      "---------processing: Files/Health Premia Policy Wording.pdf\n",
      "---------processing: Files/Health Premia Policy Wording.pdf\n",
      "---------processing: Files/Health Premia Policy Wording.pdf\n",
      "---------processing: Files/Health Premia Policy Wording.pdf\n",
      "---------processing: Files/Health Premia Policy Wording.pdf\n",
      "---------processing: Files/Health Premia Policy Wording.pdf\n",
      "---------processing: Files/Health Premia Policy Wording.pdf\n",
      "---------processing: Files/Health Premia Policy Wording.pdf\n",
      "---------processing: Files/Health Premia Policy Wording.pdf\n",
      "---------processing: Files/Health Premia Policy Wording.pdf\n",
      "---------processing: Files/Health Premia Policy Wording.pdf\n",
      "---------processing: Files/Health Premia Policy Wording.pdf\n",
      "---------processing: Files/Health Premia Policy Wording.pdf\n",
      "---------processing: Files/Health Premia Policy Wording.pdf\n",
      "---------processing: Files/Health Premia Policy Wording.pdf\n",
      "---------processing: Files/Health Premia Policy Wording.pdf\n",
      "---------processing: Files/Health Premia Policy Wording.pdf\n",
      "---------processing: Files/Health Premia Policy Wording.pdf\n",
      "---------processing: Files/Health Premia Policy Wording.pdf\n",
      "---------processing: Files/Health Premia Policy Wording.pdf\n",
      "---------processing: Files/Health Premia Policy Wording.pdf\n",
      "---------processing: Files/Health Premia Policy Wording.pdf\n",
      "---------processing: Files/Health Premia Policy Wording.pdf\n",
      "---------processing: Files/Health Premia Policy Wording.pdf\n",
      "---------processing: Files/Health Premia Policy Wording.pdf\n",
      "---------processing: Files/Health Premia Policy Wording.pdf\n",
      "---------processing: Files/Health Premia Policy Wording.pdf\n",
      "---------processing: Files/Health Premia Policy Wording.pdf\n",
      "---------processing: Files/Health Premia Policy Wording.pdf\n",
      "---------processing: Files/Health Premia Policy Wording.pdf\n",
      "---------processing: Files/Health Premia Policy Wording.pdf\n",
      "---------processing: Files/Health Premia Policy Wording.pdf\n",
      "---------processing: Files/Health Premia Policy Wording.pdf\n",
      "---------processing: Files/Health Premia Policy Wording.pdf\n",
      "---------processing: Files/Health Premia Policy Wording.pdf\n"
     ]
    },
    {
     "name": "stderr",
     "output_type": "stream",
     "text": [
      " 88%|████████▊ | 21/24 [19:12<04:10, 83.58s/it]"
     ]
    },
    {
     "name": "stdout",
     "output_type": "stream",
     "text": [
      "---------processing: Files/HP-Retail-AppForm.pdf\n",
      "---------processing: Files/HP-Retail-AppForm.pdf\n",
      "---------processing: Files/HP-Retail-AppForm.pdf\n",
      "---------processing: Files/HP-Retail-AppForm.pdf\n",
      "---------processing: Files/HP-Retail-AppForm.pdf\n",
      "---------processing: Files/HP-Retail-AppForm.pdf\n"
     ]
    },
    {
     "name": "stderr",
     "output_type": "stream",
     "text": [
      " 92%|█████████▏| 22/24 [19:40<02:13, 66.88s/it]"
     ]
    },
    {
     "name": "stdout",
     "output_type": "stream",
     "text": [
      "---------processing: Files/healthcompanionbrochure.pdf\n",
      "---------processing: Files/healthcompanionbrochure.pdf\n"
     ]
    },
    {
     "name": "stderr",
     "output_type": "stream",
     "text": [
      " 96%|█████████▌| 23/24 [19:43<00:47, 47.71s/it]"
     ]
    },
    {
     "name": "stdout",
     "output_type": "stream",
     "text": [
      "---------processing: Files/heartbeat brochure.pdf\n",
      "---------processing: Files/heartbeat brochure.pdf\n"
     ]
    },
    {
     "name": "stderr",
     "output_type": "stream",
     "text": [
      "100%|██████████| 24/24 [19:59<00:00, 49.98s/it]\n"
     ]
    },
    {
     "data": {
      "text/plain": [
       "12467"
      ]
     },
     "execution_count": 16,
     "metadata": {},
     "output_type": "execute_result"
    }
   ],
   "source": [
    "from langchain.text_splitter import RecursiveCharacterTextSplitter\n",
    "pages = []\n",
    "\n",
    "\n",
    "for i, doc in enumerate(loader.lazy_load()):\n",
    "    print(\"---------processing:\",doc.metadata[\"source\"])\n",
    "    text_splitter = RecursiveCharacterTextSplitter(chunk_size = 200, chunk_overlap=30)\n",
    "    chunks = text_splitter.transform_documents([doc])\n",
    "    for chunk in chunks:\n",
    "        chunk.page_content = clean_text(chunk.page_content)\n",
    "        vector_store.add_documents(documents=[chunk], ids=[f\"{i}\"])\n",
    "        pages.append(chunk)\n",
    "        \n",
    "    \n",
    "\n",
    "len(pages)"
   ]
  },
  {
   "cell_type": "code",
   "execution_count": null,
   "metadata": {},
   "outputs": [],
   "source": []
  },
  {
   "cell_type": "code",
   "execution_count": null,
   "metadata": {},
   "outputs": [],
   "source": [
    "\n"
   ]
  }
 ],
 "metadata": {
  "kernelspec": {
   "display_name": "vettura",
   "language": "python",
   "name": "python3"
  },
  "language_info": {
   "codemirror_mode": {
    "name": "ipython",
    "version": 3
   },
   "file_extension": ".py",
   "mimetype": "text/x-python",
   "name": "python",
   "nbconvert_exporter": "python",
   "pygments_lexer": "ipython3",
   "version": "3.12.3"
  }
 },
 "nbformat": 4,
 "nbformat_minor": 2
}
