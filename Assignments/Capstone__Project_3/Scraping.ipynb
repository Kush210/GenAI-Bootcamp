{
 "cells": [
  {
   "cell_type": "code",
   "execution_count": null,
   "metadata": {},
   "outputs": [],
   "source": [
    "\n",
    "\n",
    "# Crawl and scrape all pdf documents from Niva Bupa Insurance Company from here: https://www.nivabupa.com/downloads.html\n",
    "# Chunk, Vectorize and store.\n",
    "\n"
   ]
  },
  {
   "cell_type": "code",
   "execution_count": 7,
   "metadata": {},
   "outputs": [],
   "source": [
    "from selenium import webdriver\n",
    "from selenium.webdriver.chrome.service import Service\n",
    "from selenium.webdriver.chrome.options import Options\n",
    "from selenium.webdriver.support.ui import WebDriverWait\n",
    "from selenium.webdriver.support import expected_conditions as EC\n",
    "from selenium.webdriver.common.by import By\n",
    "from bs4 import BeautifulSoup\n",
    "import time\n",
    "import os"
   ]
  },
  {
   "cell_type": "code",
   "execution_count": 24,
   "metadata": {},
   "outputs": [],
   "source": [
    "# Specify the correct path to chromedriver\n",
    "chrome_driver_path = '/usr/bin/chromedriver'\n",
    "\n",
    "# Set Chrome options (optional: headless mode for no UI)\n",
    "chrome_options = Options()\n",
    "prefs = {\n",
    "        'download.default_directory': os.path.abspath(os.path.dirname(\"./Files/\")),\n",
    "        'download.prompt_for_download': False,\n",
    "        'plugins.always_open_pdf_externally': True,\n",
    "    }\n",
    "    \n",
    "chrome_options.add_experimental_option('prefs', prefs)\n",
    "\n",
    "# chrome_options.add_argument(\"--headless\")  # Remove if you want a UI\n",
    "\n",
    "# Set up the service with the correct path to ChromeDriver\n",
    "service = Service(chrome_driver_path)\n",
    "\n",
    "# Create the WebDriver object\n",
    "driver = webdriver.Chrome(service=service, options=chrome_options)"
   ]
  },
  {
   "cell_type": "code",
   "execution_count": null,
   "metadata": {},
   "outputs": [
    {
     "name": "stdout",
     "output_type": "stream",
     "text": [
      "https://www.nivabupa.com/content/dam/nivabupa/PDF/GoActive/goactive-brochure.pdf\n",
      "https://www.nivabupa.com/content/dam/nivabupa/PDF/GoActive/goactive-policy-document.pdf\n",
      "https://www.nivabupa.com/content/dam/nivabupa/PDF/GoActive/NivaBupa-pre-auth-claim-form.pdf\n",
      "https://www.nivabupa.com/content/dam/nivabupa/PDF/GoActive/GoActive-Proposal-Form.pdf\n",
      "https://www.nivabupa.com/content/dam/nivabupa/PDF/Heart-Beat/heartbeat%20brochure.pdf\n",
      "https://www.nivabupa.com/content/dam/nivabupa/PDF/Heart-Beat/policy%20wording.pdf\n",
      "https://www.nivabupa.com/content/dam/nivabupa/PDF/Heart-Beat/heartbeat-claim-form.pdf\n",
      "https://www.nivabupa.com/content/dam/nivabupa/PDF/Heart-Beat/heartbeat-proposal-form.pdf\n",
      "https://www.nivabupa.com/content/dam/nivabupa/PDF/Health-Companion/healthcompanionbrochure.pdf\n",
      "https://www.nivabupa.com/content/dam/nivabupa/PDF/Health-Companion/health-companion-policy-wording.pdf\n",
      "https://www.nivabupa.com/content/dam/nivabupa/PDF/Health-Companion/health-companion-claim-form.pdf\n",
      "https://www.nivabupa.com/content/dam/nivabupa/PDF/Health-Companion/health%20companion%20proposal%20form.pdf\n",
      "https://www.nivabupa.com/content/dam/nivabupa/PDF/Health-Recharge/hr-single-sheeter.pdf\n",
      "https://www.nivabupa.com/content/dam/nivabupa/PDF/Health-Recharge/nivabupa-health-recharge-t-and-c.pdf\n",
      "https://www.nivabupa.com/content/dam/nivabupa/PDF/Health-Recharge/NivaBupa-pre-auth-claim-form.pdf\n",
      "https://www.nivabupa.com/content/dam/nivabupa/PDF/Health-Recharge/mbhr-proporsal-form.pdf\n",
      "https://www.nivabupa.com/content/dam/nivabupa/PDF/Combo/combo_hc_hr_brochure.pdf\n",
      "https://www.nivabupa.com/content/dam/nivabupa/PDF/Combo/health-companion-claim-form.pdf\n",
      "https://www.nivabupa.com/content/dam/nivabupa/PDF/health-pulse/hp-single-sheeter.pdf\n",
      "https://www.nivabupa.com/content/dam/nivabupa/PDF/health-pulse/nivabupa-health-pulse-t-and-c.pdf\n",
      "https://www.nivabupa.com/content/dam/nivabupa/PDF/health-pulse/HP-Retail-AppForm.pdf\n",
      "https://www.nivabupa.com/content/dam/nivabupa/PDF/health-premia/healthpremia%20brochure.pdf\n",
      "https://www.nivabupa.com/content/dam/nivabupa/PDF/health-premia/Health%20Premia%20Policy%20Wording.pdf\n",
      "https://www.nivabupa.com/content/dam/nivabupa/PDF/health-premia/HPR-RETAIL-AppForm.pdf\n"
     ]
    }
   ],
   "source": [
    "base_url = 'https://www.nivabupa.com/downloads.html'\n",
    "driver.get(base_url)\n",
    "driver.maximize_window()\n",
    "driver.implicitly_wait(10)\n",
    "\n",
    "\n",
    "page_source = driver.page_source\n",
    "download_cards = driver.find_elements(By.CLASS_NAME, 'dwnloadCard-wrapr')\n",
    "for a in download_cards:\n",
    "    try:\n",
    "        # Wait for the element to be clickable\n",
    "        # all_a_tags = driver.find_elements(By.TAG_NAME, 'a', )\n",
    "        if a.get_attribute(\"href\") is not None and a.get_attribute(\"href\").endswith('.pdf'):\n",
    "            print(a.get_attribute(\"href\"))\n",
    "            a.click()\n",
    "        \n",
    "        # Wait for a short period to ensure the download starts\n",
    "        time.sleep(2)\n",
    "    except Exception as e:\n",
    "        print(f\"Error clicking element: {e}\")\n",
    "# Wait for a while to ensure all downloads are completed\n",
    "time.sleep(10)\n",
    "# Close the WebDriver\n",
    "driver.quit()\n"
   ]
  }
 ],
 "metadata": {
  "kernelspec": {
   "display_name": "vettura",
   "language": "python",
   "name": "python3"
  },
  "language_info": {
   "codemirror_mode": {
    "name": "ipython",
    "version": 3
   },
   "file_extension": ".py",
   "mimetype": "text/x-python",
   "name": "python",
   "nbconvert_exporter": "python",
   "pygments_lexer": "ipython3",
   "version": "3.12.3"
  }
 },
 "nbformat": 4,
 "nbformat_minor": 2
}
