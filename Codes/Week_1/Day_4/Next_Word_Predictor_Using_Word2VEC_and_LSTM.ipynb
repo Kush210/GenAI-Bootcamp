{
 "cells": [
  {
   "cell_type": "code",
   "execution_count": 7,
   "metadata": {},
   "outputs": [],
   "source": [
    "import requests\n",
    "import numpy as np\n",
    "import spacy\n",
    "from keras.models import Sequential\n",
    "from keras.layers import LSTM, Dense, Embedding\n",
    "from keras.utils import to_categorical\n",
    "from keras.preprocessing.sequence import pad_sequences\n",
    "import gensim"
   ]
  },
  {
   "cell_type": "code",
   "execution_count": 76,
   "metadata": {},
   "outputs": [],
   "source": [
    "# Download and load text data\n",
    "url = \"https://ota.bodleian.ox.ac.uk/repository/xmlui/bitstream/handle/20.500.12024/5730/5730.txt\"\n",
    "r = requests.get(url)\n",
    "raw_text = r.text\n",
    "\n",
    "# Tokenize text using gensim\n",
    "tokenized_text = gensim.utils.simple_preprocess(raw_text)"
   ]
  },
  {
   "cell_type": "code",
   "execution_count": 77,
   "metadata": {},
   "outputs": [
    {
     "name": "stderr",
     "output_type": "stream",
     "text": [
      "[nltk_data] Downloading package punkt to /Users/ashish/nltk_data...\n",
      "[nltk_data]   Package punkt is already up-to-date!\n"
     ]
    }
   ],
   "source": [
    "from gensim.models import Word2Vec\n",
    "from nltk.tokenize import word_tokenize\n",
    "import nltk\n",
    "\n",
    "# Download NLTK data\n",
    "nltk.download('punkt')\n",
    "\n",
    "# Tokenize the raw text\n",
    "tokens = word_tokenize(raw_text.lower())\n",
    "\n",
    "# Prepare the training data for Word2Vec\n",
    "sentences = [tokens]  # Word2Vec expects a list of sentences, where each sentence is a list of words\n",
    "\n",
    "# Train a Word2Vec model\n",
    "word2vec_model = Word2Vec(sentences, vector_size=100, window=5, min_count=2, workers=4)\n",
    "\n",
    "# Save the model for inspection\n",
    "word2vec_model_path = \"./Week_1/Day_4/word2vec_model.model\"\n",
    "word2vec_model.save(word2vec_model_path)"
   ]
  },
  {
   "cell_type": "code",
   "execution_count": null,
   "metadata": {},
   "outputs": [
    {
     "name": "stdout",
     "output_type": "stream",
     "text": [
      "Shape of X: (43419, 10, 100)\n",
      "Shape of y: (43419, 100)\n",
      "Building model...\n",
      "Training model...\n"
     ]
    },
    {
     "name": "stderr",
     "output_type": "stream",
     "text": [
      "/Users/ashish/Desktop/vettura-genai/Codes/genai_env/lib/python3.10/site-packages/keras/src/layers/rnn/rnn.py:200: UserWarning: Do not pass an `input_shape`/`input_dim` argument to a layer. When using Sequential models, prefer using an `Input(shape)` object as the first layer in the model instead.\n",
      "  super().__init__(**kwargs)\n"
     ]
    },
    {
     "name": "stdout",
     "output_type": "stream",
     "text": [
      "Epoch 1/100\n",
      "\u001b[1m543/543\u001b[0m \u001b[32m━━━━━━━━━━━━━━━━━━━━\u001b[0m\u001b[37m\u001b[0m \u001b[1m13s\u001b[0m 12ms/step - loss: 0.0396 - val_loss: 0.0378\n",
      "Epoch 2/100\n",
      "\u001b[1m543/543\u001b[0m \u001b[32m━━━━━━━━━━━━━━━━━━━━\u001b[0m\u001b[37m\u001b[0m \u001b[1m6s\u001b[0m 11ms/step - loss: 0.0369 - val_loss: 0.0376\n",
      "Epoch 3/100\n",
      "\u001b[1m543/543\u001b[0m \u001b[32m━━━━━━━━━━━━━━━━━━━━\u001b[0m\u001b[37m\u001b[0m \u001b[1m6s\u001b[0m 10ms/step - loss: 0.0368 - val_loss: 0.0366\n",
      "Epoch 4/100\n",
      "\u001b[1m543/543\u001b[0m \u001b[32m━━━━━━━━━━━━━━━━━━━━\u001b[0m\u001b[37m\u001b[0m \u001b[1m6s\u001b[0m 10ms/step - loss: 0.0363 - val_loss: 0.0372\n",
      "Epoch 5/100\n",
      "\u001b[1m543/543\u001b[0m \u001b[32m━━━━━━━━━━━━━━━━━━━━\u001b[0m\u001b[37m\u001b[0m \u001b[1m6s\u001b[0m 12ms/step - loss: 0.0363 - val_loss: 0.0376\n",
      "Epoch 6/100\n",
      "\u001b[1m543/543\u001b[0m \u001b[32m━━━━━━━━━━━━━━━━━━━━\u001b[0m\u001b[37m\u001b[0m \u001b[1m6s\u001b[0m 11ms/step - loss: 0.0364 - val_loss: 0.0364\n",
      "Epoch 7/100\n",
      "\u001b[1m415/543\u001b[0m \u001b[32m━━━━━━━━━━━━━━━\u001b[0m\u001b[37m━━━━━\u001b[0m \u001b[1m1s\u001b[0m 10ms/step - loss: 0.0365"
     ]
    }
   ],
   "source": [
    "import numpy as np\n",
    "from keras.models import Sequential\n",
    "from keras.layers import LSTM, Dense\n",
    "from keras.optimizers import RMSprop\n",
    "\n",
    "# Function to prepare data for training\n",
    "def prepare_training_data(tokens, word_vectors, sequence_length=10):\n",
    "    X = []\n",
    "    y = []\n",
    "    for i in range(len(tokens) - sequence_length):\n",
    "        input_sequence = tokens[i:i + sequence_length]\n",
    "        target_word = tokens[i + sequence_length]\n",
    "        \n",
    "        # Check if all words in the input sequence and target word exist in Word2Vec\n",
    "        if all(word in word_vectors for word in input_sequence) and target_word in word_vectors:\n",
    "            X.append([word_vectors[word] for word in input_sequence])\n",
    "            y.append(word_vectors[target_word])\n",
    "    \n",
    "    return np.array(X), np.array(y)\n",
    "\n",
    "# Prepare training data\n",
    "sequence_length = 10\n",
    "tokens = [word.lower() for word in tokens if word.isalpha()]  # Filter non-alphabetic tokens\n",
    "X, y = prepare_training_data(tokens, word2vec_model.wv, sequence_length)\n",
    "\n",
    "# Check shapes of X and y\n",
    "print(f\"Shape of X: {X.shape}\")  # (num_samples, sequence_length, embedding_dim)\n",
    "print(f\"Shape of y: {y.shape}\")  # (num_samples, embedding_dim)\n",
    "\n",
    "# Build the model\n",
    "print('Building model...')\n",
    "model = Sequential()\n",
    "\n",
    "# First LSTM layer\n",
    "model.add(LSTM(128, input_shape=(sequence_length, word2vec_model.vector_size), return_sequences=True))\n",
    "\n",
    "# Second LSTM layer\n",
    "model.add(LSTM(16, return_sequences=False))\n",
    "\n",
    "# Output layer\n",
    "model.add(Dense(word2vec_model.vector_size, activation='linear'))\n",
    "\n",
    "# Compile the model\n",
    "optimizer = RMSprop(learning_rate=0.01)\n",
    "model.compile(loss='mean_squared_error', optimizer=optimizer)\n",
    "\n",
    "# Train the model\n",
    "print('Training model...')\n",
    "model.fit(X, y, epochs=100, batch_size=64, validation_split=0.2)"
   ]
  },
  {
   "cell_type": "code",
   "execution_count": 18,
   "metadata": {},
   "outputs": [
    {
     "name": "stdout",
     "output_type": "stream",
     "text": [
      "\n",
      "Generating text...\n",
      "\n",
      "Input Text: There was a great treasure hunt going on this deserted island. There were many hunters roaming\n",
      "Generated Text: There was a great treasure hunt going on this deserted island. There were many hunters roaming not is ? ? ? ? an an ? ? ? an ? ? ? an ? ? ? an ? ? ? an ? ? ? an ? ? ? an ? ? ? an ? ? ? an ? ? ? an ? ? ? an ? ? ? an ? ? ? an ? ? ? an ? ? ? an ? ? ? an ? ? ? an ? ? ? an ? ? ? an ? ? ? an ? ? ? an ? ? ? an ? ? ? an ? ? ? an\n"
     ]
    }
   ],
   "source": [
    "import numpy as np\n",
    "\n",
    "# Function to prepare input embeddings for the model\n",
    "def prepare_input_sequence(input_text, word_vectors, vector_size, sequence_length=10):\n",
    "    tokens = input_text.lower().split()\n",
    "    \n",
    "    # Ensure the input has exactly `sequence_length` tokens\n",
    "    if len(tokens) < sequence_length:\n",
    "        tokens = ['<pad>'] * (sequence_length - len(tokens)) + tokens\n",
    "    else:\n",
    "        tokens = tokens[-sequence_length:]\n",
    "    \n",
    "    # Convert words to embeddings\n",
    "    input_sequence = []\n",
    "    for word in tokens:\n",
    "        if word in word_vectors:\n",
    "            input_sequence.append(word_vectors[word])\n",
    "        else:\n",
    "            input_sequence.append(np.zeros(vector_size))  # Unknown words as zero vectors\n",
    "    \n",
    "    return np.array(input_sequence).reshape(1, sequence_length, vector_size)\n",
    "\n",
    "# Function to find the closest word to the predicted embedding\n",
    "def find_closest_word(embedding, word_vectors):\n",
    "    closest_word = None\n",
    "    min_distance = float('inf')\n",
    "    for word, vector in word_vectors.items():\n",
    "        distance = np.linalg.norm(vector - embedding)\n",
    "        if distance < min_distance:\n",
    "            closest_word = word\n",
    "            min_distance = distance\n",
    "    return closest_word\n",
    "\n",
    "# Function to predict the next 100 words\n",
    "def predict_next_words(model, initial_text, word_vectors, vector_size, sequence_length=10, num_words=100):\n",
    "    generated_text = initial_text.split()\n",
    "    \n",
    "    for _ in range(num_words):\n",
    "        # Prepare the input sequence\n",
    "        input_sequence = prepare_input_sequence(\" \".join(generated_text[-sequence_length:]), word_vectors, vector_size, sequence_length)\n",
    "        \n",
    "        # Predict the next word embedding\n",
    "        predicted_embedding = model.predict(input_sequence, verbose=0).flatten()\n",
    "        \n",
    "        # Find the closest word\n",
    "        next_word = find_closest_word(predicted_embedding, word_vectors)\n",
    "        \n",
    "        # Append the next word to the generated text\n",
    "        generated_text.append(next_word)\n",
    "    \n",
    "    return \" \".join(generated_text)\n",
    "\n",
    "# Prepare the Word2Vec embeddings dictionary\n",
    "word_vectors = {word: word2vec_model.wv[word] for word in word2vec_model.wv.index_to_key}\n",
    "vector_size = word2vec_model.vector_size  # Retrieve the vector size from the Word2Vec model\n",
    "\n",
    "# Ask the user for input text\n",
    "initial_text = \"There was a great treasure hunt going on this deserted island. There were many hunters roaming\"\n",
    "print(\"\\nGenerating text...\\n\")\n",
    "\n",
    "# Generate the next 100 words\n",
    "generated_text = predict_next_words(model, initial_text, word_vectors, vector_size, sequence_length=10, num_words=100)\n",
    "\n",
    "# Print the generated text\n",
    "print(f\"Input Text: {initial_text}\")\n",
    "print(f\"Generated Text: {generated_text}\")\n"
   ]
  },
  {
   "cell_type": "code",
   "execution_count": null,
   "metadata": {},
   "outputs": [],
   "source": []
  }
 ],
 "metadata": {
  "kernelspec": {
   "display_name": "Python 3 (ipykernel)",
   "language": "python",
   "name": "python3"
  },
  "language_info": {
   "codemirror_mode": {
    "name": "ipython",
    "version": 3
   },
   "file_extension": ".py",
   "mimetype": "text/x-python",
   "name": "python",
   "nbconvert_exporter": "python",
   "pygments_lexer": "ipython3",
   "version": "3.10.16"
  }
 },
 "nbformat": 4,
 "nbformat_minor": 2
}
