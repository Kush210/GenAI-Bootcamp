{
 "cells": [
  {
   "cell_type": "code",
   "execution_count": null,
   "metadata": {},
   "outputs": [],
   "source": [
    "# !pip install gensim"
   ]
  },
  {
   "cell_type": "code",
   "execution_count": 1,
   "metadata": {},
   "outputs": [
    {
     "data": {
      "application/vnd.jupyter.widget-view+json": {
       "model_id": "1517455ae97941c9a50a9802004ab26d",
       "version_major": 2,
       "version_minor": 0
      },
      "text/plain": [
       "GoogleNews-vectors-negative300.bin:   0%|          | 0.00/3.64G [00:00<?, ?B/s]"
      ]
     },
     "metadata": {},
     "output_type": "display_data"
    },
    {
     "name": "stdout",
     "output_type": "stream",
     "text": [
      "Model downloaded to: /Users/ashish/.cache/huggingface/hub/models--NathaNn1111--word2vec-google-news-negative-300-bin/snapshots/78856d4586b3a938134c9833d92139f2e056e369/GoogleNews-vectors-negative300.bin\n"
     ]
    }
   ],
   "source": [
    "from huggingface_hub import hf_hub_download\n",
    "\n",
    "# Define the repository and filename\n",
    "repo_id = \"NathaNn1111/word2vec-google-news-negative-300-bin\"\n",
    "filename = \"GoogleNews-vectors-negative300.bin\"\n",
    "\n",
    "# Download the file\n",
    "model_path = hf_hub_download(repo_id=repo_id, filename=filename)\n",
    "\n",
    "print(f\"Model downloaded to: {model_path}\")"
   ]
  },
  {
   "cell_type": "code",
   "execution_count": 2,
   "metadata": {},
   "outputs": [],
   "source": [
    "import gensim\n",
    "model = gensim.models.KeyedVectors.load_word2vec_format(model_path, binary=True)"
   ]
  },
  {
   "cell_type": "code",
   "execution_count": 3,
   "metadata": {},
   "outputs": [],
   "source": [
    "w = model['cat']"
   ]
  },
  {
   "cell_type": "code",
   "execution_count": 4,
   "metadata": {},
   "outputs": [
    {
     "name": "stdout",
     "output_type": "stream",
     "text": [
      "Euclidean distance between 'cat' and 'dog': 2.081533670425415\n",
      "Cosine similarity between 'cat' and 'dog': 0.7609457161879546\n",
      "Euclidean distance between 'cat' and 'car': 3.573913335800171\n",
      "Cosine similarity between 'cat' and 'car': 0.21528184427846442\n"
     ]
    }
   ],
   "source": [
    "import numpy as np\n",
    "from scipy.spatial.distance import cosine\n",
    "\n",
    "# Retrieve word vectors\n",
    "w1 = model['cat']\n",
    "w2 = model['dog']\n",
    "w3 = model['car']\n",
    "\n",
    "# Calculate Euclidean distances\n",
    "euclidean_cat_dog = np.linalg.norm(w1 - w2)\n",
    "euclidean_cat_car = np.linalg.norm(w1 - w3)\n",
    "\n",
    "# Calculate cosine similarities\n",
    "cosine_cat_dog = 1 - cosine(w1, w2)\n",
    "cosine_cat_car = 1 - cosine(w1, w3)\n",
    "\n",
    "# Print results\n",
    "print(f\"Euclidean distance between 'cat' and 'dog': {euclidean_cat_dog}\")\n",
    "print(f\"Cosine similarity between 'cat' and 'dog': {cosine_cat_dog}\")\n",
    "\n",
    "print(f\"Euclidean distance between 'cat' and 'car': {euclidean_cat_car}\")\n",
    "print(f\"Cosine similarity between 'cat' and 'car': {cosine_cat_car}\")"
   ]
  },
  {
   "cell_type": "code",
   "execution_count": 5,
   "metadata": {},
   "outputs": [
    {
     "data": {
      "text/plain": [
       "[('tendulkar', 0.7856917381286621),\n",
       " ('ganguly', 0.7785739898681641),\n",
       " ('sehwag', 0.7773319482803345),\n",
       " ('dravid', 0.7691141366958618),\n",
       " ('sachin_tendulkar', 0.741614580154419),\n",
       " ('laxman', 0.7271499633789062),\n",
       " ('KrisSrikkanth_says', 0.6995106339454651),\n",
       " ('murali', 0.6993196606636047),\n",
       " ('afridi', 0.6891643404960632),\n",
       " ('odi', 0.6883801817893982)]"
      ]
     },
     "execution_count": 5,
     "metadata": {},
     "output_type": "execute_result"
    }
   ],
   "source": [
    "model.most_similar('sachin')"
   ]
  },
  {
   "cell_type": "code",
   "execution_count": 6,
   "metadata": {},
   "outputs": [
    {
     "data": {
      "text/plain": [
       "[('queen', 0.7118192911148071),\n",
       " ('monarch', 0.6189674735069275),\n",
       " ('princess', 0.5902431011199951),\n",
       " ('crown_prince', 0.5499460697174072),\n",
       " ('prince', 0.5377321243286133),\n",
       " ('kings', 0.5236844420433044),\n",
       " ('Queen_Consort', 0.5235945582389832),\n",
       " ('queens', 0.5181134343147278),\n",
       " ('sultan', 0.5098593235015869),\n",
       " ('monarchy', 0.5087411403656006)]"
      ]
     },
     "execution_count": 6,
     "metadata": {},
     "output_type": "execute_result"
    }
   ],
   "source": [
    "model.most_similar(positive = ['king', 'woman'], negative = ['man'])"
   ]
  },
  {
   "cell_type": "code",
   "execution_count": 7,
   "metadata": {},
   "outputs": [
    {
     "data": {
      "text/plain": [
       "'sea'"
      ]
     },
     "execution_count": 7,
     "metadata": {},
     "output_type": "execute_result"
    }
   ],
   "source": [
    "model.doesnt_match('girl wife daughter sea'.split())"
   ]
  },
  {
   "cell_type": "code",
   "execution_count": null,
   "metadata": {},
   "outputs": [],
   "source": []
  }
 ],
 "metadata": {
  "kernelspec": {
   "display_name": "Python 3 (ipykernel)",
   "language": "python",
   "name": "python3"
  },
  "language_info": {
   "codemirror_mode": {
    "name": "ipython",
    "version": 3
   },
   "file_extension": ".py",
   "mimetype": "text/x-python",
   "name": "python",
   "nbconvert_exporter": "python",
   "pygments_lexer": "ipython3",
   "version": "3.10.16"
  }
 },
 "nbformat": 4,
 "nbformat_minor": 2
}
