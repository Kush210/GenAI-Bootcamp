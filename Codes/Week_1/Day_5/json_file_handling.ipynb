{
  "nbformat": 4,
  "nbformat_minor": 0,
  "metadata": {
    "colab": {
      "provenance": []
    },
    "kernelspec": {
      "name": "python3",
      "display_name": "Python 3"
    },
    "language_info": {
      "name": "python"
    }
  },
  "cells": [
    {
      "cell_type": "code",
      "execution_count": 5,
      "metadata": {
        "id": "BIbmShQIf8d8"
      },
      "outputs": [],
      "source": [
        "# Importing the JSON module\n",
        "import json\n"
      ]
    },
    {
      "cell_type": "code",
      "source": [
        "### JSON Tutorial: Understanding and Using JSON in Python\n",
        "\n",
        "# Introduction to JSON\n",
        "# JSON (JavaScript Object Notation) is a lightweight data-interchange format.\n",
        "# It is easy for humans to read and write, and easy for machines to parse and generate.\n",
        "\n",
        "# JSON supports the following data types:\n",
        "# 1. String\n",
        "# 2. Number\n",
        "# 3. Boolean\n",
        "# 4. Null\n",
        "# 5. Object (similar to dictionaries in Python)\n",
        "# 6. Array (similar to lists in Python)\n",
        "\n",
        "# JSON Data Types Examples\n",
        "json_data = {\n",
        "    \"string\": \"Hello, JSON!\",\n",
        "    \"number\": 123,\n",
        "    \"boolean\": True,\n",
        "    \"null_value\": None,\n",
        "    \"object\": {\"key\": \"value\"},\n",
        "    \"array\": [1, 2, 3, \"four\", False]\n",
        "}"
      ],
      "metadata": {
        "id": "WKSqXRfJgBp8"
      },
      "execution_count": 3,
      "outputs": []
    },
    {
      "cell_type": "code",
      "source": [
        "# Converting a Python dictionary to a JSON string using json.dumps()\n",
        "json_string = json.dumps(json_data, indent=4)\n",
        "print(\"Python dictionary converted to JSON string:\")\n",
        "print(json_string)\n"
      ],
      "metadata": {
        "id": "LtgLYiTfgD7F",
        "colab": {
          "base_uri": "https://localhost:8080/"
        },
        "outputId": "4f14ac90-bfd2-4103-ab46-654bade1370f"
      },
      "execution_count": 6,
      "outputs": [
        {
          "output_type": "stream",
          "name": "stdout",
          "text": [
            "Python dictionary converted to JSON string:\n",
            "{\n",
            "    \"string\": \"Hello, JSON!\",\n",
            "    \"number\": 123,\n",
            "    \"boolean\": true,\n",
            "    \"null_value\": null,\n",
            "    \"object\": {\n",
            "        \"key\": \"value\"\n",
            "    },\n",
            "    \"array\": [\n",
            "        1,\n",
            "        2,\n",
            "        3,\n",
            "        \"four\",\n",
            "        false\n",
            "    ]\n",
            "}\n"
          ]
        }
      ]
    },
    {
      "cell_type": "code",
      "source": [
        "# JSON Functions:\n",
        "# 1. json.dump() - Writes JSON data to a file.\n",
        "# 2. json.dumps() - Converts Python object to JSON string.\n",
        "# 3. json.load() - Parses JSON data from a file.\n",
        "# 4. json.loads() - Parses JSON data from a string.\n",
        "\n",
        "# Writing JSON data to a file\n",
        "with open(\"example.json\", \"w\") as file:\n",
        "    json.dump(json_data, file, indent=4)\n",
        "\n",
        "    # Parsing JSON data from a string\n",
        "parsed_data = json.loads(json_string)\n",
        "print(\"\\nJSON data loaded from string:\")\n",
        "print(parsed_data)\n",
        "\n",
        "# Prettifying JSON output\n",
        "prettified_json = json.dumps(json_data, indent=4, sort_keys=True)\n",
        "print(\"\\nPrettified JSON:\")\n",
        "print(prettified_json)"
      ],
      "metadata": {
        "colab": {
          "base_uri": "https://localhost:8080/"
        },
        "id": "qbLibUs0h5dA",
        "outputId": "e2c173a1-3659-4b07-a96f-43c96566415d"
      },
      "execution_count": 7,
      "outputs": [
        {
          "output_type": "stream",
          "name": "stdout",
          "text": [
            "\n",
            "JSON data loaded from string:\n",
            "{'string': 'Hello, JSON!', 'number': 123, 'boolean': True, 'null_value': None, 'object': {'key': 'value'}, 'array': [1, 2, 3, 'four', False]}\n",
            "\n",
            "Prettified JSON:\n",
            "{\n",
            "    \"array\": [\n",
            "        1,\n",
            "        2,\n",
            "        3,\n",
            "        \"four\",\n",
            "        false\n",
            "    ],\n",
            "    \"boolean\": true,\n",
            "    \"null_value\": null,\n",
            "    \"number\": 123,\n",
            "    \"object\": {\n",
            "        \"key\": \"value\"\n",
            "    },\n",
            "    \"string\": \"Hello, JSON!\"\n",
            "}\n"
          ]
        }
      ]
    },
    {
      "cell_type": "code",
      "source": [
        "# JSON with a list\n",
        "json_with_list = {\n",
        "    \"fruits\": [\"apple\", \"banana\", \"cherry\"]\n",
        "}\n",
        "json_list_string = json.dumps(json_with_list, indent=4)\n",
        "print(\"\\nJSON containing a list:\")\n",
        "print(json_list_string)"
      ],
      "metadata": {
        "id": "KJW4wdbqgJxU",
        "colab": {
          "base_uri": "https://localhost:8080/"
        },
        "outputId": "306ddc90-5c62-4636-e453-1ad61e0a5400"
      },
      "execution_count": 8,
      "outputs": [
        {
          "output_type": "stream",
          "name": "stdout",
          "text": [
            "\n",
            "JSON containing a list:\n",
            "{\n",
            "    \"fruits\": [\n",
            "        \"apple\",\n",
            "        \"banana\",\n",
            "        \"cherry\"\n",
            "    ]\n",
            "}\n"
          ]
        }
      ]
    },
    {
      "cell_type": "code",
      "source": [
        "# List containing JSON objects\n",
        "list_with_json = [\n",
        "    {\"name\": \"Alice\", \"age\": 25},\n",
        "    {\"name\": \"Bob\", \"age\": 30}\n",
        "]\n",
        "json_list_with_objects = json.dumps(list_with_json, indent=4)\n",
        "print(\"\\nList containing JSON objects:\")\n",
        "print(json_list_with_objects)"
      ],
      "metadata": {
        "id": "g-nylphcgKTC",
        "colab": {
          "base_uri": "https://localhost:8080/"
        },
        "outputId": "1a2b678c-7c68-4c20-eb03-4e742702e1d0"
      },
      "execution_count": 9,
      "outputs": [
        {
          "output_type": "stream",
          "name": "stdout",
          "text": [
            "\n",
            "List containing JSON objects:\n",
            "[\n",
            "    {\n",
            "        \"name\": \"Alice\",\n",
            "        \"age\": 25\n",
            "    },\n",
            "    {\n",
            "        \"name\": \"Bob\",\n",
            "        \"age\": 30\n",
            "    }\n",
            "]\n"
          ]
        }
      ]
    },
    {
      "cell_type": "code",
      "source": [
        "# Nested JSON Example\n",
        "nested_json = {\n",
        "    \"employee\": {\n",
        "        \"name\": \"John Doe\",\n",
        "        \"age\": 35,\n",
        "        \"skills\": [\"Python\", \"JavaScript\", \"SQL\"],\n",
        "        \"details\": {\n",
        "            \"department\": \"IT\",\n",
        "            \"location\": \"New York\"\n",
        "        }\n",
        "    }\n",
        "}\n",
        "nested_json_string = json.dumps(nested_json, indent=4)\n",
        "print(\"\\nNested JSON Example:\")\n",
        "print(nested_json_string)"
      ],
      "metadata": {
        "id": "MZkSZ1SWgNz6",
        "colab": {
          "base_uri": "https://localhost:8080/"
        },
        "outputId": "fea0e8d8-0d52-44ae-9796-2df068c48752"
      },
      "execution_count": 10,
      "outputs": [
        {
          "output_type": "stream",
          "name": "stdout",
          "text": [
            "\n",
            "Nested JSON Example:\n",
            "{\n",
            "    \"employee\": {\n",
            "        \"name\": \"John Doe\",\n",
            "        \"age\": 35,\n",
            "        \"skills\": [\n",
            "            \"Python\",\n",
            "            \"JavaScript\",\n",
            "            \"SQL\"\n",
            "        ],\n",
            "        \"details\": {\n",
            "            \"department\": \"IT\",\n",
            "            \"location\": \"New York\"\n",
            "        }\n",
            "    }\n",
            "}\n"
          ]
        }
      ]
    },
    {
      "cell_type": "code",
      "source": [
        "# Handling JSON Errors\n",
        "try:\n",
        "    invalid_json = '{\"name\": \"John\", \"age\": 30,}'  # Trailing comma makes it invalid\n",
        "    parsed_invalid_json = json.loads(invalid_json)\n",
        "except json.JSONDecodeError as e:\n",
        "    print(\"\\nError while parsing JSON:\")\n",
        "    print(e)"
      ],
      "metadata": {
        "id": "e30glSFXgP-v",
        "colab": {
          "base_uri": "https://localhost:8080/"
        },
        "outputId": "b3ef7593-4765-41ac-c62f-90ca4de86420"
      },
      "execution_count": 11,
      "outputs": [
        {
          "output_type": "stream",
          "name": "stdout",
          "text": [
            "\n",
            "Error while parsing JSON:\n",
            "Expecting property name enclosed in double quotes: line 1 column 28 (char 27)\n"
          ]
        }
      ]
    },
    {
      "cell_type": "code",
      "source": [
        "# Updating JSON Data\n",
        "# Converting JSON to Python dictionary and modifying it\n",
        "python_dict = json.loads(json_string)\n",
        "python_dict[\"new_key\"] = \"new_value\"\n",
        "updated_json_string = json.dumps(python_dict, indent=4)\n",
        "print(\"\\nUpdated JSON with a new key-value pair:\")\n",
        "print(updated_json_string)\n"
      ],
      "metadata": {
        "id": "avtd4qgEhJYL",
        "colab": {
          "base_uri": "https://localhost:8080/"
        },
        "outputId": "5ede55b6-a1f3-46ac-9c55-ca29efe53e2d"
      },
      "execution_count": 12,
      "outputs": [
        {
          "output_type": "stream",
          "name": "stdout",
          "text": [
            "\n",
            "Updated JSON with a new key-value pair:\n",
            "{\n",
            "    \"string\": \"Hello, JSON!\",\n",
            "    \"number\": 123,\n",
            "    \"boolean\": true,\n",
            "    \"null_value\": null,\n",
            "    \"object\": {\n",
            "        \"key\": \"value\"\n",
            "    },\n",
            "    \"array\": [\n",
            "        1,\n",
            "        2,\n",
            "        3,\n",
            "        \"four\",\n",
            "        false\n",
            "    ],\n",
            "    \"new_key\": \"new_value\"\n",
            "}\n"
          ]
        }
      ]
    },
    {
      "cell_type": "code",
      "source": [
        "\n",
        "# Working with JSON Lines (JSONL)\n",
        "# JSON Lines is a format where each line is a valid JSON object.\n",
        "jsonl_data = [\n",
        "    {\"id\": 1, \"name\": \"Alice\"},\n",
        "    {\"id\": 2, \"name\": \"Bob\"}\n",
        "]\n",
        "with open(\"example.jsonl\", \"w\") as file:\n",
        "    for item in jsonl_data:\n",
        "        file.write(json.dumps(item) + \"\\n\")\n"
      ],
      "metadata": {
        "id": "ZFw8I9PMh-lK"
      },
      "execution_count": 13,
      "outputs": []
    },
    {
      "cell_type": "code",
      "source": [
        "# JSONL (JSON Lines) is a file format for storing structured data, where each line is a separate, valid JSON object. This format is useful for handling large datasets as it allows you to process one record at a time, which is more memory-efficient compared to loading a full JSON file into memory.\n",
        "\n",
        "# Key Features of JSONL:\n",
        "# Each line represents an independent JSON object.\n",
        "# Easy to parse in a line-by-line fashion.\n",
        "# Commonly used in machine learning pipelines, logging, and data streaming.\n",
        "# Supports incremental processing due to its line-based format.\n",
        "\n",
        "# Example of jsonl\n",
        "# {\"id\": 1, \"name\": \"Alice\"}\n",
        "# {\"id\": 2, \"name\": \"Bob\"}\n",
        "# {\"id\": 3, \"name\": \"Charlie\"}\n",
        "\n",
        "\n",
        "# Difference Between JSON and JSONL:\n",
        "# JSON is a single structured object or array of objects, while JSONL contains multiple, independent JSON objects, one per line.\n",
        "# JSONL is better suited for processing large datasets line-by-line, whereas JSON requires parsing the entire structure at once."
      ],
      "metadata": {
        "id": "7tesfM52jJvZ"
      },
      "execution_count": null,
      "outputs": []
    },
    {
      "cell_type": "code",
      "source": [
        "# Reading JSONL file\n",
        "print(\"\\nReading JSONL file:\")\n",
        "with open(\"example.jsonl\", \"r\") as file:\n",
        "    for line in file:\n",
        "        print(json.loads(line))"
      ],
      "metadata": {
        "id": "ihtvwz4IiBl0"
      },
      "execution_count": null,
      "outputs": []
    },
    {
      "cell_type": "code",
      "source": [
        "\n",
        "# Converting JSON to and from Pandas DataFrame\n",
        "import pandas as pd\n",
        "\n",
        "# Creating a DataFrame from JSON\n",
        "json_list = [\n",
        "    {\"name\": \"Alice\", \"age\": 25, \"city\": \"New York\"},\n",
        "    {\"name\": \"Bob\", \"age\": 30, \"city\": \"Los Angeles\"}\n",
        "]\n",
        "dataframe = pd.DataFrame(json_list)\n",
        "print(\"\\nPandas DataFrame from JSON:\")\n",
        "print(dataframe)\n",
        "\n",
        "# Converting a DataFrame to JSON\n",
        "dataframe_to_json = dataframe.to_json(orient=\"records\", lines=True)\n",
        "print(\"\\nDataFrame converted to JSONL format:\")\n",
        "print(dataframe_to_json)\n"
      ],
      "metadata": {
        "colab": {
          "base_uri": "https://localhost:8080/"
        },
        "id": "FgYITR79idXS",
        "outputId": "927d40d3-13f3-4fda-e6e4-e66ae16886c1"
      },
      "execution_count": 14,
      "outputs": [
        {
          "output_type": "stream",
          "name": "stdout",
          "text": [
            "\n",
            "Pandas DataFrame from JSON:\n",
            "    name  age         city\n",
            "0  Alice   25     New York\n",
            "1    Bob   30  Los Angeles\n",
            "\n",
            "DataFrame converted to JSONL format:\n",
            "{\"name\":\"Alice\",\"age\":25,\"city\":\"New York\"}\n",
            "{\"name\":\"Bob\",\"age\":30,\"city\":\"Los Angeles\"}\n",
            "\n"
          ]
        }
      ]
    },
    {
      "cell_type": "code",
      "source": [],
      "metadata": {
        "id": "R2v71cTWi7GW"
      },
      "execution_count": null,
      "outputs": []
    }
  ]
}