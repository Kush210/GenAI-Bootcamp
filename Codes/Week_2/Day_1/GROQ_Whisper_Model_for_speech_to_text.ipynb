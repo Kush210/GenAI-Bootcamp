{
  "cells": [
    {
      "cell_type": "markdown",
      "metadata": {
        "id": "Gq3ePUhc5SS8"
      },
      "source": [
        "# SPEECH TO TEXT\n",
        "\n",
        "Groq API is the fastest speech-to-text solution available, offering OpenAI-compatible endpoints that enable real-time transcriptions and translations"
      ]
    },
    {
      "cell_type": "code",
      "execution_count": 1,
      "metadata": {
        "colab": {
          "base_uri": "https://localhost:8080/"
        },
        "id": "y-iW3EbJI_TI",
        "outputId": "e0cd92f2-9506-4a80-e3d0-318e3d6320cf"
      },
      "outputs": [],
      "source": [
        "!pip install groq"
      ]
    },
    {
      "cell_type": "code",
      "execution_count": 2,
      "metadata": {},
      "outputs": [],
      "source": [
        "from groq import Groq"
      ]
    },
    {
      "cell_type": "code",
      "execution_count": null,
      "metadata": {
        "id": "c4l64NxRrI7Q"
      },
      "outputs": [],
      "source": [
        "#For Google colab\n",
        "from google.colab import userdata\n",
        "from IPython.display import Audio, display\n",
        "# Setting up the client\n",
        "groq_api = userdata.get('GROQ_API_KEY')"
      ]
    },
    {
      "cell_type": "code",
      "execution_count": 3,
      "metadata": {},
      "outputs": [],
      "source": [
        "# Getting up the openai key file on local pc\n",
        "from dotenv import load_dotenv\n",
        "import os\n",
        "\n",
        "# Load environment variables from the .env file\n",
        "load_dotenv()\n",
        "\n",
        "# Retrieve the API key from the environment\n",
        "groq_api = os.getenv(\"GROQ_API_KEY\")"
      ]
    },
    {
      "cell_type": "code",
      "execution_count": 4,
      "metadata": {
        "id": "mRw-9VEpuQFu"
      },
      "outputs": [],
      "source": [
        "\n",
        "client = Groq(api_key=groq_api)"
      ]
    },
    {
      "cell_type": "code",
      "execution_count": 6,
      "metadata": {},
      "outputs": [
        {
          "name": "stdout",
          "output_type": "stream",
          "text": [
            "/Users/ashish/Desktop/vettura-genai/Codes\n"
          ]
        }
      ],
      "source": [
        "print(os.getcwd())"
      ]
    },
    {
      "cell_type": "code",
      "execution_count": 7,
      "metadata": {
        "colab": {
          "base_uri": "https://localhost:8080/"
        },
        "id": "aGFOPcfLrv_J",
        "outputId": "ee3a78ef-52c0-4f3e-cdfe-d38a191dc889"
      },
      "outputs": [
        {
          "name": "stdout",
          "output_type": "stream",
          "text": [
            " The fire that warms us can also consume us. It is not the fault of the fire.\n"
          ]
        }
      ],
      "source": [
        "audio_file= \"./Week_2/Day_1/transcription.mp3\"\n",
        "with open(audio_file, \"rb\") as file:\n",
        "    transcription = client.audio.transcriptions.create(\n",
        "      file=(audio_file, file.read()),\n",
        "      model=\"whisper-large-v3-turbo\",\n",
        "      # prompt=\"\",  # Optional\n",
        "      # response_format=\"json\",  # Optional\n",
        "      # language=\"en\",  # Optional\n",
        "      # temperature=0.0  # Optional\n",
        "    )\n",
        "    print(transcription.text)\n"
      ]
    },
    {
      "cell_type": "markdown",
      "metadata": {
        "id": "ipaVD2JU5N4L"
      },
      "source": [
        "## **TEXT OUTPUT**\n",
        "\n",
        "if you want to set the response_format as text, your request would look like the following:"
      ]
    },
    {
      "cell_type": "code",
      "execution_count": 8,
      "metadata": {
        "colab": {
          "base_uri": "https://localhost:8080/"
        },
        "id": "RzDWiF0z5Bqw",
        "outputId": "5da55082-a0d4-467e-c629-da46df9dbf5c"
      },
      "outputs": [
        {
          "name": "stdout",
          "output_type": "stream",
          "text": [
            " The fire that warms us can also consume us. It is not the fault of the fire.\n"
          ]
        }
      ],
      "source": [
        "audio_file= \"./Week_2/Day_1/transcription.mp3\"\n",
        "with open(audio_file, \"rb\") as file:\n",
        "    transcription = client.audio.transcriptions.create(\n",
        "      file=(audio_file, file.read()),\n",
        "      model=\"whisper-large-v3-turbo\",\n",
        "      # prompt=\"\",  # Optional\n",
        "      response_format=\"text\",  # Optional\n",
        "      # language=\"en\",  # Optional\n",
        "      # temperature=0.0  # Optional\n",
        "    )\n",
        "    print(transcription)\n"
      ]
    },
    {
      "cell_type": "markdown",
      "metadata": {
        "id": "zn9N0Ww8VRtg"
      },
      "source": [
        "## Timestamps of segments\n",
        "Set `response_format` to verbose_json to receive timestamps for audio segments.\n"
      ]
    },
    {
      "cell_type": "code",
      "execution_count": 9,
      "metadata": {
        "colab": {
          "base_uri": "https://localhost:8080/"
        },
        "id": "-gbOcrlk5d-5",
        "outputId": "6c8bcc8b-df8d-4e4d-e8b3-39d1d39d052b"
      },
      "outputs": [
        {
          "name": "stdout",
          "output_type": "stream",
          "text": [
            "[{'id': 0, 'seek': 0, 'start': 0, 'end': 2.44, 'text': ' The fire that warms us can also consume us.', 'tokens': [50365, 440, 2610, 300, 1516, 2592, 505, 393, 611, 14732, 505, 13, 50487], 'temperature': 0, 'avg_logprob': -0.11128976, 'compression_ratio': 1.0555556, 'no_speech_prob': 1.0499434e-11}, {'id': 1, 'seek': 0, 'start': 2.88, 'end': 4.26, 'text': ' It is not the fault of the fire.', 'tokens': [50509, 467, 307, 406, 264, 7441, 295, 264, 2610, 13, 50578], 'temperature': 0, 'avg_logprob': -0.11128976, 'compression_ratio': 1.0555556, 'no_speech_prob': 1.0499434e-11}]\n"
          ]
        }
      ],
      "source": [
        "audio_file = \"./Week_2/Day_1/transcription.mp3\"\n",
        "with open(audio_file, \"rb\") as file:\n",
        "    transcription = client.audio.transcriptions.create(\n",
        "      file=(audio_file, file.read()),\n",
        "      model=\"whisper-large-v3-turbo\",\n",
        "      # prompt=\"\",  # Optional\n",
        "      response_format=\"verbose_json\",  # response_format must be set verbose_json for timestamps\n",
        "      # language=\"en\",  # Optional\n",
        "      # temperature=0.0  # Optional\n",
        "    )\n",
        "    print(transcription.segments)\n",
        "\n",
        "\n"
      ]
    },
    {
      "cell_type": "markdown",
      "metadata": {},
      "source": [
        "# Audio translation API\n",
        "\n",
        "Translates audio into English.\n",
        "\n",
        "Parameters:\n",
        "1. **file**  \n",
        "   - `string` (Required)  \n",
        "   - The audio file object (not the file name) to translate, in one of these formats: flac, mp3, mp4, mpeg, mpga, m4a, ogg, wav, or webm.\n",
        "\n",
        "2. **model**  \n",
        "   - `string` (Required)  \n",
        "   - ID of the model to use. Only `whisper-large-v3` is currently available.\n",
        "\n",
        "3. **prompt**  \n",
        "   - `string` (Optional)  \n",
        "   - An optional text to guide the model's style or continue a previous audio segment. The prompt should be in English.\n",
        "\n",
        "4. **response_format**  \n",
        "   - `string` (Optional)  \n",
        "   - Defaults to `json`  \n",
        "   - The format of the translation output, in one of these options: `json`, `text`, or `verbose_json`.\n",
        "\n",
        "5. **temperature**  \n",
        "   - `number` (Optional)  \n",
        "   - Defaults to `0`  \n",
        "   - The sampling temperature, between `0` and `1`. Higher values like `0.8` will make the output more random, while lower values like `0.2` will make it more focused and deterministic. If set to `0`, the model will use log probability to automatically adjust the temperature until certain thresholds are met.\n"
      ]
    },
    {
      "cell_type": "code",
      "execution_count": 10,
      "metadata": {},
      "outputs": [
        {
          "name": "stdout",
          "output_type": "stream",
          "text": [
            " The capital of West Bengal is located on the banks of the Huggali River, 180 km from the border of the Bengal Khadi.\n"
          ]
        }
      ],
      "source": [
        "filename = \"./Week_2/Day_1/translation.m4a\"\n",
        "with open(filename, \"rb\") as file:\n",
        "    translation = client.audio.translations.create(\n",
        "      file=(filename, file.read()),\n",
        "      model=\"whisper-large-v3\",\n",
        "      prompt=\"Specify context or spelling\",  # Optional\n",
        "      response_format=\"json\",  # Optional\n",
        "      temperature=0.0  # Optional\n",
        "    )\n",
        "    print(translation.text)\n",
        "\n"
      ]
    },
    {
      "cell_type": "code",
      "execution_count": null,
      "metadata": {},
      "outputs": [],
      "source": []
    }
  ],
  "metadata": {
    "colab": {
      "provenance": [],
      "toc_visible": true
    },
    "kernelspec": {
      "display_name": "Python 3 (ipykernel)",
      "language": "python",
      "name": "python3"
    }
  },
  "nbformat": 4,
  "nbformat_minor": 0
}
