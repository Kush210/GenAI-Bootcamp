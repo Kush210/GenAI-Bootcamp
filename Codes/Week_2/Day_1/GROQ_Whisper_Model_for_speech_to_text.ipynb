{
  "cells": [
    {
      "cell_type": "markdown",
      "metadata": {
        "id": "Gq3ePUhc5SS8"
      },
      "source": [
        "# SPEECH TO TEXT\n",
        "\n",
        "Groq API is the fastest speech-to-text solution available, offering OpenAI-compatible endpoints that enable real-time transcriptions and translations"
      ]
    },
    {
      "cell_type": "code",
      "execution_count": 1,
      "metadata": {
        "colab": {
          "base_uri": "https://localhost:8080/"
        },
        "id": "y-iW3EbJI_TI",
        "outputId": "e0cd92f2-9506-4a80-e3d0-318e3d6320cf"
      },
      "outputs": [
        {
          "name": "stdout",
          "output_type": "stream",
          "text": [
            "Collecting groq\n",
            "  Downloading groq-0.13.1-py3-none-any.whl.metadata (14 kB)\n",
            "Requirement already satisfied: anyio<5,>=3.5.0 in /usr/local/lib/python3.10/dist-packages (from groq) (3.7.1)\n",
            "Requirement already satisfied: distro<2,>=1.7.0 in /usr/local/lib/python3.10/dist-packages (from groq) (1.9.0)\n",
            "Requirement already satisfied: httpx<1,>=0.23.0 in /usr/local/lib/python3.10/dist-packages (from groq) (0.28.1)\n",
            "Requirement already satisfied: pydantic<3,>=1.9.0 in /usr/local/lib/python3.10/dist-packages (from groq) (2.10.3)\n",
            "Requirement already satisfied: sniffio in /usr/local/lib/python3.10/dist-packages (from groq) (1.3.1)\n",
            "Requirement already satisfied: typing-extensions<5,>=4.10 in /usr/local/lib/python3.10/dist-packages (from groq) (4.12.2)\n",
            "Requirement already satisfied: idna>=2.8 in /usr/local/lib/python3.10/dist-packages (from anyio<5,>=3.5.0->groq) (3.10)\n",
            "Requirement already satisfied: exceptiongroup in /usr/local/lib/python3.10/dist-packages (from anyio<5,>=3.5.0->groq) (1.2.2)\n",
            "Requirement already satisfied: certifi in /usr/local/lib/python3.10/dist-packages (from httpx<1,>=0.23.0->groq) (2024.12.14)\n",
            "Requirement already satisfied: httpcore==1.* in /usr/local/lib/python3.10/dist-packages (from httpx<1,>=0.23.0->groq) (1.0.7)\n",
            "Requirement already satisfied: h11<0.15,>=0.13 in /usr/local/lib/python3.10/dist-packages (from httpcore==1.*->httpx<1,>=0.23.0->groq) (0.14.0)\n",
            "Requirement already satisfied: annotated-types>=0.6.0 in /usr/local/lib/python3.10/dist-packages (from pydantic<3,>=1.9.0->groq) (0.7.0)\n",
            "Requirement already satisfied: pydantic-core==2.27.1 in /usr/local/lib/python3.10/dist-packages (from pydantic<3,>=1.9.0->groq) (2.27.1)\n",
            "Downloading groq-0.13.1-py3-none-any.whl (109 kB)\n",
            "\u001b[?25l   \u001b[90m━━━━━━━━━━━━━━━━━━━━━━━━━━━━━━━━━━━━━━━━\u001b[0m \u001b[32m0.0/109.1 kB\u001b[0m \u001b[31m?\u001b[0m eta \u001b[36m-:--:--\u001b[0m\r\u001b[2K   \u001b[90m━━━━━━━━━━━━━━━━━━━━━━━━━━━━━━━━━━━━━━━━\u001b[0m \u001b[32m109.1/109.1 kB\u001b[0m \u001b[31m3.7 MB/s\u001b[0m eta \u001b[36m0:00:00\u001b[0m\n",
            "\u001b[?25hInstalling collected packages: groq\n",
            "Successfully installed groq-0.13.1\n"
          ]
        }
      ],
      "source": [
        "!pip install groq"
      ]
    },
    {
      "cell_type": "code",
      "execution_count": 2,
      "metadata": {
        "id": "c4l64NxRrI7Q"
      },
      "outputs": [],
      "source": [
        "from groq import Groq\n",
        "from google.colab import userdata\n",
        "from IPython.display import Audio, display"
      ]
    },
    {
      "cell_type": "code",
      "execution_count": 3,
      "metadata": {
        "id": "mRw-9VEpuQFu"
      },
      "outputs": [],
      "source": [
        "# Setting up the client\n",
        "groq_api = userdata.get('GROQ_API_KEY')\n",
        "client = Groq(api_key=groq_api)"
      ]
    },
    {
      "cell_type": "code",
      "execution_count": 7,
      "metadata": {
        "colab": {
          "base_uri": "https://localhost:8080/"
        },
        "id": "aGFOPcfLrv_J",
        "outputId": "ee3a78ef-52c0-4f3e-cdfe-d38a191dc889"
      },
      "outputs": [
        {
          "name": "stdout",
          "output_type": "stream",
          "text": [
            " The fire that warms us can also consume us. It is not the fault of the fire.\n"
          ]
        }
      ],
      "source": [
        "audio_file= \"transcription.mp3\"\n",
        "with open(audio_file, \"rb\") as file:\n",
        "    transcription = client.audio.transcriptions.create(\n",
        "      file=(audio_file, file.read()),\n",
        "      model=\"whisper-large-v3-turbo\",\n",
        "      # prompt=\"\",  # Optional\n",
        "      # response_format=\"json\",  # Optional\n",
        "      # language=\"en\",  # Optional\n",
        "      # temperature=0.0  # Optional\n",
        "    )\n",
        "    print(transcription.text)\n"
      ]
    },
    {
      "cell_type": "markdown",
      "metadata": {
        "id": "ipaVD2JU5N4L"
      },
      "source": [
        "## **TEXT OUTPUT**\n",
        "\n",
        "if you want to set the response_format as text, your request would look like the following:"
      ]
    },
    {
      "cell_type": "code",
      "execution_count": 8,
      "metadata": {
        "colab": {
          "base_uri": "https://localhost:8080/"
        },
        "id": "RzDWiF0z5Bqw",
        "outputId": "5da55082-a0d4-467e-c629-da46df9dbf5c"
      },
      "outputs": [
        {
          "name": "stdout",
          "output_type": "stream",
          "text": [
            " The fire that warms us can also consume us. It is not the fault of the fire.\n"
          ]
        }
      ],
      "source": [
        "audio_file= \"transcription.mp3\"\n",
        "with open(audio_file, \"rb\") as file:\n",
        "    transcription = client.audio.transcriptions.create(\n",
        "      file=(audio_file, file.read()),\n",
        "      model=\"whisper-large-v3-turbo\",\n",
        "      # prompt=\"\",  # Optional\n",
        "      response_format=\"text\",  # Optional\n",
        "      # language=\"en\",  # Optional\n",
        "      # temperature=0.0  # Optional\n",
        "    )\n",
        "    print(transcription)\n"
      ]
    },
    {
      "cell_type": "markdown",
      "metadata": {
        "id": "zn9N0Ww8VRtg"
      },
      "source": [
        "## Timestamps of segments\n",
        "Set `response_format` to verbose_json to receive timestamps for audio segments.\n"
      ]
    },
    {
      "cell_type": "code",
      "execution_count": 15,
      "metadata": {
        "colab": {
          "base_uri": "https://localhost:8080/"
        },
        "id": "-gbOcrlk5d-5",
        "outputId": "6c8bcc8b-df8d-4e4d-e8b3-39d1d39d052b"
      },
      "outputs": [
        {
          "name": "stdout",
          "output_type": "stream",
          "text": [
            "[{'id': 0, 'seek': 0, 'start': 0, 'end': 2.44, 'text': ' The fire that warms us can also consume us.', 'tokens': [50365, 440, 2610, 300, 1516, 2592, 505, 393, 611, 14732, 505, 13, 50487], 'temperature': 0, 'avg_logprob': -0.11128976, 'compression_ratio': 1.0555556, 'no_speech_prob': 1.0499434e-11}, {'id': 1, 'seek': 0, 'start': 2.88, 'end': 4.26, 'text': ' It is not the fault of the fire.', 'tokens': [50509, 467, 307, 406, 264, 7441, 295, 264, 2610, 13, 50578], 'temperature': 0, 'avg_logprob': -0.11128976, 'compression_ratio': 1.0555556, 'no_speech_prob': 1.0499434e-11}]\n"
          ]
        }
      ],
      "source": [
        "audio_file = \"transcription.mp3\"\n",
        "with open(audio_file, \"rb\") as file:\n",
        "    transcription = client.audio.transcriptions.create(\n",
        "      file=(audio_file, file.read()),\n",
        "      model=\"whisper-large-v3-turbo\",\n",
        "      # prompt=\"\",  # Optional\n",
        "      response_format=\"verbose_json\",  # response_format must be set verbose_json for timestamps\n",
        "      # language=\"en\",  # Optional\n",
        "      # temperature=0.0  # Optional\n",
        "    )\n",
        "    print(transcription.segments)\n",
        "\n",
        "\n"
      ]
    },
    {
      "cell_type": "markdown",
      "metadata": {},
      "source": [
        "# Audio translation API\n",
        "\n",
        "Translates audio into English.\n",
        "\n",
        "Parameters:\n",
        "1. **file**  \n",
        "   - `string` (Required)  \n",
        "   - The audio file object (not the file name) to translate, in one of these formats: flac, mp3, mp4, mpeg, mpga, m4a, ogg, wav, or webm.\n",
        "\n",
        "2. **model**  \n",
        "   - `string` (Required)  \n",
        "   - ID of the model to use. Only `whisper-large-v3` is currently available.\n",
        "\n",
        "3. **prompt**  \n",
        "   - `string` (Optional)  \n",
        "   - An optional text to guide the model's style or continue a previous audio segment. The prompt should be in English.\n",
        "\n",
        "4. **response_format**  \n",
        "   - `string` (Optional)  \n",
        "   - Defaults to `json`  \n",
        "   - The format of the translation output, in one of these options: `json`, `text`, or `verbose_json`.\n",
        "\n",
        "5. **temperature**  \n",
        "   - `number` (Optional)  \n",
        "   - Defaults to `0`  \n",
        "   - The sampling temperature, between `0` and `1`. Higher values like `0.8` will make the output more random, while lower values like `0.2` will make it more focused and deterministic. If set to `0`, the model will use log probability to automatically adjust the temperature until certain thresholds are met.\n"
      ]
    },
    {
      "cell_type": "code",
      "execution_count": null,
      "metadata": {},
      "outputs": [
        {
          "name": "stdout",
          "output_type": "stream",
          "text": [
            " The capital of West Bengal is located on the banks of the Huggli River, 180 km from the border of the Bengal Khadi.\n"
          ]
        }
      ],
      "source": [
        "filename = \"translation.m4a\"\n",
        "with open(filename, \"rb\") as file:\n",
        "    translation = client.audio.translations.create(\n",
        "      file=(filename, file.read()),\n",
        "      model=\"whisper-large-v3\",\n",
        "      prompt=\"Specify context or spelling\",  # Optional\n",
        "      response_format=\"json\",  # Optional\n",
        "      temperature=0.0  # Optional\n",
        "    )\n",
        "    print(translation.text)\n",
        "\n"
      ]
    }
  ],
  "metadata": {
    "colab": {
      "provenance": [],
      "toc_visible": true
    },
    "kernelspec": {
      "display_name": "Python 3",
      "name": "python3"
    },
    "language_info": {
      "name": "python"
    }
  },
  "nbformat": 4,
  "nbformat_minor": 0
}
