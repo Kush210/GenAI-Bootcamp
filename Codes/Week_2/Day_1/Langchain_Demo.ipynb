{
 "cells": [
  {
   "cell_type": "code",
   "execution_count": 240,
   "metadata": {},
   "outputs": [],
   "source": [
    "from langchain_openai import OpenAI"
   ]
  },
  {
   "cell_type": "code",
   "execution_count": 241,
   "metadata": {},
   "outputs": [],
   "source": [
    "from dotenv import load_dotenv\n",
    "import os\n",
    "\n",
    "# Load variables from .env file. Must have an entry titled OPENAI_API_KEY\n",
    "load_dotenv()\n",
    "\n",
    "# Retrieve the API key from the environment\n",
    "api_key = os.getenv(\"OPENAI_API_KEY\")"
   ]
  },
  {
   "cell_type": "code",
   "execution_count": 242,
   "metadata": {},
   "outputs": [],
   "source": [
    "llm = OpenAI(temperature  = 1, api_key=api_key)"
   ]
  },
  {
   "cell_type": "code",
   "execution_count": 243,
   "metadata": {},
   "outputs": [
    {
     "name": "stdout",
     "output_type": "stream",
     "text": [
      "\n",
      "\n",
      "1. Tamarind Tales\n",
      "2. Spice Symphony\n",
      "3. The Maharaja's Feast\n",
      "4. Saffron Splendor\n",
      "5. Royal Curry House\n",
      "6. The Masala Mansion\n",
      "7. Naan Nirvana\n",
      "8. Chai Chalet\n",
      "9. The Curry Club\n",
      "10. Raja's Regal Kitchen\n"
     ]
    }
   ],
   "source": [
    "name_of_restaurant = llm.invoke(\"I want to open a fancy Indian restaurant. Suggest a few names for this restaurant.\")\n",
    "print(name_of_restaurant)"
   ]
  },
  {
   "cell_type": "code",
   "execution_count": 244,
   "metadata": {},
   "outputs": [
    {
     "name": "stdout",
     "output_type": "stream",
     "text": [
      "I want to open a restaurant for Indian food based on movie Matrix. Suggest a fancy name for such a restaurant.\n"
     ]
    }
   ],
   "source": [
    "from langchain.prompts import PromptTemplate\n",
    "\n",
    "restaurant_prompt_template = PromptTemplate(\n",
    "    input_variables= [\"cusine_name\", \"movie_name\"],\n",
    "    template= \"I want to open a restaurant for {cusine_name} food based on movie {movie_name}. Suggest a fancy name for such a restaurant.\"\n",
    ")\n",
    "\n",
    "restaurant_prompt = restaurant_prompt_template.format(cusine_name = \"Indian\", movie_name = \"Matrix\")\n",
    "print(restaurant_prompt)"
   ]
  },
  {
   "cell_type": "code",
   "execution_count": 247,
   "metadata": {},
   "outputs": [
    {
     "name": "stdout",
     "output_type": "stream",
     "text": [
      "\n",
      "\n",
      "\"Neo's Noodle Haven\"\n"
     ]
    }
   ],
   "source": [
    "from langchain.chains import LLMChain\n",
    "\n",
    "restaurant_name_chain = LLMChain(llm = llm, prompt = restaurant_prompt_template, output_key = \"restaurant_name\")\n",
    "restaurant_name = restaurant_name_chain.run({\"cusine_name\":\"Chineese\", \"movie_name\":\"Matrix\"})\n",
    "print(restaurant_name)"
   ]
  },
  {
   "cell_type": "code",
   "execution_count": null,
   "metadata": {},
   "outputs": [
    {
     "name": "stdout",
     "output_type": "stream",
     "text": [
      "\n",
      "\n",
      "\u001b[1m> Entering new SequentialChain chain...\u001b[0m\n",
      "\n",
      "\u001b[1m> Finished chain.\u001b[0m\n",
      "Restaurant Name: \n",
      "\n",
      "\"Matrix Masala\"\n",
      "Restaurant Menu: \n",
      "\n",
      "1. Butter Chicken\n",
      "2. Tandoori Chicken\n",
      "3. Chana Masala\n",
      "4. Tikka Masala \n",
      "5. Palak Paneer \n",
      "6. Biryani \n",
      "7. Rogan Josh \n",
      "8. Samosas \n",
      "9. Naan bread \n",
      "10. Dal Makhani \n",
      "11. Aloo Gobi \n",
      "12. Malai Kofta \n",
      "13. Chicken Vindaloo \n",
      "14. Lamb Curry \n",
      "15. Vegetable Korma \n",
      "16. Papdi Chaat \n",
      "17. Mango Lassi \n",
      "18. Tandoori Fish Tikka \n",
      "19. Chicken Biryani \n",
      "20. Gulab Jamun.\n"
     ]
    }
   ],
   "source": [
    "from langchain.chains import SequentialChain\n",
    "\n",
    "menu_prompt_template = PromptTemplate(\n",
    "    input_variables= [\"restaurant_name\", \"cusine_name\"],\n",
    "    template= \"I am opening a new restaurant named {restaurant_name} serving {cusine_name} cusine. Suggest few dishes that may be put on the menu for this restaurant.\"\n",
    ")\n",
    "\n",
    "restaurant_menu_chain = LLMChain(llm = llm, prompt = menu_prompt_template, output_key = \"restaurant_menu\")\n",
    "\n",
    "name_menu_chain = SequentialChain(\n",
    "    chains=[restaurant_name_chain, restaurant_menu_chain],\n",
    "    input_variables=[\"cusine_name\", \"movie_name\"],\n",
    "    output_variables=[\"restaurant_name\", \"restaurant_menu\"],\n",
    "    verbose=True,  # optional: for logging\n",
    ")\n",
    "\n",
    "#Run the combined chain\n",
    "name_and_menu = name_menu_chain({\n",
    "    \"cusine_name\": \"Indian\", \n",
    "    \"movie_name\": \"Matrix\"\n",
    "})\n",
    "\n",
    "print(\"Restaurant Name:\", name_and_menu[\"restaurant_name\"])\n",
    "print(\"Restaurant Menu:\", name_and_menu[\"restaurant_menu\"])"
   ]
  },
  {
   "cell_type": "code",
   "execution_count": null,
   "metadata": {},
   "outputs": [],
   "source": []
  }
 ],
 "metadata": {
  "kernelspec": {
   "display_name": "Python 3 (ipykernel)",
   "language": "python",
   "name": "python3"
  }
 },
 "nbformat": 4,
 "nbformat_minor": 2
}
