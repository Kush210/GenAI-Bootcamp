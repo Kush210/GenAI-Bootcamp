{
  "nbformat": 4,
  "nbformat_minor": 0,
  "metadata": {
    "colab": {
      "provenance": []
    },
    "kernelspec": {
      "name": "python3",
      "display_name": "Python 3"
    },
    "language_info": {
      "name": "python"
    }
  },
  "cells": [
    {
      "cell_type": "code",
      "execution_count": 1,
      "metadata": {
        "id": "iaE1MIk1HT9p"
      },
      "outputs": [],
      "source": [
        "## Install the necessary libraries\n",
        "!pip install -q openai"
      ]
    },
    {
      "cell_type": "code",
      "source": [
        "## Make the necessary imports\n",
        "import base64\n",
        "from google.colab import userdata\n",
        "from openai import OpenAI\n",
        "\n",
        "client = OpenAI(api_key = userdata.get(\"OPENAI_API_KEY\"))"
      ],
      "metadata": {
        "id": "-cOk_b1gHh7g"
      },
      "execution_count": 4,
      "outputs": []
    },
    {
      "cell_type": "code",
      "source": [
        "# Function to encode the image\n",
        "def encode_image(image_path):\n",
        "    with open(image_path, \"rb\") as image_file:\n",
        "        return base64.b64encode(image_file.read()).decode(\"utf-8\")\n",
        "\n"
      ],
      "metadata": {
        "id": "_wkq-2UiH27B"
      },
      "execution_count": 5,
      "outputs": []
    },
    {
      "cell_type": "code",
      "source": [
        "# Path to your image\n",
        "image_path = \"/content/image1.png\"\n",
        "\n",
        "# Getting the base64 string\n",
        "base64_image = encode_image(image_path)\n",
        "\n",
        "# send request to the API with the image receive the response in about 15seconds\n",
        "response = client.chat.completions.create(\n",
        "    model=\"gpt-4o-mini\",\n",
        "    messages=[\n",
        "        {\n",
        "            \"role\": \"user\",\n",
        "            \"content\": [\n",
        "                {\n",
        "                    \"type\": \"text\",\n",
        "                    \"text\": \"What is in this image?\",\n",
        "                },\n",
        "                {\n",
        "                    \"type\": \"image_url\",\n",
        "                    \"image_url\": {\"url\": f\"data:image/png;base64,{base64_image}\", \"details\" : \"low\"},\n",
        "                },\n",
        "            ],\n",
        "        }\n",
        "    ],\n",
        ")\n"
      ],
      "metadata": {
        "colab": {
          "base_uri": "https://localhost:8080/"
        },
        "id": "Hxb8Qj3nH5Fm",
        "outputId": "af85f827-1034-4234-a614-577b3ec58d13"
      },
      "execution_count": 10,
      "outputs": [
        {
          "output_type": "stream",
          "name": "stdout",
          "text": [
            "Choice(finish_reason='stop', index=0, logprobs=None, message=ChatCompletionMessage(content='The image features a vibrant underwater scene showcasing a large seahorse and various types of fish, surrounded by colorful coral and sea vegetation. The artwork is characterized by intricate patterns and rich, vivid colors, creating a dynamic and captivating look at marine life.', refusal=None, role='assistant', audio=None, function_call=None, tool_calls=None))\n"
          ]
        }
      ]
    },
    {
      "cell_type": "markdown",
      "source": [
        "# Vision Model: **Detail Parameter Documentation**\n",
        "\n",
        "## **detail**  \n",
        "**Type:** `string`  \n",
        "**Required:** No (Optional)  \n",
        "**Default Value:** `auto`  \n",
        "**Description:** Controls the level of fidelity in how the model processes the image and generates textual understanding.  \n",
        "**Options:**  \n",
        "- **`auto`**:  \n",
        "  The model will analyze the input image size and automatically decide whether to use the `low` or `high` setting. This is the default setting.  \n",
        "\n",
        "- **`low`**:  \n",
        "  Enables \"low res\" mode.  \n",
        "  - The model processes a 512px x 512px low-resolution version of the image.  \n",
        "  - The image is represented using a token budget of **85 tokens**.  \n",
        "  - **Benefits:** Faster API responses and reduced input token consumption, ideal for use cases where high detail is not required.\n",
        "\n",
        "- **`high`**:  \n",
        "  Enables \"high res\" mode.  \n",
        "  - The model first processes a low-resolution version of the image (512px x 512px, **85 tokens**) and then generates detailed crops using **170 tokens per 512px x 512px tile**.  \n",
        "  - **Benefits:** Provides high-detail processing suitable for use cases that demand precise understanding of image details.\n"
      ],
      "metadata": {
        "id": "mCI-HhS8LJeB"
      }
    },
    {
      "cell_type": "code",
      "source": [
        "print(response.choices[0].message.content)"
      ],
      "metadata": {
        "colab": {
          "base_uri": "https://localhost:8080/"
        },
        "id": "xDeNa8f9IFkU",
        "outputId": "4c62cf23-7b28-4c0a-cc92-e65fec87c42f"
      },
      "execution_count": 9,
      "outputs": [
        {
          "output_type": "stream",
          "name": "stdout",
          "text": [
            "The image depicts an underwater scene featuring a prominent seahorse in the foreground, characterized by intricate and colorful designs. Surrounding it are various fish, along with corals and other marine flora, creating a vibrant and detailed underwater environment. The overall style appears artistic and richly patterned, enhancing the visual appeal of the marine life and ecosystem.\n"
          ]
        }
      ]
    },
    {
      "cell_type": "code",
      "source": [
        "encoding1 = encode_image(\"/content/image1.png\")\n",
        "encoding2 = encode_image(\"/content/image2.png\")\n",
        "\n",
        "response = client.chat.completions.create(\n",
        "    model=\"gpt-4o-mini\",\n",
        "    messages=[\n",
        "        {\n",
        "            \"role\": \"user\",\n",
        "            \"content\": [\n",
        "                {\n",
        "                    \"type\": \"text\",\n",
        "                    \"text\": \"What are in these images? Explain the differences between these two images .\",\n",
        "                },\n",
        "                {\n",
        "                    \"type\": \"image_url\",\n",
        "                    \"image_url\": {\n",
        "                        \"url\": f\"data:image/png;base64,{encoding1}\"\n",
        "                    },\n",
        "                },\n",
        "                {\n",
        "                    \"type\": \"image_url\",\n",
        "                    \"image_url\": {\n",
        "                        \"url\": f\"data:image/png;base64,{encoding2}\"\n",
        "                    },\n",
        "                },\n",
        "            ],\n",
        "        }\n",
        "    ],\n",
        "    max_tokens=300,\n",
        ")\n"
      ],
      "metadata": {
        "colab": {
          "base_uri": "https://localhost:8080/"
        },
        "id": "LuYVHuI1ILVb",
        "outputId": "e822030b-3176-45be-8544-183ed0590565"
      },
      "execution_count": 13,
      "outputs": [
        {
          "output_type": "stream",
          "name": "stdout",
          "text": [
            "Choice(finish_reason='length', index=0, logprobs=None, message=ChatCompletionMessage(content='The two images depict underwater scenes featuring seahorses and different types of fish, but they have distinct artistic styles and details.\\n\\n### Differences:\\n\\n1. **Artistic Style**:\\n   - **First Image**: This image has a vibrant, intricate, and stylized design, characterized by swirling patterns and bright colors. The textures and details create a psychedelic effect, making it visually striking.\\n   - **Second Image**: This image is more realistic and focused on clear, simpler lines and colors. It features a straightforward representation of the underwater world, using softer lighting and a more natural palette.\\n\\n2. **Seahorse Appearance**:\\n   - **First Image**: The seahorse is more elaborate, with exaggerated features and a patterned body that gives it a fantastical look.\\n   - **Second Image**: The seahorse is depicted in a more naturalistic style, with a realistic shape and coloring typical of a seahorse.\\n\\n3. **Background and Environment**:\\n   - **First Image**: The background is filled with colorful coral and seaweed, enhancing the surreal atmosphere.\\n   - **Second Image**: The background is more subdued, with less emphasis on colorful corals, creating a calmer, more serene underwater landscape.\\n\\n4. **Lighting**:\\n   - **First Image**: The lighting appears more uniform and is enhanced by the vibrant colors, contributing to the dreamlike quality.\\n   - **Second Image**: The light rays from the surface create', refusal=None, role='assistant', audio=None, function_call=None, tool_calls=None))\n"
          ]
        }
      ]
    },
    {
      "cell_type": "code",
      "source": [
        "print(response.choices[0].message.content)"
      ],
      "metadata": {
        "colab": {
          "base_uri": "https://localhost:8080/"
        },
        "id": "dBEIhPZrJCUe",
        "outputId": "44d26138-63b8-45f3-c992-932aec04c557"
      },
      "execution_count": 14,
      "outputs": [
        {
          "output_type": "stream",
          "name": "stdout",
          "text": [
            "The two images depict underwater scenes featuring seahorses and different types of fish, but they have distinct artistic styles and details.\n",
            "\n",
            "### Differences:\n",
            "\n",
            "1. **Artistic Style**:\n",
            "   - **First Image**: This image has a vibrant, intricate, and stylized design, characterized by swirling patterns and bright colors. The textures and details create a psychedelic effect, making it visually striking.\n",
            "   - **Second Image**: This image is more realistic and focused on clear, simpler lines and colors. It features a straightforward representation of the underwater world, using softer lighting and a more natural palette.\n",
            "\n",
            "2. **Seahorse Appearance**:\n",
            "   - **First Image**: The seahorse is more elaborate, with exaggerated features and a patterned body that gives it a fantastical look.\n",
            "   - **Second Image**: The seahorse is depicted in a more naturalistic style, with a realistic shape and coloring typical of a seahorse.\n",
            "\n",
            "3. **Background and Environment**:\n",
            "   - **First Image**: The background is filled with colorful coral and seaweed, enhancing the surreal atmosphere.\n",
            "   - **Second Image**: The background is more subdued, with less emphasis on colorful corals, creating a calmer, more serene underwater landscape.\n",
            "\n",
            "4. **Lighting**:\n",
            "   - **First Image**: The lighting appears more uniform and is enhanced by the vibrant colors, contributing to the dreamlike quality.\n",
            "   - **Second Image**: The light rays from the surface create\n"
          ]
        }
      ]
    },
    {
      "cell_type": "markdown",
      "source": [
        "# Managing Images with the Chat Completions API\n",
        "\n",
        "The Chat Completions API, unlike the Assistants API, is **not stateful**. This means that you must manage messages (including images) yourself. If you need to pass the same image multiple times, you will have to include the image in each API request.\n",
        "\n",
        "## Best Practices for Managing Images:\n",
        "- **Use URLs for long conversations:** Instead of Base64-encoded images, we recommend passing images as URLs for long-running conversations.  \n",
        "- **Optimize Image Size:**  \n",
        "  - For **low res mode**, provide a 512px x 512px image.  \n",
        "  - For **high res mode**, ensure the short side is **less than 768px** and the long side is **less than 2,000px**.  \n",
        "- **Image Deletion:** Once processed, images are **deleted** from OpenAI's servers and are **not retained**. OpenAI does not use uploaded images to train models.\n",
        "\n",
        "---\n",
        "\n",
        "# Limitations of GPT-4 with Vision\n",
        "\n",
        "While GPT-4 with vision capabilities is versatile, there are some **limitations** to be aware of:\n",
        "\n",
        "## **Medical Images**  \n",
        "The model is **not suitable** for interpreting specialized medical images (e.g., CT scans) and should **not be used** for medical advice.\n",
        "\n",
        "## **Non-English Text**  \n",
        "The model may not perform optimally with images containing **non-Latin alphabets** (e.g., Japanese, Korean).\n",
        "\n",
        "## **Small Text**  \n",
        "For better readability, enlarge text within images but avoid cropping important details.\n",
        "\n",
        "## **Rotation**  \n",
        "The model may misinterpret **rotated or upside-down** text or images.\n",
        "\n",
        "## **Visual Elements**  \n",
        "The model may struggle with interpreting **graphs** or images where visual elements like line styles (solid, dashed, dotted) vary.\n",
        "\n",
        "## **Spatial Reasoning**  \n",
        "The model has difficulty with tasks requiring **precise spatial localization**, such as identifying chess positions.\n",
        "\n",
        "## **Accuracy**  \n",
        "The model may generate **incorrect descriptions or captions** in some cases.\n",
        "\n",
        "## **Image Shape**  \n",
        "The model may have difficulty interpreting **panoramic or fisheye images**.\n",
        "\n",
        "## **Metadata and Resizing**  \n",
        "The model does not process **original file names or metadata**. Images are resized before analysis, which can affect their original dimensions.\n",
        "\n",
        "## **Counting Objects**  \n",
        "The model may provide **approximate counts** for objects in images.\n",
        "\n",
        "## **CAPTCHAs**  \n",
        "For safety, **CAPTCHAs** are blocked from submission to the model.\n"
      ],
      "metadata": {
        "id": "lE8_RF88LRIl"
      }
    },
    {
      "cell_type": "code",
      "source": [],
      "metadata": {
        "id": "mAtkBrLAJ1_d"
      },
      "execution_count": null,
      "outputs": []
    }
  ]
}