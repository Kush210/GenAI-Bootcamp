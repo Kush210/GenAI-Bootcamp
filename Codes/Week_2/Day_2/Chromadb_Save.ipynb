{
 "cells": [
  {
   "cell_type": "code",
   "execution_count": 45,
   "metadata": {},
   "outputs": [],
   "source": [
    "from transformers import AutoTokenizer, AutoModel\n",
    "import torch\n",
    "import chromadb\n",
    "from chromadb.config import Settings\n",
    "import os\n",
    "from langchain_huggingface import HuggingFaceEmbeddings\n",
    "from langchain_chroma import Chroma\n",
    "import random"
   ]
  },
  {
   "cell_type": "code",
   "execution_count": 46,
   "metadata": {},
   "outputs": [
    {
     "data": {
      "text/plain": [
       "True"
      ]
     },
     "execution_count": 46,
     "metadata": {},
     "output_type": "execute_result"
    }
   ],
   "source": [
    "# Create a new client for chromaDB\n",
    "client = chromadb.PersistentClient(path='./chromaDB',settings=Settings(allow_reset=True))\n",
    "client.reset()"
   ]
  },
  {
   "cell_type": "code",
   "execution_count": 47,
   "metadata": {},
   "outputs": [],
   "source": [
    "embeddings = HuggingFaceEmbeddings(model_name=\"BAAI/bge-large-en\",encode_kwargs={'normalize_embeddings':True})"
   ]
  },
  {
   "cell_type": "code",
   "execution_count": 48,
   "metadata": {},
   "outputs": [],
   "source": [
    "# Create a collection in ChromaDB\n",
    "collection = client.create_collection(name=\"sentence_embeddings\")\n",
    "\n",
    "# List of sentences to add to ChromaDB\n",
    "sentences = [\n",
    "    \"The quick brown fox jumps over the lazy dog.\",\n",
    "    \"Artificial intelligence is transforming the world.\",\n",
    "    \"The sky is clear and the sun is shining.\",\n",
    "    \"Machine learning models require a lot of data.\",\n",
    "    \"Natural language processing is a fascinating field.\",\n",
    "    \"There is a bear in the town square.\"\n",
    "]"
   ]
  },
  {
   "cell_type": "code",
   "execution_count": 51,
   "metadata": {},
   "outputs": [
    {
     "name": "stderr",
     "output_type": "stream",
     "text": [
      "Add of existing embedding ID: 0\n",
      "Insert of existing embedding ID: 0\n",
      "Add of existing embedding ID: 1\n",
      "Insert of existing embedding ID: 1\n",
      "Add of existing embedding ID: 2\n",
      "Insert of existing embedding ID: 2\n",
      "Add of existing embedding ID: 3\n",
      "Insert of existing embedding ID: 3\n",
      "Add of existing embedding ID: 4\n",
      "Insert of existing embedding ID: 4\n",
      "Add of existing embedding ID: 5\n",
      "Insert of existing embedding ID: 5\n"
     ]
    },
    {
     "name": "stdout",
     "output_type": "stream",
     "text": [
      "Embeddings and sentences have been successfully stored in ChromaDB.\n"
     ]
    }
   ],
   "source": [
    "# Convert the sentences to embeddings using HuggingFaceEmbeddings\n",
    "embeddings_list = embeddings.embed_documents(sentences)\n",
    "\n",
    "# Add the sentences and embeddings to Chroma collection\n",
    "for i, sentence in enumerate(sentences):\n",
    "    collection.add(\n",
    "        ids=[str(i)],  # Unique ID for each sentence\n",
    "        documents=[sentence],  # The text data (document)\n",
    "        embeddings=[embeddings_list[i]],  # The corresponding embedding\n",
    "        metadatas=[{\"id\": i, \"source\": random.choice([\"wiki\", \"google\", \"quora\"])}]  # Optional metadata\n",
    "    )\n",
    "\n",
    "print(\"Embeddings and sentences have been successfully stored in ChromaDB.\")"
   ]
  },
  {
   "cell_type": "code",
   "execution_count": null,
   "metadata": {},
   "outputs": [],
   "source": []
  }
 ],
 "metadata": {
  "kernelspec": {
   "display_name": "Python 3 (ipykernel)",
   "language": "python",
   "name": "python3"
  },
  "language_info": {
   "codemirror_mode": {
    "name": "ipython",
    "version": 3
   },
   "file_extension": ".py",
   "mimetype": "text/x-python",
   "name": "python",
   "nbconvert_exporter": "python",
   "pygments_lexer": "ipython3",
   "version": "3.10.16"
  }
 },
 "nbformat": 4,
 "nbformat_minor": 2
}
