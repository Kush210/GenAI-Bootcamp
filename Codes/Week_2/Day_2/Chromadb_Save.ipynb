{
 "cells": [
  {
   "cell_type": "code",
   "execution_count": 1,
   "metadata": {},
   "outputs": [],
   "source": [
    "import chromadb\n",
    "from chromadb.config import Settings\n",
    "from langchain_huggingface import HuggingFaceEmbeddings\n",
    "import random"
   ]
  },
  {
   "cell_type": "code",
   "execution_count": 2,
   "metadata": {},
   "outputs": [
    {
     "data": {
      "text/plain": [
       "True"
      ]
     },
     "execution_count": 2,
     "metadata": {},
     "output_type": "execute_result"
    }
   ],
   "source": [
    "# Create a new client for chromaDB\n",
    "client = chromadb.PersistentClient(path='./chromaDB',settings=Settings(allow_reset=True))\n",
    "client.reset()"
   ]
  },
  {
   "cell_type": "code",
   "execution_count": 3,
   "metadata": {},
   "outputs": [],
   "source": [
    "embeddings = HuggingFaceEmbeddings(model_name=\"BAAI/bge-large-en\",encode_kwargs={'normalize_embeddings':True})"
   ]
  },
  {
   "cell_type": "code",
   "execution_count": 4,
   "metadata": {},
   "outputs": [],
   "source": [
    "# Create a collection in ChromaDB\n",
    "collection = client.create_collection(name=\"sentence_embeddings\")"
   ]
  },
  {
   "cell_type": "code",
   "execution_count": 5,
   "metadata": {},
   "outputs": [],
   "source": [
    "\n",
    "# List of sentences to add to ChromaDB\n",
    "sentences = [\n",
    "    \"The quick brown fox jumps over the lazy dog.\",\n",
    "    \"Artificial intelligence is transforming the world.\",\n",
    "    \"The sky is clear and the sun is shining.\",\n",
    "    \"Machine learning models require a lot of data.\",\n",
    "    \"Natural language processing is a fascinating field.\",\n",
    "    \"There is a bear in the town square.\"\n",
    "]"
   ]
  },
  {
   "cell_type": "code",
   "execution_count": 6,
   "metadata": {},
   "outputs": [
    {
     "name": "stdout",
     "output_type": "stream",
     "text": [
      "Embeddings and sentences have been successfully stored in ChromaDB.\n"
     ]
    }
   ],
   "source": [
    "# Convert the sentences to embeddings using HuggingFaceEmbeddings\n",
    "embeddings_list = embeddings.embed_documents(sentences)\n",
    "\n",
    "# Add the sentences and embeddings to Chroma collection\n",
    "for i, sentence in enumerate(sentences):\n",
    "    collection.add(\n",
    "        ids=[str(i)],  # Unique ID for each sentence\n",
    "        documents=[sentence],  # The text data (document)\n",
    "        embeddings=[embeddings_list[i]],  # The corresponding embedding\n",
    "        metadatas=[{\"id\": i, \"source\": random.choice([\"wiki\", \"google\", \"quora\"])}]  # Optional metadata\n",
    "    )\n",
    "\n",
    "print(\"Embeddings and sentences have been successfully stored in ChromaDB.\")"
   ]
  },
  {
   "cell_type": "code",
   "execution_count": null,
   "metadata": {},
   "outputs": [],
   "source": []
  }
 ],
 "metadata": {
  "kernelspec": {
   "display_name": "Python 3 (ipykernel)",
   "language": "python",
   "name": "python3"
  },
  "language_info": {
   "codemirror_mode": {
    "name": "ipython",
    "version": 3
   },
   "file_extension": ".py",
   "mimetype": "text/x-python",
   "name": "python",
   "nbconvert_exporter": "python",
   "pygments_lexer": "ipython3",
   "version": "3.10.16"
  }
 },
 "nbformat": 4,
 "nbformat_minor": 2
}
