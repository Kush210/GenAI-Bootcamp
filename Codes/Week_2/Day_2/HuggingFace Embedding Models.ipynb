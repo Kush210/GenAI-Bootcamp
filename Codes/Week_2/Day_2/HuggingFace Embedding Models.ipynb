{
  "cells": [
    {
      "cell_type": "markdown",
      "metadata": {
        "id": "opwZgQ3OiBeX"
      },
      "source": [
        "BGE model is created by the Beijing Academy of Artificial Intelligence (BAAI).\n",
        "BGE (BAAI General Embedding) focuses on retrieval-augmented LLMs. Its\n",
        "FlagEmbedding can map any text to a low-dimensional dense vector which can be used for tasks like retrieval, classification, clustering, or semantic search. And it also can be used in vector databases for LLMs.\n",
        "\n",
        "Refrences:\n",
        "1. https://github.com/FlagOpen/FlagEmbedding\n",
        "2. https://huggingface.co/BAAI/bge-large-en\n",
        "\n",
        "`pip install -U FlagEmbedding`"
      ]
    },
    {
      "cell_type": "code",
      "execution_count": 1,
      "metadata": {
        "id": "kI0o44a9kMj3"
      },
      "outputs": [],
      "source": [
        "from langchain_huggingface import HuggingFaceEmbeddings\n",
        "from sklearn.metrics.pairwise import cosine_similarity\n",
        "from scipy.spatial.distance import cdist"
      ]
    },
    {
      "cell_type": "code",
      "execution_count": 7,
      "metadata": {
        "id": "eesMNlSSkMbw"
      },
      "outputs": [],
      "source": [
        "embeddings = HuggingFaceEmbeddings(model_name=\"BAAI/bge-large-en\",encode_kwargs={'normalize_embeddings':True})"
      ]
    },
    {
      "cell_type": "code",
      "execution_count": 8,
      "metadata": {
        "id": "2BKi3ae9kcDf"
      },
      "outputs": [],
      "source": [
        "sentences_1 = \"Gujarat, located on the western coast of India, is rich in ancient history. Its settlements date back to the Indus Valley Civilization, with cities like Dholavira showing advanced urban planning. Over 4,000 years ago, it became a center of maritime trade. Gujarat played a crucial role in the spread of culture across the Arabian Sea, with links to Mesopotamia, the Persian Gulf, and even Africa.\"\n",
        "sentences_2 = \"The history of human settlement in Rajasthan goes back more than 100,000 years, with the Indus Valley Civilization marking one of the earliest urban settlements. Sites like Kalibangan show evidence of fire altars, and Rajasthan's strategic location made it a hub for trade. The region's culture and history have been shaped by its rich archaeological past, which continues to be explored.\"\n",
        "sentences_3 = \"Uttar Pradesh, a state in northern India, has a diverse economy dominated by agriculture, services, and manufacturing. The state is a significant contributor to India’s agriculture sector, producing crops like wheat, rice, and sugarcane. In recent years, the economy has shifted toward industrial growth, including sectors like textiles, electronics, and infrastructure development. The state is also a key player in India’s political landscape.\""
      ]
    },
    {
      "cell_type": "code",
      "execution_count": 15,
      "metadata": {
        "colab": {
          "base_uri": "https://localhost:8080/"
        },
        "id": "Bfajv07bk7WB",
        "outputId": "f17bbfe4-6f22-43b4-a7af-8d9e090e94ed"
      },
      "outputs": [],
      "source": [
        "# Generate embeddings for the three paragraphs\n",
        "import numpy as np\n",
        "embeddings_1 = np.array(embeddings.embed_query(sentences_1))\n",
        "embeddings_2 = np.array(embeddings.embed_query(sentences_2))\n",
        "embeddings_3 = np.array(embeddings.embed_query(sentences_3))"
      ]
    },
    {
      "cell_type": "code",
      "execution_count": 16,
      "metadata": {},
      "outputs": [
        {
          "name": "stdout",
          "output_type": "stream",
          "text": [
            "[ 0.03032507  0.02998742 -0.01682428 ... -0.0135049  -0.01568999\n",
            "  0.00547421]\n",
            "[ 0.01226222  0.02909873 -0.0154123  ... -0.01017884 -0.00809293\n",
            "  0.00015997]\n"
          ]
        }
      ],
      "source": [
        "print(embeddings_1)\n",
        "print(embeddings_2)"
      ]
    },
    {
      "cell_type": "code",
      "execution_count": 18,
      "metadata": {},
      "outputs": [
        {
          "name": "stdout",
          "output_type": "stream",
          "text": [
            "[[ 1.  1. -1. ... -1. -1.  1.]\n",
            " [ 1.  1. -1. ... -1. -1.  1.]\n",
            " [-1. -1.  1. ...  1.  1. -1.]\n",
            " ...\n",
            " [-1. -1.  1. ...  1.  1. -1.]\n",
            " [-1. -1.  1. ...  1.  1. -1.]\n",
            " [ 1.  1. -1. ... -1. -1.  1.]]\n"
          ]
        }
      ],
      "source": [
        "#calclate cosine silimarity\n",
        "similarity = cosine_similarity(embeddings_1.reshape(-1, 1), embeddings_2.reshape(-1, 1))\n",
        "print(similarity)"
      ]
    },
    {
      "cell_type": "code",
      "execution_count": 19,
      "metadata": {
        "id": "nRsKZcEek_pR"
      },
      "outputs": [],
      "source": [
        "# Compute cosine similarity between sentences\n",
        "# The cosine_similarity function expects its inputs to be in a specific format: 2D arrays with shape (n_samples, n_features) we need to reshape it\n",
        "cosine_sim_1_2 = cosine_similarity(embeddings_1.reshape(1, -1), embeddings_2.reshape(1, -1))\n",
        "cosine_sim_1_3 = cosine_similarity(embeddings_1.reshape(1, -1), embeddings_3.reshape(1, -1))\n",
        "cosine_sim_2_3 = cosine_similarity(embeddings_2.reshape(1, -1), embeddings_3.reshape(1, -1))"
      ]
    },
    {
      "cell_type": "code",
      "execution_count": 20,
      "metadata": {
        "colab": {
          "base_uri": "https://localhost:8080/"
        },
        "id": "4peb8xbBeGKo",
        "outputId": "0bca19c3-3e99-436c-f03e-9d22c4e30914"
      },
      "outputs": [
        {
          "name": "stdout",
          "output_type": "stream",
          "text": [
            "Cosine Similarity between Paragraph 1 and 2: [[0.88005115]]\n",
            "Cosine Similarity between Paragraph 1 and 3: [[0.77623076]]\n",
            "Cosine Similarity between Paragraph 2 and 3: [[0.7639011]]\n"
          ]
        }
      ],
      "source": [
        "print(\"Cosine Similarity between Paragraph 1 and 2:\", cosine_sim_1_2)\n",
        "print(\"Cosine Similarity between Paragraph 1 and 3:\", cosine_sim_1_3)\n",
        "print(\"Cosine Similarity between Paragraph 2 and 3:\", cosine_sim_2_3)"
      ]
    },
    {
      "cell_type": "code",
      "execution_count": 21,
      "metadata": {
        "id": "xDcwcpv6nlN-"
      },
      "outputs": [],
      "source": [
        "# Compute Euclidean distance between sentences\n",
        "#  the cdist function from scipy.spatial.distance expects 2D arrays with shape (n_samples, n_features) as inputs.\n",
        "euclidean_dist_1_2 = cdist(embeddings_1.reshape(1, -1), embeddings_2.reshape(1, -1), metric='euclidean')\n",
        "euclidean_dist_1_3 = cdist(embeddings_1.reshape(1, -1), embeddings_3.reshape(1, -1), metric='euclidean')\n",
        "euclidean_dist_2_3 = cdist(embeddings_2.reshape(1, -1), embeddings_3.reshape(1, -1), metric='euclidean')"
      ]
    },
    {
      "cell_type": "code",
      "execution_count": 22,
      "metadata": {
        "colab": {
          "base_uri": "https://localhost:8080/"
        },
        "id": "bFypuBv6lEV6",
        "outputId": "aefea421-c740-4635-c9d4-182cd42c19d8"
      },
      "outputs": [
        {
          "name": "stdout",
          "output_type": "stream",
          "text": [
            "Euclidean Distance between Paragraph 1 and 2: [[0.48979355]]\n",
            "Euclidean Distance between Paragraph 1 and 3: [[0.66898318]]\n",
            "Euclidean Distance between Paragraph 2 and 3: [[0.68716654]]\n"
          ]
        }
      ],
      "source": [
        "print(\"Euclidean Distance between Paragraph 1 and 2:\", euclidean_dist_1_2)\n",
        "print(\"Euclidean Distance between Paragraph 1 and 3:\", euclidean_dist_1_3)\n",
        "print(\"Euclidean Distance between Paragraph 2 and 3:\", euclidean_dist_2_3)"
      ]
    },
    {
      "cell_type": "code",
      "execution_count": null,
      "metadata": {},
      "outputs": [],
      "source": []
    }
  ],
  "metadata": {
    "colab": {
      "provenance": []
    },
    "kernelspec": {
      "display_name": "Python 3 (ipykernel)",
      "language": "python",
      "name": "python3"
    },
    "language_info": {
      "codemirror_mode": {
        "name": "ipython",
        "version": 3
      },
      "file_extension": ".py",
      "mimetype": "text/x-python",
      "name": "python",
      "nbconvert_exporter": "python",
      "pygments_lexer": "ipython3",
      "version": "3.10.16"
    }
  },
  "nbformat": 4,
  "nbformat_minor": 0
}
