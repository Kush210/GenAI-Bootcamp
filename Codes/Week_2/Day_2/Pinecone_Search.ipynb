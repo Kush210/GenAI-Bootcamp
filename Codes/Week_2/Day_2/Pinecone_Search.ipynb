{
 "cells": [
  {
   "cell_type": "code",
   "execution_count": 18,
   "metadata": {},
   "outputs": [],
   "source": [
    "from pinecone import Pinecone\n",
    "from langchain_huggingface import HuggingFaceEmbeddings\n",
    "from dotenv import load_dotenv\n",
    "import os"
   ]
  },
  {
   "cell_type": "code",
   "execution_count": 19,
   "metadata": {},
   "outputs": [],
   "source": [
    "\n",
    "# Load environment variables from the .env file\n",
    "load_dotenv()\n",
    "\n",
    "# Retrieve the API key from the environment\n",
    "pc_api_key = os.getenv(\"PINECONE_KEY\")\n",
    "\n",
    "# Initialize client\n",
    "pc = Pinecone(api_key=pc_api_key)"
   ]
  },
  {
   "cell_type": "code",
   "execution_count": 20,
   "metadata": {},
   "outputs": [],
   "source": [
    "\n",
    "# Define the index name\n",
    "index_name = \"genai-serverless\"\n",
    "\n",
    "# Get the host of the index\n",
    "host = pc.describe_index(index_name)['host']\n",
    "index = pc.Index(index_name, host=host)"
   ]
  },
  {
   "cell_type": "code",
   "execution_count": 21,
   "metadata": {},
   "outputs": [],
   "source": [
    "# Initialize the HuggingFaceEmbeddings model\n",
    "embeddings = HuggingFaceEmbeddings(model_name=\"BAAI/bge-large-en\", encode_kwargs={'normalize_embeddings': True})"
   ]
  },
  {
   "cell_type": "code",
   "execution_count": 14,
   "metadata": {},
   "outputs": [],
   "source": [
    "# Function to get sentence embeddings\n",
    "def get_sentence_embeddings(sentences):\n",
    "    inputs = embeddings.embed_documents(sentences)\n",
    "    return inputs\n",
    "\n",
    "# Function to perform a search query\n",
    "def search_query(query, top_k=3):\n",
    "    query_embedding = get_sentence_embeddings([query])[0]\n",
    "    results = index.query(vector=[query_embedding],\n",
    "                          top_k=top_k,\n",
    "                          include_metadata=True)\n",
    "    return results"
   ]
  },
  {
   "cell_type": "code",
   "execution_count": 27,
   "metadata": {},
   "outputs": [],
   "source": [
    "\n",
    "# User input for the search query\n",
    "user_query = input(\"Enter your search query: \")\n",
    "\n",
    "# Perform the search\n",
    "search_results = search_query(user_query)"
   ]
  },
  {
   "cell_type": "code",
   "execution_count": 28,
   "metadata": {},
   "outputs": [
    {
     "name": "stdout",
     "output_type": "stream",
     "text": [
      "{'matches': [{'id': '2',\n",
      "              'metadata': {'page_number': 3.0,\n",
      "                           'sentence': 'The sky is clear and the sun is '\n",
      "                                       'shining.'},\n",
      "              'score': 0.887913585,\n",
      "              'values': []},\n",
      "             {'id': '5',\n",
      "              'metadata': {'page_number': 6.0,\n",
      "                           'sentence': 'There is a bear in the town square.'},\n",
      "              'score': 0.757892907,\n",
      "              'values': []},\n",
      "             {'id': '3',\n",
      "              'metadata': {'page_number': 4.0,\n",
      "                           'sentence': 'Machine learning models require a lot '\n",
      "                                       'of data.'},\n",
      "              'score': 0.748565257,\n",
      "              'values': []}],\n",
      " 'namespace': '',\n",
      " 'usage': {'read_units': 6}}\n"
     ]
    }
   ],
   "source": [
    "print(search_results)"
   ]
  },
  {
   "cell_type": "code",
   "execution_count": 29,
   "metadata": {},
   "outputs": [
    {
     "name": "stdout",
     "output_type": "stream",
     "text": [
      "\n",
      "Search Results:\n",
      "Score: 0.887913585\n",
      "Sentence: The sky is clear and the sun is shining.\n",
      "Page Number: 3.0\n",
      "\n",
      "Score: 0.757892907\n",
      "Sentence: There is a bear in the town square.\n",
      "Page Number: 6.0\n",
      "\n",
      "Score: 0.748565257\n",
      "Sentence: Machine learning models require a lot of data.\n",
      "Page Number: 4.0\n",
      "\n"
     ]
    }
   ],
   "source": [
    "# Display the search results\n",
    "print(\"\\nSearch Results:\")\n",
    "for match in search_results['matches']:\n",
    "    print(f\"Score: {match['score']}\")\n",
    "    print(f\"Sentence: {match['metadata']['sentence']}\")\n",
    "    print(f\"Page Number: {match['metadata']['page_number']}\")\n",
    "    print()"
   ]
  },
  {
   "cell_type": "code",
   "execution_count": null,
   "metadata": {},
   "outputs": [],
   "source": []
  }
 ],
 "metadata": {
  "kernelspec": {
   "display_name": "Python 3 (ipykernel)",
   "language": "python",
   "name": "python3"
  },
  "language_info": {
   "codemirror_mode": {
    "name": "ipython",
    "version": 3
   },
   "file_extension": ".py",
   "mimetype": "text/x-python",
   "name": "python",
   "nbconvert_exporter": "python",
   "pygments_lexer": "ipython3",
   "version": "3.10.16"
  }
 },
 "nbformat": 4,
 "nbformat_minor": 2
}
