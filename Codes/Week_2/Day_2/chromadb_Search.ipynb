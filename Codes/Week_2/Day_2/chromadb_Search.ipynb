{
 "cells": [
  {
   "cell_type": "code",
   "execution_count": 11,
   "metadata": {},
   "outputs": [],
   "source": [
    "from langchain_huggingface import HuggingFaceEmbeddings\n",
    "import chromadb\n",
    "from chromadb.config import Settings\n",
    "\n",
    "# Initialize Chroma client to load the data from the disk\n",
    "client = chromadb.PersistentClient(path='./chromaDB', settings=Settings(allow_reset=False))\n",
    "\n",
    "# Load the collection from ChromaDB (ensure the collection name is the same as when it was created)\n",
    "collection = client.get_collection(\"sentence_embeddings\")\n",
    "\n",
    "# Initialize the embedding model\n",
    "embeddings = HuggingFaceEmbeddings(model_name=\"BAAI/bge-large-en\", encode_kwargs={'normalize_embeddings': True})\n"
   ]
  },
  {
   "cell_type": "code",
   "execution_count": 2,
   "metadata": {},
   "outputs": [
    {
     "name": "stdout",
     "output_type": "stream",
     "text": [
      "Query: Where does bear live?\n",
      "\n",
      "Top 3 most similar sentences:\n",
      "Document: There is a bear in the town square.\n",
      "Metadata: {'id': 5, 'source': 'quora'}\n",
      "Document: The sky is clear and the sun is shining.\n",
      "Metadata: {'id': 2, 'source': 'wiki'}\n",
      "Document: Artificial intelligence is transforming the world.\n",
      "Metadata: {'id': 1, 'source': 'quora'}\n"
     ]
    }
   ],
   "source": [
    "# Example query for semantic search\n",
    "query = \"Where does bear live?\"\n",
    "\n",
    "# Step 1: Convert the query into an embedding\n",
    "query_embedding = embeddings.embed_query(query)\n",
    "\n",
    "# Step 2: Perform the semantic search over the Chroma collection\n",
    "results = collection.query(\n",
    "    query_embeddings=[query_embedding],  # Query embeddings to search for\n",
    "    n_results=3  # Number of most similar sentences to return\n",
    ")\n",
    "\n",
    "# Step 3: Display the results\n",
    "print(\"Query:\", query)\n",
    "print(\"\\nTop 3 most similar sentences:\")\n",
    "for doc, meta in zip(results[\"documents\"][0], results[\"metadatas\"][0]):\n",
    "    print(f\"Document: {doc}\")\n",
    "    print(f\"Metadata: {meta}\")"
   ]
  },
  {
   "cell_type": "code",
   "execution_count": null,
   "metadata": {},
   "outputs": [],
   "source": []
  }
 ],
 "metadata": {
  "kernelspec": {
   "display_name": "Python 3 (ipykernel)",
   "language": "python",
   "name": "python3"
  }
 },
 "nbformat": 4,
 "nbformat_minor": 2
}
