{
 "cells": [
  {
   "cell_type": "code",
   "execution_count": 2,
   "metadata": {},
   "outputs": [],
   "source": [
    "from dotenv import load_dotenv\n",
    "import os\n",
    "\n",
    "# Load environment variables from .env file\n",
    "load_dotenv()\n",
    "\n",
    "# Get the HUGGINGFACE_TOKEN\n",
    "huggingface_token = os.getenv('HUGGINGFACE_TOKEN')\n",
    "openai_key = os.getenv('OPENAI_KEY')"
   ]
  },
  {
   "cell_type": "code",
   "execution_count": 3,
   "metadata": {},
   "outputs": [
    {
     "name": "stderr",
     "output_type": "stream",
     "text": [
      "/var/folders/c3/wt1h7fz910v7vxy5x88m2h_r0000gn/T/ipykernel_10497/1650357747.py:2: LangChainDeprecationWarning: The class `HuggingFaceEmbeddings` was deprecated in LangChain 0.2.2 and will be removed in 1.0. An updated version of the class exists in the :class:`~langchain-huggingface package and should be used instead. To use it run `pip install -U :class:`~langchain-huggingface` and import as `from :class:`~langchain_huggingface import HuggingFaceEmbeddings``.\n",
      "  embeddings = HuggingFaceEmbeddings(model_name=\"BAAI/bge-large-en\", encode_kwargs={'normalize_embeddings': True})\n"
     ]
    }
   ],
   "source": [
    "from langchain.embeddings import HuggingFaceEmbeddings\n",
    "embeddings = HuggingFaceEmbeddings(model_name=\"BAAI/bge-large-en\", encode_kwargs={'normalize_embeddings': True})"
   ]
  },
  {
   "cell_type": "code",
   "execution_count": 5,
   "metadata": {},
   "outputs": [
    {
     "name": "stdout",
     "output_type": "stream",
     "text": [
      "DatasetDict({\n",
      "    train: Dataset({\n",
      "        features: ['url', 'text'],\n",
      "        num_rows: 179829\n",
      "    })\n",
      "})\n"
     ]
    }
   ],
   "source": [
    "from datasets import load_dataset\n",
    "\n",
    "# Load the dataset from Hugging Face\n",
    "bbc_news_collection = load_dataset('permutans/fineweb-bbc-news', 'CC-MAIN-2013-20')\n",
    "\n",
    "# Print the dataset to verify\n",
    "print(bbc_news_collection)"
   ]
  },
  {
   "cell_type": "code",
   "execution_count": 9,
   "metadata": {},
   "outputs": [
    {
     "name": "stdout",
     "output_type": "stream",
     "text": [
      "{'train': 179829}\n"
     ]
    }
   ],
   "source": [
    "import os\n",
    "\n",
    "# Create the directory if it doesn't exist\n",
    "output_dir = './Week_2/Day_3/BBC_News_Files'\n",
    "os.makedirs(output_dir, exist_ok=True)\n",
    "\n",
    "#get number of entries in bbc_news_collection\n",
    "num_entries = bbc_news_collection.num_rows\n",
    "print(num_entries)"
   ]
  },
  {
   "cell_type": "code",
   "execution_count": 10,
   "metadata": {},
   "outputs": [
    {
     "name": "stderr",
     "output_type": "stream",
     "text": [
      "100it [00:48,  2.05it/s]"
     ]
    },
    {
     "name": "stdout",
     "output_type": "stream",
     "text": [
      "Saved 100 random news items to ./Week_2/Day_3/BBC_News_Files\n"
     ]
    },
    {
     "name": "stderr",
     "output_type": "stream",
     "text": [
      "\n"
     ]
    }
   ],
   "source": [
    "import random\n",
    "import json\n",
    "from tqdm import tqdm\n",
    "\n",
    "# Select 100 random indices\n",
    "random_indices = random.sample(range(num_entries['train']), 100)\n",
    "\n",
    "# Extract the news items\n",
    "random_news_items = [bbc_news_collection['train'][i] for i in random_indices]\n",
    "\n",
    "# Save each news item as a separate JSON file\n",
    "for idx, news_item in tqdm(enumerate(random_news_items)):\n",
    "    #create an embedding for news_item.text\n",
    "    #add that as BAAI embedding to the news_item\n",
    "    news_item['baai_embedding'] = embeddings.embed_query(news_item['text'])\n",
    "    file_path = os.path.join(output_dir, f'news_item_{idx + 1}.json')\n",
    "    with open(file_path, 'w') as f:\n",
    "        json.dump(news_item, f)\n",
    "\n",
    "print(f'Saved 100 random news items to {output_dir}')"
   ]
  },
  {
   "cell_type": "code",
   "execution_count": 11,
   "metadata": {},
   "outputs": [
    {
     "name": "stdout",
     "output_type": "stream",
     "text": [
      "Collection(name=bbc_news)\n"
     ]
    }
   ],
   "source": [
    "from chromadb import PersistentClient\n",
    "from chromadb.config import Settings\n",
    "\n",
    "# Create a new client for chromaDB\n",
    "client = PersistentClient(path='./chromaDB',settings=Settings(allow_reset=True))\n",
    "client.reset()\n",
    "\n",
    "# Create a new collection called 'bbc_news'\n",
    "bbc_news_collection = client.create_collection(name=\"bbc_news\")\n",
    "\n",
    "# Print the collection to verify\n",
    "print(bbc_news_collection)"
   ]
  },
  {
   "cell_type": "code",
   "execution_count": 12,
   "metadata": {},
   "outputs": [
    {
     "name": "stdout",
     "output_type": "stream",
     "text": [
      "Saved 100 random news items to the ChromaDB collection with metadata.\n"
     ]
    }
   ],
   "source": [
    "# Iterate over the random news items and add them to the ChromaDB collection\n",
    "for idx, news_item in enumerate(random_news_items):\n",
    "    file_path = os.path.join(output_dir, f'news_item_{idx + 1}.json')\n",
    "    metadata = {\n",
    "        'json_file_path': file_path,\n",
    "        'url': news_item['url']\n",
    "    }\n",
    "    bbc_news_collection.add(\n",
    "        ids=f'news_item_{idx + 1}',\n",
    "        documents=[news_item['text']],\n",
    "        embeddings=[news_item['baai_embedding']],\n",
    "        metadatas=[metadata]\n",
    "    )\n",
    "\n",
    "print(f'Saved 100 random news items to the ChromaDB collection with metadata.')"
   ]
  },
  {
   "cell_type": "code",
   "execution_count": 13,
   "metadata": {},
   "outputs": [
    {
     "name": "stdout",
     "output_type": "stream",
     "text": [
      "{'ids': [['news_item_27', 'news_item_16', 'news_item_36']], 'embeddings': None, 'documents': [['Turnout during the Irish vote was being watched intently across Europe\\nPeople in the Republic of Ireland have voted in a referendum on whether to ratify the EU reform treaty.\\nThe BBC\\'s Jonny Dymond in Dublin says all eyes are on the turnout, as a low figure would suggest a rejection which could plunge the EU into crisis.\\nSome reports suggest Thursday\\'s voter turnout was about 40%. Results are expected later on Friday.\\nAll 27 member states have to ratify the treaty for it to take effect, but only Ireland has held a public vote on it.\\nThe treaty is aimed at streamlining decision-making in the EU to cope with its expansion into Eastern Europe and would reduce countries\\' veto powers.\\nThe Lisbon Treaty replaces a more ambitious draft constitution that was rejected by French and Dutch voters in 2005.\\nOpinion polls suggesting the referendum\\'s result is too close to call, despite a high-profile \"Yes\" campaign led by Prime Minister Brian Cowen which had the support of most of the country\\'s main parties.\\nMark Mardell on what would sway the vote\\nAny turnout higher than 40% will bring a smile to the Yes campaign, our correspondent says.\\nThe treaty provides for a streamlining of the European Commission, the removal of the national veto in more policy areas, a new president of the European Council and a strengthened foreign affairs post. Fourteen countries have completed ratification so far.\\nIrish polls closed at 2200 (2100 GMT) and counting starts on Friday morning, with the result expected soon after 1530 (1430 GMT).\\nRTE reported turnout was \"brisk\" in Kilkenny and Wicklow, but in many other areas, including Cork, Meath and Louth, it was slow.\\nVoting No because you don\\'t know... is an idea that seems a long way from the dispassionate debates in Brussels\\nThis page is best viewed in an up-to-date web browser with style sheets (CSS) enabled. While you will be able to view the content of this page in your current browser, you will not be able to get the full visual experience. Please consider upgrading your browser software or enabling style sheets (CSS) if you are able to do so.', 'BBC Iranian affairs analyst Sadeq Saba looks at the key questions in the wake of the country\\'s bitterly contested presidential election result.\\nHow did this crisis begin?\\nAuthorities have made it hard to organise protests\\nStreet protests, which have drawn the largest crowds since the Iranian Revolution in 1979, followed the announcement of the 12 June presidential election result.\\nThe result, after a strong turnout and a campaign that seemed to energise many young voters, was expected to be much closer, and the poll was perhaps expected to go to a second round.\\nAccording to the official result Mahmoud Ahmadinejad received 62.6% of the vote, Mir Hossein Mousavi 33.8%, Mohsen Rezai 1.7% and Mehdi Karroubi 0.9%. Turnout was 85% with just under 40 million Iranians voting.\\nMillions of Iranian simply did not believe the result. The main demand of the protesters has been an annulment of the result and an election re-run.\\nIran\\'s Spiritual Leader Ayatollah Ali Khamenei has since insisted there was no election fraud and has demanded an end to the protests.\\nWhat next for the protesters?\\nWe are seeing fewer protesters on the streets and the rallies appear to be smaller and more spontaneous. After the recent killings, people are frightened and families are not allowing their young people to attend.\\nMir Hossein Mousavi, runner-up in the presidential election, and others are saying that people should be allowed to demonstrate peacefully. But there is no clear leadership to the protest now.\\nThe authorities have made it very hard to organise protests - they have arrested hundreds of people and restricted their ability to communicate. The authorities appear to be taking tighter and tighter control of the situation.\\nThis said, the next key moment or choice for the protesters comes later this week.\\nAyatollah Montazeri, a widely respected senior cleric who is often a critic of the government, is calling for three days of mourning for those killed in recent protests. The days of mourning are set for Wednesday, Thursday and Friday.\\nPolitical protests associated with mourning have a strong tradition for Shia Muslims. If large numbers of people come out on these days, much could change.\\nWhat is going on behind the scenes?\\nFormer President Mohammed Khatami has been unusually outspoken - continuing to question the election result and calling on the authorities to release those arrested recently.\\nOn the other side, a powerful conservative, speaker of the parliament Ali Larijani, has made some comments that I see as conciliatory.\\nHe said on one of the state channels that the number of people questioning the election result was large.\\n\"This group should be respected and one should not mix this big population\\'s account with a small group of rioters,\" Mr Larijani said.\\nAlso, the arrest of members of the family of Akbar Hashemi Rafsanjani - a former president, a powerful opponent of President Mahmoud Ahmadinejad and key backer of Mr Mousavi\\'s bid for the presidency - was a strong signal that even the most established figures are not invulnerable.\\nWhat is the evidence that the election was rigged?\\nThe way the result was announced was very unusual. It came out in blocks of millions of votes, in percentages, rather than being announced province-by-province as in past elections.\\nAnd as the blocks of votes came in, the percentages for each candidate changed very, very little. That suggested that Mr Ahmadinejad did equally well in rural and urban areas.\\nConversely, it suggested that the other three losing candidates did equally badly in their home regions and provinces.\\nThis overturns all precedents in Iranian politics and there has been no explanation, despite repeated questions, from the authorities.\\nIt is all very suspicious. But it does not necessarily mean there has been widespread electoral fraud.\\nFor example, a group of international pollsters did an independent telephone survey three weeks ago which suggested a two-to-one level of popular support for Mr Ahmadinejad over Mr Mousavi, with the other candidates on less than 2% each.', 'Irish Republic pardons wartime deserters\\nThe Irish government is to pardon more than 4,500 former soldiers who deserted the Defence Forces during World War II to fight with the Allied Forces.\\nIrish Defence Minister Alan Shatter said the government apologised for the manner in which the deserters were treated by the state after the war.\\nMr Shatter said the government recognised the importance of their contribution to the Allied victory.\\nHe said the war gave rise to grave and exceptional circumstances.\\nMr Shatter said the government would introduce legislation \"to grant a pardon and amnesty to those who absented themselves from the Defence Forces without leave or permission to fight on the Allied side\".\\nIn his statement to Dail Eireann, he said that in August 1945, the government of the day summarily dismissed soldiers who had absented themselves during the war and disqualified them for seven years from holding employment or office remunerated from the state\\'s central fund.\\nIndividuals were not given a chance to explain their absence.\\'Grave and exceptional circumstances\\'\\nNo distinction was made between those who fought on the Allied side for freedom and democracy and those who absented themselves for other reasons.\\n\"In addressing the question of desertion during World War II, the government acknowledges that the war gave rise to circumstances that were grave and exceptional,\" Mr Shatter said.\\n\"Members of the Defence Forces left their posts at that time to fight on the Allied side against tyranny and, together with many thousands of other Irish men and women, played an important role in defending freedom and democracy.\\n\"On behalf of the state, the government apologises for the manner in which those members of the Defence Forces... were treated after the war by the state.\"\\nDuring World War II the Irish Defence Forces had approximately 42,000 serving personnel.\\nOver the course of the war, it was estimated that more than 7,000 members deserted.\\nOf these, about 2,500 personnel returned to their units or were apprehended and were tried by military tribunal.\\nMore than 4,500 deserters were the subject of dismissal under the Emergency Powers (No. 362) Order, 1945.']], 'uris': None, 'data': None, 'metadatas': [[{'json_file_path': './Week_2/Day_3/BBC_News_Files/news_item_27.json', 'url': 'http://news.bbc.co.uk/2/hi/europe/7449313.stm'}, {'json_file_path': './Week_2/Day_3/BBC_News_Files/news_item_16.json', 'url': 'http://news.bbc.co.uk/2/hi/middle_east/8101621.stm'}, {'json_file_path': './Week_2/Day_3/BBC_News_Files/news_item_36.json', 'url': 'http://www.bbc.co.uk/news/uk-northern-ireland-18414191'}]], 'distances': [[0.3324190080165863, 0.466586172580719, 0.48859333992004395]], 'included': [<IncludeEnum.distances: 'distances'>, <IncludeEnum.documents: 'documents'>, <IncludeEnum.metadatas: 'metadatas'>]}\n",
      "Top matches:\n",
      "Match 1: Turnout during the Irish vote was being watched intently across Europe\n",
      "People in the Republic of Ireland have voted in a referendum on whether to ratify the EU reform treaty.\n",
      "The BBC's Jonny Dymond in Dublin says all eyes are on the turnout, as a low figure would suggest a rejection which could plunge the EU into crisis.\n",
      "Some reports suggest Thursday's voter turnout was about 40%. Results are expected later on Friday.\n",
      "All 27 member states have to ratify the treaty for it to take effect, but only Ireland has held a public vote on it.\n",
      "The treaty is aimed at streamlining decision-making in the EU to cope with its expansion into Eastern Europe and would reduce countries' veto powers.\n",
      "The Lisbon Treaty replaces a more ambitious draft constitution that was rejected by French and Dutch voters in 2005.\n",
      "Opinion polls suggesting the referendum's result is too close to call, despite a high-profile \"Yes\" campaign led by Prime Minister Brian Cowen which had the support of most of the country's main parties.\n",
      "Mark Mardell on what would sway the vote\n",
      "Any turnout higher than 40% will bring a smile to the Yes campaign, our correspondent says.\n",
      "The treaty provides for a streamlining of the European Commission, the removal of the national veto in more policy areas, a new president of the European Council and a strengthened foreign affairs post. Fourteen countries have completed ratification so far.\n",
      "Irish polls closed at 2200 (2100 GMT) and counting starts on Friday morning, with the result expected soon after 1530 (1430 GMT).\n",
      "RTE reported turnout was \"brisk\" in Kilkenny and Wicklow, but in many other areas, including Cork, Meath and Louth, it was slow.\n",
      "Voting No because you don't know... is an idea that seems a long way from the dispassionate debates in Brussels\n",
      "This page is best viewed in an up-to-date web browser with style sheets (CSS) enabled. While you will be able to view the content of this page in your current browser, you will not be able to get the full visual experience. Please consider upgrading your browser software or enabling style sheets (CSS) if you are able to do so.\n",
      "URL: http://news.bbc.co.uk/2/hi/europe/7449313.stm\n",
      "\n",
      "\n",
      "Match 2: BBC Iranian affairs analyst Sadeq Saba looks at the key questions in the wake of the country's bitterly contested presidential election result.\n",
      "How did this crisis begin?\n",
      "Authorities have made it hard to organise protests\n",
      "Street protests, which have drawn the largest crowds since the Iranian Revolution in 1979, followed the announcement of the 12 June presidential election result.\n",
      "The result, after a strong turnout and a campaign that seemed to energise many young voters, was expected to be much closer, and the poll was perhaps expected to go to a second round.\n",
      "According to the official result Mahmoud Ahmadinejad received 62.6% of the vote, Mir Hossein Mousavi 33.8%, Mohsen Rezai 1.7% and Mehdi Karroubi 0.9%. Turnout was 85% with just under 40 million Iranians voting.\n",
      "Millions of Iranian simply did not believe the result. The main demand of the protesters has been an annulment of the result and an election re-run.\n",
      "Iran's Spiritual Leader Ayatollah Ali Khamenei has since insisted there was no election fraud and has demanded an end to the protests.\n",
      "What next for the protesters?\n",
      "We are seeing fewer protesters on the streets and the rallies appear to be smaller and more spontaneous. After the recent killings, people are frightened and families are not allowing their young people to attend.\n",
      "Mir Hossein Mousavi, runner-up in the presidential election, and others are saying that people should be allowed to demonstrate peacefully. But there is no clear leadership to the protest now.\n",
      "The authorities have made it very hard to organise protests - they have arrested hundreds of people and restricted their ability to communicate. The authorities appear to be taking tighter and tighter control of the situation.\n",
      "This said, the next key moment or choice for the protesters comes later this week.\n",
      "Ayatollah Montazeri, a widely respected senior cleric who is often a critic of the government, is calling for three days of mourning for those killed in recent protests. The days of mourning are set for Wednesday, Thursday and Friday.\n",
      "Political protests associated with mourning have a strong tradition for Shia Muslims. If large numbers of people come out on these days, much could change.\n",
      "What is going on behind the scenes?\n",
      "Former President Mohammed Khatami has been unusually outspoken - continuing to question the election result and calling on the authorities to release those arrested recently.\n",
      "On the other side, a powerful conservative, speaker of the parliament Ali Larijani, has made some comments that I see as conciliatory.\n",
      "He said on one of the state channels that the number of people questioning the election result was large.\n",
      "\"This group should be respected and one should not mix this big population's account with a small group of rioters,\" Mr Larijani said.\n",
      "Also, the arrest of members of the family of Akbar Hashemi Rafsanjani - a former president, a powerful opponent of President Mahmoud Ahmadinejad and key backer of Mr Mousavi's bid for the presidency - was a strong signal that even the most established figures are not invulnerable.\n",
      "What is the evidence that the election was rigged?\n",
      "The way the result was announced was very unusual. It came out in blocks of millions of votes, in percentages, rather than being announced province-by-province as in past elections.\n",
      "And as the blocks of votes came in, the percentages for each candidate changed very, very little. That suggested that Mr Ahmadinejad did equally well in rural and urban areas.\n",
      "Conversely, it suggested that the other three losing candidates did equally badly in their home regions and provinces.\n",
      "This overturns all precedents in Iranian politics and there has been no explanation, despite repeated questions, from the authorities.\n",
      "It is all very suspicious. But it does not necessarily mean there has been widespread electoral fraud.\n",
      "For example, a group of international pollsters did an independent telephone survey three weeks ago which suggested a two-to-one level of popular support for Mr Ahmadinejad over Mr Mousavi, with the other candidates on less than 2% each.\n",
      "URL: http://news.bbc.co.uk/2/hi/middle_east/8101621.stm\n",
      "\n",
      "\n",
      "Match 3: Irish Republic pardons wartime deserters\n",
      "The Irish government is to pardon more than 4,500 former soldiers who deserted the Defence Forces during World War II to fight with the Allied Forces.\n",
      "Irish Defence Minister Alan Shatter said the government apologised for the manner in which the deserters were treated by the state after the war.\n",
      "Mr Shatter said the government recognised the importance of their contribution to the Allied victory.\n",
      "He said the war gave rise to grave and exceptional circumstances.\n",
      "Mr Shatter said the government would introduce legislation \"to grant a pardon and amnesty to those who absented themselves from the Defence Forces without leave or permission to fight on the Allied side\".\n",
      "In his statement to Dail Eireann, he said that in August 1945, the government of the day summarily dismissed soldiers who had absented themselves during the war and disqualified them for seven years from holding employment or office remunerated from the state's central fund.\n",
      "Individuals were not given a chance to explain their absence.'Grave and exceptional circumstances'\n",
      "No distinction was made between those who fought on the Allied side for freedom and democracy and those who absented themselves for other reasons.\n",
      "\"In addressing the question of desertion during World War II, the government acknowledges that the war gave rise to circumstances that were grave and exceptional,\" Mr Shatter said.\n",
      "\"Members of the Defence Forces left their posts at that time to fight on the Allied side against tyranny and, together with many thousands of other Irish men and women, played an important role in defending freedom and democracy.\n",
      "\"On behalf of the state, the government apologises for the manner in which those members of the Defence Forces... were treated after the war by the state.\"\n",
      "During World War II the Irish Defence Forces had approximately 42,000 serving personnel.\n",
      "Over the course of the war, it was estimated that more than 7,000 members deserted.\n",
      "Of these, about 2,500 personnel returned to their units or were apprehended and were tried by military tribunal.\n",
      "More than 4,500 deserters were the subject of dismissal under the Emergency Powers (No. 362) Order, 1945.\n",
      "URL: http://www.bbc.co.uk/news/uk-northern-ireland-18414191\n",
      "\n",
      "\n"
     ]
    }
   ],
   "source": [
    "# Function to get the top 3 matching documents for a user query\n",
    "def search_query(query):\n",
    "    # Create the embedding for the query\n",
    "    query_embedding = embeddings.embed_query(query)\n",
    "    \n",
    "    # Search through the ChromaDB vector store\n",
    "    results = bbc_news_collection.query(\n",
    "        query_embeddings=[query_embedding],\n",
    "        n_results=3\n",
    "    )\n",
    "    \n",
    "    return results\n",
    "\n",
    "# Example usage\n",
    "user_query = \"How was the voter turnout during the elections in Ireland?\"\n",
    "top_matches = search_query(user_query)\n",
    "\n",
    "print(top_matches)\n",
    "\n",
    "# Print the top matches\n",
    "print(\"Top matches:\")\n",
    "for i, (document, metadata) in enumerate(zip(top_matches['documents'][0], top_matches['metadatas'][0])):\n",
    "    print(f\"Match {i+1}: {document}\")\n",
    "    print(f\"URL: {metadata['url']}\")\n",
    "    print(\"\\n\")"
   ]
  },
  {
   "cell_type": "code",
   "execution_count": 14,
   "metadata": {},
   "outputs": [
    {
     "name": "stdout",
     "output_type": "stream",
     "text": [
      "\n",
      "Turnout during the Irish vote was being watched intently across Europe\n",
      "People in the Republic of Ireland have voted in a referendum on whether to ratify the EU reform treaty.\n",
      "The BBC's Jonny Dymond in Dublin says all eyes are on the turnout, as a low figure would suggest a rejection which could plunge the EU into crisis.\n",
      "Some reports suggest Thursday's voter turnout was about 40%. Results are expected later on Friday.\n",
      "All 27 member states have to ratify the treaty for it to take effect, but only Ireland has held a public vote on it.\n",
      "The treaty is aimed at streamlining decision-making in the EU to cope with its expansion into Eastern Europe and would reduce countries' veto powers.\n",
      "The Lisbon Treaty replaces a more ambitious draft constitution that was rejected by French and Dutch voters in 2005.\n",
      "Opinion polls suggesting the referendum's result is too close to call, despite a high-profile \"Yes\" campaign led by Prime Minister Brian Cowen which had the support of most of the country's main parties.\n",
      "Mark Mardell on what would sway the vote\n",
      "Any turnout higher than 40% will bring a smile to the Yes campaign, our correspondent says.\n",
      "The treaty provides for a streamlining of the European Commission, the removal of the national veto in more policy areas, a new president of the European Council and a strengthened foreign affairs post. Fourteen countries have completed ratification so far.\n",
      "Irish polls closed at 2200 (2100 GMT) and counting starts on Friday morning, with the result expected soon after 1530 (1430 GMT).\n",
      "RTE reported turnout was \"brisk\" in Kilkenny and Wicklow, but in many other areas, including Cork, Meath and Louth, it was slow.\n",
      "Voting No because you don't know... is an idea that seems a long way from the dispassionate debates in Brussels\n",
      "This page is best viewed in an up-to-date web browser with style sheets (CSS) enabled. While you will be able to view the content of this page in your current browser, you will not be able to get the full visual experience. Please consider upgrading your browser software or enabling style sheets (CSS) if you are able to do so.\n",
      "\n",
      "BBC Iranian affairs analyst Sadeq Saba looks at the key questions in the wake of the country's bitterly contested presidential election result.\n",
      "How did this crisis begin?\n",
      "Authorities have made it hard to organise protests\n",
      "Street protests, which have drawn the largest crowds since the Iranian Revolution in 1979, followed the announcement of the 12 June presidential election result.\n",
      "The result, after a strong turnout and a campaign that seemed to energise many young voters, was expected to be much closer, and the poll was perhaps expected to go to a second round.\n",
      "According to the official result Mahmoud Ahmadinejad received 62.6% of the vote, Mir Hossein Mousavi 33.8%, Mohsen Rezai 1.7% and Mehdi Karroubi 0.9%. Turnout was 85% with just under 40 million Iranians voting.\n",
      "Millions of Iranian simply did not believe the result. The main demand of the protesters has been an annulment of the result and an election re-run.\n",
      "Iran's Spiritual Leader Ayatollah Ali Khamenei has since insisted there was no election fraud and has demanded an end to the protests.\n",
      "What next for the protesters?\n",
      "We are seeing fewer protesters on the streets and the rallies appear to be smaller and more spontaneous. After the recent killings, people are frightened and families are not allowing their young people to attend.\n",
      "Mir Hossein Mousavi, runner-up in the presidential election, and others are saying that people should be allowed to demonstrate peacefully. But there is no clear leadership to the protest now.\n",
      "The authorities have made it very hard to organise protests - they have arrested hundreds of people and restricted their ability to communicate. The authorities appear to be taking tighter and tighter control of the situation.\n",
      "This said, the next key moment or choice for the protesters comes later this week.\n",
      "Ayatollah Montazeri, a widely respected senior cleric who is often a critic of the government, is calling for three days of mourning for those killed in recent protests. The days of mourning are set for Wednesday, Thursday and Friday.\n",
      "Political protests associated with mourning have a strong tradition for Shia Muslims. If large numbers of people come out on these days, much could change.\n",
      "What is going on behind the scenes?\n",
      "Former President Mohammed Khatami has been unusually outspoken - continuing to question the election result and calling on the authorities to release those arrested recently.\n",
      "On the other side, a powerful conservative, speaker of the parliament Ali Larijani, has made some comments that I see as conciliatory.\n",
      "He said on one of the state channels that the number of people questioning the election result was large.\n",
      "\"This group should be respected and one should not mix this big population's account with a small group of rioters,\" Mr Larijani said.\n",
      "Also, the arrest of members of the family of Akbar Hashemi Rafsanjani - a former president, a powerful opponent of President Mahmoud Ahmadinejad and key backer of Mr Mousavi's bid for the presidency - was a strong signal that even the most established figures are not invulnerable.\n",
      "What is the evidence that the election was rigged?\n",
      "The way the result was announced was very unusual. It came out in blocks of millions of votes, in percentages, rather than being announced province-by-province as in past elections.\n",
      "And as the blocks of votes came in, the percentages for each candidate changed very, very little. That suggested that Mr Ahmadinejad did equally well in rural and urban areas.\n",
      "Conversely, it suggested that the other three losing candidates did equally badly in their home regions and provinces.\n",
      "This overturns all precedents in Iranian politics and there has been no explanation, despite repeated questions, from the authorities.\n",
      "It is all very suspicious. But it does not necessarily mean there has been widespread electoral fraud.\n",
      "For example, a group of international pollsters did an independent telephone survey three weeks ago which suggested a two-to-one level of popular support for Mr Ahmadinejad over Mr Mousavi, with the other candidates on less than 2% each.\n",
      "\n",
      "Irish Republic pardons wartime deserters\n",
      "The Irish government is to pardon more than 4,500 former soldiers who deserted the Defence Forces during World War II to fight with the Allied Forces.\n",
      "Irish Defence Minister Alan Shatter said the government apologised for the manner in which the deserters were treated by the state after the war.\n",
      "Mr Shatter said the government recognised the importance of their contribution to the Allied victory.\n",
      "He said the war gave rise to grave and exceptional circumstances.\n",
      "Mr Shatter said the government would introduce legislation \"to grant a pardon and amnesty to those who absented themselves from the Defence Forces without leave or permission to fight on the Allied side\".\n",
      "In his statement to Dail Eireann, he said that in August 1945, the government of the day summarily dismissed soldiers who had absented themselves during the war and disqualified them for seven years from holding employment or office remunerated from the state's central fund.\n",
      "Individuals were not given a chance to explain their absence.'Grave and exceptional circumstances'\n",
      "No distinction was made between those who fought on the Allied side for freedom and democracy and those who absented themselves for other reasons.\n",
      "\"In addressing the question of desertion during World War II, the government acknowledges that the war gave rise to circumstances that were grave and exceptional,\" Mr Shatter said.\n",
      "\"Members of the Defence Forces left their posts at that time to fight on the Allied side against tyranny and, together with many thousands of other Irish men and women, played an important role in defending freedom and democracy.\n",
      "\"On behalf of the state, the government apologises for the manner in which those members of the Defence Forces... were treated after the war by the state.\"\n",
      "During World War II the Irish Defence Forces had approximately 42,000 serving personnel.\n",
      "Over the course of the war, it was estimated that more than 7,000 members deserted.\n",
      "Of these, about 2,500 personnel returned to their units or were apprehended and were tried by military tribunal.\n",
      "More than 4,500 deserters were the subject of dismissal under the Emergency Powers (No. 362) Order, 1945.\n",
      "\n"
     ]
    }
   ],
   "source": [
    "context = \"\"\n",
    "\n",
    "for i, document in enumerate(top_matches['documents'][0]):\n",
    "   context += f\"\\n{document}\\n\"\n",
    "   \n",
    "print(context)"
   ]
  },
  {
   "cell_type": "code",
   "execution_count": 18,
   "metadata": {},
   "outputs": [
    {
     "name": "stdout",
     "output_type": "stream",
     "text": [
      "Generated Response using OpenAI API:\n",
      "The voter turnout during the elections in Ireland was reported to be about 40%. Reports indicated that turnout was being closely monitored, as a low turnout could suggest a rejection of the referendum on the EU reform treaty. Some areas experienced brisk voting, while others had slower turnout.\n"
     ]
    }
   ],
   "source": [
    "import openai\n",
    "# Set up the OpenAI API key\n",
    "openai.api_key = openai_key\n",
    "client = openai.Client()\n",
    "\n",
    "# Function to query OpenAI\n",
    "def query_with_context(query, context):\n",
    "    response = client.chat.completions.create(\n",
    "        model=\"gpt-4o-mini\",\n",
    "        messages=[\n",
    "            {\"role\": \"developer\", \"content\": \"You are a helpful assistant. You will given a query in following format - 'query:<query_text>, context:<contextual information>'. Answer the query only on the basis of the contectual information.\"},\n",
    "            {\"role\": \"user\", \"content\": f\"'query':{query}, \\n'context':{context}\"}\n",
    "        ],\n",
    "        temperature=0.7,\n",
    "        max_tokens=250,\n",
    "    )\n",
    "\n",
    "    return response.choices[0].message.content\n",
    "\n",
    "# Example usage\n",
    "response_openai = query_with_context(user_query, context)\n",
    "print(\"Generated Response using OpenAI API:\")\n",
    "print(response_openai)"
   ]
  },
  {
   "cell_type": "code",
   "execution_count": 20,
   "metadata": {},
   "outputs": [
    {
     "name": "stdout",
     "output_type": "stream",
     "text": [
      "Generated Response using Ollama API:\n",
      "According to the BBC report, the voter turnout during the referendum in Ireland was approximately 40%. This low turnout would suggest a rejection of the EU reform treaty, which could have significant implications for the EU. However, it's worth noting that the results are still being counted and will be confirmed later on Friday morning.\n"
     ]
    }
   ],
   "source": [
    "import ollama\n",
    "\n",
    "# Function to query Ollama Gemma\n",
    "def query_with_context_ollama(query, context):\n",
    "    prompt = f\"\"\"\n",
    "    You are provided with the following context.\n",
    "    Context: {context}\n",
    "\n",
    "    Based on the above context, answer the user's query as accurately as possible.\n",
    "    Query: {query}\n",
    "    \"\"\"\n",
    "    \n",
    "    response = ollama.chat(\n",
    "        model=\"llama3.2:3b\",\n",
    "        messages=[{\n",
    "            \"role\": \"user\",\n",
    "            \"content\": prompt\n",
    "        }]\n",
    "    )\n",
    "    return response[\"message\"][\"content\"]\n",
    "\n",
    "# Example usage\n",
    "response_ollama = query_with_context_ollama(user_query, context)\n",
    "print(\"Generated Response using Ollama API:\")\n",
    "print(response_ollama)"
   ]
  },
  {
   "cell_type": "code",
   "execution_count": null,
   "metadata": {},
   "outputs": [],
   "source": []
  },
  {
   "cell_type": "code",
   "execution_count": null,
   "metadata": {},
   "outputs": [],
   "source": []
  },
  {
   "cell_type": "code",
   "execution_count": null,
   "metadata": {},
   "outputs": [],
   "source": []
  },
  {
   "cell_type": "code",
   "execution_count": 8,
   "metadata": {},
   "outputs": [
    {
     "name": "stdout",
     "output_type": "stream",
     "text": [
      "0\n"
     ]
    }
   ],
   "source": []
  },
  {
   "cell_type": "code",
   "execution_count": null,
   "metadata": {},
   "outputs": [],
   "source": []
  }
 ],
 "metadata": {
  "kernelspec": {
   "display_name": "Python 3 (ipykernel)",
   "language": "python",
   "name": "python3"
  }
 },
 "nbformat": 4,
 "nbformat_minor": 2
}
