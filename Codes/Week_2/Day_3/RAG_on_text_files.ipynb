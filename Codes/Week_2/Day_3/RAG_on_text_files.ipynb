{
 "cells": [
  {
   "cell_type": "code",
   "execution_count": 1,
   "metadata": {},
   "outputs": [],
   "source": [
    "from dotenv import load_dotenv\n",
    "import os\n",
    "\n",
    "# Load environment variables from .env file\n",
    "load_dotenv()\n",
    "\n",
    "# Get the HUGGINGFACE_TOKEN\n",
    "huggingface_token = os.getenv('HUGGINGFACE_TOKEN')\n",
    "openai_key = os.getenv('OPENAI_KEY')"
   ]
  },
  {
   "cell_type": "code",
   "execution_count": 2,
   "metadata": {},
   "outputs": [
    {
     "name": "stderr",
     "output_type": "stream",
     "text": [
      "/var/folders/c3/wt1h7fz910v7vxy5x88m2h_r0000gn/T/ipykernel_3112/1650357747.py:2: LangChainDeprecationWarning: The class `HuggingFaceEmbeddings` was deprecated in LangChain 0.2.2 and will be removed in 1.0. An updated version of the class exists in the :class:`~langchain-huggingface package and should be used instead. To use it run `pip install -U :class:`~langchain-huggingface` and import as `from :class:`~langchain_huggingface import HuggingFaceEmbeddings``.\n",
      "  embeddings = HuggingFaceEmbeddings(model_name=\"BAAI/bge-large-en\", encode_kwargs={'normalize_embeddings': True})\n"
     ]
    }
   ],
   "source": [
    "from langchain.embeddings import HuggingFaceEmbeddings\n",
    "embeddings = HuggingFaceEmbeddings(model_name=\"BAAI/bge-large-en\", encode_kwargs={'normalize_embeddings': True})"
   ]
  },
  {
   "cell_type": "code",
   "execution_count": 3,
   "metadata": {},
   "outputs": [
    {
     "name": "stdout",
     "output_type": "stream",
     "text": [
      "DatasetDict({\n",
      "    train: Dataset({\n",
      "        features: ['url', 'text'],\n",
      "        num_rows: 179829\n",
      "    })\n",
      "})\n"
     ]
    }
   ],
   "source": [
    "from datasets import load_dataset\n",
    "\n",
    "# Load the dataset from Hugging Face\n",
    "bbc_news_collection = load_dataset('permutans/fineweb-bbc-news', 'CC-MAIN-2013-20')\n",
    "\n",
    "# Print the dataset to verify\n",
    "print(bbc_news_collection)"
   ]
  },
  {
   "cell_type": "code",
   "execution_count": 4,
   "metadata": {},
   "outputs": [
    {
     "name": "stdout",
     "output_type": "stream",
     "text": [
      "{'train': 179829}\n"
     ]
    }
   ],
   "source": [
    "import os\n",
    "\n",
    "# Create the directory if it doesn't exist\n",
    "output_dir = './Week_2/Day_3/BBC_News_Files'\n",
    "os.makedirs(output_dir, exist_ok=True)\n",
    "\n",
    "#get number of entries in bbc_news_collection\n",
    "num_entries = bbc_news_collection.num_rows\n",
    "print(num_entries)"
   ]
  },
  {
   "cell_type": "code",
   "execution_count": 5,
   "metadata": {},
   "outputs": [
    {
     "name": "stderr",
     "output_type": "stream",
     "text": [
      "100it [00:33,  2.97it/s]"
     ]
    },
    {
     "name": "stdout",
     "output_type": "stream",
     "text": [
      "Saved 100 random news items to ./Week_2/Day_3/BBC_News_Files\n"
     ]
    },
    {
     "name": "stderr",
     "output_type": "stream",
     "text": [
      "\n"
     ]
    }
   ],
   "source": [
    "import random\n",
    "import json\n",
    "from tqdm import tqdm\n",
    "\n",
    "# Select 100 random indices\n",
    "random_indices = random.sample(range(num_entries['train']), 100)\n",
    "\n",
    "# Extract the news items\n",
    "random_news_items = [bbc_news_collection['train'][i] for i in random_indices]\n",
    "\n",
    "# Save each news item as a separate JSON file\n",
    "for idx, news_item in tqdm(enumerate(random_news_items)):\n",
    "    #create an embedding for news_item.text\n",
    "    #add that as BAAI embedding to the news_item\n",
    "    news_item['baai_embedding'] = embeddings.embed_query(news_item['text'])\n",
    "    file_path = os.path.join(output_dir, f'news_item_{idx + 1}.json')\n",
    "    with open(file_path, 'w') as f:\n",
    "        json.dump(news_item, f)\n",
    "\n",
    "print(f'Saved 100 random news items to {output_dir}')"
   ]
  },
  {
   "cell_type": "code",
   "execution_count": 7,
   "metadata": {},
   "outputs": [
    {
     "name": "stdout",
     "output_type": "stream",
     "text": [
      "Collection(name=bbc_news)\n"
     ]
    }
   ],
   "source": [
    "from chromadb import PersistentClient\n",
    "from chromadb.config import Settings\n",
    "\n",
    "# Create a new client for chromaDB\n",
    "client = PersistentClient(path='./chromaDB',settings=Settings(allow_reset=True))\n",
    "client.reset()\n",
    "\n",
    "# Create a new collection called 'bbc_news'\n",
    "bbc_news_collection = client.create_collection(name=\"bbc_news\")\n",
    "\n",
    "# Print the collection to verify\n",
    "print(bbc_news_collection)"
   ]
  },
  {
   "cell_type": "code",
   "execution_count": 13,
   "metadata": {},
   "outputs": [
    {
     "name": "stdout",
     "output_type": "stream",
     "text": [
      "Saved 100 random news items to the ChromaDB collection with metadata.\n"
     ]
    }
   ],
   "source": [
    "# Iterate over the random news items and add them to the ChromaDB collection\n",
    "for idx, news_item in enumerate(random_news_items):\n",
    "    file_path = os.path.join(output_dir, f'news_item_{idx + 1}.json')\n",
    "    metadata = {\n",
    "        'json_file_path': file_path,\n",
    "        'url': news_item['url']\n",
    "    }\n",
    "    bbc_news_collection.add(\n",
    "        ids=f'news_item_{idx + 1}',\n",
    "        documents=[news_item['text']],\n",
    "        embeddings=[news_item['baai_embedding']],\n",
    "        metadatas=[metadata]\n",
    "    )\n",
    "\n",
    "print(f'Saved 100 random news items to the ChromaDB collection with metadata.')"
   ]
  },
  {
   "cell_type": "code",
   "execution_count": 14,
   "metadata": {},
   "outputs": [
    {
     "name": "stdout",
     "output_type": "stream",
     "text": [
      "{'ids': [['news_item_72', 'news_item_82', 'news_item_89']], 'embeddings': None, 'documents': [['Bulgaria blast: \\'Suicide bomber\\' killed Israelis\\nThe bombing of an Israeli tourist bus in eastern Bulgaria was probably carried out by a male suicide bomber with fake US documents, officials say.\\nAt least seven people died and 34 were injured when the bus exploded at Burgas airport, by the Black Sea.\\nIsrael has sent planes to Burgas with doctors and officials to bring back the dead and injured.\\nIsraeli Defence Minister Ehud Barak said Lebanese Hezbollah was the direct perpetrator, under Iran\\'s auspices.\\nFive tourists died along with the Bulgarian bus driver and the suspected bomber. Officials had said a sixth Israeli died overnight but this was later corrected.\\nThe BBC\\'s Jon Donnison, in Jerusalem, says the attack could be part of a covert but violent war between Israel and Iran, and there is a view among some analysts that this attack could be a response to a series of recent attacks on Iranian nuclear scientists.\\n\"All the signs lead to Iran,\" Israeli Prime Minister Benjamin Netanyahu said in a statement on Wednesday. \"Israel will respond forcefully to Iranian terror.\"\\nIsraeli newspapers show a dramatic photograph of the tourist bus in flames, injured people covered in blood and shocked Israeli holiday-makers. \"Terror on vacation\" is the headline of Israel Hayom, while Yedioth Ahronoth has \"Target: Israelis\". A column in the daily Maariv questions whether this is \"Iranian Revenge\".\\nPrime Minister Benjamin Netanyahu was quick to point the finger at Israel\\'s arch-enemy. He also claimed this was the latest in a series of Iranian attempts to harm Israelis and Jews overseas - in Thailand, India, Georgia, Kenya, Cyprus and other locations.\\nOther Israeli officials have made specific links to Hezbollah, the Iranian-backed Shia militant group based in Lebanon.\\nIran\\'s state TV has rejected accusations of Tehran\\'s involvement. However, this bombing does look set to escalate a shadow war with Israel. The Iranians blame Israel for the killing of several scientists associated with its controversial nuclear programme.\\nMr Barak said the attack resembled several recent attempted attacks on Israeli targets in India, Thailand, Azerbaijan, Kenya and Cyprus.\\nBut he said that he did not think there had been any specific prior information that the attack was imminent.\\nAn Iranian foreign ministry spokesman said on Thursday that Tehran strongly condemned \"all terrorist acts\".\\'Distressed crowds\\'\\nThe Israeli foreign ministry said the bus had been carrying tourists from a charter flight that arrived from Israel.\\nBulgarian officials on Thursday released CCTV footage of a man they suspect was the bomber. The man, who has very long hair and carries a backpack, is seen walking around the terminal and then leaving shortly before the blast happened.\\nIsraeli officials said passengers from a Tel Aviv-Burgas flight boarded the bus shortly after 17:00 local time (14:00 GMT) on Wednesday.\\n\"I was on the bus and we had just sat down when after a few seconds we heard a really loud explosion,\" Gal Malka told Israel\\'s army radio.\\n\"The whole bus went up in flames,\" she said, adding that the explosion took place near the front of the bus.\\nBulgarian journalist Dobromir Doskacharov, who arrived at the scene about 30 minutes after the blast, said: \"I saw three buses completely burnt out - just the metal bars were left.\\n\"There were crowds of people around, very distressed. One man said he saw decapitated heads. Others spoke of body parts flying through the air,\" Mr Dovkacharov said.\\nThe suicide bomber is said to be a man with a Michigan-issued US driver\\'s licence which reports said may have been fake.\\nTwo of the wounded are in a serious condition and have been flown to the capital Sofia.\\nIsraeli forensic teams who arrived during the night are helping to identify the bodies.\\nWednesday\\'s blast came on the 18th anniversary of a deadly attack on a Jewish community centre in Argentina. Israel blamed Iran for that attack - a claim denied by Tehran.\\nUS President Barack Obama described the bombing as a \"barbaric terrorist attack\".\\nMeanwhile, former Israeli national security adviser Uzi Arad confirmed on Thursday, for the first time, that Israel had assassinated Hezbollah chief Imad Mughniyeh in 2008.\\nReferring to the attack in Burgas, he told Israeli Army Radio: \"Now is Iran\\'s revenge.\"\\nBulgaria is a popular tourist destination for Israelis.\\nHowever, in January there were reports that Israel had asked Bulgaria to tighten security for Israeli tourists travelling by bus.\\nThis followed a reported discovery of a suspicious package found on a bus with Israeli tourists travelling from Turkey to Bulgaria.', 'Libya unrest: Aid crisis grows on Tunisia border\\nThe situation on Libya\\'s border with Tunisia has reached crisis point, as tens of thousands of foreigners flee unrest in the country, the UN says.\\nAid staff are battling to cope with an exodus that has seen some 140,000 people crossing into Tunisia and Egypt.\\nThe UN has suspended Libya from its Human Rights Council and has called for a mass humanitarian evacuation.\\nLibyan leader Col Muammar Gaddafi has played down protests and is trying to regain control of areas in the west.\\nHe is facing a massive challenge to his 41-year rule, with protesters in control of towns in eastern Libya.\\nWitnesses said pro-Gaddafi forces tried to retake the western cities of Zawiya, Misrata and Nalut on Monday but were repulsed by rebels helped by defecting army units.\\nAt the scene\\nThe centre of the city is not normal but it\\'s fairly quiet and people would not be out and about if they thought there was an immediate chance of a violent change of regime. But while we were there a passer-by discreetly, barely stopping and without saying a word pressed a spent cartridge from an AK47 assault rifle into the hand of one of the BBC team. His message appeared to be: \"Don\\'t let appearances deceive you.\"\\nThe regime controls the city centre but it feels different in some of the suburbs. In Tajoura, only 20 minutes or so by car from central Green Square, there\\'s fury about what the regime has done and fear they might do it again. The BBC was given video recordings of a demonstration there last Friday after noon prayers. We could hear the protesters being shot at, some are killed. A man, dead or dying, is carried away with blood spraying out of a bullet wound in his head.\\nIn his interview with the BBC, Col Muammar Gaddafi said there were no demonstrations by Libyans, only an uprising incited by al-Qaeda. I\\'ve been to Tajoura and there people don\\'t talk about jihadi Islam, they talk about freedom and an end to almost 42 years of rule by the colonel.\\nThere are fears in Zawiya that the city may be attacked from the air, but the rebels remained defiant.\\n\"We\\'re not here for power, authority or money,\" they said in a message aimed at Col Gaddafi.\\n\"We are here for the cause of freedom and the price we are willing to pay is with our own blood. It\\'s victory or death.\"\\nProtesters holding Nalut and the town of Zintan, 145km (70 miles) south-west of Tripoli, both reported the approach of Gaddafi forces and said they feared fresh attacks.\\'Deep stress\\'\\nIn voting to suspend Libya from the UN Human Rights Council, the resolution - passed by consensus by the UN membership - accused Libya of committing gross and systematic violations of human rights.\\nGeneral Secretary Ban Ki-moon said: \"These UN actions send a strong and important message - a message of great consequence within the region and beyond - that there is no impunity, that those who commit crimes against humanity will be punished, that fundamental principles of justice and accountability shall prevail.\"\\nThe BBC\\'s Barbara Plett at the UN says this resolution seals Col Gaddafi\\'s isolation as it is the body that represents all member states - the one where Libya might have expected to have some support and it has none.\\nThe UN says the situation on the Tunisian-Libyan border has reached \"crisis point\"\\nThe UN High Commissioner for Refugees said an estimated 40,000 people, mostly Egyptians, were still waiting at the border trying to cross from Libya into Tunisia.\\nIt said it was urgently appealing, along with the International Organisation for Migration, for governments to engage in \"a massive humanitarian evacuation of tens of thousands of Egyptians and other third country nationals\".\\nWorld Food Programme executive director Josette Sheeran told the BBC food was being brought in by road and air, and bought locally, but supplies were under \"deep stress\".\\n\"This will be a very pressured situation for some time - that\\'s why we have launched an emergency appeal for funds to back up the system here,\" she said.\\nTented transit camps are being set up hurriedly on the Tunisian side, while frantic efforts are being made to charter aircraft and ships to repatriate the stranded.\\nIn other developments:\\n- The European Union is calling an extraordinary summit for 11 March to discuss the situation in Libya and unrest in other parts of North Africa and the Middle East\\n- US Secretary of State Hillary Clinton, in testimony to the US House of Representatives Foreign Affairs Committee, urged lawmakers not to cut funds on dealing with overseas crises. She said Libya \"could become a peaceful democracy or it could face protracted civil war\"\\n- The Red Cross is requesting access to western Libya, amid unconfirmed reports of attacks on doctors and summary killings of patients\\nCol Gaddafi gave an interview in the capital Tripoli for BBC Middle East editor Jeremy Bowen, US TV network ABC and the UK\\'s Sunday Times newspaper.\\nCol Gaddafi accused Western countries of abandoning Libya and said that they had no morals and wanted to colonise the country.\\nWhen asked whether he would resign, he said he could not step down as he did not have an official position - and insisted that the power in the country was with the people.\\nCol Gaddafi challenged those, including UK Prime Minister David Cameron, who have accused him of having money abroad, to produce evidence. He said he would \"put two fingers in their eye\".\\nI would think Mr Obama would want at least one big ally in the region to join in if any action was taken”\\nCol Gaddafi said true Libyans had not demonstrated but those who had come on to the streets were under the influence of drugs supplied by Osama Bin Laden\\'s al-Qaeda network.\\nBut in response to the interview, the US ambassador to the UN Susan Rice said the fact he was laughing at questions while \"slaughtering his own people\" showed that he was disconnected from reality.\\nCol Gaddafi\\'s son, Saif al-Islam Gaddafi, on Tuesday condemned Ms Rice\\'s comments and added that Mr Cameron\\'s handling of the situation was \"like a joke\".\\nMr Cameron has frozen Gaddafi assets and called for the Libyan leader to go.\\nSaif Gaddafi told Sky News that the east had not fallen and he denied that the people there wanted his father out, saying it was just local difficulties.', 'Despatches from the House of Commons\\n1030 GMT, THURSDAY 7 FEBRUARY\\nEver wondered what happens to MPs who have managed to hang on to their seats for years without ever making it onto the frontbech?\\nThe Lib Dems Paul Keetch, who is to stand down at the next election after suffering a heart scare last year, offers the following depressing insight.\\nMr Keetch suffered a heart attack on an a transatlantic flight\\n\"You look around the House of Commons and see some members who have been there for 15, 20, 25 years and who are frankly doing nothing, particularly the ones with large majorities.\\n\"It is not part of my plan to be hanging around the chamber waiting for death. Seeing the awful number of MPs in all parties who really should have moved on and done something else in their lives has spurred me on,\" he told the House magazine.\\nThat\\'s cheered me up.\\n1030 GMT, WEDNESDAY 6 FEBRUARY\\nGood to see at least one MP has got her priorities right - even if it does land her in trouble with her boss.\\nTory Nadine Dorries reveals in her blog that, just as she was about to give a talk at a local school she received a phone call from the party\\'s chief whip telling her David Cameron was calling a meeting of MPs for 10.15 and to be there.\\nMs Dorries risked upsetting David Cameron\\n\"I couldn\\'t let the teachers or the students down, so I sent my apologies and went into the school. That\\'s me in trouble again then,\" she said.\\nAh yes, but good choice. After all, you only have the luxury of being able to bunk off such meetings if you are an MP in the first place.\\nAnd suggesting you put local voters and their children ahead of the party leader is a good start.\\n1230 GMT, TUESDAY 5 FEBRUARY\\nPoliticians are not normally known for their ability to keep their opinions to themselves.\\nBut, as the row over MPs expenses continues to rumble around Westminster, there is one issue on which they simply will not speak publicly.\\nMPs are reluctant to criticise the Speaker\\nIt is on the relative merits of Commons Speaker Michael Martin, who will lead the review of the current system.\\nMany MPs on all sides will privately point out Mr Martin has come to the end of the traditional period in office for a Speaker, and will express their bemusement at his refusal to show any sign of being ready to retire.\\nOthers have even gone so far as to question whether he really is the right man to lead the inquiry into MPs expenses, claiming he tends to support the status quo.\\nThey may be well wide of the mark, and Mr Speaker may yet preside over the most radical shake-up in transparency rules yet seen in Westminster.\\nBut, either way, just try getting anyone to say so on the record.\\nWhy are they so afraid to speak out? Just listen to Tory leader David Cameron when asked just such a question as he unveiled his proposals to publish his frontbenchers\\' expenses details.\\n\"I want to make sure I am called tomorrow at Prime Minister\\'s Questions,\" he joked. At least, I think it was a joke.']], 'uris': None, 'data': None, 'metadatas': [[{'json_file_path': './Week_2/Day_3/BBC_News_Files/news_item_72.json', 'url': 'http://www.bbc.co.uk/news/world-europe-18897772'}, {'json_file_path': './Week_2/Day_3/BBC_News_Files/news_item_82.json', 'url': 'http://www.bbc.co.uk/news/world-africa-12606855'}, {'json_file_path': './Week_2/Day_3/BBC_News_Files/news_item_89.json', 'url': 'http://news.bbc.co.uk/2/hi/uk_news/politics/6243803.stm'}]], 'distances': [[0.38419419527053833, 0.4572882056236267, 0.4660390615463257]], 'included': [<IncludeEnum.distances: 'distances'>, <IncludeEnum.documents: 'documents'>, <IncludeEnum.metadatas: 'metadatas'>]}\n",
      "Top matches:\n",
      "Match 1: Bulgaria blast: 'Suicide bomber' killed Israelis\n",
      "The bombing of an Israeli tourist bus in eastern Bulgaria was probably carried out by a male suicide bomber with fake US documents, officials say.\n",
      "At least seven people died and 34 were injured when the bus exploded at Burgas airport, by the Black Sea.\n",
      "Israel has sent planes to Burgas with doctors and officials to bring back the dead and injured.\n",
      "Israeli Defence Minister Ehud Barak said Lebanese Hezbollah was the direct perpetrator, under Iran's auspices.\n",
      "Five tourists died along with the Bulgarian bus driver and the suspected bomber. Officials had said a sixth Israeli died overnight but this was later corrected.\n",
      "The BBC's Jon Donnison, in Jerusalem, says the attack could be part of a covert but violent war between Israel and Iran, and there is a view among some analysts that this attack could be a response to a series of recent attacks on Iranian nuclear scientists.\n",
      "\"All the signs lead to Iran,\" Israeli Prime Minister Benjamin Netanyahu said in a statement on Wednesday. \"Israel will respond forcefully to Iranian terror.\"\n",
      "Israeli newspapers show a dramatic photograph of the tourist bus in flames, injured people covered in blood and shocked Israeli holiday-makers. \"Terror on vacation\" is the headline of Israel Hayom, while Yedioth Ahronoth has \"Target: Israelis\". A column in the daily Maariv questions whether this is \"Iranian Revenge\".\n",
      "Prime Minister Benjamin Netanyahu was quick to point the finger at Israel's arch-enemy. He also claimed this was the latest in a series of Iranian attempts to harm Israelis and Jews overseas - in Thailand, India, Georgia, Kenya, Cyprus and other locations.\n",
      "Other Israeli officials have made specific links to Hezbollah, the Iranian-backed Shia militant group based in Lebanon.\n",
      "Iran's state TV has rejected accusations of Tehran's involvement. However, this bombing does look set to escalate a shadow war with Israel. The Iranians blame Israel for the killing of several scientists associated with its controversial nuclear programme.\n",
      "Mr Barak said the attack resembled several recent attempted attacks on Israeli targets in India, Thailand, Azerbaijan, Kenya and Cyprus.\n",
      "But he said that he did not think there had been any specific prior information that the attack was imminent.\n",
      "An Iranian foreign ministry spokesman said on Thursday that Tehran strongly condemned \"all terrorist acts\".'Distressed crowds'\n",
      "The Israeli foreign ministry said the bus had been carrying tourists from a charter flight that arrived from Israel.\n",
      "Bulgarian officials on Thursday released CCTV footage of a man they suspect was the bomber. The man, who has very long hair and carries a backpack, is seen walking around the terminal and then leaving shortly before the blast happened.\n",
      "Israeli officials said passengers from a Tel Aviv-Burgas flight boarded the bus shortly after 17:00 local time (14:00 GMT) on Wednesday.\n",
      "\"I was on the bus and we had just sat down when after a few seconds we heard a really loud explosion,\" Gal Malka told Israel's army radio.\n",
      "\"The whole bus went up in flames,\" she said, adding that the explosion took place near the front of the bus.\n",
      "Bulgarian journalist Dobromir Doskacharov, who arrived at the scene about 30 minutes after the blast, said: \"I saw three buses completely burnt out - just the metal bars were left.\n",
      "\"There were crowds of people around, very distressed. One man said he saw decapitated heads. Others spoke of body parts flying through the air,\" Mr Dovkacharov said.\n",
      "The suicide bomber is said to be a man with a Michigan-issued US driver's licence which reports said may have been fake.\n",
      "Two of the wounded are in a serious condition and have been flown to the capital Sofia.\n",
      "Israeli forensic teams who arrived during the night are helping to identify the bodies.\n",
      "Wednesday's blast came on the 18th anniversary of a deadly attack on a Jewish community centre in Argentina. Israel blamed Iran for that attack - a claim denied by Tehran.\n",
      "US President Barack Obama described the bombing as a \"barbaric terrorist attack\".\n",
      "Meanwhile, former Israeli national security adviser Uzi Arad confirmed on Thursday, for the first time, that Israel had assassinated Hezbollah chief Imad Mughniyeh in 2008.\n",
      "Referring to the attack in Burgas, he told Israeli Army Radio: \"Now is Iran's revenge.\"\n",
      "Bulgaria is a popular tourist destination for Israelis.\n",
      "However, in January there were reports that Israel had asked Bulgaria to tighten security for Israeli tourists travelling by bus.\n",
      "This followed a reported discovery of a suspicious package found on a bus with Israeli tourists travelling from Turkey to Bulgaria.\n",
      "URL: http://www.bbc.co.uk/news/world-europe-18897772\n",
      "\n",
      "\n",
      "Match 2: Libya unrest: Aid crisis grows on Tunisia border\n",
      "The situation on Libya's border with Tunisia has reached crisis point, as tens of thousands of foreigners flee unrest in the country, the UN says.\n",
      "Aid staff are battling to cope with an exodus that has seen some 140,000 people crossing into Tunisia and Egypt.\n",
      "The UN has suspended Libya from its Human Rights Council and has called for a mass humanitarian evacuation.\n",
      "Libyan leader Col Muammar Gaddafi has played down protests and is trying to regain control of areas in the west.\n",
      "He is facing a massive challenge to his 41-year rule, with protesters in control of towns in eastern Libya.\n",
      "Witnesses said pro-Gaddafi forces tried to retake the western cities of Zawiya, Misrata and Nalut on Monday but were repulsed by rebels helped by defecting army units.\n",
      "At the scene\n",
      "The centre of the city is not normal but it's fairly quiet and people would not be out and about if they thought there was an immediate chance of a violent change of regime. But while we were there a passer-by discreetly, barely stopping and without saying a word pressed a spent cartridge from an AK47 assault rifle into the hand of one of the BBC team. His message appeared to be: \"Don't let appearances deceive you.\"\n",
      "The regime controls the city centre but it feels different in some of the suburbs. In Tajoura, only 20 minutes or so by car from central Green Square, there's fury about what the regime has done and fear they might do it again. The BBC was given video recordings of a demonstration there last Friday after noon prayers. We could hear the protesters being shot at, some are killed. A man, dead or dying, is carried away with blood spraying out of a bullet wound in his head.\n",
      "In his interview with the BBC, Col Muammar Gaddafi said there were no demonstrations by Libyans, only an uprising incited by al-Qaeda. I've been to Tajoura and there people don't talk about jihadi Islam, they talk about freedom and an end to almost 42 years of rule by the colonel.\n",
      "There are fears in Zawiya that the city may be attacked from the air, but the rebels remained defiant.\n",
      "\"We're not here for power, authority or money,\" they said in a message aimed at Col Gaddafi.\n",
      "\"We are here for the cause of freedom and the price we are willing to pay is with our own blood. It's victory or death.\"\n",
      "Protesters holding Nalut and the town of Zintan, 145km (70 miles) south-west of Tripoli, both reported the approach of Gaddafi forces and said they feared fresh attacks.'Deep stress'\n",
      "In voting to suspend Libya from the UN Human Rights Council, the resolution - passed by consensus by the UN membership - accused Libya of committing gross and systematic violations of human rights.\n",
      "General Secretary Ban Ki-moon said: \"These UN actions send a strong and important message - a message of great consequence within the region and beyond - that there is no impunity, that those who commit crimes against humanity will be punished, that fundamental principles of justice and accountability shall prevail.\"\n",
      "The BBC's Barbara Plett at the UN says this resolution seals Col Gaddafi's isolation as it is the body that represents all member states - the one where Libya might have expected to have some support and it has none.\n",
      "The UN says the situation on the Tunisian-Libyan border has reached \"crisis point\"\n",
      "The UN High Commissioner for Refugees said an estimated 40,000 people, mostly Egyptians, were still waiting at the border trying to cross from Libya into Tunisia.\n",
      "It said it was urgently appealing, along with the International Organisation for Migration, for governments to engage in \"a massive humanitarian evacuation of tens of thousands of Egyptians and other third country nationals\".\n",
      "World Food Programme executive director Josette Sheeran told the BBC food was being brought in by road and air, and bought locally, but supplies were under \"deep stress\".\n",
      "\"This will be a very pressured situation for some time - that's why we have launched an emergency appeal for funds to back up the system here,\" she said.\n",
      "Tented transit camps are being set up hurriedly on the Tunisian side, while frantic efforts are being made to charter aircraft and ships to repatriate the stranded.\n",
      "In other developments:\n",
      "- The European Union is calling an extraordinary summit for 11 March to discuss the situation in Libya and unrest in other parts of North Africa and the Middle East\n",
      "- US Secretary of State Hillary Clinton, in testimony to the US House of Representatives Foreign Affairs Committee, urged lawmakers not to cut funds on dealing with overseas crises. She said Libya \"could become a peaceful democracy or it could face protracted civil war\"\n",
      "- The Red Cross is requesting access to western Libya, amid unconfirmed reports of attacks on doctors and summary killings of patients\n",
      "Col Gaddafi gave an interview in the capital Tripoli for BBC Middle East editor Jeremy Bowen, US TV network ABC and the UK's Sunday Times newspaper.\n",
      "Col Gaddafi accused Western countries of abandoning Libya and said that they had no morals and wanted to colonise the country.\n",
      "When asked whether he would resign, he said he could not step down as he did not have an official position - and insisted that the power in the country was with the people.\n",
      "Col Gaddafi challenged those, including UK Prime Minister David Cameron, who have accused him of having money abroad, to produce evidence. He said he would \"put two fingers in their eye\".\n",
      "I would think Mr Obama would want at least one big ally in the region to join in if any action was taken”\n",
      "Col Gaddafi said true Libyans had not demonstrated but those who had come on to the streets were under the influence of drugs supplied by Osama Bin Laden's al-Qaeda network.\n",
      "But in response to the interview, the US ambassador to the UN Susan Rice said the fact he was laughing at questions while \"slaughtering his own people\" showed that he was disconnected from reality.\n",
      "Col Gaddafi's son, Saif al-Islam Gaddafi, on Tuesday condemned Ms Rice's comments and added that Mr Cameron's handling of the situation was \"like a joke\".\n",
      "Mr Cameron has frozen Gaddafi assets and called for the Libyan leader to go.\n",
      "Saif Gaddafi told Sky News that the east had not fallen and he denied that the people there wanted his father out, saying it was just local difficulties.\n",
      "URL: http://www.bbc.co.uk/news/world-africa-12606855\n",
      "\n",
      "\n",
      "Match 3: Despatches from the House of Commons\n",
      "1030 GMT, THURSDAY 7 FEBRUARY\n",
      "Ever wondered what happens to MPs who have managed to hang on to their seats for years without ever making it onto the frontbech?\n",
      "The Lib Dems Paul Keetch, who is to stand down at the next election after suffering a heart scare last year, offers the following depressing insight.\n",
      "Mr Keetch suffered a heart attack on an a transatlantic flight\n",
      "\"You look around the House of Commons and see some members who have been there for 15, 20, 25 years and who are frankly doing nothing, particularly the ones with large majorities.\n",
      "\"It is not part of my plan to be hanging around the chamber waiting for death. Seeing the awful number of MPs in all parties who really should have moved on and done something else in their lives has spurred me on,\" he told the House magazine.\n",
      "That's cheered me up.\n",
      "1030 GMT, WEDNESDAY 6 FEBRUARY\n",
      "Good to see at least one MP has got her priorities right - even if it does land her in trouble with her boss.\n",
      "Tory Nadine Dorries reveals in her blog that, just as she was about to give a talk at a local school she received a phone call from the party's chief whip telling her David Cameron was calling a meeting of MPs for 10.15 and to be there.\n",
      "Ms Dorries risked upsetting David Cameron\n",
      "\"I couldn't let the teachers or the students down, so I sent my apologies and went into the school. That's me in trouble again then,\" she said.\n",
      "Ah yes, but good choice. After all, you only have the luxury of being able to bunk off such meetings if you are an MP in the first place.\n",
      "And suggesting you put local voters and their children ahead of the party leader is a good start.\n",
      "1230 GMT, TUESDAY 5 FEBRUARY\n",
      "Politicians are not normally known for their ability to keep their opinions to themselves.\n",
      "But, as the row over MPs expenses continues to rumble around Westminster, there is one issue on which they simply will not speak publicly.\n",
      "MPs are reluctant to criticise the Speaker\n",
      "It is on the relative merits of Commons Speaker Michael Martin, who will lead the review of the current system.\n",
      "Many MPs on all sides will privately point out Mr Martin has come to the end of the traditional period in office for a Speaker, and will express their bemusement at his refusal to show any sign of being ready to retire.\n",
      "Others have even gone so far as to question whether he really is the right man to lead the inquiry into MPs expenses, claiming he tends to support the status quo.\n",
      "They may be well wide of the mark, and Mr Speaker may yet preside over the most radical shake-up in transparency rules yet seen in Westminster.\n",
      "But, either way, just try getting anyone to say so on the record.\n",
      "Why are they so afraid to speak out? Just listen to Tory leader David Cameron when asked just such a question as he unveiled his proposals to publish his frontbenchers' expenses details.\n",
      "\"I want to make sure I am called tomorrow at Prime Minister's Questions,\" he joked. At least, I think it was a joke.\n",
      "URL: http://news.bbc.co.uk/2/hi/uk_news/politics/6243803.stm\n",
      "\n",
      "\n"
     ]
    }
   ],
   "source": [
    "# Function to get the top 3 matching documents for a user query\n",
    "def search_query(query):\n",
    "    # Create the embedding for the query\n",
    "    query_embedding = embeddings.embed_query(query)\n",
    "    \n",
    "    # Search through the ChromaDB vector store\n",
    "    results = bbc_news_collection.query(\n",
    "        query_embeddings=[query_embedding],\n",
    "        n_results=3\n",
    "    )\n",
    "    \n",
    "    return results\n",
    "\n",
    "# Example usage\n",
    "user_query = \"Do you now anything about bulgaria sucide bombing case?\"\n",
    "top_matches = search_query(user_query)\n",
    "\n",
    "print(top_matches)\n",
    "\n",
    "# Print the top matches\n",
    "print(\"Top matches:\")\n",
    "for i, (document, metadata) in enumerate(zip(top_matches['documents'][0], top_matches['metadatas'][0])):\n",
    "    print(f\"Match {i+1}: {document}\")\n",
    "    print(f\"URL: {metadata['url']}\")\n",
    "    print(\"\\n\")"
   ]
  },
  {
   "cell_type": "code",
   "execution_count": 15,
   "metadata": {},
   "outputs": [
    {
     "name": "stdout",
     "output_type": "stream",
     "text": [
      "\n",
      "Bulgaria blast: 'Suicide bomber' killed Israelis\n",
      "The bombing of an Israeli tourist bus in eastern Bulgaria was probably carried out by a male suicide bomber with fake US documents, officials say.\n",
      "At least seven people died and 34 were injured when the bus exploded at Burgas airport, by the Black Sea.\n",
      "Israel has sent planes to Burgas with doctors and officials to bring back the dead and injured.\n",
      "Israeli Defence Minister Ehud Barak said Lebanese Hezbollah was the direct perpetrator, under Iran's auspices.\n",
      "Five tourists died along with the Bulgarian bus driver and the suspected bomber. Officials had said a sixth Israeli died overnight but this was later corrected.\n",
      "The BBC's Jon Donnison, in Jerusalem, says the attack could be part of a covert but violent war between Israel and Iran, and there is a view among some analysts that this attack could be a response to a series of recent attacks on Iranian nuclear scientists.\n",
      "\"All the signs lead to Iran,\" Israeli Prime Minister Benjamin Netanyahu said in a statement on Wednesday. \"Israel will respond forcefully to Iranian terror.\"\n",
      "Israeli newspapers show a dramatic photograph of the tourist bus in flames, injured people covered in blood and shocked Israeli holiday-makers. \"Terror on vacation\" is the headline of Israel Hayom, while Yedioth Ahronoth has \"Target: Israelis\". A column in the daily Maariv questions whether this is \"Iranian Revenge\".\n",
      "Prime Minister Benjamin Netanyahu was quick to point the finger at Israel's arch-enemy. He also claimed this was the latest in a series of Iranian attempts to harm Israelis and Jews overseas - in Thailand, India, Georgia, Kenya, Cyprus and other locations.\n",
      "Other Israeli officials have made specific links to Hezbollah, the Iranian-backed Shia militant group based in Lebanon.\n",
      "Iran's state TV has rejected accusations of Tehran's involvement. However, this bombing does look set to escalate a shadow war with Israel. The Iranians blame Israel for the killing of several scientists associated with its controversial nuclear programme.\n",
      "Mr Barak said the attack resembled several recent attempted attacks on Israeli targets in India, Thailand, Azerbaijan, Kenya and Cyprus.\n",
      "But he said that he did not think there had been any specific prior information that the attack was imminent.\n",
      "An Iranian foreign ministry spokesman said on Thursday that Tehran strongly condemned \"all terrorist acts\".'Distressed crowds'\n",
      "The Israeli foreign ministry said the bus had been carrying tourists from a charter flight that arrived from Israel.\n",
      "Bulgarian officials on Thursday released CCTV footage of a man they suspect was the bomber. The man, who has very long hair and carries a backpack, is seen walking around the terminal and then leaving shortly before the blast happened.\n",
      "Israeli officials said passengers from a Tel Aviv-Burgas flight boarded the bus shortly after 17:00 local time (14:00 GMT) on Wednesday.\n",
      "\"I was on the bus and we had just sat down when after a few seconds we heard a really loud explosion,\" Gal Malka told Israel's army radio.\n",
      "\"The whole bus went up in flames,\" she said, adding that the explosion took place near the front of the bus.\n",
      "Bulgarian journalist Dobromir Doskacharov, who arrived at the scene about 30 minutes after the blast, said: \"I saw three buses completely burnt out - just the metal bars were left.\n",
      "\"There were crowds of people around, very distressed. One man said he saw decapitated heads. Others spoke of body parts flying through the air,\" Mr Dovkacharov said.\n",
      "The suicide bomber is said to be a man with a Michigan-issued US driver's licence which reports said may have been fake.\n",
      "Two of the wounded are in a serious condition and have been flown to the capital Sofia.\n",
      "Israeli forensic teams who arrived during the night are helping to identify the bodies.\n",
      "Wednesday's blast came on the 18th anniversary of a deadly attack on a Jewish community centre in Argentina. Israel blamed Iran for that attack - a claim denied by Tehran.\n",
      "US President Barack Obama described the bombing as a \"barbaric terrorist attack\".\n",
      "Meanwhile, former Israeli national security adviser Uzi Arad confirmed on Thursday, for the first time, that Israel had assassinated Hezbollah chief Imad Mughniyeh in 2008.\n",
      "Referring to the attack in Burgas, he told Israeli Army Radio: \"Now is Iran's revenge.\"\n",
      "Bulgaria is a popular tourist destination for Israelis.\n",
      "However, in January there were reports that Israel had asked Bulgaria to tighten security for Israeli tourists travelling by bus.\n",
      "This followed a reported discovery of a suspicious package found on a bus with Israeli tourists travelling from Turkey to Bulgaria.\n",
      "\n",
      "Libya unrest: Aid crisis grows on Tunisia border\n",
      "The situation on Libya's border with Tunisia has reached crisis point, as tens of thousands of foreigners flee unrest in the country, the UN says.\n",
      "Aid staff are battling to cope with an exodus that has seen some 140,000 people crossing into Tunisia and Egypt.\n",
      "The UN has suspended Libya from its Human Rights Council and has called for a mass humanitarian evacuation.\n",
      "Libyan leader Col Muammar Gaddafi has played down protests and is trying to regain control of areas in the west.\n",
      "He is facing a massive challenge to his 41-year rule, with protesters in control of towns in eastern Libya.\n",
      "Witnesses said pro-Gaddafi forces tried to retake the western cities of Zawiya, Misrata and Nalut on Monday but were repulsed by rebels helped by defecting army units.\n",
      "At the scene\n",
      "The centre of the city is not normal but it's fairly quiet and people would not be out and about if they thought there was an immediate chance of a violent change of regime. But while we were there a passer-by discreetly, barely stopping and without saying a word pressed a spent cartridge from an AK47 assault rifle into the hand of one of the BBC team. His message appeared to be: \"Don't let appearances deceive you.\"\n",
      "The regime controls the city centre but it feels different in some of the suburbs. In Tajoura, only 20 minutes or so by car from central Green Square, there's fury about what the regime has done and fear they might do it again. The BBC was given video recordings of a demonstration there last Friday after noon prayers. We could hear the protesters being shot at, some are killed. A man, dead or dying, is carried away with blood spraying out of a bullet wound in his head.\n",
      "In his interview with the BBC, Col Muammar Gaddafi said there were no demonstrations by Libyans, only an uprising incited by al-Qaeda. I've been to Tajoura and there people don't talk about jihadi Islam, they talk about freedom and an end to almost 42 years of rule by the colonel.\n",
      "There are fears in Zawiya that the city may be attacked from the air, but the rebels remained defiant.\n",
      "\"We're not here for power, authority or money,\" they said in a message aimed at Col Gaddafi.\n",
      "\"We are here for the cause of freedom and the price we are willing to pay is with our own blood. It's victory or death.\"\n",
      "Protesters holding Nalut and the town of Zintan, 145km (70 miles) south-west of Tripoli, both reported the approach of Gaddafi forces and said they feared fresh attacks.'Deep stress'\n",
      "In voting to suspend Libya from the UN Human Rights Council, the resolution - passed by consensus by the UN membership - accused Libya of committing gross and systematic violations of human rights.\n",
      "General Secretary Ban Ki-moon said: \"These UN actions send a strong and important message - a message of great consequence within the region and beyond - that there is no impunity, that those who commit crimes against humanity will be punished, that fundamental principles of justice and accountability shall prevail.\"\n",
      "The BBC's Barbara Plett at the UN says this resolution seals Col Gaddafi's isolation as it is the body that represents all member states - the one where Libya might have expected to have some support and it has none.\n",
      "The UN says the situation on the Tunisian-Libyan border has reached \"crisis point\"\n",
      "The UN High Commissioner for Refugees said an estimated 40,000 people, mostly Egyptians, were still waiting at the border trying to cross from Libya into Tunisia.\n",
      "It said it was urgently appealing, along with the International Organisation for Migration, for governments to engage in \"a massive humanitarian evacuation of tens of thousands of Egyptians and other third country nationals\".\n",
      "World Food Programme executive director Josette Sheeran told the BBC food was being brought in by road and air, and bought locally, but supplies were under \"deep stress\".\n",
      "\"This will be a very pressured situation for some time - that's why we have launched an emergency appeal for funds to back up the system here,\" she said.\n",
      "Tented transit camps are being set up hurriedly on the Tunisian side, while frantic efforts are being made to charter aircraft and ships to repatriate the stranded.\n",
      "In other developments:\n",
      "- The European Union is calling an extraordinary summit for 11 March to discuss the situation in Libya and unrest in other parts of North Africa and the Middle East\n",
      "- US Secretary of State Hillary Clinton, in testimony to the US House of Representatives Foreign Affairs Committee, urged lawmakers not to cut funds on dealing with overseas crises. She said Libya \"could become a peaceful democracy or it could face protracted civil war\"\n",
      "- The Red Cross is requesting access to western Libya, amid unconfirmed reports of attacks on doctors and summary killings of patients\n",
      "Col Gaddafi gave an interview in the capital Tripoli for BBC Middle East editor Jeremy Bowen, US TV network ABC and the UK's Sunday Times newspaper.\n",
      "Col Gaddafi accused Western countries of abandoning Libya and said that they had no morals and wanted to colonise the country.\n",
      "When asked whether he would resign, he said he could not step down as he did not have an official position - and insisted that the power in the country was with the people.\n",
      "Col Gaddafi challenged those, including UK Prime Minister David Cameron, who have accused him of having money abroad, to produce evidence. He said he would \"put two fingers in their eye\".\n",
      "I would think Mr Obama would want at least one big ally in the region to join in if any action was taken”\n",
      "Col Gaddafi said true Libyans had not demonstrated but those who had come on to the streets were under the influence of drugs supplied by Osama Bin Laden's al-Qaeda network.\n",
      "But in response to the interview, the US ambassador to the UN Susan Rice said the fact he was laughing at questions while \"slaughtering his own people\" showed that he was disconnected from reality.\n",
      "Col Gaddafi's son, Saif al-Islam Gaddafi, on Tuesday condemned Ms Rice's comments and added that Mr Cameron's handling of the situation was \"like a joke\".\n",
      "Mr Cameron has frozen Gaddafi assets and called for the Libyan leader to go.\n",
      "Saif Gaddafi told Sky News that the east had not fallen and he denied that the people there wanted his father out, saying it was just local difficulties.\n",
      "\n",
      "Despatches from the House of Commons\n",
      "1030 GMT, THURSDAY 7 FEBRUARY\n",
      "Ever wondered what happens to MPs who have managed to hang on to their seats for years without ever making it onto the frontbech?\n",
      "The Lib Dems Paul Keetch, who is to stand down at the next election after suffering a heart scare last year, offers the following depressing insight.\n",
      "Mr Keetch suffered a heart attack on an a transatlantic flight\n",
      "\"You look around the House of Commons and see some members who have been there for 15, 20, 25 years and who are frankly doing nothing, particularly the ones with large majorities.\n",
      "\"It is not part of my plan to be hanging around the chamber waiting for death. Seeing the awful number of MPs in all parties who really should have moved on and done something else in their lives has spurred me on,\" he told the House magazine.\n",
      "That's cheered me up.\n",
      "1030 GMT, WEDNESDAY 6 FEBRUARY\n",
      "Good to see at least one MP has got her priorities right - even if it does land her in trouble with her boss.\n",
      "Tory Nadine Dorries reveals in her blog that, just as she was about to give a talk at a local school she received a phone call from the party's chief whip telling her David Cameron was calling a meeting of MPs for 10.15 and to be there.\n",
      "Ms Dorries risked upsetting David Cameron\n",
      "\"I couldn't let the teachers or the students down, so I sent my apologies and went into the school. That's me in trouble again then,\" she said.\n",
      "Ah yes, but good choice. After all, you only have the luxury of being able to bunk off such meetings if you are an MP in the first place.\n",
      "And suggesting you put local voters and their children ahead of the party leader is a good start.\n",
      "1230 GMT, TUESDAY 5 FEBRUARY\n",
      "Politicians are not normally known for their ability to keep their opinions to themselves.\n",
      "But, as the row over MPs expenses continues to rumble around Westminster, there is one issue on which they simply will not speak publicly.\n",
      "MPs are reluctant to criticise the Speaker\n",
      "It is on the relative merits of Commons Speaker Michael Martin, who will lead the review of the current system.\n",
      "Many MPs on all sides will privately point out Mr Martin has come to the end of the traditional period in office for a Speaker, and will express their bemusement at his refusal to show any sign of being ready to retire.\n",
      "Others have even gone so far as to question whether he really is the right man to lead the inquiry into MPs expenses, claiming he tends to support the status quo.\n",
      "They may be well wide of the mark, and Mr Speaker may yet preside over the most radical shake-up in transparency rules yet seen in Westminster.\n",
      "But, either way, just try getting anyone to say so on the record.\n",
      "Why are they so afraid to speak out? Just listen to Tory leader David Cameron when asked just such a question as he unveiled his proposals to publish his frontbenchers' expenses details.\n",
      "\"I want to make sure I am called tomorrow at Prime Minister's Questions,\" he joked. At least, I think it was a joke.\n",
      "\n"
     ]
    }
   ],
   "source": [
    "context = \"\"\n",
    "\n",
    "for i, document in enumerate(top_matches['documents'][0]):\n",
    "   context += f\"\\n{document}\\n\"\n",
    "   \n",
    "print(context)"
   ]
  },
  {
   "cell_type": "code",
   "execution_count": 16,
   "metadata": {},
   "outputs": [
    {
     "name": "stdout",
     "output_type": "stream",
     "text": [
      "Generated Response using OpenAI API:\n",
      "The Bulgaria suicide bombing case refers to the attack on an Israeli tourist bus at Burgas airport, which resulted in at least seven deaths and 34 injuries. Officials believe the bombing was executed by a male suicide bomber who carried fake US documents. Israeli Defence Minister Ehud Barak has stated that Lebanese Hezbollah was the direct perpetrator of the attack, suggesting it was conducted under Iran's auspices. The explosion occurred shortly after tourists from Israel boarded the bus. The incident has been interpreted as part of a broader conflict between Israel and Iran, possibly in retaliation for previous attacks on Iranian nuclear scientists. The suspected bomber was captured on CCTV footage walking around the terminal before the explosion. The Israeli government has indicated that they will respond forcefully to what they characterize as Iranian terror.\n"
     ]
    }
   ],
   "source": [
    "import openai\n",
    "# Set up the OpenAI API key\n",
    "openai.api_key = openai_key\n",
    "client = openai.Client()\n",
    "\n",
    "# Function to query OpenAI\n",
    "def query_with_context(query, context):\n",
    "    response = client.chat.completions.create(\n",
    "        model=\"gpt-4o-mini\",\n",
    "        messages=[\n",
    "            {\"role\": \"developer\", \"content\": \"You are a helpful assistant. You will given a query in following format - '{query:<query_text>, context:<contextual information>'. Answer the query only on the basis of the contectual information.\"},\n",
    "            {\"role\": \"user\", \"content\": f\"'query':{query}, \\n'context':{context}\"}\n",
    "        ],\n",
    "        temperature=0.7,\n",
    "        max_tokens=250,\n",
    "    )\n",
    "\n",
    "    return response.choices[0].message.content\n",
    "\n",
    "# Example usage\n",
    "response_openai = query_with_context(user_query, context)\n",
    "print(\"Generated Response using OpenAI API:\")\n",
    "print(response_openai)"
   ]
  },
  {
   "cell_type": "code",
   "execution_count": 27,
   "metadata": {},
   "outputs": [
    {
     "name": "stdout",
     "output_type": "stream",
     "text": [
      "\n",
      "Bulgaria blast: 'Suicide bomber' killed Israelis\n",
      "The bombing of an Israeli tourist bus in eastern Bulgaria was probably carried out by a male suicide bomber with fake US documents, officials say.\n",
      "At least seven people died and 34 were injured when the bus exploded at Burgas airport, by the Black Sea.\n",
      "Israel has sent planes to Burgas with doctors and officials to bring back the dead and injured.\n",
      "Israeli Defence Minister Ehud Barak said Lebanese Hezbollah was the direct perpetrator, under Iran's auspices.\n",
      "Five tourists died along with the Bulgarian bus driver and the suspected bomber. Officials had said a sixth Israeli died overnight but this was later corrected.\n",
      "The BBC's Jon Donnison, in Jerusalem, says the attack could be part of a covert but violent war between Israel and Iran, and there is a view among some analysts that this attack could be a response to a series of recent attacks on Iranian nuclear scientists.\n",
      "\"All the signs lead to Iran,\" Israeli Prime Minister Benjamin Netanyahu said in a statement on Wednesday. \"Israel will respond forcefully to Iranian terror.\"\n",
      "Israeli newspapers show a dramatic photograph of the tourist bus in flames, injured people covered in blood and shocked Israeli holiday-makers. \"Terror on vacation\" is the headline of Israel Hayom, while Yedioth Ahronoth has \"Target: Israelis\". A column in the daily Maariv questions whether this is \"Iranian Revenge\".\n",
      "Prime Minister Benjamin Netanyahu was quick to point the finger at Israel's arch-enemy. He also claimed this was the latest in a series of Iranian attempts to harm Israelis and Jews overseas - in Thailand, India, Georgia, Kenya, Cyprus and other locations.\n",
      "Other Israeli officials have made specific links to Hezbollah, the Iranian-backed Shia militant group based in Lebanon.\n",
      "Iran's state TV has rejected accusations of Tehran's involvement. However, this bombing does look set to escalate a shadow war with Israel. The Iranians blame Israel for the killing of several scientists associated with its controversial nuclear programme.\n",
      "Mr Barak said the attack resembled several recent attempted attacks on Israeli targets in India, Thailand, Azerbaijan, Kenya and Cyprus.\n",
      "But he said that he did not think there had been any specific prior information that the attack was imminent.\n",
      "An Iranian foreign ministry spokesman said on Thursday that Tehran strongly condemned \"all terrorist acts\".'Distressed crowds'\n",
      "The Israeli foreign ministry said the bus had been carrying tourists from a charter flight that arrived from Israel.\n",
      "Bulgarian officials on Thursday released CCTV footage of a man they suspect was the bomber. The man, who has very long hair and carries a backpack, is seen walking around the terminal and then leaving shortly before the blast happened.\n",
      "Israeli officials said passengers from a Tel Aviv-Burgas flight boarded the bus shortly after 17:00 local time (14:00 GMT) on Wednesday.\n",
      "\"I was on the bus and we had just sat down when after a few seconds we heard a really loud explosion,\" Gal Malka told Israel's army radio.\n",
      "\"The whole bus went up in flames,\" she said, adding that the explosion took place near the front of the bus.\n",
      "Bulgarian journalist Dobromir Doskacharov, who arrived at the scene about 30 minutes after the blast, said: \"I saw three buses completely burnt out - just the metal bars were left.\n",
      "\"There were crowds of people around, very distressed. One man said he saw decapitated heads. Others spoke of body parts flying through the air,\" Mr Dovkacharov said.\n",
      "The suicide bomber is said to be a man with a Michigan-issued US driver's licence which reports said may have been fake.\n",
      "Two of the wounded are in a serious condition and have been flown to the capital Sofia.\n",
      "Israeli forensic teams who arrived during the night are helping to identify the bodies.\n",
      "Wednesday's blast came on the 18th anniversary of a deadly attack on a Jewish community centre in Argentina. Israel blamed Iran for that attack - a claim denied by Tehran.\n",
      "US President Barack Obama described the bombing as a \"barbaric terrorist attack\".\n",
      "Meanwhile, former Israeli national security adviser Uzi Arad confirmed on Thursday, for the first time, that Israel had assassinated Hezbollah chief Imad Mughniyeh in 2008.\n",
      "Referring to the attack in Burgas, he told Israeli Army Radio: \"Now is Iran's revenge.\"\n",
      "Bulgaria is a popular tourist destination for Israelis.\n",
      "However, in January there were reports that Israel had asked Bulgaria to tighten security for Israeli tourists travelling by bus.\n",
      "This followed a reported discovery of a suspicious package found on a bus with Israeli tourists travelling from Turkey to Bulgaria.\n",
      "\n",
      "Libya unrest: Aid crisis grows on Tunisia border\n",
      "The situation on Libya's border with Tunisia has reached crisis point, as tens of thousands of foreigners flee unrest in the country, the UN says.\n",
      "Aid staff are battling to cope with an exodus that has seen some 140,000 people crossing into Tunisia and Egypt.\n",
      "The UN has suspended Libya from its Human Rights Council and has called for a mass humanitarian evacuation.\n",
      "Libyan leader Col Muammar Gaddafi has played down protests and is trying to regain control of areas in the west.\n",
      "He is facing a massive challenge to his 41-year rule, with protesters in control of towns in eastern Libya.\n",
      "Witnesses said pro-Gaddafi forces tried to retake the western cities of Zawiya, Misrata and Nalut on Monday but were repulsed by rebels helped by defecting army units.\n",
      "At the scene\n",
      "The centre of the city is not normal but it's fairly quiet and people would not be out and about if they thought there was an immediate chance of a violent change of regime. But while we were there a passer-by discreetly, barely stopping and without saying a word pressed a spent cartridge from an AK47 assault rifle into the hand of one of the BBC team. His message appeared to be: \"Don't let appearances deceive you.\"\n",
      "The regime controls the city centre but it feels different in some of the suburbs. In Tajoura, only 20 minutes or so by car from central Green Square, there's fury about what the regime has done and fear they might do it again. The BBC was given video recordings of a demonstration there last Friday after noon prayers. We could hear the protesters being shot at, some are killed. A man, dead or dying, is carried away with blood spraying out of a bullet wound in his head.\n",
      "In his interview with the BBC, Col Muammar Gaddafi said there were no demonstrations by Libyans, only an uprising incited by al-Qaeda. I've been to Tajoura and there people don't talk about jihadi Islam, they talk about freedom and an end to almost 42 years of rule by the colonel.\n",
      "There are fears in Zawiya that the city may be attacked from the air, but the rebels remained defiant.\n",
      "\"We're not here for power, authority or money,\" they said in a message aimed at Col Gaddafi.\n",
      "\"We are here for the cause of freedom and the price we are willing to pay is with our own blood. It's victory or death.\"\n",
      "Protesters holding Nalut and the town of Zintan, 145km (70 miles) south-west of Tripoli, both reported the approach of Gaddafi forces and said they feared fresh attacks.'Deep stress'\n",
      "In voting to suspend Libya from the UN Human Rights Council, the resolution - passed by consensus by the UN membership - accused Libya of committing gross and systematic violations of human rights.\n",
      "General Secretary Ban Ki-moon said: \"These UN actions send a strong and important message - a message of great consequence within the region and beyond - that there is no impunity, that those who commit crimes against humanity will be punished, that fundamental principles of justice and accountability shall prevail.\"\n",
      "The BBC's Barbara Plett at the UN says this resolution seals Col Gaddafi's isolation as it is the body that represents all member states - the one where Libya might have expected to have some support and it has none.\n",
      "The UN says the situation on the Tunisian-Libyan border has reached \"crisis point\"\n",
      "The UN High Commissioner for Refugees said an estimated 40,000 people, mostly Egyptians, were still waiting at the border trying to cross from Libya into Tunisia.\n",
      "It said it was urgently appealing, along with the International Organisation for Migration, for governments to engage in \"a massive humanitarian evacuation of tens of thousands of Egyptians and other third country nationals\".\n",
      "World Food Programme executive director Josette Sheeran told the BBC food was being brought in by road and air, and bought locally, but supplies were under \"deep stress\".\n",
      "\"This will be a very pressured situation for some time - that's why we have launched an emergency appeal for funds to back up the system here,\" she said.\n",
      "Tented transit camps are being set up hurriedly on the Tunisian side, while frantic efforts are being made to charter aircraft and ships to repatriate the stranded.\n",
      "In other developments:\n",
      "- The European Union is calling an extraordinary summit for 11 March to discuss the situation in Libya and unrest in other parts of North Africa and the Middle East\n",
      "- US Secretary of State Hillary Clinton, in testimony to the US House of Representatives Foreign Affairs Committee, urged lawmakers not to cut funds on dealing with overseas crises. She said Libya \"could become a peaceful democracy or it could face protracted civil war\"\n",
      "- The Red Cross is requesting access to western Libya, amid unconfirmed reports of attacks on doctors and summary killings of patients\n",
      "Col Gaddafi gave an interview in the capital Tripoli for BBC Middle East editor Jeremy Bowen, US TV network ABC and the UK's Sunday Times newspaper.\n",
      "Col Gaddafi accused Western countries of abandoning Libya and said that they had no morals and wanted to colonise the country.\n",
      "When asked whether he would resign, he said he could not step down as he did not have an official position - and insisted that the power in the country was with the people.\n",
      "Col Gaddafi challenged those, including UK Prime Minister David Cameron, who have accused him of having money abroad, to produce evidence. He said he would \"put two fingers in their eye\".\n",
      "I would think Mr Obama would want at least one big ally in the region to join in if any action was taken”\n",
      "Col Gaddafi said true Libyans had not demonstrated but those who had come on to the streets were under the influence of drugs supplied by Osama Bin Laden's al-Qaeda network.\n",
      "But in response to the interview, the US ambassador to the UN Susan Rice said the fact he was laughing at questions while \"slaughtering his own people\" showed that he was disconnected from reality.\n",
      "Col Gaddafi's son, Saif al-Islam Gaddafi, on Tuesday condemned Ms Rice's comments and added that Mr Cameron's handling of the situation was \"like a joke\".\n",
      "Mr Cameron has frozen Gaddafi assets and called for the Libyan leader to go.\n",
      "Saif Gaddafi told Sky News that the east had not fallen and he denied that the people there wanted his father out, saying it was just local difficulties.\n",
      "\n",
      "Despatches from the House of Commons\n",
      "1030 GMT, THURSDAY 7 FEBRUARY\n",
      "Ever wondered what happens to MPs who have managed to hang on to their seats for years without ever making it onto the frontbech?\n",
      "The Lib Dems Paul Keetch, who is to stand down at the next election after suffering a heart scare last year, offers the following depressing insight.\n",
      "Mr Keetch suffered a heart attack on an a transatlantic flight\n",
      "\"You look around the House of Commons and see some members who have been there for 15, 20, 25 years and who are frankly doing nothing, particularly the ones with large majorities.\n",
      "\"It is not part of my plan to be hanging around the chamber waiting for death. Seeing the awful number of MPs in all parties who really should have moved on and done something else in their lives has spurred me on,\" he told the House magazine.\n",
      "That's cheered me up.\n",
      "1030 GMT, WEDNESDAY 6 FEBRUARY\n",
      "Good to see at least one MP has got her priorities right - even if it does land her in trouble with her boss.\n",
      "Tory Nadine Dorries reveals in her blog that, just as she was about to give a talk at a local school she received a phone call from the party's chief whip telling her David Cameron was calling a meeting of MPs for 10.15 and to be there.\n",
      "Ms Dorries risked upsetting David Cameron\n",
      "\"I couldn't let the teachers or the students down, so I sent my apologies and went into the school. That's me in trouble again then,\" she said.\n",
      "Ah yes, but good choice. After all, you only have the luxury of being able to bunk off such meetings if you are an MP in the first place.\n",
      "And suggesting you put local voters and their children ahead of the party leader is a good start.\n",
      "1230 GMT, TUESDAY 5 FEBRUARY\n",
      "Politicians are not normally known for their ability to keep their opinions to themselves.\n",
      "But, as the row over MPs expenses continues to rumble around Westminster, there is one issue on which they simply will not speak publicly.\n",
      "MPs are reluctant to criticise the Speaker\n",
      "It is on the relative merits of Commons Speaker Michael Martin, who will lead the review of the current system.\n",
      "Many MPs on all sides will privately point out Mr Martin has come to the end of the traditional period in office for a Speaker, and will express their bemusement at his refusal to show any sign of being ready to retire.\n",
      "Others have even gone so far as to question whether he really is the right man to lead the inquiry into MPs expenses, claiming he tends to support the status quo.\n",
      "They may be well wide of the mark, and Mr Speaker may yet preside over the most radical shake-up in transparency rules yet seen in Westminster.\n",
      "But, either way, just try getting anyone to say so on the record.\n",
      "Why are they so afraid to speak out? Just listen to Tory leader David Cameron when asked just such a question as he unveiled his proposals to publish his frontbenchers' expenses details.\n",
      "\"I want to make sure I am called tomorrow at Prime Minister's Questions,\" he joked. At least, I think it was a joke.\n",
      "\n",
      "Generated Response using Ollama API:\n",
      "The context does not provide any information about the Bulgaria suicide bombing case, so I cannot answer this question from the context.\n"
     ]
    }
   ],
   "source": [
    "import ollama\n",
    "\n",
    "# Function to query Ollama Gemma\n",
    "def query_with_context_ollama(query, context):\n",
    "    prompt = f\"\"\"\n",
    "    You are provided with the following context.\n",
    "    Context: {context}\n",
    "\n",
    "    Based on the above context, answer the user's query as accurately as possible.\n",
    "    Query: {query}\n",
    "    \"\"\"\n",
    "    \n",
    "    response = ollama.chat(\n",
    "        model=\"gemma:2b\",\n",
    "        messages=[{\n",
    "            \"role\": \"user\",\n",
    "            \"content\": prompt\n",
    "        }]\n",
    "    )\n",
    "\n",
    "    print(context)\n",
    "    return response[\"message\"][\"content\"]\n",
    "\n",
    "# Example usage\n",
    "response_ollama = query_with_context_ollama(user_query, context)\n",
    "print(\"Generated Response using Ollama API:\")\n",
    "print(response_ollama)"
   ]
  },
  {
   "cell_type": "code",
   "execution_count": null,
   "metadata": {},
   "outputs": [
    {
     "name": "stderr",
     "output_type": "stream",
     "text": [
      "/var/folders/c3/wt1h7fz910v7vxy5x88m2h_r0000gn/T/ipykernel_3112/2467646011.py:5: LangChainDeprecationWarning: The class `OpenAI` was deprecated in LangChain 0.0.10 and will be removed in 1.0. An updated version of the class exists in the :class:`~langchain-openai package and should be used instead. To use it run `pip install -U :class:`~langchain-openai` and import as `from :class:`~langchain_openai import OpenAI``.\n",
      "  llm = OpenAI(api_key=openai_key)\n"
     ]
    },
    {
     "ename": "AttributeError",
     "evalue": "'OpenAI' object has no attribute 'as_retriever'",
     "output_type": "error",
     "traceback": [
      "\u001b[0;31m---------------------------------------------------------------------------\u001b[0m",
      "\u001b[0;31mAttributeError\u001b[0m                            Traceback (most recent call last)",
      "Cell \u001b[0;32mIn[31], line 9\u001b[0m\n\u001b[1;32m      5\u001b[0m llm \u001b[38;5;241m=\u001b[39m OpenAI(api_key\u001b[38;5;241m=\u001b[39mopenai_key)\n\u001b[1;32m      7\u001b[0m \u001b[38;5;66;03m# Create the RetrievalQA chain\u001b[39;00m\n\u001b[1;32m      8\u001b[0m rag_chain \u001b[38;5;241m=\u001b[39m RetrievalQA(\n\u001b[0;32m----> 9\u001b[0m     retriever\u001b[38;5;241m=\u001b[39m\u001b[43mclient\u001b[49m\u001b[38;5;241;43m.\u001b[39;49m\u001b[43mas_retriever\u001b[49m(),\n\u001b[1;32m     10\u001b[0m     llm\u001b[38;5;241m=\u001b[39mllm,\n\u001b[1;32m     11\u001b[0m     return_source_documents\u001b[38;5;241m=\u001b[39m\u001b[38;5;28;01mTrue\u001b[39;00m\n\u001b[1;32m     12\u001b[0m )\n\u001b[1;32m     14\u001b[0m \u001b[38;5;66;03m# Function to perform RAG-based query\u001b[39;00m\n\u001b[1;32m     15\u001b[0m \u001b[38;5;28;01mdef\u001b[39;00m \u001b[38;5;21mrag_query\u001b[39m(query):\n",
      "\u001b[0;31mAttributeError\u001b[0m: 'OpenAI' object has no attribute 'as_retriever'"
     ]
    }
   ],
   "source": [
    "from langchain.chains import RetrievalQA\n",
    "from langchain.llms import OpenAI\n",
    "from langchain.vectorstores import Chroma\n",
    "\n",
    "# Initialize the vector store (ChromaDB in this case)\n",
    "vector_store = Chroma(persist_directory='./chromaDB', embedding_function=embeddings.embed_query)\n",
    "\n",
    "# Initialize the language model (OpenAI in this case)\n",
    "llm = OpenAI(api_key=openai_key)\n",
    "\n",
    "# Create the RetrievalQA chain\n",
    "rag_chain = RetrievalQA(\n",
    "    retriever=vector_store.as_retriever(),\n",
    "    llm=llm,\n",
    "    return_source_documents=True\n",
    ")\n",
    "\n",
    "# Function to perform RAG-based query\n",
    "def rag_query(query):\n",
    "    response = rag_chain(query)\n",
    "    return response\n",
    "\n",
    "# Example usage\n",
    "query = \"Do you know anything about Bulgaria suicide bombing case?\"\n",
    "response = rag_query(query)\n",
    "\n",
    "print(\"Generated Response:\")\n",
    "print(response['result'])\n",
    "\n",
    "print(\"\\nSource Documents:\")\n",
    "for doc in response['source_documents']:\n",
    "    print(doc)"
   ]
  },
  {
   "cell_type": "code",
   "execution_count": null,
   "metadata": {},
   "outputs": [],
   "source": []
  },
  {
   "cell_type": "code",
   "execution_count": null,
   "metadata": {},
   "outputs": [],
   "source": []
  },
  {
   "cell_type": "code",
   "execution_count": null,
   "metadata": {},
   "outputs": [],
   "source": []
  },
  {
   "cell_type": "code",
   "execution_count": 8,
   "metadata": {},
   "outputs": [
    {
     "name": "stdout",
     "output_type": "stream",
     "text": [
      "0\n"
     ]
    }
   ],
   "source": []
  },
  {
   "cell_type": "code",
   "execution_count": null,
   "metadata": {},
   "outputs": [],
   "source": []
  }
 ],
 "metadata": {
  "kernelspec": {
   "display_name": "Python 3 (ipykernel)",
   "language": "python",
   "name": "python3"
  },
  "language_info": {
   "codemirror_mode": {
    "name": "ipython",
    "version": 3
   },
   "file_extension": ".py",
   "mimetype": "text/x-python",
   "name": "python",
   "nbconvert_exporter": "python",
   "pygments_lexer": "ipython3",
   "version": "3.10.16"
  }
 },
 "nbformat": 4,
 "nbformat_minor": 2
}
