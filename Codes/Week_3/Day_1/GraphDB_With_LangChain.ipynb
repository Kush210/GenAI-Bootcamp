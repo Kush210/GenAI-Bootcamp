{
  "cells": [
    {
      "cell_type": "markdown",
      "metadata": {
        "id": "qaFu6XS8qOiV"
      },
      "source": [
        "### Build a Question Answering application over a Graph Database"
      ]
    },
    {
      "cell_type": "code",
      "execution_count": 81,
      "metadata": {
        "id": "OHpawzbSqOiX"
      },
      "outputs": [],
      "source": [
        "import os\n",
        "from dotenv import load_dotenv\n",
        "load_dotenv()\n",
        "\n",
        "openai_api_key=os.getenv(\"OPENAI_API_KEY\")\n",
        "NEO4J_URI=os.getenv(\"NEO4J_URI\")\n",
        "NEO4J_USERNAME=os.getenv(\"NEO4J_USERNAME\")\n",
        "NEO4J_PASSWORD= os.getenv(\"NEO4J_PASSWORD\")"
      ]
    },
    {
      "cell_type": "code",
      "execution_count": 26,
      "metadata": {
        "id": "HbNQEkNSqOiY",
        "outputId": "32c263e6-2847-490f-8755-60a178373bc5",
        "colab": {
          "base_uri": "https://localhost:8080/"
        }
      },
      "outputs": [
        {
          "output_type": "execute_result",
          "data": {
            "text/plain": [
              "<langchain_community.graphs.neo4j_graph.Neo4jGraph at 0x7fc444ab5350>"
            ]
          },
          "metadata": {},
          "execution_count": 26
        }
      ],
      "source": [
        "from langchain_community.graphs import Neo4jGraph\n",
        "graph=Neo4jGraph(url=NEO4J_URI,username=NEO4J_USERNAME,password=NEO4J_PASSWORD)\n",
        "graph"
      ]
    },
    {
      "cell_type": "code",
      "execution_count": 174,
      "metadata": {
        "id": "4JjCHzS_qOiZ"
      },
      "outputs": [],
      "source": [
        "## Dataset Moview\n",
        "moview_query=\"\"\"\n",
        "LOAD CSV WITH HEADERS FROM\n",
        "'https://raw.githubusercontent.com/ashishkumarsahani/vettura-genai/refs/heads/main/Codes/Week_3/Day_1/graph-dataset/movies_small.csv' as row\n",
        "\n",
        "MERGE (m:Movie {movieId: toInteger(row.movieId)})\n",
        "SET m.title = row.title,\n",
        "    m.released = date(row.released),\n",
        "    m.imdbRating = toFloat(row.imdbRating),\n",
        "    m.genre = row.genres\n",
        "\n",
        "FOREACH (director IN split(row.director, '|') |\n",
        "    MERGE (p:Person {name: trim(director)})\n",
        "    MERGE (p)-[:DIRECTED]->(m)\n",
        ")\n",
        "\n",
        "FOREACH (actor IN split(row.actors, '|') |\n",
        "    MERGE (p:Person {name: trim(actor)})\n",
        "    MERGE (p)-[:ACTED_IN]->(m)\n",
        ")\n",
        "\n",
        "FOREACH (genre IN split(row.genres, '|') |\n",
        "    MERGE (g:Genre {name: trim(genre)})\n",
        "    MERGE (m)-[:IN_GENRE]->(g)\n",
        ")\n",
        "\n",
        "\n",
        "\"\"\""
      ]
    },
    {
      "cell_type": "code",
      "execution_count": 175,
      "metadata": {
        "id": "_gTHLCuVqOiZ",
        "outputId": "4f447e8a-2e80-4b1e-8ded-49503a9703b8",
        "colab": {
          "base_uri": "https://localhost:8080/"
        }
      },
      "outputs": [
        {
          "output_type": "stream",
          "name": "stdout",
          "text": [
            "\n",
            "LOAD CSV WITH HEADERS FROM\n",
            "'https://raw.githubusercontent.com/ashishkumarsahani/vettura-genai/refs/heads/main/Codes/Week_3/Day_1/graph-dataset/movies_small.csv' as row\n",
            "\n",
            "MERGE (m:Movie {movieId: toInteger(row.movieId)}) \n",
            "SET m.title = row.title,\n",
            "    m.released = date(row.released),\n",
            "    m.imdbRating = toFloat(row.imdbRating),\n",
            "    m.genre = row.genres\n",
            "\n",
            "FOREACH (director IN split(row.director, '|') |\n",
            "    MERGE (p:Person {name: trim(director)})\n",
            "    MERGE (p)-[:DIRECTED]->(m)\n",
            ")\n",
            "\n",
            "FOREACH (actor IN split(row.actors, '|') |  \n",
            "    MERGE (p:Person {name: trim(actor)})\n",
            "    MERGE (p)-[:ACTED_IN]->(m)       \n",
            ")\n",
            "\n",
            "FOREACH (genre IN split(row.genres, '|') |\n",
            "    MERGE (g:Genre {name: trim(genre)})\n",
            "    MERGE (m)-[:IN_GENRE]->(g)\n",
            ")\n",
            "\n",
            "\n",
            "\n"
          ]
        }
      ],
      "source": [
        "print(moview_query)"
      ]
    },
    {
      "cell_type": "code",
      "execution_count": 176,
      "metadata": {
        "id": "3wLzeCXZqOia",
        "outputId": "1b8b1991-321c-4b6b-c67d-fc260cbc436d",
        "colab": {
          "base_uri": "https://localhost:8080/"
        }
      },
      "outputs": [
        {
          "output_type": "execute_result",
          "data": {
            "text/plain": [
              "[]"
            ]
          },
          "metadata": {},
          "execution_count": 176
        }
      ],
      "source": [
        "graph.query(moview_query)"
      ]
    },
    {
      "cell_type": "code",
      "execution_count": 177,
      "metadata": {
        "id": "zD014vOhqOia",
        "outputId": "99ac0f31-1a39-47eb-8a38-36bca29564dc",
        "colab": {
          "base_uri": "https://localhost:8080/"
        }
      },
      "outputs": [
        {
          "output_type": "stream",
          "name": "stdout",
          "text": [
            "Node properties:\n",
            "Person {name: STRING}\n",
            "Movie {id: STRING, released: DATE, title: STRING, imdbRating: FLOAT, movieId: INTEGER, genre: STRING}\n",
            "Genre {name: STRING}\n",
            "Relationship properties:\n",
            "\n",
            "The relationships:\n",
            "(:Person)-[:DIRECTED]->(:Movie)\n",
            "(:Person)-[:ACTED_IN]->(:Movie)\n",
            "(:Movie)-[:IN_GENRE]->(:Genre)\n"
          ]
        }
      ],
      "source": [
        "graph.refresh_schema()\n",
        "print(graph.schema)"
      ]
    },
    {
      "cell_type": "code",
      "source": [
        "from langchain_openai import ChatOpenAI\n",
        "llm=ChatOpenAI(api_key=openai_api_key,model_name=\"gpt-4o-mini\")\n",
        "llm"
      ],
      "metadata": {
        "colab": {
          "base_uri": "https://localhost:8080/"
        },
        "id": "hzwJ4lgnuXoh",
        "outputId": "e25acf10-055f-4500-f2f5-824417a1bb5d"
      },
      "execution_count": 178,
      "outputs": [
        {
          "output_type": "execute_result",
          "data": {
            "text/plain": [
              "ChatOpenAI(client=<openai.resources.chat.completions.Completions object at 0x7fc4409fc9d0>, async_client=<openai.resources.chat.completions.AsyncCompletions object at 0x7fc441389950>, root_client=<openai.OpenAI object at 0x7fc44198e0d0>, root_async_client=<openai.AsyncOpenAI object at 0x7fc4433ba650>, model_name='gpt-4o-mini', model_kwargs={}, openai_api_key=SecretStr('**********'))"
            ]
          },
          "metadata": {},
          "execution_count": 178
        }
      ]
    },
    {
      "cell_type": "code",
      "execution_count": 179,
      "metadata": {
        "id": "h_pP9wjgqOib",
        "outputId": "97c52879-3b8b-4102-b3d1-9732be1680a2",
        "colab": {
          "base_uri": "https://localhost:8080/"
        }
      },
      "outputs": [
        {
          "output_type": "execute_result",
          "data": {
            "text/plain": [
              "GraphCypherQAChain(verbose=True, graph=<langchain_community.graphs.neo4j_graph.Neo4jGraph object at 0x7fc444ab5350>, cypher_generation_chain=LLMChain(verbose=False, prompt=PromptTemplate(input_variables=['question', 'schema'], input_types={}, partial_variables={}, template='Task:Generate Cypher statement to query a graph database.\\nInstructions:\\nUse only the provided relationship types and properties in the schema.\\nDo not use any other relationship types or properties that are not provided.\\nSchema:\\n{schema}\\nNote: Do not include any explanations or apologies in your responses.\\nDo not respond to any questions that might ask anything else than for you to construct a Cypher statement.\\nDo not include any text except the generated Cypher statement.\\n\\nThe question is:\\n{question}'), llm=ChatOpenAI(client=<openai.resources.chat.completions.Completions object at 0x7fc4409fc9d0>, async_client=<openai.resources.chat.completions.AsyncCompletions object at 0x7fc441389950>, root_client=<openai.OpenAI object at 0x7fc44198e0d0>, root_async_client=<openai.AsyncOpenAI object at 0x7fc4433ba650>, model_name='gpt-4o-mini', model_kwargs={}, openai_api_key=SecretStr('**********')), output_parser=StrOutputParser(), llm_kwargs={}), qa_chain=LLMChain(verbose=False, prompt=PromptTemplate(input_variables=['context', 'question'], input_types={}, partial_variables={}, template=\"You are an assistant that helps to form nice and human understandable answers.\\nThe information part contains the provided information that you must use to construct an answer.\\nThe provided information is authoritative, you must never doubt it or try to use your internal knowledge to correct it.\\nMake the answer sound as a response to the question. Do not mention that you based the result on the given information.\\nHere is an example:\\n\\nQuestion: Which managers own Neo4j stocks?\\nContext:[manager:CTL LLC, manager:JANE STREET GROUP LLC]\\nHelpful Answer: CTL LLC, JANE STREET GROUP LLC owns Neo4j stocks.\\n\\nFollow this example when generating answers.\\nIf the provided information is empty, say that you don't know the answer.\\nInformation:\\n{context}\\n\\nQuestion: {question}\\nHelpful Answer:\"), llm=ChatOpenAI(client=<openai.resources.chat.completions.Completions object at 0x7fc4409fc9d0>, async_client=<openai.resources.chat.completions.AsyncCompletions object at 0x7fc441389950>, root_client=<openai.OpenAI object at 0x7fc44198e0d0>, root_async_client=<openai.AsyncOpenAI object at 0x7fc4433ba650>, model_name='gpt-4o-mini', model_kwargs={}, openai_api_key=SecretStr('**********')), output_parser=StrOutputParser(), llm_kwargs={}), graph_schema='Node properties are the following:\\nPerson {name: STRING},Movie {id: STRING, released: DATE, title: STRING, imdbRating: FLOAT, movieId: INTEGER, genre: STRING},Genre {name: STRING}\\nRelationship properties are the following:\\n\\nThe relationships are the following:\\n(:Person)-[:DIRECTED]->(:Movie),(:Person)-[:ACTED_IN]->(:Movie),(:Movie)-[:IN_GENRE]->(:Genre)', allow_dangerous_requests=True)"
            ]
          },
          "metadata": {},
          "execution_count": 179
        }
      ],
      "source": [
        "from langchain.chains import GraphCypherQAChain\n",
        "chain=GraphCypherQAChain.from_llm(graph=graph,llm=llm,verbose=True, allow_dangerous_requests=True)\n",
        "chain"
      ]
    },
    {
      "cell_type": "code",
      "execution_count": 180,
      "metadata": {
        "id": "cCC7FfYjqOib",
        "outputId": "7b89a96d-422c-4ce7-b9a5-e12a904f6386",
        "colab": {
          "base_uri": "https://localhost:8080/"
        }
      },
      "outputs": [
        {
          "output_type": "stream",
          "name": "stdout",
          "text": [
            "\n",
            "\n",
            "\u001b[1m> Entering new GraphCypherQAChain chain...\u001b[0m\n",
            "Generated Cypher:\n",
            "\u001b[32;1m\u001b[1;3mMATCH (director:Person)-[:DIRECTED]->(movie:Movie {title: 'Casino'}) RETURN director.name\u001b[0m\n",
            "Full Context:\n",
            "\u001b[32;1m\u001b[1;3m[{'director.name': 'Martin Scorsese'}, {'director.name': 'Martin Scorsese'}, {'director.name': 'Martin Scorsese'}]\u001b[0m\n",
            "\n",
            "\u001b[1m> Finished chain.\u001b[0m\n"
          ]
        },
        {
          "output_type": "execute_result",
          "data": {
            "text/plain": [
              "{'query': 'Who was the director of the movie Casino',\n",
              " 'result': 'The director of the movie Casino was Martin Scorsese.'}"
            ]
          },
          "metadata": {},
          "execution_count": 180
        }
      ],
      "source": [
        "response=chain.invoke({\"query\":\"Who was the director of the movie Casino\"})\n",
        "response"
      ]
    },
    {
      "cell_type": "code",
      "execution_count": 181,
      "metadata": {
        "id": "_YaoQY74qOib",
        "outputId": "d3d89ed2-7eb5-4be5-ed75-c78c5479631b",
        "colab": {
          "base_uri": "https://localhost:8080/"
        }
      },
      "outputs": [
        {
          "output_type": "stream",
          "name": "stdout",
          "text": [
            "\n",
            "\n",
            "\u001b[1m> Entering new GraphCypherQAChain chain...\u001b[0m\n",
            "Generated Cypher:\n",
            "\u001b[32;1m\u001b[1;3m\n",
            "MATCH (p:Person)-[:ACTED_IN]->(m:Movie {title: 'Casino'})\n",
            "RETURN p.name\n",
            "\u001b[0m\n",
            "Full Context:\n",
            "\u001b[32;1m\u001b[1;3m[{'p.name': 'Robert De Niro'}, {'p.name': 'Joe Pesci'}, {'p.name': 'Sharon Stone'}, {'p.name': 'James Woods'}, {'p.name': 'Robert De Niro'}, {'p.name': 'Joe Pesci'}, {'p.name': 'Sharon Stone'}, {'p.name': 'James Woods'}, {'p.name': 'Robert De Niro'}, {'p.name': 'Joe Pesci'}]\u001b[0m\n",
            "\n",
            "\u001b[1m> Finished chain.\u001b[0m\n"
          ]
        },
        {
          "output_type": "execute_result",
          "data": {
            "text/plain": [
              "{'query': 'Who were the actors of the movie Casino',\n",
              " 'result': 'The actors of the movie Casino include Robert De Niro, Joe Pesci, Sharon Stone, and James Woods.'}"
            ]
          },
          "metadata": {},
          "execution_count": 181
        }
      ],
      "source": [
        "response=chain.invoke({\"query\":\"Who were the actors of the movie Casino\"})\n",
        "response"
      ]
    },
    {
      "cell_type": "code",
      "execution_count": 182,
      "metadata": {
        "id": "j_Q-1nbvqOib",
        "outputId": "2acf1982-f748-4560-8b06-5b6ab29b741a",
        "colab": {
          "base_uri": "https://localhost:8080/"
        }
      },
      "outputs": [
        {
          "output_type": "stream",
          "name": "stdout",
          "text": [
            "\n",
            "\n",
            "\u001b[1m> Entering new GraphCypherQAChain chain...\u001b[0m\n",
            "Generated Cypher:\n",
            "\u001b[32;1m\u001b[1;3mcypher\n",
            "MATCH (p:Person) RETURN COUNT(p) AS artistCount\n",
            "\u001b[0m\n",
            "Full Context:\n",
            "\u001b[32;1m\u001b[1;3m[{'artistCount': 1239}]\u001b[0m\n",
            "\n",
            "\u001b[1m> Finished chain.\u001b[0m\n"
          ]
        },
        {
          "output_type": "execute_result",
          "data": {
            "text/plain": [
              "{'query': 'How many artists are there?', 'result': 'There are 1,239 artists.'}"
            ]
          },
          "metadata": {},
          "execution_count": 182
        }
      ],
      "source": [
        "response=chain.invoke({\"query\":\"How many artists are there?\"})\n",
        "response"
      ]
    },
    {
      "cell_type": "code",
      "execution_count": 183,
      "metadata": {
        "id": "jav3lqpQqOib",
        "outputId": "45753d3d-39d3-4df0-8824-d612599cbaba",
        "colab": {
          "base_uri": "https://localhost:8080/"
        }
      },
      "outputs": [
        {
          "output_type": "stream",
          "name": "stdout",
          "text": [
            "\n",
            "\n",
            "\u001b[1m> Entering new GraphCypherQAChain chain...\u001b[0m\n",
            "Generated Cypher:\n",
            "\u001b[32;1m\u001b[1;3mcypher\n",
            "MATCH (p:Person {name: 'Tom Hanks'})-[:ACTED_IN]->(m:Movie)\n",
            "RETURN COUNT(m) AS moviesActedIn\n",
            "\u001b[0m\n",
            "Full Context:\n",
            "\u001b[32;1m\u001b[1;3m[{'moviesActedIn': 6}]\u001b[0m\n",
            "\n",
            "\u001b[1m> Finished chain.\u001b[0m\n"
          ]
        },
        {
          "output_type": "execute_result",
          "data": {
            "text/plain": [
              "{'query': 'How many movies has Tom Hanks acted in',\n",
              " 'result': \"I don't know the answer.\"}"
            ]
          },
          "metadata": {},
          "execution_count": 183
        }
      ],
      "source": [
        "response=chain.invoke({\"query\":\"How many movies has Tom Hanks acted in\"})\n",
        "response"
      ]
    },
    {
      "cell_type": "code",
      "execution_count": 223,
      "metadata": {
        "id": "RqMrOnJVqOic"
      },
      "outputs": [],
      "source": [
        "examples = [\n",
        "    {\n",
        "        \"question\": \"How many artists are there?\",\n",
        "        \"query\": \"MATCH (a:Person)-[:ACTED_IN]->(:Movie) RETURN count(DISTINCT a)\",\n",
        "    },\n",
        "    {\n",
        "        \"question\": \"Which actors played in the movie Casino?\",\n",
        "        \"query\": \"MATCH (m:Movie {{title: 'Casino'}})<-[:ACTED_IN]-(a) RETURN a.name\",\n",
        "    },\n",
        "    {\n",
        "        \"question\": \"List all the genres of the movie Schindler's List\",\n",
        "        \"query\": \"MATCH (m:Movie {{title: 'Schindler\\\\'s List'}})-[:IN_GENRE]->(g:Genre) RETURN g.name\",\n",
        "    },\n",
        "    {\n",
        "        \"question\": \"Which actors have worked in movies from both the comedy and action genres?\",\n",
        "        \"query\": \"MATCH (a:Person)-[:ACTED_IN]->(:Movie)-[:IN_GENRE]->(g1:Genre), (a)-[:ACTED_IN]->(:Movie)-[:IN_GENRE]->(g2:Genre) WHERE g1.name = 'Comedy' AND g2.name = 'Action' RETURN DISTINCT a.name\",\n",
        "    },\n",
        "    {\n",
        "        \"question\": \"Which directors have made movies with at least three different actors named 'John'?\",\n",
        "        \"query\": \"MATCH (d:Person)-[:DIRECTED]->(m:Movie)<-[:ACTED_IN]-(a:Person) WHERE a.name STARTS WITH 'John' WITH d, COUNT(DISTINCT a) AS JohnsCount WHERE JohnsCount >= 3 RETURN d.name\",\n",
        "    },\n",
        "    {\n",
        "        \"question\": \"Identify movies where directors also played a role in the film.\",\n",
        "        \"query\": \"MATCH (p:Person)-[:DIRECTED]->(m:Movie), (p)-[:ACTED_IN]->(m) RETURN m.title, p.name\",\n",
        "    },\n",
        "    {\n",
        "        \"question\": \"Find the actor with the highest number of movies in the database.\",\n",
        "        \"query\": \"MATCH (a:Actor)-[:ACTED_IN]->(m:Movie) RETURN a.name, COUNT(m) AS movieCount ORDER BY movieCount DESC LIMIT 1\",\n",
        "    },\n",
        "]"
      ]
    },
    {
      "cell_type": "code",
      "execution_count": 224,
      "metadata": {
        "id": "KU2p5wRiqOic"
      },
      "outputs": [],
      "source": [
        "from langchain_core.prompts import FewShotPromptTemplate,PromptTemplate\n",
        "from langchain_core.example_selectors import SemanticSimilarityExampleSelector\n",
        "from langchain_neo4j import Neo4jVector\n",
        "from langchain_openai import OpenAIEmbeddings\n",
        "\n",
        "example_prompt=PromptTemplate.from_template(\n",
        "    \"User input:{question}\\n Cypher query:{query}\"\n",
        ")\n",
        "\n",
        "prompt=FewShotPromptTemplate(\n",
        "    examples=examples,\n",
        "    example_prompt=example_prompt,\n",
        "    prefix=\"You are a Neo4j expert. Given an input question,create a syntactically very accurate Cypher query.\",\n",
        "    suffix=\"User input: {question}\\nCypher query: \",\n",
        "    input_variables=[\"question\"]\n",
        ")"
      ]
    },
    {
      "cell_type": "code",
      "execution_count": 225,
      "metadata": {
        "id": "bcl_s2CAqOic",
        "outputId": "431b7d97-bdb5-46fa-f655-24a20160d7f0",
        "colab": {
          "base_uri": "https://localhost:8080/"
        }
      },
      "outputs": [
        {
          "output_type": "stream",
          "name": "stdout",
          "text": [
            "You are a Neo4j expert. Given an input question,create a syntactically very accurate Cypher query.\n",
            "\n",
            "User input:How many artists are there?\n",
            " Cypher query:MATCH (a:Person)-[:ACTED_IN]->(:Movie) RETURN count(DISTINCT a)\n",
            "\n",
            "User input:Which actors played in the movie Casino?\n",
            " Cypher query:MATCH (m:Movie {title: 'Casino'})<-[:ACTED_IN]-(a) RETURN a.name\n",
            "\n",
            "User input:List all the genres of the movie Schindler's List\n",
            " Cypher query:MATCH (m:Movie {title: 'Schindler\\'s List'})-[:IN_GENRE]->(g:Genre) RETURN g.name\n",
            "\n",
            "User input:Which actors have worked in movies from both the comedy and action genres?\n",
            " Cypher query:MATCH (a:Person)-[:ACTED_IN]->(:Movie)-[:IN_GENRE]->(g1:Genre), (a)-[:ACTED_IN]->(:Movie)-[:IN_GENRE]->(g2:Genre) WHERE g1.name = 'Comedy' AND g2.name = 'Action' RETURN DISTINCT a.name\n",
            "\n",
            "User input:Which directors have made movies with at least three different actors named 'John'?\n",
            " Cypher query:MATCH (d:Person)-[:DIRECTED]->(m:Movie)<-[:ACTED_IN]-(a:Person) WHERE a.name STARTS WITH 'John' WITH d, COUNT(DISTINCT a) AS JohnsCount WHERE JohnsCount >= 3 RETURN d.name\n",
            "\n",
            "User input:Identify movies where directors also played a role in the film.\n",
            " Cypher query:MATCH (p:Person)-[:DIRECTED]->(m:Movie), (p)-[:ACTED_IN]->(m) RETURN m.title, p.name\n",
            "\n",
            "User input:Find the actor with the highest number of movies in the database.\n",
            " Cypher query:MATCH (a:Actor)-[:ACTED_IN]->(m:Movie) RETURN a.name, COUNT(m) AS movieCount ORDER BY movieCount DESC LIMIT 1\n",
            "\n",
            "User input: How many artists are there?\n",
            "Cypher query: \n"
          ]
        }
      ],
      "source": [
        "print(prompt.format(question=\"How many artists are there?\"))"
      ]
    },
    {
      "cell_type": "code",
      "source": [
        "res = chain.invoke(prompt.format(question=\"How many artists are there?\"))"
      ],
      "metadata": {
        "colab": {
          "base_uri": "https://localhost:8080/"
        },
        "id": "QKY_27QTxiIz",
        "outputId": "495340b6-53ef-424c-e4ed-4e5a1f503385"
      },
      "execution_count": 226,
      "outputs": [
        {
          "output_type": "stream",
          "name": "stdout",
          "text": [
            "\n",
            "\n",
            "\u001b[1m> Entering new GraphCypherQAChain chain...\u001b[0m\n",
            "Generated Cypher:\n",
            "\u001b[32;1m\u001b[1;3mMATCH (a:Person) RETURN count(DISTINCT a)\u001b[0m\n",
            "Full Context:\n",
            "\u001b[32;1m\u001b[1;3m[{'count(DISTINCT a)': 1239}]\u001b[0m\n",
            "\n",
            "\u001b[1m> Finished chain.\u001b[0m\n"
          ]
        }
      ]
    },
    {
      "cell_type": "code",
      "source": [
        "res"
      ],
      "metadata": {
        "colab": {
          "base_uri": "https://localhost:8080/"
        },
        "id": "yZ7ooTzw1DH0",
        "outputId": "7c4ea3bd-5609-437a-c583-23dc6d4ea6e2"
      },
      "execution_count": 227,
      "outputs": [
        {
          "output_type": "execute_result",
          "data": {
            "text/plain": [
              "{'query': \"You are a Neo4j expert. Given an input question,create a syntactically very accurate Cypher query.\\n\\nUser input:How many artists are there?\\n Cypher query:MATCH (a:Person)-[:ACTED_IN]->(:Movie) RETURN count(DISTINCT a)\\n\\nUser input:Which actors played in the movie Casino?\\n Cypher query:MATCH (m:Movie {title: 'Casino'})<-[:ACTED_IN]-(a) RETURN a.name\\n\\nUser input:List all the genres of the movie Schindler's List\\n Cypher query:MATCH (m:Movie {title: 'Schindler\\\\'s List'})-[:IN_GENRE]->(g:Genre) RETURN g.name\\n\\nUser input:Which actors have worked in movies from both the comedy and action genres?\\n Cypher query:MATCH (a:Person)-[:ACTED_IN]->(:Movie)-[:IN_GENRE]->(g1:Genre), (a)-[:ACTED_IN]->(:Movie)-[:IN_GENRE]->(g2:Genre) WHERE g1.name = 'Comedy' AND g2.name = 'Action' RETURN DISTINCT a.name\\n\\nUser input:Which directors have made movies with at least three different actors named 'John'?\\n Cypher query:MATCH (d:Person)-[:DIRECTED]->(m:Movie)<-[:ACTED_IN]-(a:Person) WHERE a.name STARTS WITH 'John' WITH d, COUNT(DISTINCT a) AS JohnsCount WHERE JohnsCount >= 3 RETURN d.name\\n\\nUser input:Identify movies where directors also played a role in the film.\\n Cypher query:MATCH (p:Person)-[:DIRECTED]->(m:Movie), (p)-[:ACTED_IN]->(m) RETURN m.title, p.name\\n\\nUser input:Find the actor with the highest number of movies in the database.\\n Cypher query:MATCH (a:Actor)-[:ACTED_IN]->(m:Movie) RETURN a.name, COUNT(m) AS movieCount ORDER BY movieCount DESC LIMIT 1\\n\\nUser input: How many artists are there?\\nCypher query: \",\n",
              " 'result': 'Cypher query: MATCH (a:Person) RETURN count(DISTINCT a) AS artistCount'}"
            ]
          },
          "metadata": {},
          "execution_count": 227
        }
      ]
    },
    {
      "cell_type": "code",
      "source": [
        "graph.query('MATCH (a:Person) RETURN count(DISTINCT a) AS artistCount')"
      ],
      "metadata": {
        "colab": {
          "base_uri": "https://localhost:8080/"
        },
        "id": "5F-7a5Xu1SbO",
        "outputId": "baa9a551-fc41-4508-d8e9-8ca3da904a75"
      },
      "execution_count": 231,
      "outputs": [
        {
          "output_type": "execute_result",
          "data": {
            "text/plain": [
              "[{'artistCount': 1239}]"
            ]
          },
          "metadata": {},
          "execution_count": 231
        }
      ]
    },
    {
      "cell_type": "code",
      "source": [],
      "metadata": {
        "id": "cNglIGQ01UlP"
      },
      "execution_count": null,
      "outputs": []
    }
  ],
  "metadata": {
    "kernelspec": {
      "display_name": "Python 3 (ipykernel)",
      "language": "python",
      "name": "python3"
    },
    "colab": {
      "provenance": [],
      "toc_visible": true
    }
  },
  "nbformat": 4,
  "nbformat_minor": 0
}