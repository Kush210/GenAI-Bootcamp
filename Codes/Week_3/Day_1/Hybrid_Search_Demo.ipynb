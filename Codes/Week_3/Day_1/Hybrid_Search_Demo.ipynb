{
  "cells": [
    {
      "cell_type": "markdown",
      "metadata": {
        "id": "gJq7RFOw3ULM"
      },
      "source": [
        "# Hybrid Search"
      ]
    },
    {
      "cell_type": "code",
      "execution_count": 79,
      "metadata": {},
      "outputs": [
        {
          "name": "stdout",
          "output_type": "stream",
          "text": [
            "Requirement already satisfied: rank_bm25 in ./genai_env/lib/python3.10/site-packages (0.2.2)\n",
            "Requirement already satisfied: numpy in ./genai_env/lib/python3.10/site-packages (from rank_bm25) (1.26.4)\n"
          ]
        }
      ],
      "source": [
        "!pip install rank_bm25"
      ]
    },
    {
      "cell_type": "code",
      "execution_count": 80,
      "metadata": {},
      "outputs": [],
      "source": [
        "from dotenv import load_dotenv\n",
        "import os\n",
        "\n",
        "# Load variables from .env file. Must have an entry titled OPENAI_API_KEY\n",
        "load_dotenv()\n",
        "\n",
        "# Retrieve the API key from the environment\n",
        "api_key = os.getenv(\"OPENAI_API_KEY\")"
      ]
    },
    {
      "cell_type": "markdown",
      "metadata": {
        "id": "HqwsGJDhvAQ5"
      },
      "source": [
        "## BM25 Retriever - Sparse retriever"
      ]
    },
    {
      "cell_type": "code",
      "execution_count": 81,
      "metadata": {
        "id": "Hv3UgdKiiuVr"
      },
      "outputs": [],
      "source": [
        "from langchain.retrievers import BM25Retriever, EnsembleRetriever\n",
        "from langchain.vectorstores import FAISS\n",
        "\n",
        "from langchain.embeddings.openai import OpenAIEmbeddings\n",
        "embedding = OpenAIEmbeddings(api_key=api_key)\n"
      ]
    },
    {
      "cell_type": "code",
      "execution_count": 92,
      "metadata": {
        "id": "OB3IcjGDi6iF"
      },
      "outputs": [],
      "source": [
        "doc_list = [\n",
        "    \"I like apple\",\n",
        "    \"I like oranges\",\n",
        "    \"Apples and oranges are fruits\",\n",
        "    \"I like computers by Apple\",\n",
        "    \"I love fruit juice\",\n",
        "    \"A green mattress\",\n",
        "    \"A phone with wifi connection\"\n",
        "]"
      ]
    },
    {
      "cell_type": "code",
      "execution_count": 93,
      "metadata": {
        "id": "9-wZ1BTOa5fX"
      },
      "outputs": [],
      "source": [
        "# initialize the bm25 retriever and faiss retriever\n",
        "bm25_retriever = BM25Retriever.from_texts(doc_list)\n",
        "bm25_retriever.k = 2"
      ]
    },
    {
      "cell_type": "code",
      "execution_count": 94,
      "metadata": {
        "colab": {
          "base_uri": "https://localhost:8080/"
        },
        "id": "xLyCs04RlNZK",
        "outputId": "0c85926e-adf9-47fb-b505-ddede6e09ff6"
      },
      "outputs": [
        {
          "data": {
            "text/plain": [
              "[Document(metadata={}, page_content='A phone with wifi connection'),\n",
              " Document(metadata={}, page_content='A green mattress')]"
            ]
          },
          "execution_count": 94,
          "metadata": {},
          "output_type": "execute_result"
        }
      ],
      "source": [
        "bm25_retriever.get_relevant_documents(\"microsoft phone\")"
      ]
    },
    {
      "cell_type": "code",
      "execution_count": 95,
      "metadata": {
        "colab": {
          "base_uri": "https://localhost:8080/"
        },
        "id": "OsXDermTqLPS",
        "outputId": "f94cde8c-a250-46fa-f43e-fe92ead0ee41"
      },
      "outputs": [
        {
          "data": {
            "text/plain": [
              "[Document(metadata={}, page_content='I like computers by Apple'),\n",
              " Document(metadata={}, page_content='I love fruit juice')]"
            ]
          },
          "execution_count": 95,
          "metadata": {},
          "output_type": "execute_result"
        }
      ],
      "source": [
        "bm25_retriever.get_relevant_documents(\"Apple juice computers\")"
      ]
    },
    {
      "cell_type": "markdown",
      "metadata": {
        "id": "rfnepDqApZaN"
      },
      "source": [
        "## Embeddings - Dense retrievers FAISS"
      ]
    },
    {
      "cell_type": "code",
      "execution_count": 96,
      "metadata": {
        "id": "BUltC5DgpYZq"
      },
      "outputs": [],
      "source": [
        "faiss_vectorstore = FAISS.from_texts(doc_list, embedding)\n",
        "faiss_retriever = faiss_vectorstore.as_retriever(search_kwargs={\"k\": 2})"
      ]
    },
    {
      "cell_type": "code",
      "execution_count": 97,
      "metadata": {
        "colab": {
          "base_uri": "https://localhost:8080/"
        },
        "id": "lX6Z9C74qIx3",
        "outputId": "ebe80306-94cc-4edf-e0fb-7c1361f187f4"
      },
      "outputs": [
        {
          "data": {
            "text/plain": [
              "[Document(id='4cf99f4c-9143-4b5b-bf11-72a1552946d2', metadata={}, page_content='I like apple'),\n",
              " Document(id='0b68268c-ae1e-4fcd-ab5d-2f1a7958dd29', metadata={}, page_content='I like computers by Apple')]"
            ]
          },
          "execution_count": 97,
          "metadata": {},
          "output_type": "execute_result"
        }
      ],
      "source": [
        "faiss_retriever.get_relevant_documents(\"apple iphone\")"
      ]
    },
    {
      "cell_type": "markdown",
      "metadata": {
        "id": "bQxRGZPMa57_"
      },
      "source": [
        "## Ensemble Retriever"
      ]
    },
    {
      "cell_type": "code",
      "execution_count": 98,
      "metadata": {
        "id": "AAb6iSS2iUkN"
      },
      "outputs": [],
      "source": [
        "# initialize the ensemble retriever with more weight to the faiss retriever\n",
        "ensemble_retriever1 = EnsembleRetriever(retrievers=[bm25_retriever, faiss_retriever],\n",
        "                                       weights=[0.3, 0.7])\n",
        "\n",
        "# initialize the ensemble retriever with more weight to the bm25 retriever\n",
        "ensemble_retriever2 = EnsembleRetriever(retrievers=[bm25_retriever, faiss_retriever],\n",
        "                                       weights=[0.7, 0.3])"
      ]
    },
    {
      "cell_type": "code",
      "execution_count": 99,
      "metadata": {
        "colab": {
          "base_uri": "https://localhost:8080/"
        },
        "id": "GdMRuM6BiUm5",
        "outputId": "25156b06-2215-4d68-b24e-4b3a6a3d0acd"
      },
      "outputs": [
        {
          "name": "stdout",
          "output_type": "stream",
          "text": [
            "[Document(metadata={}, page_content='I like apple'), Document(id='0b68268c-ae1e-4fcd-ab5d-2f1a7958dd29', metadata={}, page_content='I like computers by Apple'), Document(metadata={}, page_content='Apples and oranges are fruits')]\n",
            "[Document(metadata={}, page_content='I like apple'), Document(metadata={}, page_content='Apples and oranges are fruits'), Document(id='0b68268c-ae1e-4fcd-ab5d-2f1a7958dd29', metadata={}, page_content='I like computers by Apple')]\n"
          ]
        }
      ],
      "source": [
        "query = \"apple Computers and Phones\"\n",
        "docs1 = ensemble_retriever1.get_relevant_documents(query)\n",
        "print(docs1)\n",
        "docs2 = ensemble_retriever2.get_relevant_documents(query)\n",
        "print(docs2)"
      ]
    },
    {
      "cell_type": "code",
      "execution_count": 100,
      "metadata": {
        "colab": {
          "base_uri": "https://localhost:8080/"
        },
        "id": "1KKRgSMFiUpX",
        "outputId": "aed20e28-f91e-4c00-9ff1-6e083d922432"
      },
      "outputs": [
        {
          "name": "stdout",
          "output_type": "stream",
          "text": [
            "[Document(id='0b68268c-ae1e-4fcd-ab5d-2f1a7958dd29', metadata={}, page_content='I like computers by Apple'), Document(id='4cf99f4c-9143-4b5b-bf11-72a1552946d2', metadata={}, page_content='I like apple'), Document(metadata={}, page_content='A phone with wifi connection'), Document(metadata={}, page_content='A green mattress')]\n",
            "[Document(metadata={}, page_content='A phone with wifi connection'), Document(metadata={}, page_content='A green mattress'), Document(id='0b68268c-ae1e-4fcd-ab5d-2f1a7958dd29', metadata={}, page_content='I like computers by Apple'), Document(id='4cf99f4c-9143-4b5b-bf11-72a1552946d2', metadata={}, page_content='I like apple')]\n"
          ]
        }
      ],
      "source": [
        "query = \"iphone is competitor of samsung phones\"\n",
        "docs1 = ensemble_retriever1.get_relevant_documents(query)\n",
        "print(docs1)\n",
        "docs2 = ensemble_retriever2.get_relevant_documents(query)\n",
        "print(docs2)"
      ]
    },
    {
      "cell_type": "code",
      "execution_count": null,
      "metadata": {
        "id": "Em1okC6azwOM"
      },
      "outputs": [],
      "source": []
    }
  ],
  "metadata": {
    "colab": {
      "provenance": []
    },
    "kernelspec": {
      "display_name": "Python 3 (ipykernel)",
      "language": "python",
      "name": "python3"
    },
    "language_info": {
      "codemirror_mode": {
        "name": "ipython",
        "version": 3
      },
      "file_extension": ".py",
      "mimetype": "text/x-python",
      "name": "python",
      "nbconvert_exporter": "python",
      "pygments_lexer": "ipython3",
      "version": "3.10.16"
    }
  },
  "nbformat": 4,
  "nbformat_minor": 0
}
