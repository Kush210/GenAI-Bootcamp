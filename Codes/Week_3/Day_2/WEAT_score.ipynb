{
  "nbformat": 4,
  "nbformat_minor": 0,
  "metadata": {
    "colab": {
      "provenance": []
    },
    "kernelspec": {
      "name": "python3",
      "display_name": "Python 3"
    },
    "language_info": {
      "name": "python"
    }
  },
  "cells": [
    {
      "cell_type": "markdown",
      "source": [
        "\n",
        "\n",
        "## Evaluating Biases in Large Language Models (LLMs) using WEAT\n",
        "\n",
        "### Word Embedding Association Test (WEAT)\n",
        "The Word Embedding Association Test (WEAT) is a method for evaluating biases in word embeddings by\n",
        "measuring the strength and direction of associations between predefined target and attribute word sets.\n",
        "\n",
        "#### Objective:\n",
        "- Assess the differential association between target word sets (e.g., animals, professions) and attribute word sets (e.g., gender terms, demographic groups).\n",
        "\n",
        "#### Key Concepts:\n",
        "- **Word Embeddings**: Vector representations of words capturing semantic and syntactic relationships (e.g., Word2Vec, GloVe).\n",
        "- **Cosine Similarity**: A metric to measure the similarity between two vectors by calculating the cosine of the angle between them.\n"
      ],
      "metadata": {
        "id": "0q-3zrfO9eo0"
      }
    },
    {
      "cell_type": "code",
      "source": [
        "import numpy as np\n",
        "from sklearn.metrics.pairwise import cosine_similarity"
      ],
      "metadata": {
        "id": "Jq_ZErOU9w9q"
      },
      "execution_count": null,
      "outputs": []
    },
    {
      "cell_type": "code",
      "source": [
        "word_embeddings = {\n",
        "    'lion': np.array([0.4, 0.5, 0.3]),\n",
        "    'tiger': np.array([0.6, 0.5, 0.7]),\n",
        "    'elephant': np.array([0.3, 0.7, 0.4]),\n",
        "    'cat': np.array([0.8, 0.6, 0.4]),\n",
        "    'dog': np.array([0.7, 0.5, 0.3]),\n",
        "    'parrot': np.array([0.5, 0.3, 0.6]),\n",
        "    'king': np.array([0.9, 0.7, 0.8]),\n",
        "    'queen': np.array([0.8, 0.6, 0.7]),\n",
        "    'prince': np.array([0.85, 0.7, 0.75]),\n",
        "    'princess': np.array([0.7, 0.6, 0.85]),\n",
        "    'duke': np.array([0.9, 0.8, 0.7]),\n",
        "    'duchess': np.array([0.6, 0.8, 0.9])\n",
        "}"
      ],
      "metadata": {
        "id": "LlLadkub9eZe"
      },
      "execution_count": null,
      "outputs": []
    },
    {
      "cell_type": "code",
      "source": [
        "# Target sets (animals and royal titles)\n",
        "X = ['lion', 'tiger', 'elephant']\n",
        "Y = ['cat', 'dog', 'parrot']\n",
        "\n",
        "# Attribute sets (male and female royal terms)\n",
        "A = ['king', 'prince', 'duke']\n",
        "B = ['queen', 'princess', 'duchess']"
      ],
      "metadata": {
        "id": "Vbpw70dy9x9_"
      },
      "execution_count": null,
      "outputs": []
    },
    {
      "cell_type": "code",
      "source": [
        "def s(w, X, Y):\n",
        "    \"\"\"\n",
        "    Calculate the differential association of word w with sets X and Y.\n",
        "\n",
        "    - Compute the mean cosine similarity between w and each word in X (sim_X).\n",
        "    - Compute the mean cosine similarity between w and each word in Y (sim_Y).\n",
        "    - Return the difference sim_X - sim_Y.\n",
        "\n",
        "    Args:\n",
        "        w (str): The target word.\n",
        "        X (list): The first target word set.\n",
        "        Y (list): The second target word set.\n",
        "\n",
        "    Returns:\n",
        "        float: The differential association score.\n",
        "    \"\"\"\n",
        "    sim_X = np.mean([cosine_similarity(word_embeddings[w].reshape(1, -1), word_embeddings[x].reshape(1, -1))[0][0] for x in X])\n",
        "    sim_Y = np.mean([cosine_similarity(word_embeddings[w].reshape(1, -1), word_embeddings[y].reshape(1, -1))[0][0] for y in Y])\n",
        "    return sim_X - sim_Y"
      ],
      "metadata": {
        "id": "bEsKiDB691kv"
      },
      "execution_count": null,
      "outputs": []
    },
    {
      "cell_type": "markdown",
      "source": [
        "### Differential Association\n",
        "\n",
        "**Objective**: The purpose of computing differential association is to measure how strongly a word `w` is associated with two different sets of words, `X` and `Y`. The differential association quantifies whether a given word `w` is more closely related to the words in set `X` or the words in set `Y`.\n",
        "\n",
        "#### How It Is Calculated:\n",
        "\n",
        "1. **Similarity Measure**:\n",
        "   - A similarity measure is used to assess how similar two words are based on their embeddings (vectors). It gives a value between -1 (completely opposite) and 1 (completely similar). We use this measure to assess the similarity between the word `w` and other words in the sets.\n",
        "\n",
        "2. **For a given word `w`**:\n",
        "   - We compute its similarity with each word in set `X` and each word in set `Y`. These sets represent different categories or groups of words.\n",
        "\n",
        "3. **Computing `sim_X`**:\n",
        "   - `sim_X` is the average similarity between the word `w` and all the words in set `X`. This means we compute the similarity between `w` and every word in `X`, and then take the mean of these similarities.\n",
        "   \n",
        "4. **Computing `sim_Y`**:\n",
        "   - Similarly, `sim_Y` is the average similarity between the word `w` and all the words in set `Y`.\n",
        "\n",
        "5. **Differential Association**:\n",
        "   - The differential association for word `w` is calculated by subtracting `sim_Y` from `sim_X`. This gives us the difference in associations:\n",
        "     - **If `sim_X > sim_Y`**: The word `w` is more closely associated with the words in set `X`.\n",
        "     - **If `sim_Y > sim_X`**: The word `w` is more closely associated with the words in set `Y`.\n",
        "     - **If `sim_X = sim_Y`**: The word `w` has an equal association with both sets.\n",
        "\n",
        "#### Mathematical Formula:\n",
        "```\n",
        "differential_association(w) = sim_X(w) - sim_Y(w)\n",
        "```\n",
        "\n",
        "\n",
        "Where:\n",
        "- `sim_X(w)` is the average similarity between word `w` and each word in set `X`.\n",
        "- `sim_Y(w)` is the average similarity between word `w` and each word in set `Y`.\n",
        "\n",
        "### Example:\n",
        "\n",
        "Let's assume we have the following sets of words:\n",
        "\n",
        "- `X = ['artist', 'painter', 'sculptor']` (creative professions)\n",
        "- `Y = ['chef', 'baker', 'cook']` (cooking professions)\n",
        "- `w = 'man'` (attribute word)\n",
        "\n",
        "We calculate the similarity between `w = 'man'` and each word in `X`, then take the average to get `sim_X`. Similarly, we compute the similarity between `w = 'man'` and each word in `Y`, and calculate `sim_Y`. Finally, we compute the difference `sim_X - sim_Y` to get the differential association.\n",
        "\n",
        "#### Interpretation:\n",
        "- If the result is positive, it means the word `w` (e.g., 'man') is more associated with the words in set `X` (e.g., 'artist', 'painter', 'sculptor').\n",
        "- If the result is negative, the word `w` is more associated with set `Y` (e.g., 'chef', 'baker', 'cook').\n",
        "\n",
        "\n",
        "#### Implications:\n",
        "- The score reflects potential biases in the embeddings, which can have real-world consequences in NLP applications."
      ],
      "metadata": {
        "id": "3cP4qXGHAZxT"
      }
    },
    {
      "cell_type": "code",
      "source": [
        "WEAT_score = sum([s(a, X, Y) for a in A]) - sum([s(b, X, Y) for b in B])\n",
        "\n",
        "print(f\"WEAT score: {WEAT_score}\")\n"
      ],
      "metadata": {
        "colab": {
          "base_uri": "https://localhost:8080/"
        },
        "id": "rFqx_6XO94lf",
        "outputId": "138b0e1d-0466-4616-ab51-c36f744cf641"
      },
      "execution_count": null,
      "outputs": [
        {
          "output_type": "stream",
          "name": "stdout",
          "text": [
            "WEAT score: -0.06243427547253355\n"
          ]
        }
      ]
    },
    {
      "cell_type": "markdown",
      "source": [
        "### Summary:\n",
        "1. Define your word sets (`X`, `Y`, `A`, `B`).\n",
        "2. Calculate the differential association for each word in `A` and `B`.\n",
        "3. Compute the sum of differential associations for both sets (`A` and `B`).\n",
        "4. Subtract the sums to obtain the WEAT score.\n",
        "5. Interpret the score to understand the bias between the groups."
      ],
      "metadata": {
        "id": "N_rwwScSBnaR"
      }
    },
    {
      "cell_type": "code",
      "source": [],
      "metadata": {
        "id": "q0PALq_E-asw"
      },
      "execution_count": null,
      "outputs": []
    }
  ]
}