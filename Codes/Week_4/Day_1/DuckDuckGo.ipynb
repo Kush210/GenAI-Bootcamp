{
 "cells": [
  {
   "cell_type": "code",
   "execution_count": 1,
   "metadata": {},
   "outputs": [
    {
     "name": "stdout",
     "output_type": "stream",
     "text": [
      "Collecting duckduckgo-search\n",
      "  Downloading duckduckgo_search-7.3.2-py3-none-any.whl.metadata (17 kB)\n",
      "Collecting click>=8.1.8 (from duckduckgo-search)\n",
      "  Using cached click-8.1.8-py3-none-any.whl.metadata (2.3 kB)\n",
      "Collecting primp>=0.11.0 (from duckduckgo-search)\n",
      "  Downloading primp-0.12.0-cp38-abi3-macosx_11_0_arm64.whl.metadata (13 kB)\n",
      "Requirement already satisfied: lxml>=5.3.0 in ./genai_env/lib/python3.10/site-packages (from duckduckgo-search) (5.3.0)\n",
      "Downloading duckduckgo_search-7.3.2-py3-none-any.whl (19 kB)\n",
      "Using cached click-8.1.8-py3-none-any.whl (98 kB)\n",
      "Downloading primp-0.12.0-cp38-abi3-macosx_11_0_arm64.whl (2.9 MB)\n",
      "\u001b[2K   \u001b[38;2;114;156;31m━━━━━━━━━━━━━━━━━━━━━━━━━━━━━━━━━━━━━━━━\u001b[0m \u001b[32m2.9/2.9 MB\u001b[0m \u001b[31m7.7 MB/s\u001b[0m eta \u001b[36m0:00:00\u001b[0m MB/s\u001b[0m eta \u001b[36m0:00:01\u001b[0m\n",
      "\u001b[?25hInstalling collected packages: primp, click, duckduckgo-search\n",
      "  Attempting uninstall: click\n",
      "    Found existing installation: click 8.1.7\n",
      "    Uninstalling click-8.1.7:\n",
      "      Successfully uninstalled click-8.1.7\n",
      "\u001b[31mERROR: pip's dependency resolver does not currently take into account all the packages that are installed. This behaviour is the source of the following dependency conflicts.\n",
      "clarifai 10.11.1 requires click==8.1.7, but you have click 8.1.8 which is incompatible.\u001b[0m\u001b[31m\n",
      "\u001b[0mSuccessfully installed click-8.1.8 duckduckgo-search-7.3.2 primp-0.12.0\n"
     ]
    }
   ],
   "source": [
    "!pip install duckduckgo-search"
   ]
  },
  {
   "cell_type": "code",
   "execution_count": null,
   "metadata": {},
   "outputs": [
    {
     "name": "stdout",
     "output_type": "stream",
     "text": [
      "Title: Amazon.com: Sweater\n",
      "Description: Amazon Essentials Women's Fisherman Cable Long-Sleeve Crewneck Sweater (Available in Plus Size) 4.5 out of 5 stars 10,816. 50+ bought in past month. $21.63 $ 21. 63. Typical: $29.40 $29.40. FREE delivery Tue, Feb 11 on $35 of items shipped by Amazon. Or fastest delivery Tomorrow, Feb 7 .\n",
      "Link: https://www.amazon.com/sweater/s?k=sweater\n",
      "\n",
      "Title: Amazon.com: Sweaters\n",
      "Description: XIEERDUO Sweater for Women Long Sleeve Henley Shirts Tunic Tops to Wear with Leggings crew neck Sweaters Trendy 2024. 4.3 out of 5 stars 984. 300+ bought in past month. Limited time deal. $14.99 $ 14. 99. Typical: $19.99 $19.99. FREE delivery Fri, Feb 14 on $35 of items shipped by Amazon.\n",
      "Link: https://www.amazon.com/sweaters/s?k=sweaters\n",
      "\n",
      "Title: Amazon.com: Womens Sweaters - Women's Clothing / Women's Fashion ...\n",
      "Description: ATHMILE Women's Fall Tops 2025 Fashion Trendy Pullover Sweater V Neck Long Sleeve Shirt Knit Blouse Clothes Outfits. 4.4 out of 5 stars 102. 200+ bought in past month. $17.99 $ 17. 99. FREE delivery Sat, Feb 8 on $35 of items shipped by Amazon. Or fastest delivery Tomorrow, Feb 4 . Add to cart +15.\n",
      "Link: https://www.amazon.com/womens-sweaters-Clothing-Fashion/s?k=womens+sweaters&rh=n:1040660\n",
      "\n",
      "Title: Amazon.com: Sweaters For Women\n",
      "Description: QUALFORT Women's Cardigan Sweater 100% Cotton Button-Down Long Sleeve Oversized Knit Outerwear. 4.5 out of 5 stars 6,210. $42.99 $ 42. 99. List: $69.99 $69.99. FREE delivery Sat, Feb 15 . Or fastest delivery Tue, Feb 11 . 1 sustainability feature. Sustainability features.\n",
      "Link: https://www.amazon.com/Sweaters-Women/s?k=Sweaters+for+Women\n",
      "\n",
      "Title: Amazon.com: Women's Sweaters\n",
      "Description: ZESICA Women's Fall Long Sleeve Crew Neck Solid Color Cable Knit Chunky Casual Oversized Pullover Sweater Tops. 4.3 out of 5 stars 1,720. 200+ bought in past month. $36.99 $ 36. 99. Typical: $45.99 $45.99. 20% off coupon applied Save 20% with coupon (some sizes/colors) FREE delivery Wed, Feb 12 .\n",
      "Link: https://www.amazon.com/women’s-sweaters/s?k=women’s+sweaters\n",
      "\n",
      "Title: Amazon.com: Womens Sweater\n",
      "Description: ATHMILE Women's Fall Tops 2025 Fashion Trendy Pullover Sweater V Neck Long Sleeve Shirt Knit Blouse Clothes Outfits. 4.5 out of 5 stars 90. 300+ bought in past month. $17.99 $ 17. 99. FREE delivery Sat, Feb 1 on $35 of items shipped by Amazon. Or fastest delivery Wed, Jan 29 . Add to cart.\n",
      "Link: https://www.amazon.com/womens-sweater/s?k=womens+sweater\n",
      "\n",
      "Title: Amazon.com: Womens Sweaters And Sweatshirts\n",
      "Description: Imily Bela Womens Tunic Sweater Fall Long Sleeve 1/4 Zip Pullover Sweaters Oversized Slouchy Ribbed Knit Sweatshirt with Slit. 4.4 out of 5 stars 391. 100+ bought in past month. $40.99 $ 40. 99. FREE delivery Sun, Feb 9 . Or fastest delivery Thu, Feb 6 . Add to cart.\n",
      "Link: https://www.amazon.com/womens-sweaters-sweatshirts/s?k=womens+sweaters+and+sweatshirts\n",
      "\n",
      "Title: Amazon.com: Women's Sweater\n",
      "Description: Womens Fall Sweater Long Sleeve Crew Knit Pullover Tops Trendy Dressy Blouse Business Casual Outfit Fashion 2024. 4.4 out of 5 stars 668. 2K+ bought in past month. $27.98 $ 27. 98. 30% off coupon applied Save 30% with coupon (some sizes/colors) FREE delivery Tue, Nov 12 on $35 of items shipped by Amazon.\n",
      "Link: https://www.amazon.com/womens-sweater/s?k=women's+sweater\n",
      "\n",
      "Title: Amazon.com: Women Sweater\n",
      "Description: ATOPRT Women Winter Sweater Batwing Long Sleeve Crew Neck Button Pullover Sweater Casual Loose Knit Sweater. $25.99 $ 25. 99. $8.99 delivery Jan 29 - Feb 10 +25 colors/patterns. Sweaters for Women Crewneck Casual Lightweight Long Sleeve Knit Sweater Soft Loose Pullover Tops Fashion Outfits.\n",
      "Link: https://www.amazon.com/women-sweater/s?k=women+sweater\n",
      "\n",
      "Title: Amazon.com: Ladies Sweaters\n",
      "Description: Amazon Essentials Women's Fisherman Cable Long-Sleeve Crewneck Sweater (Available in Plus Size) 4.5 out of 5 stars 10,755. 300+ bought in past month. $29.40 $ 29. 40. FREE delivery Thu, Feb 6 on $35 of items shipped by Amazon. Or fastest delivery Tomorrow, Feb 2 . Add to cart.\n",
      "Link: https://www.amazon.com/ladies-sweaters/s?k=ladies+sweaters\n",
      "\n"
     ]
    }
   ],
   "source": [
    "from duckduckgo_search import DDGS\n",
    "\n",
    "query = \"site: amazon.com Sweater\" #You can use it without site: to do general websearch\n",
    "results = DDGS().text(query, max_results=10)\n",
    "\n",
    "for result in results:\n",
    "    print(f\"Title: {result['title']}\")\n",
    "    print(f\"Description: {result['body']}\")\n",
    "    print(f\"Link: {result['href']}\\n\")\n"
   ]
  },
  {
   "cell_type": "code",
   "execution_count": null,
   "metadata": {},
   "outputs": [],
   "source": []
  }
 ],
 "metadata": {
  "kernelspec": {
   "display_name": "Python 3 (ipykernel)",
   "language": "python",
   "name": "python3"
  },
  "language_info": {
   "codemirror_mode": {
    "name": "ipython",
    "version": 3
   },
   "file_extension": ".py",
   "mimetype": "text/x-python",
   "name": "python",
   "nbconvert_exporter": "python",
   "pygments_lexer": "ipython3",
   "version": "3.10.16"
  }
 },
 "nbformat": 4,
 "nbformat_minor": 2
}
