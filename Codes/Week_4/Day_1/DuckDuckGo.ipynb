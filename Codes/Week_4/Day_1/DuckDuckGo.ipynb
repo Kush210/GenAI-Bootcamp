{
 "cells": [
  {
   "cell_type": "code",
   "execution_count": 1,
   "metadata": {},
   "outputs": [
    {
     "name": "stdout",
     "output_type": "stream",
     "text": [
      "Collecting duckduckgo-search\n",
      "  Downloading duckduckgo_search-7.3.2-py3-none-any.whl.metadata (17 kB)\n",
      "Collecting click>=8.1.8 (from duckduckgo-search)\n",
      "  Using cached click-8.1.8-py3-none-any.whl.metadata (2.3 kB)\n",
      "Collecting primp>=0.11.0 (from duckduckgo-search)\n",
      "  Downloading primp-0.12.0-cp38-abi3-macosx_11_0_arm64.whl.metadata (13 kB)\n",
      "Requirement already satisfied: lxml>=5.3.0 in ./genai_env/lib/python3.10/site-packages (from duckduckgo-search) (5.3.0)\n",
      "Downloading duckduckgo_search-7.3.2-py3-none-any.whl (19 kB)\n",
      "Using cached click-8.1.8-py3-none-any.whl (98 kB)\n",
      "Downloading primp-0.12.0-cp38-abi3-macosx_11_0_arm64.whl (2.9 MB)\n",
      "\u001b[2K   \u001b[38;2;114;156;31m━━━━━━━━━━━━━━━━━━━━━━━━━━━━━━━━━━━━━━━━\u001b[0m \u001b[32m2.9/2.9 MB\u001b[0m \u001b[31m7.7 MB/s\u001b[0m eta \u001b[36m0:00:00\u001b[0m MB/s\u001b[0m eta \u001b[36m0:00:01\u001b[0m\n",
      "\u001b[?25hInstalling collected packages: primp, click, duckduckgo-search\n",
      "  Attempting uninstall: click\n",
      "    Found existing installation: click 8.1.7\n",
      "    Uninstalling click-8.1.7:\n",
      "      Successfully uninstalled click-8.1.7\n",
      "\u001b[31mERROR: pip's dependency resolver does not currently take into account all the packages that are installed. This behaviour is the source of the following dependency conflicts.\n",
      "clarifai 10.11.1 requires click==8.1.7, but you have click 8.1.8 which is incompatible.\u001b[0m\u001b[31m\n",
      "\u001b[0mSuccessfully installed click-8.1.8 duckduckgo-search-7.3.2 primp-0.12.0\n"
     ]
    }
   ],
   "source": [
    "!pip install duckduckgo-search"
   ]
  },
  {
   "cell_type": "code",
   "execution_count": 2,
   "metadata": {},
   "outputs": [
    {
     "name": "stdout",
     "output_type": "stream",
     "text": [
      "Title: RA8M1 - Renesas Electronics Corporation\n",
      "Description: The RA8M1 MCU Group features the industry's first 32-bit microcontrollers based on the Arm® Cortex®-M85 (CM85) core, delivering over 3000 CoreMark at 480 MHz. ... Buy Direct from Renesas. Customers can now choose the convenience of buying direct from Renesas. Ordering Resources. Check Product Availability; Request Samples;\n",
      "Link: https://www.renesas.com/en/products/microcontrollers-microprocessors/ra-cortex-m-mcus/ra8m1-480mhz-arm-cortex-m85-based-microcontroller-helium-and-trustzone\n",
      "\n",
      "Title: RA8M1 Arm Cortex-M85 Microcontrollers - Renesas | Mouser\n",
      "Description: The Renesas Electronics RA8M1 is built on a highly efficient 40nm process and supports a wide operating voltage range of 1.68V-3.6V. To ease application development, the RA8M1 is supported by the Flexible Software package (FSP), evaluation kits, software development tools, and Cloud solutions.\n",
      "Link: https://www.mouser.com/new/renesas/renesas-ra8m1-32-bit-mcus/\n",
      "\n",
      "Title: RA8M1 Microcontrollers - Renesas | DigiKey - Digi-Key Electronics\n",
      "Description: Renesas' RA8M1 MCUs feature Arm® Cortex®-M85 480 MHz core with Helium technology, up to 2 MB Flash, and 1 MB SRAM. Renesas' RA8 family with the RA8M1 group integrates the Arm Cortex-M85 core with excellent peripherals, memory, and leading-edge security with TrustZone®. The RA8M1 devices include several low-power features to reduce the ...\n",
      "Link: https://www.digikey.com/en/product-highlight/r/renesas/ra8m1-arm-cortex-m85\n",
      "\n",
      "Title: RA8M1 480MHz Arm® Cortex®-M85 Microcontroller | Renesas\n",
      "Description: Buy Direct from Renesas. Customers can now choose the convenience of buying direct from Renesas. Ordering Resources. Check Product Availability; Request Samples; ... The RA8M1 delivers 480MHz with up to 2MB code flash memory, 1MB SRAM and advanced peripherals. expand_less. Stay Informed.\n",
      "Link: https://www.renesas.com/en/video/ra8m1-480mhz-arm-cortex-m85-microcontroller\n",
      "\n",
      "Title: Renesas Electronics RA8M1 Series ARM Microcontrollers - MCU\n",
      "Description: Mouser offers inventory, pricing, & datasheets for Renesas Electronics RA8M1 Series ARM Microcontrollers - MCU. (800) 346-6873 Contact Mouser (USA) (800) 346-6873 | Feedback\n",
      "Link: https://www.mouser.com/c/semiconductors/embedded-processors-controllers/microcontrollers-mcu/arm-microcontrollers-mcu/?m=Renesas+Electronics&series=RA8M1\n",
      "\n",
      "Title: Mouser Now Shipping Renesas Electronics RA8x1 480MHz Arm Cortex-M85 ...\n",
      "Description: The RA8M1 and RA8D1 microcontrollers are supported by the EK-RA8M1 and EK-RA8D1 evaluation kits, also available from Mouser. These evaluation kits enable users to effortlessly evaluate the features of the RA8x1 MCUs and develop embedded systems applications with Renesas' Flexible Software Package (FSP) and the e2 Studio Integrated Development ...\n",
      "Link: https://www.mouser.com/newsroom/publicreleations-renesas-ra8m1-32-mcu-2024final\n",
      "\n",
      "Title: RTK7EKA8M1S00001BE Renesas Electronics Corporation | Development Boards ...\n",
      "Description: Order today, ships today. RTK7EKA8M1S00001BE - RA8M1, R7FA8M1 EK-RA8M1 RA ARM® Cortex®-M85 MCU 32-Bit Embedded Evaluation Board from Renesas Electronics Corporation. Pricing and Availability on millions of electronic components from Digi-Key Electronics. ... Renesas Electronics Corporation. $20.25000. Details. 101021112. GROVE VISION AI ...\n",
      "Link: https://www.digikey.com/en/products/detail/renesas-electronics-corporation/RTK7EKA8M1S00001BE/21421315\n",
      "\n",
      "Title: RTK7EKA8M1S00001BE in Kit by Renesas - Future Electronics\n",
      "Description: Buy Renesas RTK7EKA8M1S00001BE in Kit. Evaluation Kit for RA8M1 MCU Series from Future Electronics. text.skipToContent text ... Various Renesas Ready partners also provide production-ready solutions for the RA8M1 MCUs. Renesas welcomes other partners who would like to port their software solutions to take advantage of the Cortex-M85 core and ...\n",
      "Link: https://www.futureelectronics.com/p/development-tools--microcontroller-microprocessor--32-bit-eval-board/rtk7eka8m1s00001be-renesas-6178457\n",
      "\n",
      "Title: RTK7EKA8M1S00001BE RENESAS, Evaluation Kit, R7FA8M1AHECBD, 32bit, ARM ...\n",
      "Description: Buy RTK7EKA8M1S00001BE - RENESAS - Evaluation Kit, R7FA8M1AHECBD, 32bit, ARM Cortex-M85F. element14 India offers fast quotes, same day dispatch, fast delivery, wide inventory, datasheets & technical support. ... The EK-RA8M1 evaluation kit enables users to effortlessly evaluate the features of the RA8M1 MCU group and develop embedded systems ...\n",
      "Link: https://in.element14.com/renesas/rtk7eka8m1s00001be/evaluation-kit-32bit-arm-cortex/dp/4258628\n",
      "\n",
      "Title: Renesas — RA8M1 480 MHz Arm® Cortex®-M85 Based Microcontroller ...\n",
      "Description: Renesas RA8M1 480 MHz Arm ® Cortex ®-M85 Based Microcontroller . The Renesas RA8M1 MCU Group features the industry's first 32-bit microcontrollers (MCU) based on the Arm ® Cortex ®-M85 (CM85) core, delivering breakthrough performance of over 3000 CoreMark points at 480 MHz, with fully deterministic, low latency, real-time operation that enables customers' most demanding application needs.\n",
      "Link: https://www.futureelectronics.com/npi/renesas-ra8m1-microcontrollers\n",
      "\n"
     ]
    }
   ],
   "source": [
    "from duckduckgo_search import DDGS\n",
    "\n",
    "query = \"Renesas RA8M1 buy\"\n",
    "results = DDGS().text(query, max_results=10)\n",
    "\n",
    "for result in results:\n",
    "    print(f\"Title: {result['title']}\")\n",
    "    print(f\"Description: {result['body']}\")\n",
    "    print(f\"Link: {result['href']}\\n\")\n"
   ]
  },
  {
   "cell_type": "code",
   "execution_count": null,
   "metadata": {},
   "outputs": [],
   "source": []
  }
 ],
 "metadata": {
  "kernelspec": {
   "display_name": "Python 3 (ipykernel)",
   "language": "python",
   "name": "python3"
  },
  "language_info": {
   "codemirror_mode": {
    "name": "ipython",
    "version": 3
   },
   "file_extension": ".py",
   "mimetype": "text/x-python",
   "name": "python",
   "nbconvert_exporter": "python",
   "pygments_lexer": "ipython3",
   "version": "3.10.16"
  }
 },
 "nbformat": 4,
 "nbformat_minor": 2
}
