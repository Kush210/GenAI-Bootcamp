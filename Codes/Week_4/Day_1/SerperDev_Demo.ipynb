{
 "cells": [
  {
   "cell_type": "code",
   "execution_count": 2,
   "metadata": {},
   "outputs": [],
   "source": [
    "from dotenv import load_dotenv\n",
    "import os\n",
    "\n",
    "# Load environment variables from .env file\n",
    "load_dotenv()\n",
    "\n",
    "openai_api_key = os.getenv('OPENAI_API_KEY')\n",
    "serper_dev_api_key = os.getenv('SERPER_DEV_API_KEY')"
   ]
  },
  {
   "cell_type": "code",
   "execution_count": 3,
   "metadata": {},
   "outputs": [
    {
     "name": "stdout",
     "output_type": "stream",
     "text": [
      "{\"searchParameters\":{\"q\":\"elon trump news\",\"type\":\"search\",\"engine\":\"google\"},\"organic\":[{\"title\":\"The latest on Trump's efforts to overhaul the federal government - CNN\",\"link\":\"https://www.cnn.com/politics/live-news/trump-doge-usaid-news-02-08-25/index.html\",\"snippet\":\"A federal judge in California dismissed Trump's initial lawsuit in May 2022, stating that Twitter was not acting as part of the US government — ...\",\"date\":\"48 minutes ago\",\"position\":1},{\"title\":\"Pres. Trump gives Elon Musk and DOGE permission to ... - YouTube\",\"link\":\"https://www.youtube.com/watch?v=cUT0GVzRgqY\",\"snippet\":\"President Donald Trump continues his efforts to reduce the size of the federal government, including the Pentagon, with the help of Elon ...\",\"date\":\"20 hours ago\",\"position\":2},{\"title\":\"Our Government Belongs to the American People, Not Elon Musk\",\"link\":\"https://www.vanhollen.senate.gov/urgent-senate-update-our-government-belongs-to-the-american-people-not-elon-musk\",\"snippet\":\"Elon Musk spent over $280 million to elect Donald Trump, and Trump has handed him the keys to the federal government. Together, they're ...\",\"date\":\"16 hours ago\",\"position\":3},{\"title\":\"Is Donald Trump Afraid of Elon Musk? - Vanity Fair\",\"link\":\"https://www.vanityfair.com/news/story/is-donald-trump-afraid-of-elon-musk?srsltid=AfmBOorYtnCK1Sqn_Ejk6eKvneJag5hdb4TSI5_h3STVly_jofS9IXK7\",\"snippet\":\"During Donald Trump's transition, it appeared that Elon Musk wouldn't survive in Trumpworld much after the inauguration.\",\"date\":\"20 hours ago\",\"position\":4},{\"title\":\"Trump says Musk will review \\\"just about\\\" every federal agency\",\"link\":\"https://www.cbsnews.com/news/donald-trump-japanese-prime-minister-press-conference-2025-02-07/\",\"snippet\":\"In a press conference with the Japanese prime minister, President Trump indicated Elon Musk has wide latitude to review nearly every federal ...\",\"date\":\"20 hours ago\",\"position\":5},{\"title\":\"Trump directs Elon Musk and DOGE to review Pentagon spending\",\"link\":\"https://defensescoop.com/2025/02/07/trump-directs-elon-musk-doge-review-pentagon-dod-spending/\",\"snippet\":\"Elon Musk is leading the newly created Department of Government Efficiency under Trump.\",\"date\":\"21 hours ago\",\"position\":6},{\"title\":\"Reporter asks Trump what he thinks about Musk being on Time's cover\",\"link\":\"https://www.cnn.com/2025/02/07/politics/video/elon-musk-time-magazine-cover-trump-reaction-digvid\",\"snippet\":\"Time magazine put an image of Elon Musk behind the resolute desk in the Oval Office on the cover ... News Network. A Warner Bros ...\",\"date\":\"23 hours ago\",\"position\":7},{\"title\":\"Inside Trump ally Elon Musk's race to upend US government - BBC\",\"link\":\"https://www.bbc.com/news/articles/c1dg95dyxygo\",\"snippet\":\"The world's richest man has emerged as a dominant force in Trump's second term, gutting an agency and issuing ultimatums to staff.\",\"date\":\"3 days ago\",\"position\":8},{\"title\":\"Examining Elon Musk's influential role in the Trump administration\",\"link\":\"https://www.youtube.com/watch?v=cQeERX1vZHc\",\"snippet\":\"A tech-focused media outlet has become a premiere source for breaking news on Elon Musk, his inner circle and their efforts to reshape the ...\",\"date\":\"16 hours ago\",\"position\":9}],\"topStories\":[{\"title\":\"Who is part of Elon Musk’s DOGE and what are they doing?\",\"link\":\"https://www.npr.org/2025/02/07/nx-s1-5288988/doge-elon-musk-staff-trump\",\"source\":\"NPR\",\"date\":\"20 hours ago\",\"imageUrl\":\"https://encrypted-tbn0.gstatic.com/images?q=tbn:ANd9GcSSCnMjs428lI_hRmUTXWKZoLEeggL9P9js-mPmc2yCd9EbsUsNhTyZXVLb5Q&s\"},{\"title\":\"The latest on Trump’s efforts to overhaul the federal government\",\"link\":\"https://www.cnn.com/politics/live-news/trump-doge-usaid-news-02-08-25/index.html\",\"source\":\"CNN\",\"date\":\"48 minutes ago\",\"imageUrl\":\"https://encrypted-tbn0.gstatic.com/images?q=tbn:ANd9GcRXlT87rXx0qAr0VQ7wK2oZIzCVc9ERaQNXf1DXxlzMAloQ6OvxM-Uvy3scMQ&s\"},{\"title\":\"Urgent Senate Update: Our Government Belongs to the American People, Not Elon Musk\",\"link\":\"https://www.vanhollen.senate.gov/urgent-senate-update-our-government-belongs-to-the-american-people-not-elon-musk\",\"source\":\"U.S. Senator Chris Van Hollen (.gov)\",\"date\":\"16 hours ago\",\"imageUrl\":\"https://encrypted-tbn0.gstatic.com/images?q=tbn:ANd9GcSYmWbWbMB1_5LOZqaN7iyRQ_B9x2UTvLcikjTi6WKpSm9CB8Kim9IUnTus1-39&s\"},{\"title\":\"Is Donald Trump Afraid of Elon Musk?\",\"link\":\"https://www.vanityfair.com/news/story/is-donald-trump-afraid-of-elon-musk\",\"source\":\"Vanity Fair\",\"date\":\"20 hours ago\",\"imageUrl\":\"https://encrypted-tbn0.gstatic.com/images?q=tbn:ANd9GcQhwrXkrUt0uQNH7_HyNNALh7nIeso42AFiFNAO_6rC5xPvq_Hr04XwnpIDgw&s\"},{\"title\":\"Trump says Musk will review \\\"just about\\\" every federal agency\",\"link\":\"https://www.cbsnews.com/news/donald-trump-japanese-prime-minister-press-conference-2025-02-07/\",\"source\":\"CBS News\",\"date\":\"20 hours ago\",\"imageUrl\":\"https://encrypted-tbn0.gstatic.com/images?q=tbn:ANd9GcQqDTC7ONNmEyE_nydy4vkUT5nSmFoOMD3LOgeTq-fcbty2pOT4NRfnyUdGyA&s\"},{\"title\":\"Trump directs Elon Musk and DOGE to review Pentagon spending\",\"link\":\"https://defensescoop.com/2025/02/07/trump-directs-elon-musk-doge-review-pentagon-dod-spending/\",\"source\":\"DefenseScoop\",\"date\":\"21 hours ago\",\"imageUrl\":\"https://encrypted-tbn0.gstatic.com/images?q=tbn:ANd9GcRkGXdUVorYLLJB3DxrEzciVJAbt7CYGjSZ7keI7dUiCAx1tqdrERrX29HKlw&s\"},{\"title\":\"DOGE: Inside Trump ally Elon Musk's race to upend US government\",\"link\":\"https://www.bbc.com/news/articles/c1dg95dyxygo\",\"source\":\"BBC\",\"date\":\"2 days ago\",\"imageUrl\":\"https://encrypted-tbn0.gstatic.com/images?q=tbn:ANd9GcRU6rF425zEF0G594yKePxbpksxOcljecKI1UXPM9WWklwcGgQPthG7YhvB8g&s\"}],\"credits\":1}\n",
      "1. The latest on Trump's efforts to overhaul the federal government - CNN - https://www.cnn.com/politics/live-news/trump-doge-usaid-news-02-08-25/index.html\n",
      "A federal judge in California dismissed Trump's initial lawsuit in May 2022, stating that Twitter was not acting as part of the US government — ...\n",
      "\n",
      "2. Pres. Trump gives Elon Musk and DOGE permission to ... - YouTube - https://www.youtube.com/watch?v=cUT0GVzRgqY\n",
      "President Donald Trump continues his efforts to reduce the size of the federal government, including the Pentagon, with the help of Elon ...\n",
      "\n",
      "3. Our Government Belongs to the American People, Not Elon Musk - https://www.vanhollen.senate.gov/urgent-senate-update-our-government-belongs-to-the-american-people-not-elon-musk\n",
      "Elon Musk spent over $280 million to elect Donald Trump, and Trump has handed him the keys to the federal government. Together, they're ...\n",
      "\n",
      "4. Is Donald Trump Afraid of Elon Musk? - Vanity Fair - https://www.vanityfair.com/news/story/is-donald-trump-afraid-of-elon-musk?srsltid=AfmBOorYtnCK1Sqn_Ejk6eKvneJag5hdb4TSI5_h3STVly_jofS9IXK7\n",
      "During Donald Trump's transition, it appeared that Elon Musk wouldn't survive in Trumpworld much after the inauguration.\n",
      "\n",
      "5. Trump says Musk will review \"just about\" every federal agency - https://www.cbsnews.com/news/donald-trump-japanese-prime-minister-press-conference-2025-02-07/\n",
      "In a press conference with the Japanese prime minister, President Trump indicated Elon Musk has wide latitude to review nearly every federal ...\n",
      "\n",
      "6. Trump directs Elon Musk and DOGE to review Pentagon spending - https://defensescoop.com/2025/02/07/trump-directs-elon-musk-doge-review-pentagon-dod-spending/\n",
      "Elon Musk is leading the newly created Department of Government Efficiency under Trump.\n",
      "\n",
      "7. Reporter asks Trump what he thinks about Musk being on Time's cover - https://www.cnn.com/2025/02/07/politics/video/elon-musk-time-magazine-cover-trump-reaction-digvid\n",
      "Time magazine put an image of Elon Musk behind the resolute desk in the Oval Office on the cover ... News Network. A Warner Bros ...\n",
      "\n",
      "8. Inside Trump ally Elon Musk's race to upend US government - BBC - https://www.bbc.com/news/articles/c1dg95dyxygo\n",
      "The world's richest man has emerged as a dominant force in Trump's second term, gutting an agency and issuing ultimatums to staff.\n",
      "\n",
      "9. Examining Elon Musk's influential role in the Trump administration - https://www.youtube.com/watch?v=cQeERX1vZHc\n",
      "A tech-focused media outlet has become a premiere source for breaking news on Elon Musk, his inner circle and their efforts to reshape the ...\n",
      "\n"
     ]
    }
   ],
   "source": [
    "import requests\n",
    "import json\n",
    "\n",
    "url = \"https://google.serper.dev/search\"\n",
    "\n",
    "payload = json.dumps({\n",
    "  \"q\": input(\"Enter search query: \")\n",
    "})\n",
    "headers = {\n",
    "  'X-API-KEY': serper_dev_api_key,\n",
    "  'Content-Type': 'application/json'\n",
    "}\n",
    "\n",
    "response = requests.request(\"POST\", url, headers=headers, data=payload)\n",
    "\n",
    "print(response.text)\n",
    "\n",
    "response_dict = json.loads(response.text)  # Convert string to dictionary\n",
    "for i in range(len(response_dict[\"organic\"])):  # Loop through organic results\n",
    "    print(f\"{i + 1}. {response_dict['organic'][i]['title']} - {response_dict['organic'][i]['link']}\")  # Print title and URL\n",
    "    print(response_dict['organic'][i]['snippet'])  # Print snippet\n",
    "    print()"
   ]
  },
  {
   "cell_type": "code",
   "execution_count": 5,
   "metadata": {},
   "outputs": [
    {
     "name": "stdout",
     "output_type": "stream",
     "text": [
      "{\"searchParameters\":{\"q\":\"resturants\",\"type\":\"maps\",\"ll\":\"@12.9105217,77.5500655,15.5z\",\"engine\":\"google\"},\"ll\":\"@12.9105217,77.5500655,15.5z\",\"places\":[{\"position\":1,\"title\":\"Nandhana Palace - Andhra Style Restaurant - JP Nagar\",\"address\":\"147, 24th Main Rd, R.K Colony, Marenahalli, 2nd Phase, J. P. Nagar, Bengaluru, Karnataka 560078, India\",\"latitude\":12.914598499999999,\"longitude\":77.58558169999999,\"rating\":4.2,\"ratingCount\":6396,\"priceLevel\":\"$$\",\"type\":\"Andhra restaurant\",\"types\":[\"Andhra restaurant\",\"Biryani restaurant\",\"Non vegetarian restaurant\"],\"website\":\"http://www.nandhanarestaurants.com/\",\"phoneNumber\":\"+91 80 4613 1111\",\"openingHours\":{\"Saturday\":\"11 AM–1 AM\",\"Sunday\":\"11 AM–1 AM\",\"Monday\":\"11 AM–1 AM\",\"Tuesday\":\"11 AM–1 AM\",\"Wednesday\":\"11 AM–1 AM\",\"Thursday\":\"11 AM–1 AM\",\"Friday\":\"11 AM–1 AM\"},\"bookingLinks\":[\"https://www.eazydiner.com/bengaluru/nandhana-palace-jp-nagar-south-bengaluru-663155\",\"https://www.google.com/maps/reserve/v/dine/c/27KFeBB8JZQ?source=pa&opi=79508299\"],\"thumbnailUrl\":\"https://lh5.googleusercontent.com/p/AF1QipMX1FWJmVtn_NarB3IK6MwHLKUkMaJN4bf-gf6c\",\"cid\":\"11208240368149194532\",\"fid\":\"0x3bae150cb80fca67:0x9b8bab3b24b9e724\",\"placeId\":\"ChIJZ8oPuAwVrjsRJOe5JDuri5s\"},{\"position\":2,\"title\":\"MASALA\",\"address\":\"58/1, Uttarahalli Main Rd, Ankappa Layout, Chikkalasandra, Bengaluru, Karnataka 560061, India\",\"latitude\":12.910118299999999,\"longitude\":77.5508445,\"rating\":3.8,\"ratingCount\":2632,\"priceLevel\":\"$$\",\"type\":\"Restaurant\",\"types\":[\"Restaurant\",\"Bar\",\"Cafe\",\"Chinese restaurant\",\"Continental restaurant\",\"Fine dining restaurant\",\"North Indian restaurant\",\"Pub\",\"Vegetarian restaurant\"],\"phoneNumber\":\"+91 99805 05300\",\"openingHours\":{\"Saturday\":\"11 AM–12:30 AM\",\"Sunday\":\"11 AM–12:30 AM\",\"Monday\":\"11 AM–12:30 AM\",\"Tuesday\":\"11 AM–12:30 AM\",\"Wednesday\":\"11 AM–12:30 AM\",\"Thursday\":\"11 AM–12:30 AM\",\"Friday\":\"11 AM–12:30 AM\"},\"bookingLinks\":[\"https://www.zomato.com/bangalore/masala-3-uttarahalli-bangalore/book?utm_source=rwg\",\"https://www.eazydiner.com/bengaluru/masalaa-family-garden-restaurant-uttarahalli-330872\",\"https://www.google.com/maps/reserve/v/dine/c/gzMppSiXEGE?source=pa&opi=79508299\"],\"thumbnailUrl\":\"https://lh5.googleusercontent.com/p/AF1QipMydqG3IWkPaoMR_mLzK0HvWiwbGM-5wTPweMG8\",\"cid\":\"10012019405896846882\",\"fid\":\"0x3bae3fcfe1034f4f:0x8af1d69a8ccc8e22\",\"placeId\":\"ChIJT08D4c8_rjsRIo7MjJrW8Yo\"},{\"position\":3,\"title\":\"Narmada Restaurant Bannerghatta\",\"address\":\"No. 193/4A, 193/4B, Bannerghatta Rd, NS Palya, BTM 2nd Stage, BTM Layout, Bengaluru, Karnataka 560076, India\",\"latitude\":12.9114889,\"longitude\":77.6001472,\"rating\":4.4,\"ratingCount\":679,\"priceLevel\":\"₹200–400\",\"type\":\"Andhra restaurant\",\"types\":[\"Andhra restaurant\"],\"phoneNumber\":\"+91 70195 90012\",\"openingHours\":{\"Saturday\":\"11 AM–2 AM\",\"Sunday\":\"11 AM–2 AM\",\"Monday\":\"11 AM–2 AM\",\"Tuesday\":\"11 AM–2 AM\",\"Wednesday\":\"11 AM–2 AM\",\"Thursday\":\"11 AM–2 AM\",\"Friday\":\"11 AM–2 AM\"},\"bookingLinks\":[\"https://www.eazydiner.com/bengaluru/narmada-bannerghatta-road-south-bengaluru-689659\",\"https://www.google.com/maps/reserve/v/dine/c/xJ2l5YBmqPU?source=pa&opi=79508299\"],\"thumbnailUrl\":\"https://lh5.googleusercontent.com/p/AF1QipOssHOg9o41k6j2Jd7JT64XyhJ1BSyT5Ou81CYY\",\"cid\":\"6634162119564447876\",\"fid\":\"0x3bae15da56abaaf7:0x5c11474c66fdd084\",\"placeId\":\"ChIJ96qrVtoVrjsRhND9ZkxHEVw\"},{\"position\":4,\"title\":\"The Dennys Pub\",\"address\":\"1550, East End Circle JP Nagar 3rd phase, Jayanagara 9th Block, Bengaluru, Karnataka 560078, India\",\"latitude\":12.9166194,\"longitude\":77.59712499999999,\"rating\":3.9,\"ratingCount\":1422,\"priceLevel\":\"$$\",\"type\":\"Restaurant\",\"types\":[\"Restaurant\",\"Biryani restaurant\",\"Pub\",\"Bar\"],\"phoneNumber\":\"+91 93412 12142\",\"openingHours\":{\"Saturday\":\"11 AM–1 AM\",\"Sunday\":\"11 AM–1 AM\",\"Monday\":\"11 AM–1 AM\",\"Tuesday\":\"11 AM–1 AM\",\"Wednesday\":\"11 AM–1 AM\",\"Thursday\":\"11 AM–1 AM\",\"Friday\":\"11 AM–1 AM\"},\"bookingLinks\":[\"https://www.eazydiner.com/bengaluru/the-dennys-jayanagar-330355\",\"https://www.google.com/maps/reserve/v/dine/c/kN3VKzwGIbM?source=pa&opi=79508299\"],\"thumbnailUrl\":\"https://lh5.googleusercontent.com/p/AF1QipNPh4anCx1JWDHRe2GIcDNNzSmv8Z4vetHoPO7a\",\"cid\":\"9932535948248876281\",\"fid\":\"0x3bae150607dfa3e3:0x89d774d1f22c04f9\",\"placeId\":\"ChIJ46PfBwYVrjsR-QQs8tF014k\"},{\"position\":5,\"title\":\"Empire Restaurant - JP Nagar\",\"address\":\"No.11, 24th Main Rd, 5th Phase, Ayodya Nagar, J P Nagar Phase 5, J. P. Nagar, Bengaluru, Karnataka 560078, India\",\"latitude\":12.902038899999999,\"longitude\":77.5856972,\"rating\":4.3,\"ratingCount\":18915,\"priceLevel\":\"$$\",\"type\":\"Non vegetarian restaurant\",\"types\":[\"Non vegetarian restaurant\",\"Indian restaurant\",\"Restaurant\"],\"website\":\"https://www.hotelempire.in/\",\"phoneNumber\":\"+91 80 4041 4141\",\"openingHours\":{\"Saturday\":\"11 AM–1:30 AM\",\"Sunday\":\"11 AM–1:30 AM\",\"Monday\":\"11 AM–1:30 AM\",\"Tuesday\":\"11 AM–1:30 AM\",\"Wednesday\":\"11 AM–1:30 AM\",\"Thursday\":\"11 AM–1:30 AM\",\"Friday\":\"11 AM–1:30 AM\"},\"bookingLinks\":[\"https://www.zomato.com/bangalore/empire-restaurant-jp-nagar/book?utm_source=rwg\"],\"thumbnailUrl\":\"https://lh5.googleusercontent.com/p/AF1QipOp_kHy_4NS7rcRrwPK9GYvvtYJbp5nV2zRtt9Y\",\"cid\":\"12325502793700811839\",\"fid\":\"0x3bae1569c83998bd:0xab0cfb7cd09f243f\",\"placeId\":\"ChIJvZg5yGkVrjsRPySf0Hz7DKs\"},{\"position\":6,\"title\":\"Nandhini Deluxe - JP Nagar\",\"address\":\"726/A, 24th Main Rd, JP Nagar 6th Phase, KR Layout, JP Nagar Phase 6, J. P. Nagar, Bengaluru, Karnataka 560078, India\",\"latitude\":12.9056137,\"longitude\":77.5856192,\"rating\":3.8,\"ratingCount\":7957,\"type\":\"Andhra restaurant\",\"types\":[\"Andhra restaurant\",\"Banquet hall\",\"Hotel\",\"Indian restaurant\"],\"phoneNumber\":\"+91 97422 74049\",\"thumbnailUrl\":\"https://lh5.googleusercontent.com/p/AF1QipPEPL8Ge2CWclmi33mjqA-mirbbm13804wNfoA1\",\"cid\":\"7634647306902981936\",\"fid\":\"0x3bae151345f35785:0x69f3b74689584d30\",\"placeId\":\"ChIJhVfzRRMVrjsRME1YiUa382k\"},{\"position\":7,\"title\":\"The Rameshwaram Cafe\",\"address\":\"52, Outer Ring Rd, Jeewan Griha Colony, 2nd Phase, J. P. Nagar, Bengaluru, Karnataka 560078, India\",\"latitude\":12.906506799999999,\"longitude\":77.5905475,\"rating\":4.2,\"ratingCount\":19107,\"priceLevel\":\"₹1–200\",\"type\":\"South Indian restaurant\",\"types\":[\"South Indian restaurant\"],\"phoneNumber\":\"+91 78922 46525\",\"openingHours\":{\"Saturday\":\"6 AM–1 AM\",\"Sunday\":\"6 AM–1 AM\",\"Monday\":\"6 AM–1 AM\",\"Tuesday\":\"6 AM–1 AM\",\"Wednesday\":\"6 AM–1 AM\",\"Thursday\":\"6 AM–1 AM\",\"Friday\":\"6 AM–1 AM\"},\"thumbnailUrl\":\"https://lh5.googleusercontent.com/p/AF1QipPbDcxwkRwQe-uFdnm13CzcS4GuoIJ0fWHvF8vS\",\"cid\":\"5626177460762428454\",\"fid\":\"0x3bae1569faf64797:0x4e143297800dc426\",\"placeId\":\"ChIJl0f2-mkVrjsRJsQNgJcyFE4\"},{\"position\":8,\"title\":\"Zaitoon Restaurant , JP Nagar\",\"address\":\"21, 24th Main Rd, KR Layout, J P Nagar Phase 5, J. P. Nagar, Bengaluru, Karnataka 560078, India\",\"latitude\":12.902951199999999,\"longitude\":77.58562049999999,\"rating\":4.2,\"ratingCount\":13740,\"priceLevel\":\"$$\",\"type\":\"Middle Eastern restaurant\",\"types\":[\"Middle Eastern restaurant\",\"Chinese restaurant\",\"Indian restaurant\"],\"website\":\"https://thezaitoon.com/\",\"phoneNumber\":\"+91 80 4148 8988\",\"openingHours\":{\"Saturday\":\"11:30 AM–11:30 PM\",\"Sunday\":\"11:30 AM–11:30 PM\",\"Monday\":\"11:30 AM–11:30 PM\",\"Tuesday\":\"11:30 AM–11:30 PM\",\"Wednesday\":\"11:30 AM–11:30 PM\",\"Thursday\":\"11:30 AM–11:30 PM\",\"Friday\":\"11:30 AM–11:30 PM\"},\"bookingLinks\":[\"https://www.zomato.com/bangalore/zaitoon-jp-nagar/book?utm_source=rwg\"],\"thumbnailUrl\":\"https://lh5.googleusercontent.com/p/AF1QipO9vJDWwiJTUajjdekQhmO3P4u-wsjxgXpZEAd8\",\"cid\":\"12190644704899463539\",\"fid\":\"0x3bae1514c709a1f5:0xa92ddec532877973\",\"placeId\":\"ChIJ9aEJxxQVrjsRc3mHMsXeLak\"},{\"position\":9,\"title\":\"Saanvi Sagar, Veg Restaurant\",\"address\":\"29, 15th Cross Rd, JP Nagar 4th Phase, Dollar Layout, Jayanagara 9th Block, J. P. Nagar, Bengaluru, Karnataka 560078, India\",\"latitude\":12.9064906,\"longitude\":77.59848339999999,\"rating\":3.6,\"ratingCount\":361,\"priceLevel\":\"₹1–200\",\"type\":\"Vegetarian restaurant\",\"types\":[\"Vegetarian restaurant\",\"South Indian restaurant\"],\"bookingLinks\":[\"https://www.google.com/maps/reserve/v/dine/c/76LTTMzzr3E?source=pa&opi=79508299\"],\"thumbnailUrl\":\"https://lh5.googleusercontent.com/p/AF1QipNM45wXYSIirNAKBT16Us6sMUEpbPZR5UMULYeK\",\"cid\":\"18300190993254536107\",\"fid\":\"0x3bae15aaf73fb92f:0xfdf756bff2bd53ab\",\"placeId\":\"ChIJL7k_96oVrjsRq1O98r9W9_0\"},{\"position\":10,\"title\":\"Fountain Fine Dine Restaurant\",\"address\":\"296, 24th Main Rd, JP Nagar 6th Phase, KR Layout, JP Nagar Phase 6, J. P. Nagar, Bengaluru, Karnataka 560078, India\",\"latitude\":12.904034,\"longitude\":77.5856459,\"rating\":4,\"ratingCount\":53,\"priceLevel\":\"₹200–400\",\"type\":\"Restaurant\",\"types\":[\"Restaurant\"],\"phoneNumber\":\"+91 87920 27907\",\"openingHours\":{\"Saturday\":\"11:30 AM–12:30 AM\",\"Sunday\":\"11:30 AM–12:30 AM\",\"Monday\":\"11:30 AM–12:30 AM\",\"Tuesday\":\"11:30 AM–12:30 AM\",\"Wednesday\":\"11:30 AM–12:30 AM\",\"Thursday\":\"11:30 AM–12:30 AM\",\"Friday\":\"11:30 AM–12:30 AM\"},\"thumbnailUrl\":\"https://lh5.googleusercontent.com/p/AF1QipO8ZrkQjz1NJ8IOLPjr_wgKKnmT0MxGzaFSE6ZC\",\"cid\":\"4954540644138695807\",\"fid\":\"0x3bae15006a87a05b:0x44c210772f1f3c7f\",\"placeId\":\"ChIJW6CHagAVrjsRfzwfL3cQwkQ\"},{\"position\":11,\"title\":\"Loka Restaurant by Green Park Hotels\",\"address\":\"WJ52+87F, Bannerghatta Rd, Dollar Layout, BTM 2nd Stage, J. P. Nagar, Bengaluru, Karnataka 560078, India\",\"latitude\":12.908320999999999,\"longitude\":77.60067509999999,\"rating\":4.4,\"ratingCount\":64,\"priceLevel\":\"₹1,000–1,200\",\"type\":\"Buffet restaurant\",\"types\":[\"Buffet restaurant\"],\"phoneNumber\":\"+91 89045 78093\",\"bookingLinks\":[\"https://www.eazydiner.com/bengaluru/loka-by-greenpark-hotels-greenpark-bengaluru-690250\",\"https://www.zomato.com/bangalore/loka-greenpark-hotels-bannerghatta-road-bangalore/book?utm_source=rwg\",\"https://www.google.com/maps/reserve/v/dine/c/3paFuUyOPsU?source=pa&opi=79508299\"],\"thumbnailUrl\":\"https://lh5.googleusercontent.com/p/AF1QipPwVPFDPmFHQnzmF2DD0Cb2b8EmsxigTAbqHe2Y\",\"cid\":\"4978972882590139525\",\"fid\":\"0x3bae15ef2e9f51c1:0x4518dd74fd168485\",\"placeId\":\"ChIJwVGfLu8VrjsRhYQW_XTdGEU\"},{\"position\":12,\"title\":\"Thyme & Whisk- Best Restaurant in RR Nagar\",\"address\":\"No. 554-559, Poornaprajna Amitha Complex, Uttarhalli, Kengeri Rd, Poornaprajna Nagara, Bengaluru, Karnataka 560061, India\",\"latitude\":12.908337699999999,\"longitude\":77.53478179999999,\"rating\":4.3,\"ratingCount\":190,\"type\":\"North Indian restaurant\",\"types\":[\"North Indian restaurant\"],\"website\":\"https://trinetraventure.com/\",\"phoneNumber\":\"+91 91083 13555\",\"openingHours\":{\"Saturday\":\"11 AM–12 AM\",\"Sunday\":\"11 AM–12 AM\",\"Monday\":\"11 AM–12 AM\",\"Tuesday\":\"11 AM–12 AM\",\"Wednesday\":\"11 AM–12 AM\",\"Thursday\":\"11 AM–12 AM\",\"Friday\":\"11 AM–12 AM\"},\"bookingLinks\":[\"https://www.zomato.com/bangalore/thyme-whisk-uttarahalli-bangalore/book?utm_source=rwg\",\"https://www.eazydiner.com/bengaluru/thyme-whisk-rajarajeshwari-nagar-south-bengaluru-696958\",\"https://www.google.com/maps/reserve/v/dine/c/CFLVn-IYD80?source=pa&opi=79508299\"],\"thumbnailUrl\":\"https://lh5.googleusercontent.com/p/AF1QipP-dIUE0i2aANO2X0ajW5FhWS35TaUydPZZezTW\",\"cid\":\"6892892168542198764\",\"fid\":\"0x3bae3faf2d84c217:0x5fa878e83d079bec\",\"placeId\":\"ChIJF8KELa8_rjsR7JsHPeh4qF8\"},{\"position\":13,\"title\":\"Masaledaar Desi Rasoi - Jayanagar\",\"address\":\"57, 1st Floor, SLV Arcade 9th Main Road, 40th Cross Rd, 5th Block, Jayanagar, Bengaluru, Karnataka 560041, India\",\"latitude\":12.919724599999999,\"longitude\":77.5838527,\"rating\":4.3,\"ratingCount\":1299,\"priceLevel\":\"₹400–600\",\"type\":\"North Indian restaurant\",\"types\":[\"North Indian restaurant\"],\"website\":\"https://masaledaar.in/\",\"phoneNumber\":\"+91 73388 22680\",\"openingHours\":{\"Saturday\":\"12–4 PM, 7–11:30 PM\",\"Sunday\":\"12–4 PM, 7–11:30 PM\",\"Monday\":\"12–4 PM, 7–11:30 PM\",\"Tuesday\":\"12–4 PM, 7–11:30 PM\",\"Wednesday\":\"12–4 PM, 7–11:30 PM\",\"Thursday\":\"12–4 PM, 7–11:30 PM\",\"Friday\":\"12–4 PM, 7–11:30 PM\"},\"bookingLinks\":[\"https://www.google.com/maps/reserve/v/dine/c/mZErwtWG-uM?source=pa&opi=79508299\"],\"thumbnailUrl\":\"https://lh5.googleusercontent.com/p/AF1QipPA8r7sjO86CaZh7i68wROZbO9Yb5UtZhiZslR5\",\"cid\":\"13524277552234607310\",\"fid\":\"0x3bae1514bf3e6fd3:0xbbafe2c770bbb2ce\",\"placeId\":\"ChIJ028-vxQVrjsRzrK7cMfir7s\"},{\"position\":14,\"title\":\"AL-BEK\",\"address\":\"118/ 47, 2nd Main Rd, opp. JAYADEVA HOSPITAL, 3rd Phase, J. P. Nagar, Bengaluru, Karnataka 560067, India\",\"latitude\":12.9165342,\"longitude\":77.59841829999999,\"rating\":4,\"ratingCount\":17300,\"priceLevel\":\"₹200–400\",\"type\":\"Indian restaurant\",\"types\":[\"Indian restaurant\",\"Barbecue restaurant\",\"Chinese restaurant\",\"Non vegetarian restaurant\",\"Vegetarian restaurant\"],\"phoneNumber\":\"+91 96060 30006\",\"openingHours\":{\"Saturday\":\"11:30 AM–12 AM\",\"Sunday\":\"11:30 AM–12 AM\",\"Monday\":\"11:30 AM–12 AM\",\"Tuesday\":\"11:30 AM–12 AM\",\"Wednesday\":\"11:30 AM–12 AM\",\"Thursday\":\"11:30 AM–12 AM\",\"Friday\":\"11:30 AM–12 AM\"},\"bookingLinks\":[\"https://www.zomato.com/bangalore/al-bek-jayanagar-bangalore/book?utm_source=rwg\",\"https://www.google.com/maps/reserve/v/dine/c/Ztr__964oKE?source=pa&opi=79508299\"],\"thumbnailUrl\":\"https://lh5.googleusercontent.com/p/AF1QipO8ALufS6jly8UEh-y0xtbjhbm_j9i1Rovw00SI\",\"cid\":\"14443187787965463033\",\"fid\":\"0x3bae1505d8665c23:0xc87082c515f0f9f9\",\"placeId\":\"ChIJI1xm2AUVrjsR-fnwFcWCcMg\"},{\"position\":15,\"title\":\"Khmer kitchen\",\"address\":\"697, 15th Cross Rd, 2nd Phase, J. P. Nagar, Bengaluru, Karnataka 560078, India\",\"latitude\":12.9065383,\"longitude\":77.58661599999999,\"rating\":4.5,\"ratingCount\":3616,\"priceLevel\":\"$$$\",\"type\":\"Southeast Asian restaurant\",\"types\":[\"Southeast Asian restaurant\"],\"website\":\"http://www.khmer-kitchen.in/\",\"phoneNumber\":\"+91 73378 08139\",\"description\":\"Stylish hangout with a Pan-Asian menu focusing on creative Cambodian meals & desserts.\",\"openingHours\":{\"Saturday\":\"11:30 AM–11:30 PM\",\"Sunday\":\"11:30 AM–11 PM\",\"Monday\":\"11:30 AM–11 PM\",\"Tuesday\":\"11:30 AM–11 PM\",\"Wednesday\":\"11:30 AM–11 PM\",\"Thursday\":\"11:30 AM–11 PM\",\"Friday\":\"11:30 AM–11:30 PM\"},\"bookingLinks\":[\"https://www.eazydiner.com/bengaluru/khmer-kitchen-jp-nagar-south-bengaluru-672852\",\"https://www.zomato.com/bangalore/khmer-kitchen-jp-nagar-bangalore/book?utm_source=rwg\",\"https://www.google.com/maps/reserve/v/dine/c/nwOr8qL6wJ4?source=pa&opi=79508299\"],\"thumbnailUrl\":\"https://lh5.googleusercontent.com/p/AF1QipP-GetcPV2DeWhGQaaa1AF82GqHGmZn7V-Mzj2X\",\"cid\":\"3586087999280700425\",\"fid\":\"0x3bae158d9a0f4bcd:0x31c45809126adc09\",\"placeId\":\"ChIJzUsPmo0VrjsRCdxqEglYxDE\"},{\"position\":16,\"title\":\"Rithika's Kitchen - Andhra Non-Veg Restaurant\",\"address\":\"1st floor, 312, 15th Cross Rd, J P Nagar Phase 5, J. P. Nagar, Bengaluru, Karnataka 560078, India\",\"latitude\":12.9061316,\"longitude\":77.5933301,\"rating\":4.9,\"ratingCount\":117,\"priceLevel\":\"₹200–400\",\"type\":\"Restaurant\",\"types\":[\"Restaurant\"],\"openingHours\":{\"Saturday\":\"12–11:30 PM\",\"Sunday\":\"12–11:30 PM\",\"Monday\":\"12–11:30 PM\",\"Tuesday\":\"12–11:30 PM\",\"Wednesday\":\"12–11:30 PM\",\"Thursday\":\"12–11:30 PM\",\"Friday\":\"12–11:30 PM\"},\"thumbnailUrl\":\"https://lh5.googleusercontent.com/p/AF1QipOIwf81VClRIGYJuOABjMMKvRSZ7Wcg9EJTvhFM\",\"cid\":\"16946842991786547374\",\"fid\":\"0x3bae3fc2d3d6246b:0xeb2f47e9adc158ae\",\"placeId\":\"ChIJayTW08I_rjsRrljBrelHL-s\"},{\"position\":17,\"title\":\"Prasidhi Food Corner\",\"address\":\"25, 9th Cross, 34th Main Rd, near Indira Gandhi Circle, ITI Layout, 1st Phase, J. P. Nagar, Bengaluru, Karnataka 560078, India\",\"latitude\":12.9109544,\"longitude\":77.5792489,\"rating\":4,\"ratingCount\":1881,\"priceLevel\":\"₹1–200\",\"type\":\"Vegetarian restaurant\",\"types\":[\"Vegetarian restaurant\"],\"phoneNumber\":\"+91 89514 54879\",\"openingHours\":{\"Saturday\":\"6:30 AM–11:30 PM\",\"Sunday\":\"6:30 AM–11:30 PM\",\"Monday\":\"6:30 AM–11:30 PM\",\"Tuesday\":\"6:30 AM–11:30 PM\",\"Wednesday\":\"6:30 AM–11:30 PM\",\"Thursday\":\"6:30 AM–11:30 PM\",\"Friday\":\"6:30 AM–11:30 PM\"},\"thumbnailUrl\":\"https://lh5.googleusercontent.com/p/AF1QipOqEIZmNbNQ31O74yr4KX9NgLvm35GLugJ1Xrvs\",\"cid\":\"16549250181639576470\",\"fid\":\"0x3bae15cb7107332f:0xe5aabf5bc7b21b96\",\"placeId\":\"ChIJLzMHccsVrjsRlhuyx1u_quU\"},{\"position\":18,\"title\":\"Andhra Ruchulu, JP Nagar\",\"address\":\"Pai Comforts Hotel, 1319, 100 Feet Ring Rd, Marenahalli, 2nd Phase, J. P. Nagar, Bengaluru, Karnataka 560078, India\",\"latitude\":12.9167338,\"longitude\":77.5901212,\"rating\":4.2,\"ratingCount\":3592,\"priceLevel\":\"₹200–400\",\"type\":\"Andhra restaurant\",\"types\":[\"Andhra restaurant\",\"Hyderabadi restaurant\",\"Indian restaurant\",\"Delivery Restaurant\",\"Non vegetarian restaurant\",\"North Indian restaurant\",\"Restaurant\",\"Vegetarian restaurant\"],\"website\":\"http://www.paihotels.com/\",\"phoneNumber\":\"+91 89704 09660\",\"description\":\"Traditional Indian & Chinese favourites are served on banana leaves at this relaxed restaurant.\",\"openingHours\":{\"Saturday\":\"12–4 PM, 7–11 PM\",\"Sunday\":\"12–4 PM, 7–11 PM\",\"Monday\":\"12–4 PM, 7–11 PM\",\"Tuesday\":\"12–4 PM, 7–11 PM\",\"Wednesday\":\"12–4 PM, 7–11 PM\",\"Thursday\":\"12–4 PM, 7–11 PM\",\"Friday\":\"12–4 PM, 7–11 PM\"},\"bookingLinks\":[\"https://www.zomato.com/bangalore/andhra-ruchulu-1-jp-nagar/book?utm_source=rwg\",\"https://www.eazydiner.com/bengaluru/andhra-ruchulu-jp-nagar-south-bengaluru-700995\",\"https://www.google.com/maps/reserve/v/dine/c/IfuBz_6eEU8?source=pa&opi=79508299\"],\"thumbnailUrl\":\"https://lh5.googleusercontent.com/p/AF1QipNWS-C_IjSwrBt_u3-15Hfx8---4DjkCgeJf-7-\",\"cid\":\"5164752030625635520\",\"fid\":\"0x3bae150bee3b3d07:0x47ace29b9a6b1cc0\",\"placeId\":\"ChIJBz077gsVrjsRwBxrmpvirEc\"},{\"position\":19,\"title\":\"Surabhi bar and restaurant\",\"address\":\"489, E End Main Rd, Corporation Colony, 4th T Block East, Jayanagara 9th Block, Jayanagar, Bengaluru, Karnataka 560041, India\",\"latitude\":12.918654,\"longitude\":77.5967836,\"rating\":4,\"ratingCount\":71,\"priceLevel\":\"₹400–600\",\"type\":\"Restaurant\",\"types\":[\"Restaurant\",\"Bar\"],\"openingHours\":{\"Saturday\":\"10 AM–1 AM\",\"Sunday\":\"10 AM–1 AM\",\"Monday\":\"10 AM–1 AM\",\"Tuesday\":\"10 AM–1 AM\",\"Wednesday\":\"10 AM–1 AM\",\"Thursday\":\"10 AM–1 AM\",\"Friday\":\"10 AM–1 AM\"},\"thumbnailUrl\":\"https://lh5.googleusercontent.com/p/AF1QipOx6X3ZWiW9pfin2OvhurjjMy0V06JZMz8xGE76\",\"cid\":\"11666058391562746282\",\"fid\":\"0x3bae150aa9fe4c8f:0xa1e62a4c360ff9aa\",\"placeId\":\"ChIJj0z-qQoVrjsRqvkPNkwq5qE\"},{\"position\":20,\"title\":\"Baba Punjabi\",\"address\":\"Ground Floor, 1304, 20th Main Rd, Marenahalli, 2nd Phase, J. P. Nagar, Bengaluru, Karnataka 560078, India\",\"latitude\":12.910572,\"longitude\":77.5880741,\"rating\":4.1,\"ratingCount\":3928,\"priceLevel\":\"₹200–600\",\"type\":\"Punjabi restaurant\",\"types\":[\"Punjabi restaurant\",\"Breakfast restaurant\",\"Fusion restaurant\",\"North Indian restaurant\",\"Restaurant\",\"Soul food restaurant\",\"Vegetarian restaurant\"],\"phoneNumber\":\"+91 98808 94199\",\"description\":\"North Indian, vegetarian specialties & desserts are dished up in this trendy chain outlet.\",\"openingHours\":{\"Saturday\":\"8 AM–11:30 PM\",\"Sunday\":\"8 AM–11:30 PM\",\"Monday\":\"11:30 AM–11:30 PM\",\"Tuesday\":\"11:30 AM–11:30 PM\",\"Wednesday\":\"11:30 AM–11:30 PM\",\"Thursday\":\"11:30 AM–11:30 PM\",\"Friday\":\"8 AM–11:30 PM\"},\"bookingLinks\":[\"https://www.zomato.com/bangalore/baba-punjabi-jp-nagar-bangalore/book?utm_source=rwg\",\"https://www.google.com/maps/reserve/v/dine/c/JEEHA6or9MI?source=pa&opi=79508299\"],\"thumbnailUrl\":\"https://lh5.googleusercontent.com/p/AF1QipP-CkpeEUFVDuaEgxHCqEgzX65Pyei4ZRhWJ3gg\",\"cid\":\"16789985552184041448\",\"fid\":\"0x3bae15832c63ac5f:0xe90202e70ddedfe8\",\"placeId\":\"ChIJX6xjLIMVrjsR6N_eDecCAuk\"}],\"credits\":3}\n"
     ]
    }
   ],
   "source": [
    "url = \"https://google.serper.dev/maps\"\n",
    "\n",
    "payload = json.dumps({\n",
    "  \"q\": \"resturants\",\n",
    "  \"ll\": \"@12.9105217,77.5500655,15.5z\" #logitude, latitude and zoom\n",
    "})\n",
    "headers = {\n",
    "  'X-API-KEY': serper_dev_api_key,\n",
    "  'Content-Type': 'application/json'\n",
    "}\n",
    "\n",
    "response = requests.request(\"POST\", url, headers=headers, data=payload)\n",
    "\n",
    "print(response.text)"
   ]
  },
  {
   "cell_type": "code",
   "execution_count": 18,
   "metadata": {},
   "outputs": [
    {
     "name": "stdout",
     "output_type": "stream",
     "text": [
      "1. Nandhana Palace - Andhra Style Restaurant - JP Nagar - 147, 24th Main Rd, R.K Colony, Marenahalli, 2nd Phase, J. P. Nagar, Bengaluru, Karnataka 560078, India\n",
      "Rating: 4.2\n",
      "2. MASALA - 58/1, Uttarahalli Main Rd, Ankappa Layout, Chikkalasandra, Bengaluru, Karnataka 560061, India\n",
      "Rating: 3.8\n",
      "3. Narmada Restaurant Bannerghatta - No. 193/4A, 193/4B, Bannerghatta Rd, NS Palya, BTM 2nd Stage, BTM Layout, Bengaluru, Karnataka 560076, India\n",
      "Rating: 4.4\n",
      "4. The Dennys Pub - 1550, East End Circle JP Nagar 3rd phase, Jayanagara 9th Block, Bengaluru, Karnataka 560078, India\n",
      "Rating: 3.9\n",
      "5. Empire Restaurant - JP Nagar - No.11, 24th Main Rd, 5th Phase, Ayodya Nagar, J P Nagar Phase 5, J. P. Nagar, Bengaluru, Karnataka 560078, India\n",
      "Rating: 4.3\n",
      "6. Nandhini Deluxe - JP Nagar - 726/A, 24th Main Rd, JP Nagar 6th Phase, KR Layout, JP Nagar Phase 6, J. P. Nagar, Bengaluru, Karnataka 560078, India\n",
      "Rating: 3.8\n",
      "7. The Rameshwaram Cafe - 52, Outer Ring Rd, Jeewan Griha Colony, 2nd Phase, J. P. Nagar, Bengaluru, Karnataka 560078, India\n",
      "Rating: 4.2\n",
      "8. Zaitoon Restaurant , JP Nagar - 21, 24th Main Rd, KR Layout, J P Nagar Phase 5, J. P. Nagar, Bengaluru, Karnataka 560078, India\n",
      "Rating: 4.2\n",
      "9. Saanvi Sagar, Veg Restaurant - 29, 15th Cross Rd, JP Nagar 4th Phase, Dollar Layout, Jayanagara 9th Block, J. P. Nagar, Bengaluru, Karnataka 560078, India\n",
      "Rating: 3.6\n",
      "10. Fountain Fine Dine Restaurant - 296, 24th Main Rd, JP Nagar 6th Phase, KR Layout, JP Nagar Phase 6, J. P. Nagar, Bengaluru, Karnataka 560078, India\n",
      "Rating: 4\n",
      "11. Loka Restaurant by Green Park Hotels - WJ52+87F, Bannerghatta Rd, Dollar Layout, BTM 2nd Stage, J. P. Nagar, Bengaluru, Karnataka 560078, India\n",
      "Rating: 4.4\n",
      "12. Thyme & Whisk- Best Restaurant in RR Nagar - No. 554-559, Poornaprajna Amitha Complex, Uttarhalli, Kengeri Rd, Poornaprajna Nagara, Bengaluru, Karnataka 560061, India\n",
      "Rating: 4.3\n",
      "13. Masaledaar Desi Rasoi - Jayanagar - 57, 1st Floor, SLV Arcade 9th Main Road, 40th Cross Rd, 5th Block, Jayanagar, Bengaluru, Karnataka 560041, India\n",
      "Rating: 4.3\n",
      "14. AL-BEK - 118/ 47, 2nd Main Rd, opp. JAYADEVA HOSPITAL, 3rd Phase, J. P. Nagar, Bengaluru, Karnataka 560067, India\n",
      "Rating: 4\n",
      "15. Khmer kitchen - 697, 15th Cross Rd, 2nd Phase, J. P. Nagar, Bengaluru, Karnataka 560078, India\n",
      "Rating: 4.5\n",
      "About: Stylish hangout with a Pan-Asian menu focusing on creative Cambodian meals & desserts.\n",
      "16. Rithika's Kitchen - Andhra Non-Veg Restaurant - 1st floor, 312, 15th Cross Rd, J P Nagar Phase 5, J. P. Nagar, Bengaluru, Karnataka 560078, India\n",
      "Rating: 4.9\n",
      "17. Prasidhi Food Corner - 25, 9th Cross, 34th Main Rd, near Indira Gandhi Circle, ITI Layout, 1st Phase, J. P. Nagar, Bengaluru, Karnataka 560078, India\n",
      "Rating: 4\n",
      "18. Andhra Ruchulu, JP Nagar - Pai Comforts Hotel, 1319, 100 Feet Ring Rd, Marenahalli, 2nd Phase, J. P. Nagar, Bengaluru, Karnataka 560078, India\n",
      "Rating: 4.2\n",
      "About: Traditional Indian & Chinese favourites are served on banana leaves at this relaxed restaurant.\n",
      "19. Surabhi bar and restaurant - 489, E End Main Rd, Corporation Colony, 4th T Block East, Jayanagara 9th Block, Jayanagar, Bengaluru, Karnataka 560041, India\n",
      "Rating: 4\n",
      "20. Baba Punjabi - Ground Floor, 1304, 20th Main Rd, Marenahalli, 2nd Phase, J. P. Nagar, Bengaluru, Karnataka 560078, India\n",
      "Rating: 4.1\n",
      "About: North Indian, vegetarian specialties & desserts are dished up in this trendy chain outlet.\n"
     ]
    }
   ],
   "source": [
    "response_dict = json.loads(response.text)  # Convert string to dictionary\n",
    "for i in range(len(response_dict[\"places\"])):  # Loop through organic results\n",
    "    print(f\"{i + 1}. {response_dict['places'][i]['title']} - {response_dict['places'][i]['address']}\")  # Print title and URL\n",
    "    print(f\"Rating: {response_dict['places'][i]['rating']}\")  # Print rating\n",
    "    try:\n",
    "        print(f\"About: {response_dict['places'][i]['description']}\") \n",
    "    except:\n",
    "        pass"
   ]
  },
  {
   "cell_type": "code",
   "execution_count": null,
   "metadata": {},
   "outputs": [],
   "source": []
  },
  {
   "cell_type": "code",
   "execution_count": null,
   "metadata": {},
   "outputs": [],
   "source": []
  }
 ],
 "metadata": {
  "kernelspec": {
   "display_name": "Python 3 (ipykernel)",
   "language": "python",
   "name": "python3"
  },
  "language_info": {
   "codemirror_mode": {
    "name": "ipython",
    "version": 3
   },
   "file_extension": ".py",
   "mimetype": "text/x-python",
   "name": "python",
   "nbconvert_exporter": "python",
   "pygments_lexer": "ipython3",
   "version": "3.10.16"
  }
 },
 "nbformat": 4,
 "nbformat_minor": 2
}
