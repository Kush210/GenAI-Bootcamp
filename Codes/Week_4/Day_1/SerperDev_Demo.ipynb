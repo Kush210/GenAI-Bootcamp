{
 "cells": [
  {
   "cell_type": "code",
   "execution_count": 1,
   "metadata": {},
   "outputs": [],
   "source": [
    "from dotenv import load_dotenv\n",
    "import os\n",
    "\n",
    "# Load environment variables from .env file\n",
    "load_dotenv()\n",
    "\n",
    "openai_api_key = os.getenv('OPENAI_API_KEY')\n",
    "serper_dev_api_key = os.getenv('SERPER_DEV_API_KEY')"
   ]
  },
  {
   "cell_type": "code",
   "execution_count": 2,
   "metadata": {},
   "outputs": [
    {
     "name": "stdout",
     "output_type": "stream",
     "text": [
      "{\"searchParameters\":{\"q\":\"Donald trump\",\"type\":\"search\",\"engine\":\"google\"},\"knowledgeGraph\":{\"title\":\"Donald Trump\",\"type\":\"45th and 47th U.S. President\",\"website\":\"https://www.donaldjtrump.com/\",\"imageUrl\":\"https://encrypted-tbn0.gstatic.com/images?q=tbn:ANd9GcQ5l2ARAS7LBLn_cmh0w2ZXC_NOtKTSz30&s=0\",\"attributes\":{\"Born\":\"June 14, 1946 (age 78 years), Jamaica Hospital Medical Center, New York, NY\",\"Spouse\":\"Melania Trump (m. 2005), Marla Maples (m. 1993–1999), and Ivana Trump (m. 1977–1990)\",\"Children\":\"Barron Trump, Ivanka Trump, Donald Trump Jr., and more\",\"Party\":\"Republican Party\",\"Vice presidents\":\"JD Vance (2025–) and Mike Pence (2017–2021)\",\"Education\":\"Wharton School (1966–1968), Fordham University (1964–1966), New York Military Academy (1959–1964), and more\",\"Height\":\"6′ 3″\"}},\"organic\":[{\"title\":\"Donald Trump - Wikipedia\",\"link\":\"https://en.wikipedia.org/wiki/Donald_Trump\",\"snippet\":\"Donald John Trump (born June 14, 1946) is an American politician, media personality, and businessman serving as the 47th president of the United States ...\",\"date\":\"25 minutes ago\",\"sitelinks\":[{\"title\":\"Political positions of Donald...\",\"link\":\"https://en.wikipedia.org/wiki/Political_positions_of_Donald_Trump\"},{\"title\":\"Family\",\"link\":\"https://en.wikipedia.org/wiki/Family_of_Donald_Trump\"},{\"title\":\"The Making of Donald Trump\",\"link\":\"https://en.wikipedia.org/wiki/The_Making_of_Donald_Trump\"},{\"title\":\"Trump Jr.\",\"link\":\"https://en.wikipedia.org/wiki/Donald_Trump_Jr.\"}],\"position\":1},{\"title\":\"Donald J. Trump - Facebook\",\"link\":\"https://www.facebook.com/DonaldTrump/\",\"snippet\":\"Donald J. Trump. 33897130 likes · 1602197 talking about this. This is the official Facebook page for Donald J. Trump.\",\"position\":2},{\"title\":\"Donald J. Trump – The White House\",\"link\":\"https://trumpwhitehouse.archives.gov/people/donald-j-trump/\",\"snippet\":\"Donald J. Trump is the 45th President of the United States. He believes the United States has incredible potential and will go on to exceed even its ...\",\"position\":3},{\"title\":\"Donald J. Trump: Home\",\"link\":\"https://www.donaldjtrump.com/\",\"snippet\":\"Certified Website of Donald J. Trump For President 2024. America's comeback starts right now. Join our movement to Make America Great Again!\",\"position\":4},{\"title\":\"President Donald J. Trump (@realdonaldtrump) - Instagram\",\"link\":\"https://www.instagram.com/realdonaldtrump/?hl=en\",\"snippet\":\"32M Followers, 45 Following, 7396 Posts - President Donald J. Trump (@realdonaldtrump) on Instagram: \\\"45th President of the United States\\\"\",\"position\":5},{\"title\":\"President Donald J. Trump - The White House\",\"link\":\"https://www.whitehouse.gov/administration/donald-j-trump/\",\"snippet\":\"President Donald J. Trump is returning to the White House to build upon his previous successes and use his mandate to reject the extremist policies.\",\"position\":6},{\"title\":\"Donald J. Trump | CNN Politics\",\"link\":\"https://www.cnn.com/politics/president-donald-trump-47\",\"snippet\":\"Keeping track of Trump. Pres. Trump is set to sign a bipartisan immigration bill called the Laken Riley Act.\",\"sitelinks\":[{\"title\":\"Donald Trump’s presidency by...\",\"link\":\"https://www.cnn.com/2020/12/18/politics/trump-presidency-by-the-numbers/index.html\"},{\"title\":\"Donald Trump’s criminal cases...\",\"link\":\"https://www.cnn.com/2023/06/09/politics/criminal-indictment-trump-what-matters/index.html\"},{\"title\":\"In pictures\",\"link\":\"https://www.cnn.com/2021/01/08/politics/gallery/donald-trump/index.html\"}],\"position\":7},{\"title\":\"President Donald J. Trump\",\"link\":\"http://www.trumplibrary.gov/trumps/president-donald-j-trump\",\"snippet\":\"President Trump began his second term in the White House on January 20, 2025. He is joined by Ohio Senator JD Vance as Vice President.\",\"position\":8}],\"topStories\":[{\"title\":\"Trump’s agenda faces legal challenges as president announces new tariffs\",\"link\":\"https://www.cnn.com/politics/live-news/trump-doge-presidency-news-02-10-25/index.html\",\"source\":\"CNN\",\"date\":\"8 minutes ago\",\"imageUrl\":\"https://encrypted-tbn0.gstatic.com/images?q=tbn:ANd9GcSJd_K0B3R8zpVNtfIRFlW5UM6_Gnyv9QFxpe7_8VZAzSBsgz-uUmC33XCH8Q&s\"},{\"title\":\"Trump Muses About a Third Term, Over and Over Again\",\"link\":\"https://www.nytimes.com/2025/02/10/us/politics/trump-third-term.html\",\"source\":\"The New York Times\",\"date\":\"5 hours ago\",\"imageUrl\":\"https://encrypted-tbn0.gstatic.com/images?q=tbn:ANd9GcRvDMv-JVDqI0woyNGeOY2gtgAPQH3MC_6iMDWcTtOOOBNTWXZqulFdc2gWuA&s\"},{\"title\":\"Trump allies suggest defying court orders after stinging legal rebukes\",\"link\":\"https://www.washingtonpost.com/politics/2025/02/10/trump-judges-vance-musk-defy-orders/\",\"source\":\"The Washington Post\",\"date\":\"48 minutes ago\",\"imageUrl\":\"https://encrypted-tbn0.gstatic.com/images?q=tbn:ANd9GcQDCYty3hji1zC00fZYCVAynD0aA8HCbOAWpstmdcvhfeCkgR62idHowoIBSQ&s\"},{\"title\":\"Trump 2nd term live updates: Durbin says Vance judiciary comments 'one step away from constitutional crisis'\",\"link\":\"https://abcnews.go.com/Politics/live-updates/trump-2nd-term-tariffs-trade-war/?id=118643360\",\"source\":\"ABC News - Breaking News, Latest News and Videos\",\"date\":\"1 hour ago\",\"imageUrl\":\"https://encrypted-tbn0.gstatic.com/images?q=tbn:ANd9GcTsHSiEAyM606PN9vLX_H_sb9alviCAW1cWvVL_fHWyNH7HHkDcci66COWkpw&s\"},{\"title\":\"What the polls can tell us about the early days of Trump's second term: From the Politics Desk\",\"link\":\"https://www.nbcnews.com/politics/polls-early-days-trump-second-term-politics-desk-rcna191561\",\"source\":\"NBC News\",\"date\":\"3 hours ago\",\"imageUrl\":\"https://encrypted-tbn0.gstatic.com/images?q=tbn:ANd9GcSpBu1aiGnvg4u9PMV86i35NBJlccfAT4JGxcJ3qkj4L2fPcRtRVSkWew-6ag&s\"},{\"title\":\"Live updates: Palestinians won’t have the right to return to Gaza under Trump’s plan for the territory\",\"link\":\"https://apnews.com/live/donald-trump-news-2-10-2025\",\"source\":\"AP News\",\"date\":\"6 hours ago\",\"imageUrl\":\"https://encrypted-tbn0.gstatic.com/images?q=tbn:ANd9GcSn3TEhnRqIif5brOtoTSqV7VgaK7r4MBfVJRT0nPQSi00k7x9KlH0_ct5X_w&s\"},{\"title\":\"Iran Sends Warning To Donald Trump\",\"link\":\"https://www.newsweek.com/iran-leaders-send-anniversary-warning-donald-trump-2028718\",\"source\":\"Newsweek\",\"date\":\"12 hours ago\",\"imageUrl\":\"https://encrypted-tbn0.gstatic.com/images?q=tbn:ANd9GcTK7u7sHAx0tX0a0NGEUfWaMtP2Byt5JyqJ9ANkepvhpiF-nFDD0a9cC6UxFQ&s\"},{\"title\":\"Trump declines to endorse Vance for 2028 but says VP is 'very capable'\",\"link\":\"https://www.usatoday.com/story/news/politics/2025/02/10/vance-2028-donald-trump-endorsement/78245504007/\",\"source\":\"USA Today\",\"date\":\"2 hours ago\",\"imageUrl\":\"https://encrypted-tbn0.gstatic.com/images?q=tbn:ANd9GcSYbdiNQfAzcENsM6eReH-b9gImP2zWYvSIH5-bYfbl5qNEHeRuF5rMklxSbA&s\"},{\"title\":\"Trump Signals He Might Ignore the Courts\",\"link\":\"https://www.theatlantic.com/politics/archive/2025/02/trump-vance-courts/681632/\",\"source\":\"The Atlantic\",\"date\":\"11 hours ago\",\"imageUrl\":\"https://encrypted-tbn0.gstatic.com/images?q=tbn:ANd9GcRLmrxzd-8L64yQSklNywLw_TBFP94TrN3b7MqmhOLKCnobzE-Y_ZWLeqevmA&s\"},{\"title\":\"A Big Social Security Change Proposed by President Donald Trump May Be Bad News for Retirees\",\"link\":\"https://www.fool.com/retirement/2025/02/10/big-social-security-change-donald-trump-bad-news/\",\"source\":\"The Motley Fool\",\"date\":\"16 hours ago\",\"imageUrl\":\"https://encrypted-tbn0.gstatic.com/images?q=tbn:ANd9GcTI1Tc7rUv_Xjl70EcI5IhmX9CG6e7OQBqFCpMAxHvzRW36euOYRjek6m3gtA&s\"}],\"relatedSearches\":[{\"query\":\"Donald Trump shoes\"},{\"query\":\"Donald Trump net worth\"},{\"query\":\"Donald Trump News\"},{\"query\":\"Donald Trump approval rating\"},{\"query\":\"Donald Trump Truth Social\"},{\"query\":\"Donald Trump impeachment\"}],\"credits\":1}\n",
      "1. Donald Trump - Wikipedia - https://en.wikipedia.org/wiki/Donald_Trump\n",
      "Donald John Trump (born June 14, 1946) is an American politician, media personality, and businessman serving as the 47th president of the United States ...\n",
      "\n",
      "2. Donald J. Trump - Facebook - https://www.facebook.com/DonaldTrump/\n",
      "Donald J. Trump. 33897130 likes · 1602197 talking about this. This is the official Facebook page for Donald J. Trump.\n",
      "\n",
      "3. Donald J. Trump – The White House - https://trumpwhitehouse.archives.gov/people/donald-j-trump/\n",
      "Donald J. Trump is the 45th President of the United States. He believes the United States has incredible potential and will go on to exceed even its ...\n",
      "\n",
      "4. Donald J. Trump: Home - https://www.donaldjtrump.com/\n",
      "Certified Website of Donald J. Trump For President 2024. America's comeback starts right now. Join our movement to Make America Great Again!\n",
      "\n",
      "5. President Donald J. Trump (@realdonaldtrump) - Instagram - https://www.instagram.com/realdonaldtrump/?hl=en\n",
      "32M Followers, 45 Following, 7396 Posts - President Donald J. Trump (@realdonaldtrump) on Instagram: \"45th President of the United States\"\n",
      "\n",
      "6. President Donald J. Trump - The White House - https://www.whitehouse.gov/administration/donald-j-trump/\n",
      "President Donald J. Trump is returning to the White House to build upon his previous successes and use his mandate to reject the extremist policies.\n",
      "\n",
      "7. Donald J. Trump | CNN Politics - https://www.cnn.com/politics/president-donald-trump-47\n",
      "Keeping track of Trump. Pres. Trump is set to sign a bipartisan immigration bill called the Laken Riley Act.\n",
      "\n",
      "8. President Donald J. Trump - http://www.trumplibrary.gov/trumps/president-donald-j-trump\n",
      "President Trump began his second term in the White House on January 20, 2025. He is joined by Ohio Senator JD Vance as Vice President.\n",
      "\n"
     ]
    }
   ],
   "source": [
    "import requests\n",
    "import json\n",
    "\n",
    "url = \"https://google.serper.dev/search\"\n",
    "\n",
    "payload = json.dumps({\n",
    "  \"q\": input(\"Enter search query: \")\n",
    "})\n",
    "headers = {\n",
    "  'X-API-KEY': serper_dev_api_key,\n",
    "  'Content-Type': 'application/json'\n",
    "}\n",
    "\n",
    "response = requests.request(\"POST\", url, headers=headers, data=payload)\n",
    "\n",
    "print(response.text)\n",
    "\n",
    "response_dict = json.loads(response.text)  # Convert string to dictionary\n",
    "for i in range(len(response_dict[\"organic\"])):  # Loop through organic results\n",
    "    print(f\"{i + 1}. {response_dict['organic'][i]['title']} - {response_dict['organic'][i]['link']}\")  # Print title and URL\n",
    "    print(response_dict['organic'][i]['snippet'])  # Print snippet\n",
    "    print()"
   ]
  },
  {
   "cell_type": "code",
   "execution_count": 5,
   "metadata": {},
   "outputs": [
    {
     "name": "stdout",
     "output_type": "stream",
     "text": [
      "{\"searchParameters\":{\"q\":\"site:mouser.com operational amplifiers\",\"type\":\"search\",\"engine\":\"google\"},\"organic\":[{\"title\":\"Operational Amplifiers - Op Amps\",\"link\":\"https://www.mouser.com/c/semiconductors/integrated-circuits-ics/amplifier-ics/operational-amplifiers-op-amps/?srsltid=AfmBOor098Dh5fDXVs4Qeg6_RjlEU005IXlDP_sXQ0zwTllLVWCxx44s\",\"snippet\":\"Operational Amplifiers - Op Amps are available at Mouser Electronics. Mouser offers inventory, pricing, & datasheets for Operational Amplifiers - Op Amps.\",\"currency\":\"$\",\"price\":9.99,\"position\":1},{\"title\":\"Power Amplifier Operational Amplifiers - Op Amps\",\"link\":\"https://www.mouser.com/c/?amplifier%20type=Power%20Amplifier&srsltid=AfmBOoqoY_ieFIN-GlM8e9By8XATGLmPQfohRC6SApA7y1uGFlW_8SwU\",\"snippet\":\"Power Amplifier Operational Amplifiers - Op Amps are available at Mouser Electronics. Mouser offers inventory, pricing, & datasheets for Power Amplifier ...\",\"currency\":\"$\",\"price\":9.99,\"position\":2},{\"title\":\"STMicroelectronics Operational Amplifiers (Op Amps)\",\"link\":\"https://www.mouser.com/new/stmicroelectronics/stm-op-amps/?srsltid=AfmBOop7393GVhb35KsuJXnLuQiqBkHZHHAC3Psy_eBDq2aHpcoZEdnV\",\"snippet\":\"STMicroelectronics STEVAL-CCA058V1 Training Kit. Provides hands-on training with operational amplifiers and comparator-based analog circuits.\",\"date\":\"Nov 27, 2018\",\"position\":3},{\"title\":\"+ 70 C PDIP-8 Operational Amplifiers - Op Amps\",\"link\":\"https://hr.mouser.com/c/semiconductors/amplifier-ics/operational-amplifiers-op-amps/?maximum%20operating%20temperature=%2B%2070%20C&package%20%2F%20case=PDIP-8\",\"snippet\":\"+ 70 C PDIP-8 Operational Amplifiers - Op Amps are available at Mouser Electronics. Mouser offers inventory, pricing, & datasheets for + 70 C PDIP-8 ...\",\"currency\":\"$\",\"price\":9.99,\"position\":4},{\"title\":\"High Speed Operational Amplifiers\",\"link\":\"https://www.mouser.com/c/semiconductors/integrated-circuits-ics/amplifier-ics/high-speed-operational-amplifiers/?srsltid=AfmBOopibkt2TsDqhSHmnabzU3he7I5j0OOGPrvyvWEgqewUpj9nMek1\",\"snippet\":\"High Speed Operational Amplifiers are available at Mouser Electronics. Mouser offers inventory, pricing, & datasheets for High Speed Operational Amplifiers.\",\"priceRange\":\"$1 to $13\",\"position\":5},{\"title\":\"OPAx182 High-Precision Operational Amplifiers - TI\",\"link\":\"https://www.mouser.com/new/texas-instruments/ti-opa2182-op-amp/?srsltid=AfmBOoqCKDCL7uR8A9dASTEnY-zOJZm9kaTdy-xhNdjTkAP14z815pBw\",\"snippet\":\"Texas Instruments OPAx182 High-Precision Operational Amplifiers (Op Amps) are ultra-low noise, fast-settling, zero-drift devices providing rail-to-rail ...\",\"currency\":\"$\",\"price\":9.99,\"position\":6},{\"title\":\"Current Feedback Operational Amplifiers - Op Amps\",\"link\":\"https://eu.mouser.com/c/semiconductors/amplifier-ics/operational-amplifiers-op-amps/?amplifier%20type=Current%20Feedback&pop=wrp\",\"snippet\":\"Current Feedback Operational Amplifiers - Op Amps are available at Mouser Electronics. Mouser offers inventory, pricing, & datasheets for Current Feedback ...\",\"currency\":\"$\",\"price\":9.99,\"position\":7},{\"title\":\"SMD/SMT 7 V, +/- 3.5 V Operational Amplifiers - Op Amps\",\"link\":\"https://hr.mouser.com/c/semiconductors/amplifier-ics/operational-amplifiers-op-amps/?mounting%20style=SMD%2FSMT&supply%20voltage%20-%20max=7%20V%2C%20%2B%2F-%203.5%20V\",\"snippet\":\"SMD/SMT 7 V, +/- 3.5 V Operational Amplifiers - Op Amps are available at Mouser Electronics. Mouser offers inventory, pricing, & datasheets for SMD/SMT 7 V, ...\",\"currency\":\"$\",\"price\":9.99,\"position\":8},{\"title\":\"OPAx991/OPAx991-Q1 Operational Amplifiers - TI\",\"link\":\"https://uy.mouser.com/new/texas-instruments/ti-opax991-op-amps/\",\"snippet\":\"Texas Instruments OPAx991/OPAx991-Q1 Low-Noise Operational Amplifiers (Op Amps) are high voltage (40V) general-purpose op amps.\",\"currency\":\"$\",\"price\":9.99,\"position\":9}],\"images\":[{\"title\":\"OPAx182 High-Precision Operational Amplifiers - TI | Mouser\",\"imageUrl\":\"https://encrypted-tbn0.gstatic.com/images?q=tbn:ANd9GcQCgMLgunwlxkLv8dzJ1zc3oSQqwAOQKBEszltD1G-X6l7UHTFrJShPTKw&s\",\"link\":\"https://co.mouser.com/new/texas-instruments/ti-opa2182-op-amp/\"},{\"title\":\"Operational Amplifiers (Op Amps) - STMicro | Mouser\",\"imageUrl\":\"https://encrypted-tbn0.gstatic.com/images?q=tbn:ANd9GcR9YSzkvWo148X2KHmEzRqd7jkdzSBH1E_2NszbfG0SY0oxmvDw1r5E7Z4&s\",\"link\":\"https://ar.mouser.com/new/stmicroelectronics/stm-op-amps/\"},{\"title\":\"OPAx375 Precision Operational Amplifier (Op Amp) - TI | Mouser\",\"imageUrl\":\"https://encrypted-tbn0.gstatic.com/images?q=tbn:ANd9GcQNsIqibFJnNhy5SW-WP_RbFLxasY7F0r-i4zqSa9RsBC9W0-dZVxCR5Nc&s\",\"link\":\"https://uy.mouser.com/new/texas-instruments/ti-opa375-op-amps/\"},{\"title\":\"New Operational Amplifiers - Op Amps - Mouser\",\"imageUrl\":\"https://encrypted-tbn0.gstatic.com/images?q=tbn:ANd9GcRgB_CMX2K_P5O17VETgcD35jSHSX0ynXSgdf49jFCDpnEJh09w9U_TNPA&s\",\"link\":\"https://www.mouser.com/new/semiconductors/amplifier-ics/operational-amplifiers-op-amps/n-4h00g\"},{\"title\":\"New Operational Amplifiers - Op Amps - Mouser\",\"imageUrl\":\"https://encrypted-tbn0.gstatic.com/images?q=tbn:ANd9GcSZptwnSnTjSA5xH69uEaChkZLG14YOuQAZQgBS5FZPGDQATEMjzqkR2vU&s\",\"link\":\"https://eu.mouser.com/new/semiconductors/amplifier-ics/operational-amplifiers-op-amps/n-4h00g\"},{\"title\":\"New Operational Amplifiers - Op Amps - Mouser\",\"imageUrl\":\"https://encrypted-tbn0.gstatic.com/images?q=tbn:ANd9GcR-t7gajX5bMHF_w51k1raTcgdzwmlGc16ADAJC3vOLiz6pE65H2t0iIpM&s\",\"link\":\"https://www.mouser.com/new/semiconductors/amplifier-ics/operational-amplifiers-op-amps/n-4h00g\"}],\"credits\":1}\n",
      "1. Operational Amplifiers - Op Amps - https://www.mouser.com/c/semiconductors/integrated-circuits-ics/amplifier-ics/operational-amplifiers-op-amps/?srsltid=AfmBOor098Dh5fDXVs4Qeg6_RjlEU005IXlDP_sXQ0zwTllLVWCxx44s\n",
      "Operational Amplifiers - Op Amps are available at Mouser Electronics. Mouser offers inventory, pricing, & datasheets for Operational Amplifiers - Op Amps.\n",
      "\n",
      "2. Power Amplifier Operational Amplifiers - Op Amps - https://www.mouser.com/c/?amplifier%20type=Power%20Amplifier&srsltid=AfmBOoqoY_ieFIN-GlM8e9By8XATGLmPQfohRC6SApA7y1uGFlW_8SwU\n",
      "Power Amplifier Operational Amplifiers - Op Amps are available at Mouser Electronics. Mouser offers inventory, pricing, & datasheets for Power Amplifier ...\n",
      "\n",
      "3. STMicroelectronics Operational Amplifiers (Op Amps) - https://www.mouser.com/new/stmicroelectronics/stm-op-amps/?srsltid=AfmBOop7393GVhb35KsuJXnLuQiqBkHZHHAC3Psy_eBDq2aHpcoZEdnV\n",
      "STMicroelectronics STEVAL-CCA058V1 Training Kit. Provides hands-on training with operational amplifiers and comparator-based analog circuits.\n",
      "\n",
      "4. + 70 C PDIP-8 Operational Amplifiers - Op Amps - https://hr.mouser.com/c/semiconductors/amplifier-ics/operational-amplifiers-op-amps/?maximum%20operating%20temperature=%2B%2070%20C&package%20%2F%20case=PDIP-8\n",
      "+ 70 C PDIP-8 Operational Amplifiers - Op Amps are available at Mouser Electronics. Mouser offers inventory, pricing, & datasheets for + 70 C PDIP-8 ...\n",
      "\n",
      "5. High Speed Operational Amplifiers - https://www.mouser.com/c/semiconductors/integrated-circuits-ics/amplifier-ics/high-speed-operational-amplifiers/?srsltid=AfmBOopibkt2TsDqhSHmnabzU3he7I5j0OOGPrvyvWEgqewUpj9nMek1\n",
      "High Speed Operational Amplifiers are available at Mouser Electronics. Mouser offers inventory, pricing, & datasheets for High Speed Operational Amplifiers.\n",
      "\n",
      "6. OPAx182 High-Precision Operational Amplifiers - TI - https://www.mouser.com/new/texas-instruments/ti-opa2182-op-amp/?srsltid=AfmBOoqCKDCL7uR8A9dASTEnY-zOJZm9kaTdy-xhNdjTkAP14z815pBw\n",
      "Texas Instruments OPAx182 High-Precision Operational Amplifiers (Op Amps) are ultra-low noise, fast-settling, zero-drift devices providing rail-to-rail ...\n",
      "\n",
      "7. Current Feedback Operational Amplifiers - Op Amps - https://eu.mouser.com/c/semiconductors/amplifier-ics/operational-amplifiers-op-amps/?amplifier%20type=Current%20Feedback&pop=wrp\n",
      "Current Feedback Operational Amplifiers - Op Amps are available at Mouser Electronics. Mouser offers inventory, pricing, & datasheets for Current Feedback ...\n",
      "\n",
      "8. SMD/SMT 7 V, +/- 3.5 V Operational Amplifiers - Op Amps - https://hr.mouser.com/c/semiconductors/amplifier-ics/operational-amplifiers-op-amps/?mounting%20style=SMD%2FSMT&supply%20voltage%20-%20max=7%20V%2C%20%2B%2F-%203.5%20V\n",
      "SMD/SMT 7 V, +/- 3.5 V Operational Amplifiers - Op Amps are available at Mouser Electronics. Mouser offers inventory, pricing, & datasheets for SMD/SMT 7 V, ...\n",
      "\n",
      "9. OPAx991/OPAx991-Q1 Operational Amplifiers - TI - https://uy.mouser.com/new/texas-instruments/ti-opax991-op-amps/\n",
      "Texas Instruments OPAx991/OPAx991-Q1 Low-Noise Operational Amplifiers (Op Amps) are high voltage (40V) general-purpose op amps.\n",
      "\n"
     ]
    }
   ],
   "source": [
    "##Search in a particular website\n",
    "\n",
    "import requests\n",
    "import json\n",
    "\n",
    "url = \"https://google.serper.dev/search\"\n",
    "website= input(\"Which website do you want to search:\")\n",
    "payload = json.dumps({\n",
    "  \"q\": f\"site:{website} {input('Enter search query: ')}\"\n",
    "})\n",
    "headers = {\n",
    "  'X-API-KEY': serper_dev_api_key,\n",
    "  'Content-Type': 'application/json'\n",
    "}\n",
    "\n",
    "response = requests.request(\"POST\", url, headers=headers, data=payload)\n",
    "\n",
    "print(response.text)\n",
    "\n",
    "response_dict = json.loads(response.text)  # Convert string to dictionary\n",
    "for i in range(len(response_dict[\"organic\"])):  # Loop through organic results\n",
    "    print(f\"{i + 1}. {response_dict['organic'][i]['title']} - {response_dict['organic'][i]['link']}\")  # Print title and URL\n",
    "    print(response_dict['organic'][i]['snippet'])  # Print snippet\n",
    "    print()"
   ]
  },
  {
   "cell_type": "code",
   "execution_count": 3,
   "metadata": {},
   "outputs": [
    {
     "name": "stdout",
     "output_type": "stream",
     "text": [
      "{\"searchParameters\":{\"q\":\"resturants\",\"type\":\"maps\",\"ll\":\"@12.9105217,77.5500655,15.5z\",\"engine\":\"google\"},\"ll\":\"@12.9105217,77.5500655,15.5z\",\"places\":[{\"position\":1,\"title\":\"Anagha Grand\",\"address\":\"# 1353, 29th Main Rd, Poornapragna Housing Society Layout, Bengaluru, Karnataka 560061, India\",\"latitude\":12.908235,\"longitude\":77.53797709999999,\"rating\":4.1,\"ratingCount\":3570,\"priceLevel\":\"₹1–200\",\"type\":\"South Indian restaurant\",\"types\":[\"South Indian restaurant\",\"Continental restaurant\",\"North Indian restaurant\"],\"website\":\"https://anaghagroup.com/\",\"phoneNumber\":\"+91 96112 71123\",\"openingHours\":{\"Tuesday\":\"6:30 AM–10:30 PM\",\"Wednesday\":\"6:30 AM–10:30 PM\",\"Thursday\":\"6:30 AM–10:30 PM\",\"Friday\":\"6:30 AM–10:30 PM\",\"Saturday\":\"6:30 AM–10:30 PM\",\"Sunday\":\"6:30 AM–10:30 PM\",\"Monday\":\"6:30 AM–10:30 PM\"},\"thumbnailUrl\":\"https://lh5.googleusercontent.com/p/AF1QipPN_PSm7pk9Vj58YJ8MxvDZFrLYnmGW0--EIHwL\",\"cid\":\"7084985465299414904\",\"fid\":\"0x3bae3ff05dcab5ad:0x6252ecbe29fa2f78\",\"placeId\":\"ChIJrbXKXfA_rjsReC_6Kb7sUmI\"},{\"position\":2,\"title\":\"South Grand Uttarahalli Road, Bengaluru\",\"address\":\"18, Uttarahalli Main Rd, Canara Bank Colony, Uttarahalli Hobli, Bengaluru, Karnataka 560061, India\",\"latitude\":12.9093141,\"longitude\":77.5492994,\"rating\":3.8,\"ratingCount\":8250,\"priceLevel\":\"₹1–200\",\"type\":\"South Indian restaurant\",\"types\":[\"South Indian restaurant\",\"North Indian restaurant\",\"Vegetarian restaurant\"],\"website\":\"http://southgrand.in/\",\"phoneNumber\":\"+91 80 2639 4647\",\"description\":\"Street-side South Indian restaurant in an unpretentious, family-friendly ambience.\",\"openingHours\":{\"Tuesday\":\"6:30 AM–10:30 PM\",\"Wednesday\":\"6:30 AM–10:30 PM\",\"Thursday\":\"6:30 AM–10:30 PM\",\"Friday\":\"6:30 AM–10:30 PM\",\"Saturday\":\"6:30 AM–10:30 PM\",\"Sunday\":\"6:30 AM–10:30 PM\",\"Monday\":\"6:30 AM–10:30 PM\"},\"thumbnailUrl\":\"https://lh5.googleusercontent.com/p/AF1QipO_zrqM0gUdmexTDRF4qK-m5JaBNU-GxvYfcGIG\",\"cid\":\"6128346488270103178\",\"fid\":\"0x3bae3fcfed87c20b:0x550c42a965da228a\",\"placeId\":\"ChIJC8KH7c8_rjsRiiLaZalCDFU\"},{\"position\":3,\"title\":\"Prasidhi Food Corner\",\"address\":\"25, 9th Cross, 34th Main Rd, near Indira Gandhi Circle, ITI Layout, 1st Phase, J. P. Nagar, Bengaluru, Karnataka 560078, India\",\"latitude\":12.9109544,\"longitude\":77.5792489,\"rating\":4,\"ratingCount\":1829,\"priceLevel\":\"₹1–200\",\"type\":\"Vegetarian restaurant\",\"types\":[\"Vegetarian restaurant\"],\"phoneNumber\":\"+91 89514 54879\",\"openingHours\":{\"Tuesday\":\"6:30 AM–11:30 PM\",\"Wednesday\":\"6:30 AM–11:30 PM\",\"Thursday\":\"6:30 AM–11:30 PM\",\"Friday\":\"6:30 AM–11:30 PM\",\"Saturday\":\"6:30 AM–11:30 PM\",\"Sunday\":\"6:30 AM–11:30 PM\",\"Monday\":\"6:30 AM–11:30 PM\"},\"thumbnailUrl\":\"https://lh5.googleusercontent.com/p/AF1QipOqEIZmNbNQ31O74yr4KX9NgLvm35GLugJ1Xrvs\",\"cid\":\"16549250181639576470\",\"fid\":\"0x3bae15cb7107332f:0xe5aabf5bc7b21b96\",\"placeId\":\"ChIJLzMHccsVrjsRlhuyx1u_quU\"},{\"position\":4,\"title\":\"The Rameshwaram Cafe\",\"address\":\"52, Outer Ring Rd, Jeewan Griha Colony, 2nd Phase, J. P. Nagar, Bengaluru, Karnataka 560078, India\",\"latitude\":12.906506799999999,\"longitude\":77.5905475,\"rating\":4.2,\"ratingCount\":18076,\"priceLevel\":\"₹1–200\",\"type\":\"South Indian restaurant\",\"types\":[\"South Indian restaurant\"],\"phoneNumber\":\"+91 78922 46525\",\"openingHours\":{\"Tuesday\":\"6 AM–1 AM\",\"Wednesday\":\"6 AM–1 AM\",\"Thursday\":\"6 AM–1 AM\",\"Friday\":\"6 AM–1 AM\",\"Saturday\":\"6 AM–1 AM\",\"Sunday\":\"6 AM–1 AM\",\"Monday\":\"6 AM–1 AM\"},\"thumbnailUrl\":\"https://lh5.googleusercontent.com/p/AF1QipPbDcxwkRwQe-uFdnm13CzcS4GuoIJ0fWHvF8vS\",\"cid\":\"5626177460762428454\",\"fid\":\"0x3bae1569faf64797:0x4e143297800dc426\",\"placeId\":\"ChIJl0f2-mkVrjsRJsQNgJcyFE4\"},{\"position\":5,\"title\":\"Saanvi Sagar, Veg Restaurant\",\"address\":\"29, 15th Cross Rd, JP Nagar 4th Phase, Dollar Layout, Jayanagara 9th Block, J. P. Nagar, Bengaluru, Karnataka 560078, India\",\"latitude\":12.9064906,\"longitude\":77.59848339999999,\"rating\":3.6,\"ratingCount\":347,\"priceLevel\":\"₹1–200\",\"type\":\"Vegetarian restaurant\",\"types\":[\"Vegetarian restaurant\",\"South Indian restaurant\"],\"bookingLinks\":[\"https://www.google.com/maps/reserve/v/dine/c/76LTTMzzr3E?source=pa&opi=79508299\"],\"thumbnailUrl\":\"https://lh5.googleusercontent.com/p/AF1QipNM45wXYSIirNAKBT16Us6sMUEpbPZR5UMULYeK\",\"cid\":\"18300190993254536107\",\"fid\":\"0x3bae15aaf73fb92f:0xfdf756bff2bd53ab\",\"placeId\":\"ChIJL7k_96oVrjsRq1O98r9W9_0\"},{\"position\":6,\"title\":\"Loka Restaurant by Green Park Hotels\",\"address\":\"WJ52+87F, Bannerghatta Rd, Dollar Layout, BTM 2nd Stage, J. P. Nagar, Bengaluru, Karnataka 560078, India\",\"latitude\":12.908320999999999,\"longitude\":77.60067509999999,\"rating\":4.4,\"ratingCount\":56,\"priceLevel\":\"₹1,000–1,200\",\"type\":\"Buffet restaurant\",\"types\":[\"Buffet restaurant\"],\"phoneNumber\":\"+91 89045 78093\",\"bookingLinks\":[\"https://www.eazydiner.com/bengaluru/loka-by-greenpark-hotels-greenpark-bengaluru-690250\",\"https://www.zomato.com/bangalore/loka-greenpark-hotels-bannerghatta-road-bangalore/book?utm_source=rwg\",\"https://www.google.com/maps/reserve/v/dine/c/3paFuUyOPsU?source=pa&opi=79508299\"],\"thumbnailUrl\":\"https://lh5.googleusercontent.com/p/AF1QipPwVPFDPmFHQnzmF2DD0Cb2b8EmsxigTAbqHe2Y\",\"cid\":\"4978972882590139525\",\"fid\":\"0x3bae15ef2e9f51c1:0x4518dd74fd168485\",\"placeId\":\"ChIJwVGfLu8VrjsRhYQW_XTdGEU\"},{\"position\":7,\"title\":\"Nandhana Palace - Andhra Style Restaurant - JP Nagar\",\"address\":\"147, 24th Main Rd, R.K Colony, Marenahalli, 2nd Phase, J. P. Nagar, Bengaluru, Karnataka 560078, India\",\"latitude\":12.914598499999999,\"longitude\":77.58558169999999,\"rating\":4.2,\"ratingCount\":6159,\"priceLevel\":\"$$\",\"type\":\"Andhra restaurant\",\"types\":[\"Andhra restaurant\",\"Biryani restaurant\",\"Non vegetarian restaurant\"],\"website\":\"http://www.nandhanarestaurants.com/\",\"phoneNumber\":\"+91 80 4613 1111\",\"openingHours\":{\"Tuesday\":\"11 AM–1 AM\",\"Wednesday\":\"11 AM–1 AM\",\"Thursday\":\"11 AM–1 AM\",\"Friday\":\"11 AM–1 AM\",\"Saturday\":\"11 AM–1 AM\",\"Sunday\":\"11 AM–1 AM\",\"Monday\":\"11 AM–1 AM\"},\"bookingLinks\":[\"https://www.eazydiner.com/bengaluru/nandhana-palace-jp-nagar-south-bengaluru-663155\",\"https://www.google.com/maps/reserve/v/dine/c/27KFeBB8JZQ?source=pa&opi=79508299\"],\"thumbnailUrl\":\"https://lh5.googleusercontent.com/p/AF1QipMX1FWJmVtn_NarB3IK6MwHLKUkMaJN4bf-gf6c\",\"cid\":\"11208240368149194532\",\"fid\":\"0x3bae150cb80fca67:0x9b8bab3b24b9e724\",\"placeId\":\"ChIJZ8oPuAwVrjsRJOe5JDuri5s\"},{\"position\":8,\"title\":\"Sri Udupi Food Hub 8th Block\",\"address\":\"155, 43rd cross Sangam Circle, 114, 2nd Main Rd, near 8th Block, 8th Block, Jayanagar, Bengaluru, Karnataka 560070, India\",\"latitude\":12.918641299999999,\"longitude\":77.5780162,\"rating\":4.1,\"ratingCount\":6986,\"priceLevel\":\"₹1–200\",\"type\":\"South Indian restaurant\",\"types\":[\"South Indian restaurant\",\"Breakfast restaurant\",\"Chinese restaurant\",\"Family restaurant\",\"Fast food restaurant\",\"North Indian restaurant\",\"Vegetarian restaurant\"],\"phoneNumber\":\"+91 99168 66033\",\"openingHours\":{\"Tuesday\":\"6:30 AM–10:30 PM\",\"Wednesday\":\"6:30 AM–10:30 PM\",\"Thursday\":\"6:30 AM–10:30 PM\",\"Friday\":\"6:30 AM–10:30 PM\",\"Saturday\":\"6:30 AM–10:30 PM\",\"Sunday\":\"6:30 AM–10:30 PM\",\"Monday\":\"6:30 AM–10:30 PM\"},\"bookingLinks\":[\"https://www.eazydiner.com/bengaluru/sri-udupi-food-hub-jayanagar-south-bengaluru-700333\",\"https://www.zomato.com/bangalore/sri-udupi-food-hub-1-jayanagar-bangalore/book?utm_source=rwg\",\"https://www.google.com/maps/reserve/v/dine/c/neSNwqcMW9E?source=pa&opi=79508299\"],\"thumbnailUrl\":\"https://lh5.googleusercontent.com/p/AF1QipMMPjk4hSHKo6h0MPJT28-QCZSbvoa2MK7abFZE\",\"cid\":\"1823571158888300449\",\"fid\":\"0x3bae1575d4d0f3f5:0x194ea04eac2f3fa1\",\"placeId\":\"ChIJ9fPQ1HUVrjsRoT8vrE6gThk\"},{\"position\":9,\"title\":\"Paakashala Heritage | Veg Restaurants in Uttarahalli\",\"address\":\"No-469 Rajarajeshwari CMC, Sri BL Lekkegowda Nagara The Bharath Housing Co Operative, Society Ltd, Uttarahalli Hobli, Bengaluru, Karnataka 560061, India\",\"latitude\":12.903804,\"longitude\":77.5307007,\"rating\":3.9,\"ratingCount\":2295,\"priceLevel\":\"₹200–400\",\"type\":\"Vegetarian restaurant\",\"types\":[\"Vegetarian restaurant\",\"Chinese restaurant\",\"Family restaurant\",\"Fast food restaurant\",\"Fine dining restaurant\",\"Indian restaurant\",\"North Indian restaurant\",\"Restaurant\",\"South Indian restaurant\",\"Vegan restaurant\"],\"website\":\"https://paakashala.com/\",\"phoneNumber\":\"+91 88673 52229\",\"openingHours\":{\"Tuesday\":\"6:30 AM–10:30 PM\",\"Wednesday\":\"6:30 AM–10:30 PM\",\"Thursday\":\"6:30 AM–10:30 PM\",\"Friday\":\"6:30 AM–10:30 PM\",\"Saturday\":\"6:30 AM–10:30 PM\",\"Sunday\":\"6:30 AM–10:30 PM\",\"Monday\":\"6:30 AM–10:30 PM\"},\"thumbnailUrl\":\"https://lh5.googleusercontent.com/p/AF1QipPOihtm80tVuSCCYuzHxS0CkG1ECbRpYAZkt4E1\",\"cid\":\"12224425944801614909\",\"fid\":\"0x3bae3f34d39fbd31:0xa9a5e2a106f81c3d\",\"placeId\":\"ChIJMb2f0zQ_rjsRPRz4BqHipak\"},{\"position\":10,\"title\":\"New Udupi Upahar Pure Veg.\",\"address\":\"5th Block, Jayanagar, Bengaluru, Karnataka 560041, India\",\"latitude\":12.9189964,\"longitude\":77.583505,\"rating\":4.1,\"ratingCount\":4344,\"priceLevel\":\"₹1–200\",\"type\":\"South Indian restaurant\",\"types\":[\"South Indian restaurant\",\"Fast food restaurant\",\"North Indian restaurant\",\"Vegetarian restaurant\"],\"phoneNumber\":\"+91 88616 44827\",\"openingHours\":{\"Tuesday\":\"6 AM–10 PM\",\"Wednesday\":\"6 AM–10 PM\",\"Thursday\":\"6 AM–10 PM\",\"Friday\":\"6 AM–10 PM\",\"Saturday\":\"6 AM–10 PM\",\"Sunday\":\"6 AM–10 PM\",\"Monday\":\"6 AM–10 PM\"},\"thumbnailUrl\":\"https://lh5.googleusercontent.com/p/AF1QipMpyKQZEWRHjdL7t1Nl_LgVuM7PDNjDYHb9lKJ3\",\"cid\":\"15585175310690793722\",\"fid\":\"0x3bae15bac1115c57:0xd849aa5f0be9b8fa\",\"placeId\":\"ChIJV1wRwboVrjsR-rjpC1-qSdg\"},{\"position\":11,\"title\":\"Brundavan Upachar\",\"address\":\"3rd Cross Rd, Ramanjaneyanagar, Chikkalasandra, Bengaluru, Karnataka 560061, India\",\"latitude\":12.912638399999999,\"longitude\":77.5462915,\"rating\":3.9,\"ratingCount\":3911,\"priceLevel\":\"₹1–200\",\"type\":\"South Indian restaurant\",\"types\":[\"South Indian restaurant\",\"Fast food restaurant\",\"Vegetarian restaurant\"],\"phoneNumber\":\"+91 98459 12250\",\"openingHours\":{\"Tuesday\":\"6 AM–10:30 PM\",\"Wednesday\":\"6 AM–10:30 PM\",\"Thursday\":\"6 AM–10:30 PM\",\"Friday\":\"6 AM–10:30 PM\",\"Saturday\":\"6 AM–10:30 PM\",\"Sunday\":\"6 AM–10:30 PM\",\"Monday\":\"6 AM–10:30 PM\"},\"thumbnailUrl\":\"https://lh5.googleusercontent.com/p/AF1QipOUS9ThifFeznb6o8-RMQrLInEOaM-2Rr_fr-HL\",\"cid\":\"9803590796974983840\",\"fid\":\"0x3bae3fceeb2a8e47:0x880d59e360fb8aa0\",\"placeId\":\"ChIJR44q684_rjsRoIr7YONZDYg\"},{\"position\":12,\"title\":\"Andhra Ruchulu, JP Nagar\",\"address\":\"Pai Comforts Hotel, 1319, 100 Feet Ring Rd, Marenahalli, 2nd Phase, J. P. Nagar, Bengaluru, Karnataka 560078, India\",\"latitude\":12.9167338,\"longitude\":77.5901212,\"rating\":4.2,\"ratingCount\":3436,\"priceLevel\":\"₹200–400\",\"type\":\"Andhra restaurant\",\"types\":[\"Andhra restaurant\",\"Hyderabadi restaurant\",\"Indian restaurant\",\"Delivery Restaurant\",\"Non vegetarian restaurant\",\"North Indian restaurant\",\"Restaurant\",\"Vegetarian restaurant\"],\"website\":\"http://www.paihotels.com/\",\"phoneNumber\":\"+91 89704 09660\",\"description\":\"Traditional Indian & Chinese favourites are served on banana leaves at this relaxed restaurant.\",\"openingHours\":{\"Tuesday\":\"12–4 PM, 7–11 PM\",\"Wednesday\":\"12–4 PM, 7–11 PM\",\"Thursday\":\"12–4 PM, 7–11 PM\",\"Friday\":\"12–4 PM, 7–11 PM\",\"Saturday\":\"12–4 PM, 7–11 PM\",\"Sunday\":\"12–4 PM, 7–11 PM\",\"Monday\":\"12–4 PM, 7–11 PM\"},\"bookingLinks\":[\"https://www.zomato.com/bangalore/andhra-ruchulu-1-jp-nagar/book?utm_source=rwg\",\"https://www.eazydiner.com/bengaluru/andhra-ruchulu-jp-nagar-south-bengaluru-700995\",\"https://www.google.com/maps/reserve/v/dine/c/IfuBz_6eEU8?source=pa&opi=79508299\"],\"thumbnailUrl\":\"https://lh5.googleusercontent.com/p/AF1QipNWS-C_IjSwrBt_u3-15Hfx8---4DjkCgeJf-7-\",\"cid\":\"5164752030625635520\",\"fid\":\"0x3bae150bee3b3d07:0x47ace29b9a6b1cc0\",\"placeId\":\"ChIJBz077gsVrjsRwBxrmpvirEc\"},{\"position\":13,\"title\":\"Zaitoon Restaurant , JP Nagar\",\"address\":\"21, 24th Main Rd, KR Layout, J P Nagar Phase 5, J. P. Nagar, Bengaluru, Karnataka 560078, India\",\"latitude\":12.902951199999999,\"longitude\":77.58562049999999,\"rating\":4.2,\"ratingCount\":13194,\"priceLevel\":\"$$\",\"type\":\"Middle Eastern restaurant\",\"types\":[\"Middle Eastern restaurant\",\"Chinese restaurant\",\"Indian restaurant\"],\"website\":\"https://thezaitoon.com/\",\"phoneNumber\":\"+91 80 4148 8988\",\"openingHours\":{\"Tuesday\":\"11:30 AM–11:30 PM\",\"Wednesday\":\"11:30 AM–11:30 PM\",\"Thursday\":\"11:30 AM–11:30 PM\",\"Friday\":\"11:30 AM–11:30 PM\",\"Saturday\":\"11:30 AM–11:30 PM\",\"Sunday\":\"11:30 AM–11:30 PM\",\"Monday\":\"11:30 AM–11:30 PM\"},\"bookingLinks\":[\"https://www.zomato.com/bangalore/zaitoon-jp-nagar/book?utm_source=rwg\"],\"thumbnailUrl\":\"https://lh5.googleusercontent.com/p/AF1QipO9vJDWwiJTUajjdekQhmO3P4u-wsjxgXpZEAd8\",\"cid\":\"12190644704899463539\",\"fid\":\"0x3bae1514c709a1f5:0xa92ddec532877973\",\"placeId\":\"ChIJ9aEJxxQVrjsRc3mHMsXeLak\"},{\"position\":14,\"title\":\"Nandhini Deluxe - JP Nagar\",\"address\":\"726/A, 24th Main Rd, JP Nagar 6th Phase, KR Layout, JP Nagar Phase 6, J. P. Nagar, Bengaluru, Karnataka 560078, India\",\"latitude\":12.9056137,\"longitude\":77.5856192,\"rating\":3.8,\"ratingCount\":7884,\"type\":\"Andhra restaurant\",\"types\":[\"Andhra restaurant\",\"Banquet hall\",\"Hotel\",\"Indian restaurant\"],\"phoneNumber\":\"+91 97422 74049\",\"thumbnailUrl\":\"https://lh5.googleusercontent.com/p/AF1QipPEPL8Ge2CWclmi33mjqA-mirbbm13804wNfoA1\",\"cid\":\"7634647306902981936\",\"fid\":\"0x3bae151345f35785:0x69f3b74689584d30\",\"placeId\":\"ChIJhVfzRRMVrjsRME1YiUa382k\"},{\"position\":15,\"title\":\"Paakashala @ J P Nagar | Veg Restaurants in JP Nagar\",\"address\":\"No. 37, Aster RV Hospital Campus, 24th Main Rd, 1st Phase, J. P. Nagar, Bengaluru, Karnataka 560078, India\",\"latitude\":12.910748199999999,\"longitude\":77.5846002,\"rating\":4.2,\"ratingCount\":5344,\"priceLevel\":\"₹200–400\",\"type\":\"Vegetarian restaurant\",\"types\":[\"Vegetarian restaurant\",\"Breakfast restaurant\",\"Chinese restaurant\",\"Fast food restaurant\",\"Indian restaurant\",\"North Indian restaurant\",\"Restaurant\",\"South Indian restaurant\"],\"website\":\"https://paakashala.com/paakashala-jp-nagar-vegetarian-restaurant/\",\"phoneNumber\":\"+91 93809 09952\",\"description\":\"Brightly decorated restaurant offering Indian, Italian & Chinese dishes, plus Indian breads.\",\"openingHours\":{\"Tuesday\":\"7 AM–10 PM\",\"Wednesday\":\"7 AM–10 PM\",\"Thursday\":\"7 AM–10 PM\",\"Friday\":\"7 AM–10 PM\",\"Saturday\":\"7 AM–10 PM\",\"Sunday\":\"7 AM–10 PM\",\"Monday\":\"7 AM–10 PM\"},\"bookingLinks\":[\"https://www.google.com/maps/reserve/v/dine/c/_lRp-lmQjZY?source=pa&opi=79508299\"],\"thumbnailUrl\":\"https://lh5.googleusercontent.com/p/AF1QipNquKpH5rCKwQRE-OFD4U_ClzW5X46ombrYcmM8\",\"cid\":\"4281506625728480790\",\"fid\":\"0x3bae158e7bb27df1:0x3b6af7977a070616\",\"placeId\":\"ChIJ8X2ye44VrjsRFgYHepf3ajs\"},{\"position\":16,\"title\":\"MASALA\",\"address\":\"58/1, Uttarahalli Main Rd, Ankappa Layout, Chikkalasandra, Bengaluru, Karnataka 560061, India\",\"latitude\":12.910118299999999,\"longitude\":77.5508445,\"rating\":3.8,\"ratingCount\":2567,\"priceLevel\":\"$$\",\"type\":\"Restaurant\",\"types\":[\"Restaurant\",\"Bar\",\"Cafe\",\"Chinese restaurant\",\"Continental restaurant\",\"Fine dining restaurant\",\"North Indian restaurant\",\"Pub\",\"Vegetarian restaurant\"],\"phoneNumber\":\"+91 99805 05300\",\"openingHours\":{\"Tuesday\":\"11 AM–12:30 AM\",\"Wednesday\":\"11 AM–12:30 AM\",\"Thursday\":\"11 AM–12:30 AM\",\"Friday\":\"11 AM–12:30 AM\",\"Saturday\":\"11 AM–12:30 AM\",\"Sunday\":\"11 AM–12:30 AM\",\"Monday\":\"11 AM–12:30 AM\"},\"bookingLinks\":[\"https://www.zomato.com/bangalore/masala-3-uttarahalli-bangalore/book?utm_source=rwg\",\"https://www.eazydiner.com/bengaluru/masalaa-family-garden-restaurant-uttarahalli-330872\",\"https://www.google.com/maps/reserve/v/dine/c/gzMppSiXEGE?source=pa&opi=79508299\"],\"thumbnailUrl\":\"https://lh5.googleusercontent.com/p/AF1QipMydqG3IWkPaoMR_mLzK0HvWiwbGM-5wTPweMG8\",\"cid\":\"10012019405896846882\",\"fid\":\"0x3bae3fcfe1034f4f:0x8af1d69a8ccc8e22\",\"placeId\":\"ChIJT08D4c8_rjsRIo7MjJrW8Yo\"},{\"position\":17,\"title\":\"Zhang's Chinese Restaurant - JP Nagar\",\"address\":\"Sri Ragavendra Plaza, 1743, 9th Cross Rd, Near Diwakars Hospital, Marenahalli, 2nd Phase, J. P. Nagar, Bengaluru, Karnataka 560078, India\",\"latitude\":12.910449199999999,\"longitude\":77.5912908,\"rating\":4.1,\"ratingCount\":1111,\"priceLevel\":\"₹200–400\",\"type\":\"Chinese restaurant\",\"types\":[\"Chinese restaurant\",\"Chinese takeaway\",\"Delivery Chinese restaurant\",\"Restaurant\"],\"phoneNumber\":\"+91 80 2659 5988\",\"openingHours\":{\"Tuesday\":\"12–3:30 PM, 7–10:30 PM\",\"Wednesday\":\"12–3:30 PM, 7–10:30 PM\",\"Thursday\":\"12–3:30 PM, 7–10:30 PM\",\"Friday\":\"12–3:30 PM, 7–10:30 PM\",\"Saturday\":\"12–3:30 PM, 7–10:30 PM\",\"Sunday\":\"12–3:30 PM, 7–10:30 PM\",\"Monday\":\"12–3:30 PM, 7–10:30 PM\"},\"bookingLinks\":[\"https://www.eazydiner.com/bengaluru/zhangs-jp-nagar-330373\",\"https://www.zomato.com/bangalore/zhangs-chinese-restaurant-jp-nagar-bangalore/book?utm_source=rwg\",\"https://www.google.com/maps/reserve/v/dine/c/TZHWA4CVaPo?source=pa&opi=79508299\"],\"thumbnailUrl\":\"https://lh5.googleusercontent.com/p/AF1QipMJdWbr1OHD_nZpcNdn0ZD26khiuWai934OxFDm\",\"cid\":\"9193258995011748589\",\"fid\":\"0x3bae157758211427:0x7f95045915d702ed\",\"placeId\":\"ChIJJxQhWHcVrjsR7QLXFVkElX8\"},{\"position\":18,\"title\":\"Empire Restaurant - JP Nagar\",\"address\":\"No.11, 24th Main Rd, 5th Phase, Ayodya Nagar, J P Nagar Phase 5, J. P. Nagar, Bengaluru, Karnataka 560078, India\",\"latitude\":12.902038899999999,\"longitude\":77.5856972,\"rating\":4.2,\"ratingCount\":17107,\"priceLevel\":\"$$\",\"type\":\"Non vegetarian restaurant\",\"types\":[\"Non vegetarian restaurant\",\"Indian restaurant\",\"Restaurant\"],\"website\":\"https://www.hotelempire.in/\",\"phoneNumber\":\"+91 80 4041 4141\",\"openingHours\":{\"Tuesday\":\"11 AM–1:30 AM\",\"Wednesday\":\"11 AM–1:30 AM\",\"Thursday\":\"11 AM–1:30 AM\",\"Friday\":\"11 AM–1:30 AM\",\"Saturday\":\"11 AM–1:30 AM\",\"Sunday\":\"11 AM–1:30 AM\",\"Monday\":\"11 AM–1:30 AM\"},\"bookingLinks\":[\"https://www.zomato.com/bangalore/empire-restaurant-jp-nagar/book?utm_source=rwg\"],\"thumbnailUrl\":\"https://lh5.googleusercontent.com/p/AF1QipOp_kHy_4NS7rcRrwPK9GYvvtYJbp5nV2zRtt9Y\",\"cid\":\"12325502793700811839\",\"fid\":\"0x3bae1569c83998bd:0xab0cfb7cd09f243f\",\"placeId\":\"ChIJvZg5yGkVrjsRPySf0Hz7DKs\"},{\"position\":19,\"title\":\"Onesta\",\"address\":\"15, Outer Ring Rd, JP Nagar 4th Phase, Dollar Layout, Phase 4, J. P. Nagar, Bengaluru, Karnataka 560076, India\",\"latitude\":12.906001999999999,\"longitude\":77.59686599999999,\"rating\":4.1,\"ratingCount\":9659,\"priceLevel\":\"₹200–400\",\"type\":\"Pizza restaurant\",\"types\":[\"Pizza restaurant\",\"Fine dining restaurant\",\"Italian restaurant\",\"Restaurant\"],\"website\":\"https://www.onestalove.in/\",\"phoneNumber\":\"+91 95137 36268\",\"openingHours\":{\"Tuesday\":\"11 AM–11 PM\",\"Wednesday\":\"11 AM–11 PM\",\"Thursday\":\"11 AM–11 PM\",\"Friday\":\"11 AM–11 PM\",\"Saturday\":\"11 AM–11 PM\",\"Sunday\":\"11 AM–11 PM\",\"Monday\":\"11 AM–11 PM\"},\"bookingLinks\":[\"https://www.zomato.com/bangalore/onesta-jp-nagar/book?utm_source=rwg\",\"https://www.eazydiner.com/bengaluru/onesta-jp-nagar-south-bengaluru-657366\",\"https://www.google.com/maps/reserve/v/dine/c/Z7mVKitPp4M?source=pa&opi=79508299\"],\"thumbnailUrl\":\"https://lh5.googleusercontent.com/p/AF1QipPdUZMy1432Hw-Qny2Chnx7HsLV3Kg20YLOH_uw\",\"cid\":\"15390103309991298757\",\"fid\":\"0x3bae151a0fb0474b:0xd594a16b909846c5\",\"placeId\":\"ChIJS0ewDxoVrjsRxUaYkGuhlNU\"},{\"position\":20,\"title\":\"The Dennys Pub\",\"address\":\"1550, East End Circle JP Nagar 3rd phase, Jayanagara 9th Block, Bengaluru, Karnataka 560078, India\",\"latitude\":12.9166194,\"longitude\":77.59712499999999,\"rating\":3.9,\"ratingCount\":1404,\"priceLevel\":\"$$\",\"type\":\"Restaurant\",\"types\":[\"Restaurant\",\"Biryani restaurant\",\"Pub\",\"Bar\"],\"phoneNumber\":\"+91 93412 12142\",\"openingHours\":{\"Tuesday\":\"11 AM–1 AM\",\"Wednesday\":\"11 AM–1 AM\",\"Thursday\":\"11 AM–1 AM\",\"Friday\":\"11 AM–1 AM\",\"Saturday\":\"11 AM–1 AM\",\"Sunday\":\"11 AM–1 AM\",\"Monday\":\"11 AM–1 AM\"},\"bookingLinks\":[\"https://www.eazydiner.com/bengaluru/the-dennys-jayanagar-330355\",\"https://www.google.com/maps/reserve/v/dine/c/kN3VKzwGIbM?source=pa&opi=79508299\"],\"thumbnailUrl\":\"https://lh5.googleusercontent.com/p/AF1QipNPh4anCx1JWDHRe2GIcDNNzSmv8Z4vetHoPO7a\",\"cid\":\"9932535948248876281\",\"fid\":\"0x3bae150607dfa3e3:0x89d774d1f22c04f9\",\"placeId\":\"ChIJ46PfBwYVrjsR-QQs8tF014k\"}],\"credits\":3}\n"
     ]
    }
   ],
   "source": [
    "url = \"https://google.serper.dev/maps\"\n",
    "\n",
    "payload = json.dumps({\n",
    "  \"q\": \"resturants\",\n",
    "  \"ll\": \"@12.9105217,77.5500655,15.5z\" #logitude, latitude and zoom\n",
    "})\n",
    "headers = {\n",
    "  'X-API-KEY': serper_dev_api_key,\n",
    "  'Content-Type': 'application/json'\n",
    "}\n",
    "\n",
    "response = requests.request(\"POST\", url, headers=headers, data=payload)\n",
    "\n",
    "print(response.text)"
   ]
  },
  {
   "cell_type": "code",
   "execution_count": 4,
   "metadata": {},
   "outputs": [
    {
     "name": "stdout",
     "output_type": "stream",
     "text": [
      "1. Anagha Grand - # 1353, 29th Main Rd, Poornapragna Housing Society Layout, Bengaluru, Karnataka 560061, India\n",
      "Rating: 4.1\n",
      "2. South Grand Uttarahalli Road, Bengaluru - 18, Uttarahalli Main Rd, Canara Bank Colony, Uttarahalli Hobli, Bengaluru, Karnataka 560061, India\n",
      "Rating: 3.8\n",
      "About: Street-side South Indian restaurant in an unpretentious, family-friendly ambience.\n",
      "3. Prasidhi Food Corner - 25, 9th Cross, 34th Main Rd, near Indira Gandhi Circle, ITI Layout, 1st Phase, J. P. Nagar, Bengaluru, Karnataka 560078, India\n",
      "Rating: 4\n",
      "4. The Rameshwaram Cafe - 52, Outer Ring Rd, Jeewan Griha Colony, 2nd Phase, J. P. Nagar, Bengaluru, Karnataka 560078, India\n",
      "Rating: 4.2\n",
      "5. Saanvi Sagar, Veg Restaurant - 29, 15th Cross Rd, JP Nagar 4th Phase, Dollar Layout, Jayanagara 9th Block, J. P. Nagar, Bengaluru, Karnataka 560078, India\n",
      "Rating: 3.6\n",
      "6. Loka Restaurant by Green Park Hotels - WJ52+87F, Bannerghatta Rd, Dollar Layout, BTM 2nd Stage, J. P. Nagar, Bengaluru, Karnataka 560078, India\n",
      "Rating: 4.4\n",
      "7. Nandhana Palace - Andhra Style Restaurant - JP Nagar - 147, 24th Main Rd, R.K Colony, Marenahalli, 2nd Phase, J. P. Nagar, Bengaluru, Karnataka 560078, India\n",
      "Rating: 4.2\n",
      "8. Sri Udupi Food Hub 8th Block - 155, 43rd cross Sangam Circle, 114, 2nd Main Rd, near 8th Block, 8th Block, Jayanagar, Bengaluru, Karnataka 560070, India\n",
      "Rating: 4.1\n",
      "9. Paakashala Heritage | Veg Restaurants in Uttarahalli - No-469 Rajarajeshwari CMC, Sri BL Lekkegowda Nagara The Bharath Housing Co Operative, Society Ltd, Uttarahalli Hobli, Bengaluru, Karnataka 560061, India\n",
      "Rating: 3.9\n",
      "10. New Udupi Upahar Pure Veg. - 5th Block, Jayanagar, Bengaluru, Karnataka 560041, India\n",
      "Rating: 4.1\n",
      "11. Brundavan Upachar - 3rd Cross Rd, Ramanjaneyanagar, Chikkalasandra, Bengaluru, Karnataka 560061, India\n",
      "Rating: 3.9\n",
      "12. Andhra Ruchulu, JP Nagar - Pai Comforts Hotel, 1319, 100 Feet Ring Rd, Marenahalli, 2nd Phase, J. P. Nagar, Bengaluru, Karnataka 560078, India\n",
      "Rating: 4.2\n",
      "About: Traditional Indian & Chinese favourites are served on banana leaves at this relaxed restaurant.\n",
      "13. Zaitoon Restaurant , JP Nagar - 21, 24th Main Rd, KR Layout, J P Nagar Phase 5, J. P. Nagar, Bengaluru, Karnataka 560078, India\n",
      "Rating: 4.2\n",
      "14. Nandhini Deluxe - JP Nagar - 726/A, 24th Main Rd, JP Nagar 6th Phase, KR Layout, JP Nagar Phase 6, J. P. Nagar, Bengaluru, Karnataka 560078, India\n",
      "Rating: 3.8\n",
      "15. Paakashala @ J P Nagar | Veg Restaurants in JP Nagar - No. 37, Aster RV Hospital Campus, 24th Main Rd, 1st Phase, J. P. Nagar, Bengaluru, Karnataka 560078, India\n",
      "Rating: 4.2\n",
      "About: Brightly decorated restaurant offering Indian, Italian & Chinese dishes, plus Indian breads.\n",
      "16. MASALA - 58/1, Uttarahalli Main Rd, Ankappa Layout, Chikkalasandra, Bengaluru, Karnataka 560061, India\n",
      "Rating: 3.8\n",
      "17. Zhang's Chinese Restaurant - JP Nagar - Sri Ragavendra Plaza, 1743, 9th Cross Rd, Near Diwakars Hospital, Marenahalli, 2nd Phase, J. P. Nagar, Bengaluru, Karnataka 560078, India\n",
      "Rating: 4.1\n",
      "18. Empire Restaurant - JP Nagar - No.11, 24th Main Rd, 5th Phase, Ayodya Nagar, J P Nagar Phase 5, J. P. Nagar, Bengaluru, Karnataka 560078, India\n",
      "Rating: 4.2\n",
      "19. Onesta - 15, Outer Ring Rd, JP Nagar 4th Phase, Dollar Layout, Phase 4, J. P. Nagar, Bengaluru, Karnataka 560076, India\n",
      "Rating: 4.1\n",
      "20. The Dennys Pub - 1550, East End Circle JP Nagar 3rd phase, Jayanagara 9th Block, Bengaluru, Karnataka 560078, India\n",
      "Rating: 3.9\n"
     ]
    }
   ],
   "source": [
    "response_dict = json.loads(response.text)  # Convert string to dictionary\n",
    "for i in range(len(response_dict[\"places\"])):  # Loop through organic results\n",
    "    print(f\"{i + 1}. {response_dict['places'][i]['title']} - {response_dict['places'][i]['address']}\")  # Print title and URL\n",
    "    print(f\"Rating: {response_dict['places'][i]['rating']}\")  # Print rating\n",
    "    try:\n",
    "        print(f\"About: {response_dict['places'][i]['description']}\") \n",
    "    except:\n",
    "        pass"
   ]
  },
  {
   "cell_type": "code",
   "execution_count": null,
   "metadata": {},
   "outputs": [],
   "source": []
  },
  {
   "cell_type": "code",
   "execution_count": null,
   "metadata": {},
   "outputs": [],
   "source": []
  }
 ],
 "metadata": {
  "kernelspec": {
   "display_name": "Python 3 (ipykernel)",
   "language": "python",
   "name": "python3"
  }
 },
 "nbformat": 4,
 "nbformat_minor": 2
}
