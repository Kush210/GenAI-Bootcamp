{
 "cells": [
  {
   "cell_type": "code",
   "execution_count": 1,
   "metadata": {},
   "outputs": [
    {
     "data": {
      "text/plain": [
       "True"
      ]
     },
     "execution_count": 1,
     "metadata": {},
     "output_type": "execute_result"
    }
   ],
   "source": [
    "from langchain_openai import ChatOpenAI\n",
    "from dotenv import load_dotenv\n",
    "import os\n",
    "# Load environment variables from .env file\n",
    "load_dotenv()"
   ]
  },
  {
   "cell_type": "code",
   "execution_count": 2,
   "metadata": {},
   "outputs": [],
   "source": [
    "llm = ChatOpenAI(\n",
    "    model_name=\"gpt-4o-mini\",\n",
    "    api_key=os.getenv(\"OPENAI_API_KEY\"),\n",
    ")"
   ]
  },
  {
   "cell_type": "code",
   "execution_count": 3,
   "metadata": {},
   "outputs": [
    {
     "name": "stdout",
     "output_type": "stream",
     "text": [
      "As of October 2023, Joe Biden, born on November 20, 1942, would be 80 years old. However, if you're asking this question after November 20, 2023, he would be 81 years old. Please check the current date for the most accurate age.\n"
     ]
    }
   ],
   "source": [
    "text = \"How old is the president of the United States?\"\n",
    "\n",
    "print(llm.invoke(text).content)"
   ]
  },
  {
   "cell_type": "code",
   "execution_count": 4,
   "metadata": {},
   "outputs": [
    {
     "name": "stdout",
     "output_type": "stream",
     "text": [
      "To obtain the age of the president of the United States, you can follow these steps:\n",
      "\n",
      "1. **Identify the Current President**: Determine who is currently serving as the president. You can do this by checking recent news articles, official government websites, or reliable news sources.\n",
      "\n",
      "2. **Find the Date of Birth**: Once you know who the current president is, look up their date of birth. This information is typically available on government websites, biographies, or reputable news sources.\n",
      "\n",
      "3. **Calculate the Age**:\n",
      "   - **Current Date**: Note the current date.\n",
      "   - **Subtract Birth Year from Current Year**: Take the year of the president's birth and subtract it from the current year to get a preliminary age.\n",
      "   - **Adjust for Birth Date**: If the current date is before the president's birthday in the current year, subtract one year from the preliminary age to get the accurate age.\n",
      "\n",
      "4. **Verify the Information**: Cross-check your findings with multiple reliable sources to ensure accuracy. This can include official government sites, reputable news organizations, or biographical databases.\n",
      "\n",
      "5. **Present the Information**: Once you have confirmed the age, you can present it clearly, stating the current president’s name and their age.\n",
      "\n",
      "By following these steps, you can effectively determine how old the president of the United States is at any given time.\n"
     ]
    }
   ],
   "source": [
    "text = \"Explain step by step how you will obtain the following information - How old is the president of the United States?\"\n",
    "\n",
    "print(llm.invoke(text).content)"
   ]
  },
  {
   "cell_type": "code",
   "execution_count": 5,
   "metadata": {},
   "outputs": [],
   "source": [
    "question = \"How old is the president of the United States?\"\n",
    "\n",
    "manual_react = f\"\"\"Question: What is the elevation range for the area that the eastern sector of the Colorado orogeny extends into?\n",
    "Thought: I need to search Colorado orogeny, find the area that the eastern sector of the Colorado orogeny extends into, then find the elevation range of the area.\n",
    "Action: Search[Colorado orogeny]\n",
    "Observation: The Colorado orogeny was an episode of mountain building (an orogeny) in Colorado and surrounding areas.\n",
    "Thought: It does not mention the eastern sector. So I need to look up eastern sector.\n",
    "Action: Lookup[eastern sector]\n",
    "Observation: (Result 1 / 1) The eastern sector extends into the High Plains and is called the Central Plains orogeny.\n",
    "Thought: The eastern sector of Colorado orogeny extends into the High Plains. So I need to search High Plains and find its elevation range.\n",
    "Action: Search[High Plains]\n",
    "Observation: High Plains refers to one of two distinct land regions\n",
    "Thought: I need to instead search High Plains (United States).\n",
    "Action: Search[High Plains (United States)]\n",
    "Observation: The High Plains are a subregion of the Great Plains. From east to west, the High Plains rise in elevation from around 1,800 to 7,000 ft (550 to 2,130 m).[3]\n",
    "Thought: High Plains rise in elevation from around 1,800 to 7,000 ft, so the answer is 1,800 to 7,000 ft.\n",
    "Action: Finish[1,800 to 7,000 ft]\n",
    "\n",
    "Question: Musician and satirist Allie Goertz wrote a song about the \"The Simpsons\" character Milhouse, who Matt Groening named after who?\n",
    "Thought: The question simplifies to \"The Simpsons\" character Milhouse is named after who. I only need to search Milhouse and find who it is named after.\n",
    "Action: Search[Milhouse]\n",
    "Observation: Milhouse Mussolini Van Houten is a recurring character in the Fox animated television series The Simpsons voiced by Pamela Hayden and created by Matt Groening.\n",
    "Thought: The paragraph does not tell who Milhouse is named after, maybe I can look up \"named after\".\n",
    "Action: Lookup[named after]\n",
    "Observation: (Result 1 / 1) Milhouse was named after U.S. president Richard Nixon, whose middle name was Milhous.\n",
    "Thought: Milhouse was named after U.S. president Richard Nixon, so the answer is Richard Nixon.\n",
    "Action: Finish[Richard Nixon]\n",
    "\n",
    "Question: Which documentary is about Finnish rock groups, Adam Clayton Powell or The Saimaa Gesture?\n",
    "Thought: I need to search Adam Clayton Powell and The Saimaa Gesture, and find which documentary is about Finnish rock groups.\n",
    "Action: Search[Adam Clayton Powell]\n",
    "Observation: Could not find [Adam Clayton Powell]. Similar: [’Adam Clayton Powell III’, ’Seventh Avenue (Manhattan)’, ’Adam Clayton Powell Jr. State Office Building’, ’Isabel Washington Powell’, ’Adam Powell’, ’Adam Clayton Powell (film)’, ’Giancarlo Esposito’].\n",
    "Thought: To find the documentary, I can search Adam Clayton Powell (film).\n",
    "Action: Search[Adam Clayton Powell (film)]\n",
    "Observation: Adam Clayton Powell is a 1989 American documentary film directed by Richard Kilberg. The film is about the rise and fall of influential African-American politician Adam Clayton Powell Jr.[3][4] It was later aired as part of the PBS series The American Experience.\n",
    "Thought: Adam Clayton Powell (film) is a documentary about an African-American politician, not Finnish rock groups. So the documentary about Finnish rock groups must instead be The Saimaa Gesture.\n",
    "Action: Finish[The Saimaa Gesture]\n",
    "\n",
    "Question: What profession does Nicholas Ray and Elia Kazan have in common?\n",
    "Thought: I need to search Nicholas Ray and Elia Kazan, find their professions, then find the profession they have in common.\n",
    "Action: Search[Nicholas Ray]\n",
    "Observation: Nicholas Ray (born Raymond Nicholas Kienzle Jr., August 7, 1911 - June 16, 1979) was an American film director, screenwriter, and actor best known for the 1955 film Rebel Without a Cause.\n",
    "Thought: Professions of Nicholas Ray are director, screenwriter, and actor. I need to search Elia Kazan next and find his professions.\n",
    "Action: Search[Elia Kazan]\n",
    "Observation: Elia Kazan was an American film and theatre director, producer, screenwriter and actor.\n",
    "Thought: Professions of Elia Kazan are director, producer, screenwriter, and actor. So profession Nicholas Ray and Elia Kazan have in common is director, screenwriter, and actor.\n",
    "Action: Finish[director, screenwriter, actor]\n",
    "\n",
    "Question: Which magazine was started first Arthur’s Magazine or First for Women?\n",
    "Thought: I need to search Arthur’s Magazine and First for Women, and find which was started first.\n",
    "Action: Search[Arthur’s Magazine]\n",
    "Observation: Arthur’s Magazine (1844-1846) was an American literary periodical published in Philadelphia in the 19th century.\n",
    "Thought: Arthur’s Magazine was started in 1844. I need to search First for Women next.\n",
    "Action: Search[First for Women]\n",
    "Observation: First for Women is a woman’s magazine published by Bauer Media Group in the USA.[1] The magazine was started in 1989.\n",
    "Thought: First for Women was started in 1989. 1844 (Arthur’s Magazine) < 1989 (First for Women), so Arthur’s Magazine was started first.\n",
    "Action: Finish[Arthur’s Magazine]\n",
    "\n",
    "Answer the followinhg question in the format given above:\n",
    "Question:{question}\"\"\""
   ]
  },
  {
   "cell_type": "code",
   "execution_count": 6,
   "metadata": {},
   "outputs": [
    {
     "name": "stdout",
     "output_type": "stream",
     "text": [
      "Thought: I need to search for the current president of the United States and find their age.  \n",
      "Action: Search[current president of the United States]  \n",
      "Observation: As of October 2023, Joe Biden is the president of the United States.  \n",
      "Thought: Now I need to find Joe Biden's birth date to calculate his age.  \n",
      "Action: Search[Joe Biden birth date]  \n",
      "Observation: Joe Biden was born on November 20, 1942.  \n",
      "Thought: To find his age, I will calculate the difference between the current date (October 2023) and his birth date (November 20, 1942).  \n",
      "Thought: From November 20, 1942, to November 20, 2023, he will turn 81 years old, but since it is currently October 2023, he is still 80 years old.  \n",
      "Action: Finish[80 years old]\n"
     ]
    }
   ],
   "source": [
    "print(llm.invoke(manual_react).content)"
   ]
  },
  {
   "cell_type": "code",
   "execution_count": null,
   "metadata": {},
   "outputs": [],
   "source": []
  }
 ],
 "metadata": {
  "kernelspec": {
   "display_name": "Python 3 (ipykernel)",
   "language": "python",
   "name": "python3"
  },
  "language_info": {
   "codemirror_mode": {
    "name": "ipython",
    "version": 3
   },
   "file_extension": ".py",
   "mimetype": "text/x-python",
   "name": "python",
   "nbconvert_exporter": "python",
   "pygments_lexer": "ipython3",
   "version": "3.10.16"
  }
 },
 "nbformat": 4,
 "nbformat_minor": 2
}
