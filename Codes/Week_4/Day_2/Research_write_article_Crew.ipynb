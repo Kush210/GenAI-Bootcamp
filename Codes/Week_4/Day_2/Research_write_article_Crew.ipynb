{
  "cells": [
    {
      "cell_type": "markdown",
      "metadata": {
        "id": "ceTZ_dBvosiw"
      },
      "source": [
        "You can download the `requirements.txt` for this course from the workspace of this lab. `File --> Open...`"
      ]
    },
    {
      "cell_type": "markdown",
      "metadata": {
        "id": "viNVZPJPosiy"
      },
      "source": [
        "# L2: Create Agents to Research and Write an Article\n",
        "\n",
        "In this lesson, you will be introduced to the foundational concepts of multi-agent systems and get an overview of the crewAI framework."
      ]
    },
    {
      "cell_type": "markdown",
      "metadata": {
        "id": "O6y2cn5Cosiz"
      },
      "source": [
        "The libraries are already installed in the classroom. If you're running this notebook on your own machine, you can install the following:\n",
        "```Python\n",
        "!pip install crewai==0.28.8 crewai_tools==0.1.6 langchain_community==0.0.29\n",
        "```"
      ]
    },
    {
      "cell_type": "code",
      "execution_count": 31,
      "metadata": {
        "colab": {
          "base_uri": "https://localhost:8080/"
        },
        "id": "YJSwH53qovbi",
        "outputId": "5a8b2abf-e4d3-4501-b38b-4d2d9db18640"
      },
      "outputs": [
        {
          "name": "stderr",
          "output_type": "stream",
          "text": [
            "Python(61086) MallocStackLogging: can't turn off malloc stack logging because it was not enabled.\n"
          ]
        },
        {
          "name": "stdout",
          "output_type": "stream",
          "text": [
            "Requirement already satisfied: crewai in ./genai_env/lib/python3.10/site-packages (0.100.1)\n",
            "Collecting crewai\n",
            "  Downloading crewai-0.102.0-py3-none-any.whl.metadata (28 kB)\n",
            "Requirement already satisfied: crewai_tools in ./genai_env/lib/python3.10/site-packages (0.33.0)\n",
            "Collecting crewai_tools\n",
            "  Downloading crewai_tools-0.36.0-py3-none-any.whl.metadata (6.6 kB)\n",
            "Requirement already satisfied: langchain_community in ./genai_env/lib/python3.10/site-packages (0.3.17)\n",
            "Requirement already satisfied: appdirs>=1.4.4 in ./genai_env/lib/python3.10/site-packages (from crewai) (1.4.4)\n",
            "Requirement already satisfied: auth0-python>=4.7.1 in ./genai_env/lib/python3.10/site-packages (from crewai) (4.8.0)\n",
            "Requirement already satisfied: blinker>=1.9.0 in ./genai_env/lib/python3.10/site-packages (from crewai) (1.9.0)\n",
            "Requirement already satisfied: chromadb>=0.5.23 in ./genai_env/lib/python3.10/site-packages (from crewai) (0.5.23)\n",
            "Requirement already satisfied: click>=8.1.7 in ./genai_env/lib/python3.10/site-packages (from crewai) (8.1.8)\n",
            "Requirement already satisfied: instructor>=1.3.3 in ./genai_env/lib/python3.10/site-packages (from crewai) (1.7.2)\n",
            "Requirement already satisfied: json-repair>=0.25.2 in ./genai_env/lib/python3.10/site-packages (from crewai) (0.35.0)\n",
            "Requirement already satisfied: json5>=0.10.0 in ./genai_env/lib/python3.10/site-packages (from crewai) (0.10.0)\n",
            "Requirement already satisfied: jsonref>=1.1.0 in ./genai_env/lib/python3.10/site-packages (from crewai) (1.1.0)\n",
            "Collecting litellm==1.60.2 (from crewai)\n",
            "  Downloading litellm-1.60.2-py3-none-any.whl.metadata (36 kB)\n",
            "Requirement already satisfied: openai>=1.13.3 in ./genai_env/lib/python3.10/site-packages (from crewai) (1.61.1)\n",
            "Requirement already satisfied: openpyxl>=3.1.5 in ./genai_env/lib/python3.10/site-packages (from crewai) (3.1.5)\n",
            "Requirement already satisfied: opentelemetry-api>=1.22.0 in ./genai_env/lib/python3.10/site-packages (from crewai) (1.30.0)\n",
            "Requirement already satisfied: opentelemetry-exporter-otlp-proto-http>=1.22.0 in ./genai_env/lib/python3.10/site-packages (from crewai) (1.30.0)\n",
            "Requirement already satisfied: opentelemetry-sdk>=1.22.0 in ./genai_env/lib/python3.10/site-packages (from crewai) (1.30.0)\n",
            "Requirement already satisfied: pdfplumber>=0.11.4 in ./genai_env/lib/python3.10/site-packages (from crewai) (0.11.5)\n",
            "Requirement already satisfied: pydantic>=2.4.2 in ./genai_env/lib/python3.10/site-packages (from crewai) (2.10.6)\n",
            "Requirement already satisfied: python-dotenv>=1.0.0 in ./genai_env/lib/python3.10/site-packages (from crewai) (1.0.0)\n",
            "Requirement already satisfied: pyvis>=0.3.2 in ./genai_env/lib/python3.10/site-packages (from crewai) (0.3.2)\n",
            "Requirement already satisfied: regex>=2024.9.11 in ./genai_env/lib/python3.10/site-packages (from crewai) (2024.11.6)\n",
            "Requirement already satisfied: tomli-w>=1.1.0 in ./genai_env/lib/python3.10/site-packages (from crewai) (1.2.0)\n",
            "Requirement already satisfied: tomli>=2.0.2 in ./genai_env/lib/python3.10/site-packages (from crewai) (2.2.1)\n",
            "Requirement already satisfied: uv>=0.4.25 in ./genai_env/lib/python3.10/site-packages (from crewai) (0.5.29)\n",
            "Requirement already satisfied: aiohttp in ./genai_env/lib/python3.10/site-packages (from litellm==1.60.2->crewai) (3.11.11)\n",
            "Requirement already satisfied: httpx<0.28.0,>=0.23.0 in ./genai_env/lib/python3.10/site-packages (from litellm==1.60.2->crewai) (0.27.2)\n",
            "Requirement already satisfied: importlib-metadata>=6.8.0 in ./genai_env/lib/python3.10/site-packages (from litellm==1.60.2->crewai) (8.5.0)\n",
            "Requirement already satisfied: jinja2<4.0.0,>=3.1.2 in ./genai_env/lib/python3.10/site-packages (from litellm==1.60.2->crewai) (3.1.5)\n",
            "Requirement already satisfied: jsonschema<5.0.0,>=4.22.0 in ./genai_env/lib/python3.10/site-packages (from litellm==1.60.2->crewai) (4.23.0)\n",
            "Requirement already satisfied: tiktoken>=0.7.0 in ./genai_env/lib/python3.10/site-packages (from litellm==1.60.2->crewai) (0.7.0)\n",
            "Requirement already satisfied: tokenizers in ./genai_env/lib/python3.10/site-packages (from litellm==1.60.2->crewai) (0.20.3)\n",
            "Requirement already satisfied: docker>=7.1.0 in ./genai_env/lib/python3.10/site-packages (from crewai_tools) (7.1.0)\n",
            "Requirement already satisfied: embedchain>=0.1.114 in ./genai_env/lib/python3.10/site-packages (from crewai_tools) (0.1.126)\n",
            "Requirement already satisfied: lancedb>=0.5.4 in ./genai_env/lib/python3.10/site-packages (from crewai_tools) (0.5.7)\n",
            "Requirement already satisfied: pyright>=1.1.350 in ./genai_env/lib/python3.10/site-packages (from crewai_tools) (1.1.393)\n",
            "Requirement already satisfied: pytube>=15.0.0 in ./genai_env/lib/python3.10/site-packages (from crewai_tools) (15.0.0)\n",
            "Requirement already satisfied: requests>=2.31.0 in ./genai_env/lib/python3.10/site-packages (from crewai_tools) (2.32.3)\n",
            "Requirement already satisfied: langchain-core<1.0.0,>=0.3.34 in ./genai_env/lib/python3.10/site-packages (from langchain_community) (0.3.34)\n",
            "Requirement already satisfied: langchain<1.0.0,>=0.3.18 in ./genai_env/lib/python3.10/site-packages (from langchain_community) (0.3.18)\n",
            "Requirement already satisfied: SQLAlchemy<3,>=1.4 in ./genai_env/lib/python3.10/site-packages (from langchain_community) (2.0.37)\n",
            "Requirement already satisfied: PyYAML>=5.3 in ./genai_env/lib/python3.10/site-packages (from langchain_community) (6.0.2)\n",
            "Requirement already satisfied: tenacity!=8.4.0,<10,>=8.1.0 in ./genai_env/lib/python3.10/site-packages (from langchain_community) (9.0.0)\n",
            "Requirement already satisfied: dataclasses-json<0.7,>=0.5.7 in ./genai_env/lib/python3.10/site-packages (from langchain_community) (0.6.7)\n",
            "Requirement already satisfied: pydantic-settings<3.0.0,>=2.4.0 in ./genai_env/lib/python3.10/site-packages (from langchain_community) (2.7.1)\n",
            "Requirement already satisfied: langsmith<0.4,>=0.1.125 in ./genai_env/lib/python3.10/site-packages (from langchain_community) (0.1.147)\n",
            "Requirement already satisfied: httpx-sse<1.0.0,>=0.4.0 in ./genai_env/lib/python3.10/site-packages (from langchain_community) (0.4.0)\n",
            "Requirement already satisfied: numpy<2,>=1.26.4 in ./genai_env/lib/python3.10/site-packages (from langchain_community) (1.26.4)\n",
            "Requirement already satisfied: aiohappyeyeballs>=2.3.0 in ./genai_env/lib/python3.10/site-packages (from aiohttp->litellm==1.60.2->crewai) (2.4.4)\n",
            "Requirement already satisfied: aiosignal>=1.1.2 in ./genai_env/lib/python3.10/site-packages (from aiohttp->litellm==1.60.2->crewai) (1.3.2)\n",
            "Requirement already satisfied: async-timeout<6.0,>=4.0 in ./genai_env/lib/python3.10/site-packages (from aiohttp->litellm==1.60.2->crewai) (4.0.3)\n",
            "Requirement already satisfied: attrs>=17.3.0 in ./genai_env/lib/python3.10/site-packages (from aiohttp->litellm==1.60.2->crewai) (25.1.0)\n",
            "Requirement already satisfied: frozenlist>=1.1.1 in ./genai_env/lib/python3.10/site-packages (from aiohttp->litellm==1.60.2->crewai) (1.5.0)\n",
            "Requirement already satisfied: multidict<7.0,>=4.5 in ./genai_env/lib/python3.10/site-packages (from aiohttp->litellm==1.60.2->crewai) (6.1.0)\n",
            "Requirement already satisfied: propcache>=0.2.0 in ./genai_env/lib/python3.10/site-packages (from aiohttp->litellm==1.60.2->crewai) (0.2.1)\n",
            "Requirement already satisfied: yarl<2.0,>=1.17.0 in ./genai_env/lib/python3.10/site-packages (from aiohttp->litellm==1.60.2->crewai) (1.18.3)\n",
            "Requirement already satisfied: cryptography>=43.0.1 in ./genai_env/lib/python3.10/site-packages (from auth0-python>=4.7.1->crewai) (44.0.0)\n",
            "Requirement already satisfied: pyjwt>=2.8.0 in ./genai_env/lib/python3.10/site-packages (from auth0-python>=4.7.1->crewai) (2.10.1)\n",
            "Requirement already satisfied: urllib3>=2.2.3 in ./genai_env/lib/python3.10/site-packages (from auth0-python>=4.7.1->crewai) (2.3.0)\n",
            "Requirement already satisfied: build>=1.0.3 in ./genai_env/lib/python3.10/site-packages (from chromadb>=0.5.23->crewai) (1.2.2.post1)\n",
            "Requirement already satisfied: chroma-hnswlib==0.7.6 in ./genai_env/lib/python3.10/site-packages (from chromadb>=0.5.23->crewai) (0.7.6)\n",
            "Requirement already satisfied: fastapi>=0.95.2 in ./genai_env/lib/python3.10/site-packages (from chromadb>=0.5.23->crewai) (0.115.8)\n",
            "Requirement already satisfied: uvicorn>=0.18.3 in ./genai_env/lib/python3.10/site-packages (from uvicorn[standard]>=0.18.3->chromadb>=0.5.23->crewai) (0.34.0)\n",
            "Requirement already satisfied: posthog>=2.4.0 in ./genai_env/lib/python3.10/site-packages (from chromadb>=0.5.23->crewai) (3.11.0)\n",
            "Requirement already satisfied: typing_extensions>=4.5.0 in ./genai_env/lib/python3.10/site-packages (from chromadb>=0.5.23->crewai) (4.12.2)\n",
            "Requirement already satisfied: onnxruntime>=1.14.1 in ./genai_env/lib/python3.10/site-packages (from chromadb>=0.5.23->crewai) (1.20.1)\n",
            "Requirement already satisfied: opentelemetry-exporter-otlp-proto-grpc>=1.2.0 in ./genai_env/lib/python3.10/site-packages (from chromadb>=0.5.23->crewai) (1.30.0)\n",
            "Requirement already satisfied: opentelemetry-instrumentation-fastapi>=0.41b0 in ./genai_env/lib/python3.10/site-packages (from chromadb>=0.5.23->crewai) (0.51b0)\n",
            "Requirement already satisfied: pypika>=0.48.9 in ./genai_env/lib/python3.10/site-packages (from chromadb>=0.5.23->crewai) (0.48.9)\n",
            "Requirement already satisfied: tqdm>=4.65.0 in ./genai_env/lib/python3.10/site-packages (from chromadb>=0.5.23->crewai) (4.67.1)\n",
            "Requirement already satisfied: overrides>=7.3.1 in ./genai_env/lib/python3.10/site-packages (from chromadb>=0.5.23->crewai) (7.7.0)\n",
            "Requirement already satisfied: importlib-resources in ./genai_env/lib/python3.10/site-packages (from chromadb>=0.5.23->crewai) (6.5.2)\n",
            "Requirement already satisfied: grpcio>=1.58.0 in ./genai_env/lib/python3.10/site-packages (from chromadb>=0.5.23->crewai) (1.70.0)\n",
            "Requirement already satisfied: bcrypt>=4.0.1 in ./genai_env/lib/python3.10/site-packages (from chromadb>=0.5.23->crewai) (4.2.1)\n",
            "Requirement already satisfied: typer>=0.9.0 in ./genai_env/lib/python3.10/site-packages (from chromadb>=0.5.23->crewai) (0.9.4)\n",
            "Requirement already satisfied: kubernetes>=28.1.0 in ./genai_env/lib/python3.10/site-packages (from chromadb>=0.5.23->crewai) (32.0.0)\n",
            "Requirement already satisfied: mmh3>=4.0.1 in ./genai_env/lib/python3.10/site-packages (from chromadb>=0.5.23->crewai) (5.1.0)\n",
            "Requirement already satisfied: orjson>=3.9.12 in ./genai_env/lib/python3.10/site-packages (from chromadb>=0.5.23->crewai) (3.10.15)\n",
            "Requirement already satisfied: rich>=10.11.0 in ./genai_env/lib/python3.10/site-packages (from chromadb>=0.5.23->crewai) (13.9.4)\n",
            "Requirement already satisfied: marshmallow<4.0.0,>=3.18.0 in ./genai_env/lib/python3.10/site-packages (from dataclasses-json<0.7,>=0.5.7->langchain_community) (3.26.0)\n",
            "Requirement already satisfied: typing-inspect<1,>=0.4.0 in ./genai_env/lib/python3.10/site-packages (from dataclasses-json<0.7,>=0.5.7->langchain_community) (0.9.0)\n",
            "Requirement already satisfied: alembic<2.0.0,>=1.13.1 in ./genai_env/lib/python3.10/site-packages (from embedchain>=0.1.114->crewai_tools) (1.14.1)\n",
            "Requirement already satisfied: beautifulsoup4<5.0.0,>=4.12.2 in ./genai_env/lib/python3.10/site-packages (from embedchain>=0.1.114->crewai_tools) (4.12.3)\n",
            "Requirement already satisfied: cohere<6.0,>=5.3 in ./genai_env/lib/python3.10/site-packages (from embedchain>=0.1.114->crewai_tools) (5.13.12)\n",
            "Requirement already satisfied: google-cloud-aiplatform<2.0.0,>=1.26.1 in ./genai_env/lib/python3.10/site-packages (from embedchain>=0.1.114->crewai_tools) (1.79.0)\n",
            "Requirement already satisfied: gptcache<0.2.0,>=0.1.43 in ./genai_env/lib/python3.10/site-packages (from embedchain>=0.1.114->crewai_tools) (0.1.44)\n",
            "Requirement already satisfied: langchain-cohere<0.4.0,>=0.3.0 in ./genai_env/lib/python3.10/site-packages (from embedchain>=0.1.114->crewai_tools) (0.3.5)\n",
            "Requirement already satisfied: langchain-openai<0.3.0,>=0.2.1 in ./genai_env/lib/python3.10/site-packages (from embedchain>=0.1.114->crewai_tools) (0.2.14)\n",
            "Requirement already satisfied: mem0ai<0.2.0,>=0.1.37 in ./genai_env/lib/python3.10/site-packages (from embedchain>=0.1.114->crewai_tools) (0.1.48)\n",
            "Requirement already satisfied: pypdf<6.0.0,>=5.0.0 in ./genai_env/lib/python3.10/site-packages (from embedchain>=0.1.114->crewai_tools) (5.3.0)\n",
            "Requirement already satisfied: pysbd<0.4.0,>=0.3.4 in ./genai_env/lib/python3.10/site-packages (from embedchain>=0.1.114->crewai_tools) (0.3.4)\n",
            "Requirement already satisfied: schema<0.8.0,>=0.7.5 in ./genai_env/lib/python3.10/site-packages (from embedchain>=0.1.114->crewai_tools) (0.7.5)\n",
            "Requirement already satisfied: docstring-parser<1.0,>=0.16 in ./genai_env/lib/python3.10/site-packages (from instructor>=1.3.3->crewai) (0.16)\n",
            "Requirement already satisfied: jiter<0.9,>=0.6.1 in ./genai_env/lib/python3.10/site-packages (from instructor>=1.3.3->crewai) (0.8.2)\n",
            "Requirement already satisfied: pydantic-core<3.0.0,>=2.18.0 in ./genai_env/lib/python3.10/site-packages (from instructor>=1.3.3->crewai) (2.27.2)\n",
            "Requirement already satisfied: deprecation in ./genai_env/lib/python3.10/site-packages (from lancedb>=0.5.4->crewai_tools) (2.1.0)\n",
            "Requirement already satisfied: pylance==0.9.18 in ./genai_env/lib/python3.10/site-packages (from lancedb>=0.5.4->crewai_tools) (0.9.18)\n",
            "Requirement already satisfied: ratelimiter~=1.0 in ./genai_env/lib/python3.10/site-packages (from lancedb>=0.5.4->crewai_tools) (1.2.0.post0)\n",
            "Requirement already satisfied: retry>=0.9.2 in ./genai_env/lib/python3.10/site-packages (from lancedb>=0.5.4->crewai_tools) (0.9.2)\n",
            "Requirement already satisfied: semver>=3.0 in ./genai_env/lib/python3.10/site-packages (from lancedb>=0.5.4->crewai_tools) (3.0.4)\n",
            "Requirement already satisfied: cachetools in ./genai_env/lib/python3.10/site-packages (from lancedb>=0.5.4->crewai_tools) (5.5.1)\n",
            "Requirement already satisfied: pyarrow>=12 in ./genai_env/lib/python3.10/site-packages (from pylance==0.9.18->lancedb>=0.5.4->crewai_tools) (19.0.0)\n",
            "Requirement already satisfied: langchain-text-splitters<1.0.0,>=0.3.6 in ./genai_env/lib/python3.10/site-packages (from langchain<1.0.0,>=0.3.18->langchain_community) (0.3.6)\n",
            "Requirement already satisfied: jsonpatch<2.0,>=1.33 in ./genai_env/lib/python3.10/site-packages (from langchain-core<1.0.0,>=0.3.34->langchain_community) (1.33)\n",
            "Requirement already satisfied: packaging<25,>=23.2 in ./genai_env/lib/python3.10/site-packages (from langchain-core<1.0.0,>=0.3.34->langchain_community) (23.2)\n",
            "Requirement already satisfied: requests-toolbelt<2.0.0,>=1.0.0 in ./genai_env/lib/python3.10/site-packages (from langsmith<0.4,>=0.1.125->langchain_community) (1.0.0)\n",
            "Requirement already satisfied: anyio<5,>=3.5.0 in ./genai_env/lib/python3.10/site-packages (from openai>=1.13.3->crewai) (4.8.0)\n",
            "Requirement already satisfied: distro<2,>=1.7.0 in ./genai_env/lib/python3.10/site-packages (from openai>=1.13.3->crewai) (1.9.0)\n",
            "Requirement already satisfied: sniffio in ./genai_env/lib/python3.10/site-packages (from openai>=1.13.3->crewai) (1.3.1)\n",
            "Requirement already satisfied: et-xmlfile in ./genai_env/lib/python3.10/site-packages (from openpyxl>=3.1.5->crewai) (2.0.0)\n",
            "Requirement already satisfied: deprecated>=1.2.6 in ./genai_env/lib/python3.10/site-packages (from opentelemetry-api>=1.22.0->crewai) (1.2.18)\n",
            "Requirement already satisfied: googleapis-common-protos~=1.52 in ./genai_env/lib/python3.10/site-packages (from opentelemetry-exporter-otlp-proto-http>=1.22.0->crewai) (1.66.0)\n",
            "Requirement already satisfied: opentelemetry-exporter-otlp-proto-common==1.30.0 in ./genai_env/lib/python3.10/site-packages (from opentelemetry-exporter-otlp-proto-http>=1.22.0->crewai) (1.30.0)\n",
            "Requirement already satisfied: opentelemetry-proto==1.30.0 in ./genai_env/lib/python3.10/site-packages (from opentelemetry-exporter-otlp-proto-http>=1.22.0->crewai) (1.30.0)\n",
            "Requirement already satisfied: protobuf<6.0,>=5.0 in ./genai_env/lib/python3.10/site-packages (from opentelemetry-proto==1.30.0->opentelemetry-exporter-otlp-proto-http>=1.22.0->crewai) (5.29.3)\n",
            "Requirement already satisfied: opentelemetry-semantic-conventions==0.51b0 in ./genai_env/lib/python3.10/site-packages (from opentelemetry-sdk>=1.22.0->crewai) (0.51b0)\n",
            "Requirement already satisfied: pdfminer.six==20231228 in ./genai_env/lib/python3.10/site-packages (from pdfplumber>=0.11.4->crewai) (20231228)\n",
            "Requirement already satisfied: Pillow>=9.1 in ./genai_env/lib/python3.10/site-packages (from pdfplumber>=0.11.4->crewai) (11.1.0)\n",
            "Requirement already satisfied: pypdfium2>=4.18.0 in ./genai_env/lib/python3.10/site-packages (from pdfplumber>=0.11.4->crewai) (4.30.1)\n",
            "Requirement already satisfied: charset-normalizer>=2.0.0 in ./genai_env/lib/python3.10/site-packages (from pdfminer.six==20231228->pdfplumber>=0.11.4->crewai) (3.4.1)\n",
            "Requirement already satisfied: annotated-types>=0.6.0 in ./genai_env/lib/python3.10/site-packages (from pydantic>=2.4.2->crewai) (0.7.0)\n",
            "Requirement already satisfied: nodeenv>=1.6.0 in ./genai_env/lib/python3.10/site-packages (from pyright>=1.1.350->crewai_tools) (1.9.1)\n",
            "Requirement already satisfied: ipython>=5.3.0 in ./genai_env/lib/python3.10/site-packages (from pyvis>=0.3.2->crewai) (8.32.0)\n",
            "Requirement already satisfied: jsonpickle>=1.4.1 in ./genai_env/lib/python3.10/site-packages (from pyvis>=0.3.2->crewai) (4.0.1)\n",
            "Requirement already satisfied: networkx>=1.11 in ./genai_env/lib/python3.10/site-packages (from pyvis>=0.3.2->crewai) (3.4.2)\n",
            "Requirement already satisfied: idna<4,>=2.5 in ./genai_env/lib/python3.10/site-packages (from requests>=2.31.0->crewai_tools) (3.10)\n",
            "Requirement already satisfied: certifi>=2017.4.17 in ./genai_env/lib/python3.10/site-packages (from requests>=2.31.0->crewai_tools) (2025.1.31)\n",
            "Requirement already satisfied: Mako in ./genai_env/lib/python3.10/site-packages (from alembic<2.0.0,>=1.13.1->embedchain>=0.1.114->crewai_tools) (1.3.9)\n",
            "Requirement already satisfied: exceptiongroup>=1.0.2 in ./genai_env/lib/python3.10/site-packages (from anyio<5,>=3.5.0->openai>=1.13.3->crewai) (1.2.2)\n",
            "Requirement already satisfied: soupsieve>1.2 in ./genai_env/lib/python3.10/site-packages (from beautifulsoup4<5.0.0,>=4.12.2->embedchain>=0.1.114->crewai_tools) (2.6)\n",
            "Requirement already satisfied: pyproject_hooks in ./genai_env/lib/python3.10/site-packages (from build>=1.0.3->chromadb>=0.5.23->crewai) (1.2.0)\n",
            "Requirement already satisfied: fastavro<2.0.0,>=1.9.4 in ./genai_env/lib/python3.10/site-packages (from cohere<6.0,>=5.3->embedchain>=0.1.114->crewai_tools) (1.10.0)\n",
            "Requirement already satisfied: types-requests<3.0.0,>=2.0.0 in ./genai_env/lib/python3.10/site-packages (from cohere<6.0,>=5.3->embedchain>=0.1.114->crewai_tools) (2.32.0.20241016)\n",
            "Requirement already satisfied: cffi>=1.12 in ./genai_env/lib/python3.10/site-packages (from cryptography>=43.0.1->auth0-python>=4.7.1->crewai) (1.17.1)\n",
            "Requirement already satisfied: wrapt<2,>=1.10 in ./genai_env/lib/python3.10/site-packages (from deprecated>=1.2.6->opentelemetry-api>=1.22.0->crewai) (1.17.2)\n",
            "Requirement already satisfied: starlette<0.46.0,>=0.40.0 in ./genai_env/lib/python3.10/site-packages (from fastapi>=0.95.2->chromadb>=0.5.23->crewai) (0.45.3)\n",
            "Requirement already satisfied: google-api-core!=2.0.*,!=2.1.*,!=2.2.*,!=2.3.*,!=2.4.*,!=2.5.*,!=2.6.*,!=2.7.*,<3.0.0dev,>=1.34.1 in ./genai_env/lib/python3.10/site-packages (from google-api-core[grpc]!=2.0.*,!=2.1.*,!=2.2.*,!=2.3.*,!=2.4.*,!=2.5.*,!=2.6.*,!=2.7.*,<3.0.0dev,>=1.34.1->google-cloud-aiplatform<2.0.0,>=1.26.1->embedchain>=0.1.114->crewai_tools) (2.24.1)\n",
            "Requirement already satisfied: google-auth<3.0.0dev,>=2.14.1 in ./genai_env/lib/python3.10/site-packages (from google-cloud-aiplatform<2.0.0,>=1.26.1->embedchain>=0.1.114->crewai_tools) (2.38.0)\n",
            "Requirement already satisfied: proto-plus<2.0.0dev,>=1.22.3 in ./genai_env/lib/python3.10/site-packages (from google-cloud-aiplatform<2.0.0,>=1.26.1->embedchain>=0.1.114->crewai_tools) (1.26.0)\n",
            "Requirement already satisfied: google-cloud-storage<3.0.0dev,>=1.32.0 in ./genai_env/lib/python3.10/site-packages (from google-cloud-aiplatform<2.0.0,>=1.26.1->embedchain>=0.1.114->crewai_tools) (2.19.0)\n",
            "Requirement already satisfied: google-cloud-bigquery!=3.20.0,<4.0.0dev,>=1.15.0 in ./genai_env/lib/python3.10/site-packages (from google-cloud-aiplatform<2.0.0,>=1.26.1->embedchain>=0.1.114->crewai_tools) (3.29.0)\n",
            "Requirement already satisfied: google-cloud-resource-manager<3.0.0dev,>=1.3.3 in ./genai_env/lib/python3.10/site-packages (from google-cloud-aiplatform<2.0.0,>=1.26.1->embedchain>=0.1.114->crewai_tools) (1.14.0)\n",
            "Requirement already satisfied: shapely<3.0.0dev in ./genai_env/lib/python3.10/site-packages (from google-cloud-aiplatform<2.0.0,>=1.26.1->embedchain>=0.1.114->crewai_tools) (2.0.7)\n",
            "Requirement already satisfied: httpcore==1.* in ./genai_env/lib/python3.10/site-packages (from httpx<0.28.0,>=0.23.0->litellm==1.60.2->crewai) (1.0.7)\n",
            "Requirement already satisfied: h11<0.15,>=0.13 in ./genai_env/lib/python3.10/site-packages (from httpcore==1.*->httpx<0.28.0,>=0.23.0->litellm==1.60.2->crewai) (0.14.0)\n",
            "Requirement already satisfied: zipp>=3.20 in ./genai_env/lib/python3.10/site-packages (from importlib-metadata>=6.8.0->litellm==1.60.2->crewai) (3.21.0)\n",
            "Requirement already satisfied: decorator in ./genai_env/lib/python3.10/site-packages (from ipython>=5.3.0->pyvis>=0.3.2->crewai) (5.1.1)\n",
            "Requirement already satisfied: jedi>=0.16 in ./genai_env/lib/python3.10/site-packages (from ipython>=5.3.0->pyvis>=0.3.2->crewai) (0.19.2)\n",
            "Requirement already satisfied: matplotlib-inline in ./genai_env/lib/python3.10/site-packages (from ipython>=5.3.0->pyvis>=0.3.2->crewai) (0.1.7)\n",
            "Requirement already satisfied: pexpect>4.3 in ./genai_env/lib/python3.10/site-packages (from ipython>=5.3.0->pyvis>=0.3.2->crewai) (4.9.0)\n",
            "Requirement already satisfied: prompt_toolkit<3.1.0,>=3.0.41 in ./genai_env/lib/python3.10/site-packages (from ipython>=5.3.0->pyvis>=0.3.2->crewai) (3.0.50)\n",
            "Requirement already satisfied: pygments>=2.4.0 in ./genai_env/lib/python3.10/site-packages (from ipython>=5.3.0->pyvis>=0.3.2->crewai) (2.19.1)\n",
            "Requirement already satisfied: stack_data in ./genai_env/lib/python3.10/site-packages (from ipython>=5.3.0->pyvis>=0.3.2->crewai) (0.6.3)\n",
            "Requirement already satisfied: traitlets>=5.13.0 in ./genai_env/lib/python3.10/site-packages (from ipython>=5.3.0->pyvis>=0.3.2->crewai) (5.14.3)\n",
            "Requirement already satisfied: MarkupSafe>=2.0 in ./genai_env/lib/python3.10/site-packages (from jinja2<4.0.0,>=3.1.2->litellm==1.60.2->crewai) (3.0.2)\n",
            "Requirement already satisfied: jsonpointer>=1.9 in ./genai_env/lib/python3.10/site-packages (from jsonpatch<2.0,>=1.33->langchain-core<1.0.0,>=0.3.34->langchain_community) (3.0.0)\n",
            "Requirement already satisfied: jsonschema-specifications>=2023.03.6 in ./genai_env/lib/python3.10/site-packages (from jsonschema<5.0.0,>=4.22.0->litellm==1.60.2->crewai) (2024.10.1)\n",
            "Requirement already satisfied: referencing>=0.28.4 in ./genai_env/lib/python3.10/site-packages (from jsonschema<5.0.0,>=4.22.0->litellm==1.60.2->crewai) (0.36.2)\n",
            "Requirement already satisfied: rpds-py>=0.7.1 in ./genai_env/lib/python3.10/site-packages (from jsonschema<5.0.0,>=4.22.0->litellm==1.60.2->crewai) (0.22.3)\n",
            "Requirement already satisfied: six>=1.9.0 in ./genai_env/lib/python3.10/site-packages (from kubernetes>=28.1.0->chromadb>=0.5.23->crewai) (1.17.0)\n",
            "Requirement already satisfied: python-dateutil>=2.5.3 in ./genai_env/lib/python3.10/site-packages (from kubernetes>=28.1.0->chromadb>=0.5.23->crewai) (2.9.0.post0)\n",
            "Requirement already satisfied: websocket-client!=0.40.0,!=0.41.*,!=0.42.*,>=0.32.0 in ./genai_env/lib/python3.10/site-packages (from kubernetes>=28.1.0->chromadb>=0.5.23->crewai) (1.8.0)\n",
            "Requirement already satisfied: requests-oauthlib in ./genai_env/lib/python3.10/site-packages (from kubernetes>=28.1.0->chromadb>=0.5.23->crewai) (2.0.0)\n",
            "Requirement already satisfied: oauthlib>=3.2.2 in ./genai_env/lib/python3.10/site-packages (from kubernetes>=28.1.0->chromadb>=0.5.23->crewai) (3.2.2)\n",
            "Requirement already satisfied: durationpy>=0.7 in ./genai_env/lib/python3.10/site-packages (from kubernetes>=28.1.0->chromadb>=0.5.23->crewai) (0.9)\n",
            "Requirement already satisfied: langchain-experimental<0.4.0,>=0.3.0 in ./genai_env/lib/python3.10/site-packages (from langchain-cohere<0.4.0,>=0.3.0->embedchain>=0.1.114->crewai_tools) (0.3.4)\n",
            "Requirement already satisfied: pandas>=1.4.3 in ./genai_env/lib/python3.10/site-packages (from langchain-cohere<0.4.0,>=0.3.0->embedchain>=0.1.114->crewai_tools) (2.2.3)\n",
            "Requirement already satisfied: tabulate<0.10.0,>=0.9.0 in ./genai_env/lib/python3.10/site-packages (from langchain-cohere<0.4.0,>=0.3.0->embedchain>=0.1.114->crewai_tools) (0.9.0)\n",
            "Requirement already satisfied: pytz<2025.0,>=2024.1 in ./genai_env/lib/python3.10/site-packages (from mem0ai<0.2.0,>=0.1.37->embedchain>=0.1.114->crewai_tools) (2024.2)\n",
            "Requirement already satisfied: qdrant-client<2.0.0,>=1.9.1 in ./genai_env/lib/python3.10/site-packages (from mem0ai<0.2.0,>=0.1.37->embedchain>=0.1.114->crewai_tools) (1.13.2)\n",
            "Requirement already satisfied: coloredlogs in ./genai_env/lib/python3.10/site-packages (from onnxruntime>=1.14.1->chromadb>=0.5.23->crewai) (15.0.1)\n",
            "Requirement already satisfied: flatbuffers in ./genai_env/lib/python3.10/site-packages (from onnxruntime>=1.14.1->chromadb>=0.5.23->crewai) (25.1.24)\n",
            "Requirement already satisfied: sympy in ./genai_env/lib/python3.10/site-packages (from onnxruntime>=1.14.1->chromadb>=0.5.23->crewai) (1.13.1)\n",
            "Requirement already satisfied: opentelemetry-instrumentation-asgi==0.51b0 in ./genai_env/lib/python3.10/site-packages (from opentelemetry-instrumentation-fastapi>=0.41b0->chromadb>=0.5.23->crewai) (0.51b0)\n",
            "Requirement already satisfied: opentelemetry-instrumentation==0.51b0 in ./genai_env/lib/python3.10/site-packages (from opentelemetry-instrumentation-fastapi>=0.41b0->chromadb>=0.5.23->crewai) (0.51b0)\n",
            "Requirement already satisfied: opentelemetry-util-http==0.51b0 in ./genai_env/lib/python3.10/site-packages (from opentelemetry-instrumentation-fastapi>=0.41b0->chromadb>=0.5.23->crewai) (0.51b0)\n",
            "Requirement already satisfied: asgiref~=3.0 in ./genai_env/lib/python3.10/site-packages (from opentelemetry-instrumentation-asgi==0.51b0->opentelemetry-instrumentation-fastapi>=0.41b0->chromadb>=0.5.23->crewai) (3.8.1)\n",
            "Requirement already satisfied: monotonic>=1.5 in ./genai_env/lib/python3.10/site-packages (from posthog>=2.4.0->chromadb>=0.5.23->crewai) (1.6)\n",
            "Requirement already satisfied: backoff>=1.10.0 in ./genai_env/lib/python3.10/site-packages (from posthog>=2.4.0->chromadb>=0.5.23->crewai) (2.2.1)\n",
            "Requirement already satisfied: py<2.0.0,>=1.4.26 in ./genai_env/lib/python3.10/site-packages (from retry>=0.9.2->lancedb>=0.5.4->crewai_tools) (1.11.0)\n",
            "Requirement already satisfied: markdown-it-py>=2.2.0 in ./genai_env/lib/python3.10/site-packages (from rich>=10.11.0->chromadb>=0.5.23->crewai) (3.0.0)\n",
            "Requirement already satisfied: contextlib2>=0.5.5 in ./genai_env/lib/python3.10/site-packages (from schema<0.8.0,>=0.7.5->embedchain>=0.1.114->crewai_tools) (21.6.0)\n",
            "Requirement already satisfied: huggingface-hub<1.0,>=0.16.4 in ./genai_env/lib/python3.10/site-packages (from tokenizers->litellm==1.60.2->crewai) (0.28.1)\n",
            "Requirement already satisfied: mypy-extensions>=0.3.0 in ./genai_env/lib/python3.10/site-packages (from typing-inspect<1,>=0.4.0->dataclasses-json<0.7,>=0.5.7->langchain_community) (1.0.0)\n",
            "Requirement already satisfied: httptools>=0.6.3 in ./genai_env/lib/python3.10/site-packages (from uvicorn[standard]>=0.18.3->chromadb>=0.5.23->crewai) (0.6.4)\n",
            "Requirement already satisfied: uvloop!=0.15.0,!=0.15.1,>=0.14.0 in ./genai_env/lib/python3.10/site-packages (from uvicorn[standard]>=0.18.3->chromadb>=0.5.23->crewai) (0.21.0)\n",
            "Requirement already satisfied: watchfiles>=0.13 in ./genai_env/lib/python3.10/site-packages (from uvicorn[standard]>=0.18.3->chromadb>=0.5.23->crewai) (1.0.4)\n",
            "Requirement already satisfied: websockets>=10.4 in ./genai_env/lib/python3.10/site-packages (from uvicorn[standard]>=0.18.3->chromadb>=0.5.23->crewai) (14.2)\n",
            "Requirement already satisfied: pycparser in ./genai_env/lib/python3.10/site-packages (from cffi>=1.12->cryptography>=43.0.1->auth0-python>=4.7.1->crewai) (2.22)\n",
            "Requirement already satisfied: grpcio-status<2.0.dev0,>=1.33.2 in ./genai_env/lib/python3.10/site-packages (from google-api-core[grpc]!=2.0.*,!=2.1.*,!=2.2.*,!=2.3.*,!=2.4.*,!=2.5.*,!=2.6.*,!=2.7.*,<3.0.0dev,>=1.34.1->google-cloud-aiplatform<2.0.0,>=1.26.1->embedchain>=0.1.114->crewai_tools) (1.70.0)\n",
            "Requirement already satisfied: pyasn1-modules>=0.2.1 in ./genai_env/lib/python3.10/site-packages (from google-auth<3.0.0dev,>=2.14.1->google-cloud-aiplatform<2.0.0,>=1.26.1->embedchain>=0.1.114->crewai_tools) (0.4.1)\n",
            "Requirement already satisfied: rsa<5,>=3.1.4 in ./genai_env/lib/python3.10/site-packages (from google-auth<3.0.0dev,>=2.14.1->google-cloud-aiplatform<2.0.0,>=1.26.1->embedchain>=0.1.114->crewai_tools) (4.9)\n",
            "Requirement already satisfied: google-cloud-core<3.0.0dev,>=2.4.1 in ./genai_env/lib/python3.10/site-packages (from google-cloud-bigquery!=3.20.0,<4.0.0dev,>=1.15.0->google-cloud-aiplatform<2.0.0,>=1.26.1->embedchain>=0.1.114->crewai_tools) (2.4.1)\n",
            "Requirement already satisfied: google-resumable-media<3.0dev,>=2.0.0 in ./genai_env/lib/python3.10/site-packages (from google-cloud-bigquery!=3.20.0,<4.0.0dev,>=1.15.0->google-cloud-aiplatform<2.0.0,>=1.26.1->embedchain>=0.1.114->crewai_tools) (2.7.2)\n",
            "Requirement already satisfied: grpc-google-iam-v1<1.0.0dev,>=0.12.4 in ./genai_env/lib/python3.10/site-packages (from google-cloud-resource-manager<3.0.0dev,>=1.3.3->google-cloud-aiplatform<2.0.0,>=1.26.1->embedchain>=0.1.114->crewai_tools) (0.14.0)\n",
            "Requirement already satisfied: google-crc32c<2.0dev,>=1.0 in ./genai_env/lib/python3.10/site-packages (from google-cloud-storage<3.0.0dev,>=1.32.0->google-cloud-aiplatform<2.0.0,>=1.26.1->embedchain>=0.1.114->crewai_tools) (1.6.0)\n",
            "Requirement already satisfied: filelock in ./genai_env/lib/python3.10/site-packages (from huggingface-hub<1.0,>=0.16.4->tokenizers->litellm==1.60.2->crewai) (3.17.0)\n",
            "Requirement already satisfied: fsspec>=2023.5.0 in ./genai_env/lib/python3.10/site-packages (from huggingface-hub<1.0,>=0.16.4->tokenizers->litellm==1.60.2->crewai) (2024.6.1)\n",
            "Requirement already satisfied: parso<0.9.0,>=0.8.4 in ./genai_env/lib/python3.10/site-packages (from jedi>=0.16->ipython>=5.3.0->pyvis>=0.3.2->crewai) (0.8.4)\n",
            "Requirement already satisfied: mdurl~=0.1 in ./genai_env/lib/python3.10/site-packages (from markdown-it-py>=2.2.0->rich>=10.11.0->chromadb>=0.5.23->crewai) (0.1.2)\n",
            "Requirement already satisfied: tzdata>=2022.7 in ./genai_env/lib/python3.10/site-packages (from pandas>=1.4.3->langchain-cohere<0.4.0,>=0.3.0->embedchain>=0.1.114->crewai_tools) (2025.1)\n",
            "Requirement already satisfied: ptyprocess>=0.5 in ./genai_env/lib/python3.10/site-packages (from pexpect>4.3->ipython>=5.3.0->pyvis>=0.3.2->crewai) (0.7.0)\n",
            "Requirement already satisfied: wcwidth in ./genai_env/lib/python3.10/site-packages (from prompt_toolkit<3.1.0,>=3.0.41->ipython>=5.3.0->pyvis>=0.3.2->crewai) (0.2.13)\n",
            "Requirement already satisfied: grpcio-tools>=1.41.0 in ./genai_env/lib/python3.10/site-packages (from qdrant-client<2.0.0,>=1.9.1->mem0ai<0.2.0,>=0.1.37->embedchain>=0.1.114->crewai_tools) (1.70.0)\n",
            "Requirement already satisfied: portalocker<3.0.0,>=2.7.0 in ./genai_env/lib/python3.10/site-packages (from qdrant-client<2.0.0,>=1.9.1->mem0ai<0.2.0,>=0.1.37->embedchain>=0.1.114->crewai_tools) (2.10.1)\n",
            "Requirement already satisfied: humanfriendly>=9.1 in ./genai_env/lib/python3.10/site-packages (from coloredlogs->onnxruntime>=1.14.1->chromadb>=0.5.23->crewai) (10.0)\n",
            "Requirement already satisfied: executing>=1.2.0 in ./genai_env/lib/python3.10/site-packages (from stack_data->ipython>=5.3.0->pyvis>=0.3.2->crewai) (2.2.0)\n",
            "Requirement already satisfied: asttokens>=2.1.0 in ./genai_env/lib/python3.10/site-packages (from stack_data->ipython>=5.3.0->pyvis>=0.3.2->crewai) (3.0.0)\n",
            "Requirement already satisfied: pure-eval in ./genai_env/lib/python3.10/site-packages (from stack_data->ipython>=5.3.0->pyvis>=0.3.2->crewai) (0.2.3)\n",
            "Requirement already satisfied: mpmath<1.4,>=1.1.0 in ./genai_env/lib/python3.10/site-packages (from sympy->onnxruntime>=1.14.1->chromadb>=0.5.23->crewai) (1.3.0)\n",
            "Requirement already satisfied: setuptools in ./genai_env/lib/python3.10/site-packages (from grpcio-tools>=1.41.0->qdrant-client<2.0.0,>=1.9.1->mem0ai<0.2.0,>=0.1.37->embedchain>=0.1.114->crewai_tools) (75.6.0)\n",
            "Requirement already satisfied: h2<5,>=3 in ./genai_env/lib/python3.10/site-packages (from httpx[http2]>=0.20.0->qdrant-client<2.0.0,>=1.9.1->mem0ai<0.2.0,>=0.1.37->embedchain>=0.1.114->crewai_tools) (4.2.0)\n",
            "Requirement already satisfied: pyasn1<0.7.0,>=0.4.6 in ./genai_env/lib/python3.10/site-packages (from pyasn1-modules>=0.2.1->google-auth<3.0.0dev,>=2.14.1->google-cloud-aiplatform<2.0.0,>=1.26.1->embedchain>=0.1.114->crewai_tools) (0.6.1)\n",
            "Requirement already satisfied: hyperframe<7,>=6.1 in ./genai_env/lib/python3.10/site-packages (from h2<5,>=3->httpx[http2]>=0.20.0->qdrant-client<2.0.0,>=1.9.1->mem0ai<0.2.0,>=0.1.37->embedchain>=0.1.114->crewai_tools) (6.1.0)\n",
            "Requirement already satisfied: hpack<5,>=4.1 in ./genai_env/lib/python3.10/site-packages (from h2<5,>=3->httpx[http2]>=0.20.0->qdrant-client<2.0.0,>=1.9.1->mem0ai<0.2.0,>=0.1.37->embedchain>=0.1.114->crewai_tools) (4.1.0)\n",
            "Downloading crewai-0.102.0-py3-none-any.whl (240 kB)\n",
            "Downloading litellm-1.60.2-py3-none-any.whl (6.7 MB)\n",
            "\u001b[2K   \u001b[38;2;114;156;31m━━━━━━━━━━━━━━━━━━━━━━━━━━━━━━━━━━━━━━━━\u001b[0m \u001b[32m6.7/6.7 MB\u001b[0m \u001b[31m5.5 MB/s\u001b[0m eta \u001b[36m0:00:00\u001b[0m[31m5.6 MB/s\u001b[0m eta \u001b[36m0:00:01\u001b[0m\n",
            "\u001b[?25hDownloading crewai_tools-0.36.0-py3-none-any.whl (545 kB)\n",
            "\u001b[2K   \u001b[38;2;114;156;31m━━━━━━━━━━━━━━━━━━━━━━━━━━━━━━━━━━━━━━━━\u001b[0m \u001b[32m545.9/545.9 kB\u001b[0m \u001b[31m6.3 MB/s\u001b[0m eta \u001b[36m0:00:00\u001b[0m\n",
            "\u001b[?25hInstalling collected packages: litellm, crewai, crewai_tools\n",
            "  Attempting uninstall: litellm\n",
            "    Found existing installation: litellm 1.59.8\n",
            "    Uninstalling litellm-1.59.8:\n",
            "      Successfully uninstalled litellm-1.59.8\n",
            "  Attempting uninstall: crewai\n",
            "    Found existing installation: crewai 0.100.1\n",
            "    Uninstalling crewai-0.100.1:\n",
            "      Successfully uninstalled crewai-0.100.1\n",
            "  Attempting uninstall: crewai_tools\n",
            "    Found existing installation: crewai-tools 0.33.0\n",
            "    Uninstalling crewai-tools-0.33.0:\n",
            "      Successfully uninstalled crewai-tools-0.33.0\n",
            "Successfully installed crewai-0.102.0 crewai_tools-0.36.0 litellm-1.60.2\n"
          ]
        },
        {
          "name": "stderr",
          "output_type": "stream",
          "text": [
            "Python(61111) MallocStackLogging: can't turn off malloc stack logging because it was not enabled.\n"
          ]
        },
        {
          "name": "stdout",
          "output_type": "stream",
          "text": [
            "Requirement already satisfied: openai in ./genai_env/lib/python3.10/site-packages (1.61.1)\n",
            "Collecting openai\n",
            "  Downloading openai-1.62.0-py3-none-any.whl.metadata (27 kB)\n",
            "Requirement already satisfied: anyio<5,>=3.5.0 in ./genai_env/lib/python3.10/site-packages (from openai) (4.8.0)\n",
            "Requirement already satisfied: distro<2,>=1.7.0 in ./genai_env/lib/python3.10/site-packages (from openai) (1.9.0)\n",
            "Requirement already satisfied: httpx<1,>=0.23.0 in ./genai_env/lib/python3.10/site-packages (from openai) (0.27.2)\n",
            "Requirement already satisfied: jiter<1,>=0.4.0 in ./genai_env/lib/python3.10/site-packages (from openai) (0.8.2)\n",
            "Requirement already satisfied: pydantic<3,>=1.9.0 in ./genai_env/lib/python3.10/site-packages (from openai) (2.10.6)\n",
            "Requirement already satisfied: sniffio in ./genai_env/lib/python3.10/site-packages (from openai) (1.3.1)\n",
            "Requirement already satisfied: tqdm>4 in ./genai_env/lib/python3.10/site-packages (from openai) (4.67.1)\n",
            "Requirement already satisfied: typing-extensions<5,>=4.11 in ./genai_env/lib/python3.10/site-packages (from openai) (4.12.2)\n",
            "Requirement already satisfied: exceptiongroup>=1.0.2 in ./genai_env/lib/python3.10/site-packages (from anyio<5,>=3.5.0->openai) (1.2.2)\n",
            "Requirement already satisfied: idna>=2.8 in ./genai_env/lib/python3.10/site-packages (from anyio<5,>=3.5.0->openai) (3.10)\n",
            "Requirement already satisfied: certifi in ./genai_env/lib/python3.10/site-packages (from httpx<1,>=0.23.0->openai) (2025.1.31)\n",
            "Requirement already satisfied: httpcore==1.* in ./genai_env/lib/python3.10/site-packages (from httpx<1,>=0.23.0->openai) (1.0.7)\n",
            "Requirement already satisfied: h11<0.15,>=0.13 in ./genai_env/lib/python3.10/site-packages (from httpcore==1.*->httpx<1,>=0.23.0->openai) (0.14.0)\n",
            "Requirement already satisfied: annotated-types>=0.6.0 in ./genai_env/lib/python3.10/site-packages (from pydantic<3,>=1.9.0->openai) (0.7.0)\n",
            "Requirement already satisfied: pydantic-core==2.27.2 in ./genai_env/lib/python3.10/site-packages (from pydantic<3,>=1.9.0->openai) (2.27.2)\n",
            "Downloading openai-1.62.0-py3-none-any.whl (464 kB)\n",
            "Installing collected packages: openai\n",
            "  Attempting uninstall: openai\n",
            "    Found existing installation: openai 1.61.1\n",
            "    Uninstalling openai-1.61.1:\n",
            "      Successfully uninstalled openai-1.61.1\n",
            "Successfully installed openai-1.62.0\n"
          ]
        }
      ],
      "source": [
        "!pip install --upgrade crewai crewai_tools langchain_community\n",
        "!pip install -U openai\n"
      ]
    },
    {
      "cell_type": "code",
      "execution_count": 32,
      "metadata": {},
      "outputs": [],
      "source": [
        "from langchain_openai import ChatOpenAI"
      ]
    },
    {
      "cell_type": "code",
      "execution_count": 33,
      "metadata": {
        "height": 64,
        "id": "JfLP66ktosiz"
      },
      "outputs": [],
      "source": [
        "# Warning control\n",
        "import warnings\n",
        "warnings.filterwarnings('ignore')"
      ]
    },
    {
      "cell_type": "markdown",
      "metadata": {
        "id": "HYvLuFiWosi0"
      },
      "source": [
        "- Import from the crewAI libray."
      ]
    },
    {
      "cell_type": "code",
      "execution_count": 34,
      "metadata": {
        "height": 30,
        "id": "OMfhdWYXosi0"
      },
      "outputs": [],
      "source": [
        "from crewai import Agent, Task, Crew\n",
        "from crewai_tools import SerperDevTool"
      ]
    },
    {
      "cell_type": "markdown",
      "metadata": {
        "id": "qMqWq32josi1"
      },
      "source": [
        "- As a LLM for your agents, you'll be using OpenAI's `gpt-4o-mini`.\n",
        "\n",
        "**Optional Note:** crewAI also allow other popular models to be used as a LLM for your Agents. You can see some of the examples at the [bottom of the notebook](#1)."
      ]
    },
    {
      "cell_type": "code",
      "execution_count": null,
      "metadata": {
        "height": 98,
        "id": "6nhjGhk2osi1"
      },
      "outputs": [],
      "source": [
        "import os\n",
        "from google.colab import userdata\n",
        "openai_api_key = userdata.get(\"OPENAI_API_KEY\")\n",
        "grok_api_key = userdata.get(\"GROQ_API_KEY\")\n",
        "os.environ[\"OPENAI_API_KEY\"] = openai_api_key\n",
        "os.environ[\"OPENAI_MODEL_NAME\"] = 'gpt-4o-mini'"
      ]
    },
    {
      "cell_type": "code",
      "execution_count": 35,
      "metadata": {},
      "outputs": [],
      "source": [
        "from crewai import Agent, Crew, Process, Task\n",
        "from dotenv import load_dotenv\n",
        "load_dotenv()\n",
        "\n",
        "# Ensure your SerperDev API key is set in the environment variables\n",
        "os.environ[\"SERPER_API_KEY\"] = os.environ[\"SERPER_DEV_API_KEY\"]\n",
        "\n",
        "llm_ollama= ChatOpenAI(\n",
        "    model_name=\"llama3.2:3b\",\n",
        "    base_url=\"http://localhost:11434/v1\",\n",
        ")\n",
        "\n",
        "llm_openai = ChatOpenAI(\n",
        "    model_name=\"gpt-4o-mini\",\n",
        "    api_key=os.getenv(\"OPENAI_API_KEY\"),\n",
        ")\n",
        "\n",
        "llm_groq = ChatOpenAI(\n",
        "    model_name=\"llama3-70b-8192\",\n",
        "    base_url=\"https://api.groq.com/openai/v1\",\n",
        "    api_key=os.getenv(\"GROQ_API_KEY\"),\n",
        ")\n",
        "\n",
        "llm  = llm_openai"
      ]
    },
    {
      "cell_type": "markdown",
      "metadata": {
        "id": "bFguHo4Hosi2"
      },
      "source": [
        "## Creating Agents\n",
        "\n",
        "- Define your Agents, and provide them a `role`, `goal` and `backstory`.\n",
        "- It has been seen that LLMs perform better when they are role playing."
      ]
    },
    {
      "cell_type": "markdown",
      "metadata": {
        "id": "46DxrfKVosi2"
      },
      "source": [
        "### Agent: Planner\n",
        "\n",
        "**Note**: The benefit of using _multiple strings_ :\n",
        "```Python\n",
        "varname = \"line 1 of text\"\n",
        "          \"line 2 of text\"\n",
        "```\n",
        "\n",
        "versus the _triple quote docstring_:\n",
        "```Python\n",
        "varname = \"\"\"line 1 of text\n",
        "             line 2 of text\n",
        "          \"\"\"\n",
        "```\n",
        "is that it can avoid adding those whitespaces and newline characters, making it better formatted to be passed to the LLM."
      ]
    },
    {
      "cell_type": "code",
      "execution_count": 36,
      "metadata": {
        "height": 234,
        "id": "_mKo7WrQosi2"
      },
      "outputs": [],
      "source": [
        "planner = Agent(\n",
        "    role=\"Content Planner\",\n",
        "    goal=\"Plan engaging and factually accurate content on {topic} using internet search\",\n",
        "    backstory=\"You're working on planning a blog article \"\n",
        "              \"about the topic: {topic}.\"\n",
        "              \"You collect information that helps the \"\n",
        "              \"audience learn something \"\n",
        "              \"and make informed decisions. \"\n",
        "              \"Your work is the basis for \"\n",
        "              \"the Content Writer to write an article on this topic.\"\n",
        "              \"You can search the internet for latest information using the serper dev tool provdied to you.\",\n",
        "    allow_delegation=False,\n",
        "    llm=llm,\n",
        "    tools = [SerperDevTool()],\n",
        "\tverbose=True,\n",
        "    max_retry_limit=3\n",
        ")"
      ]
    },
    {
      "cell_type": "markdown",
      "metadata": {
        "id": "fzMZUoH5osi3"
      },
      "source": [
        "### Agent: Writer"
      ]
    },
    {
      "cell_type": "code",
      "execution_count": 37,
      "metadata": {
        "height": 370,
        "id": "3s8-UyNLosi3"
      },
      "outputs": [],
      "source": [
        "writer = Agent(\n",
        "    role=\"Content Writer\",\n",
        "    goal=\"Write insightful and factually accurate \"\n",
        "         \"opinion piece about the topic: {topic} using internet search\",\n",
        "    backstory=\"You're working on a writing \"\n",
        "              \"a new opinion piece about the topic: {topic}. \"\n",
        "              \"You base your writing on the work of \"\n",
        "              \"the Content Planner, who provides an outline \"\n",
        "              \"and relevant context about the topic. \"\n",
        "              \"You follow the main objectives and \"\n",
        "              \"direction of the outline, \"\n",
        "              \"as provide by the Content Planner. \"\n",
        "              \"You also provide objective and impartial insights \"\n",
        "              \"and back them up with information \"\n",
        "              \"provide by the Content Planner. \"\n",
        "              \"You acknowledge in your opinion piece \"\n",
        "              \"when your statements are opinions \"\n",
        "              \"as opposed to objective statements.\"\n",
        "              \"You can search the internet for latest information using the serper dev tool.\",\n",
        "    allow_delegation=False,\n",
        "    llm = llm,\n",
        "    tools=[SerperDevTool()],\n",
        "    verbose=True,\n",
        "    max_retry_limit=5\n",
        ")"
      ]
    },
    {
      "cell_type": "markdown",
      "metadata": {
        "id": "a1VvC_EFosi3"
      },
      "source": [
        "### Agent: Editor"
      ]
    },
    {
      "cell_type": "code",
      "execution_count": 38,
      "metadata": {
        "height": 268,
        "id": "UF7R2eVKosi4"
      },
      "outputs": [],
      "source": [
        "editor = Agent(\n",
        "    role=\"Editor\",\n",
        "    goal=\"Edit a given blog post to align with \"\n",
        "         \"the writing style of the organization. \",\n",
        "    backstory=\"You are an editor who receives a blog post \"\n",
        "              \"from the Content Writer. \"\n",
        "              \"Your goal is to review the blog post \"\n",
        "              \"to ensure that it follows journalistic best practices,\"\n",
        "              \"provides balanced viewpoints \"\n",
        "              \"when providing opinions or assertions, \"\n",
        "              \"and also avoids major controversial topics \"\n",
        "              \"or opinions when possible.\",\n",
        "    allow_delegation=False,\n",
        "    llm = llm,\n",
        "    verbose=True\n",
        ")"
      ]
    },
    {
      "cell_type": "markdown",
      "metadata": {
        "id": "2eQEzpjNosi4"
      },
      "source": [
        "## Creating Tasks\n",
        "\n",
        "- Define your Tasks, and provide them a `description`, `expected_output` and `agent`."
      ]
    },
    {
      "cell_type": "markdown",
      "metadata": {
        "id": "Vthok-yzosi4"
      },
      "source": [
        "### Task: Plan"
      ]
    },
    {
      "cell_type": "code",
      "execution_count": 39,
      "metadata": {
        "height": 268,
        "id": "vzjk5gB-osi4"
      },
      "outputs": [],
      "source": [
        "plan = Task(\n",
        "    description=(\n",
        "        \"1. Prioritize the latest trends, key players, \"\n",
        "            \"and noteworthy news on {topic}.\\n\"\n",
        "        \"2. Identify the target audience, considering \"\n",
        "            \"their interests and pain points.\\n\"\n",
        "        \"3. Develop a detailed content outline including \"\n",
        "            \"an introduction, key points, and a call to action.\\n\"\n",
        "        \"4. Include SEO keywords and relevant data or sources.\"\n",
        "    ),\n",
        "    expected_output=\"A comprehensive content plan document \"\n",
        "        \"with an outline, audience analysis, \"\n",
        "        \"SEO keywords, and resources.\",\n",
        "    agent=planner,\n",
        "    llm=llm,\n",
        ")"
      ]
    },
    {
      "cell_type": "markdown",
      "metadata": {
        "id": "AbRJfNcTosi4"
      },
      "source": [
        "### Task: Write"
      ]
    },
    {
      "cell_type": "code",
      "execution_count": 40,
      "metadata": {
        "height": 319,
        "id": "Qeg5uLYFosi5"
      },
      "outputs": [],
      "source": [
        "write = Task(\n",
        "    description=(\n",
        "        \"1. Use the content plan to craft a compelling \"\n",
        "            \"blog post on {topic}.\\n\"\n",
        "        \"2. Incorporate SEO keywords naturally.\\n\"\n",
        "\t\t\"3. Sections/Subtitles are properly named \"\n",
        "            \"in an engaging manner.\\n\"\n",
        "        \"4. Ensure the post is structured with an \"\n",
        "            \"engaging introduction, insightful body, \"\n",
        "            \"and a summarizing conclusion.\\n\"\n",
        "        \"5. Proofread for grammatical errors and \"\n",
        "            \"alignment with the brand's voice.\\n\"\n",
        "    ),\n",
        "    expected_output=\"A well-written blog post \"\n",
        "        \"in markdown format, ready for publication, \"\n",
        "        \"each section should have 2 or 3 paragraphs.\",\n",
        "    agent=writer,\n",
        "    llm=llm,\n",
        ")"
      ]
    },
    {
      "cell_type": "markdown",
      "metadata": {
        "id": "Lu5ujIsXosi5"
      },
      "source": [
        "### Task: Edit"
      ]
    },
    {
      "cell_type": "code",
      "execution_count": 41,
      "metadata": {
        "height": 166,
        "id": "FaBApYoCosi5"
      },
      "outputs": [],
      "source": [
        "edit = Task(\n",
        "    description=(\"Proofread the given blog post for \"\n",
        "                 \"grammatical errors and \"\n",
        "                 \"alignment with the brand's voice.\"),\n",
        "    expected_output=\"A well-written blog post in markdown format, \"\n",
        "                    \"ready for publication, \"\n",
        "                    \"each section should have 2 or 3 paragraphs.\",\n",
        "    agent=editor,\n",
        "    llm=llm,\n",
        ")"
      ]
    },
    {
      "cell_type": "markdown",
      "metadata": {
        "id": "4O5aKBgnosi5"
      },
      "source": [
        "## Creating the Crew\n",
        "\n",
        "- Create your crew of Agents\n",
        "- Pass the tasks to be performed by those agents.\n",
        "    - **Note**: *For this simple example*, the tasks will be performed sequentially (i.e they are dependent on each other), so the _order_ of the task in the list _matters_.\n",
        "- `verbose=2` allows you to see all the logs of the execution."
      ]
    },
    {
      "cell_type": "code",
      "execution_count": 46,
      "metadata": {
        "colab": {
          "base_uri": "https://localhost:8080/"
        },
        "height": 98,
        "id": "pAxSQuJYosi5",
        "outputId": "4b154ae1-e7f4-4788-aa53-2e3a318d7908"
      },
      "outputs": [
        {
          "name": "stderr",
          "output_type": "stream",
          "text": [
            "2025-02-13 07:46:08,327 - 7955664896 - __init__.py-__init__:537 - WARNING: Overriding of current TracerProvider is not allowed\n"
          ]
        }
      ],
      "source": [
        "crew = Crew(\n",
        "    agents=[planner, writer, editor],\n",
        "    tasks=[plan, write, edit],\n",
        "    verbose=0\n",
        ")"
      ]
    },
    {
      "cell_type": "markdown",
      "metadata": {
        "id": "zXFwotveosi6"
      },
      "source": [
        "## Running the Crew"
      ]
    },
    {
      "cell_type": "markdown",
      "metadata": {
        "id": "iKL1wks1osi6"
      },
      "source": [
        "**Note**: LLMs can provide different outputs for they same input, so what you get might be different than what you see in the video."
      ]
    },
    {
      "cell_type": "code",
      "execution_count": 47,
      "metadata": {
        "colab": {
          "base_uri": "https://localhost:8080/"
        },
        "height": 30,
        "id": "VK4GouA5osi6",
        "outputId": "702d822c-34ef-40f1-e308-a3bfc0f6af18"
      },
      "outputs": [
        {
          "name": "stdout",
          "output_type": "stream",
          "text": [
            "\u001b[1m\u001b[95m# Agent:\u001b[00m \u001b[1m\u001b[92mContent Planner\u001b[00m\n",
            "\u001b[95m## Task:\u001b[00m \u001b[92m1. Prioritize the latest trends, key players, and noteworthy news on Elon musk is virtual president today..\n",
            "2. Identify the target audience, considering their interests and pain points.\n",
            "3. Develop a detailed content outline including an introduction, key points, and a call to action.\n",
            "4. Include SEO keywords and relevant data or sources.\u001b[00m\n",
            "\n",
            "\n",
            "\u001b[1m\u001b[95m# Agent:\u001b[00m \u001b[1m\u001b[92mContent Planner\u001b[00m\n",
            "\u001b[95m## Thought:\u001b[00m \u001b[92mI need to gather the latest information regarding Elon Musk being a \"virtual president\" to understand current trends, key players, and noteworthy news. This will help in developing a comprehensive content plan.\u001b[00m\n",
            "\u001b[95m## Using tool:\u001b[00m \u001b[92mSearch the internet with Serper\u001b[00m\n",
            "\u001b[95m## Tool Input:\u001b[00m \u001b[92m\n",
            "\"{\\\"search_query\\\": \\\"Elon Musk virtual president news 2023\\\"}\"\u001b[00m\n",
            "\u001b[95m## Tool Output:\u001b[00m \u001b[92m\n",
            "{'searchParameters': {'q': 'Elon Musk virtual president news 2023', 'type': 'search', 'num': 10, 'engine': 'google'}, 'organic': [{'title': \"Musk has been empowered to be 'virtual prime minister' - YouTube\", 'link': 'https://www.youtube.com/watch?v=rNl7oWvd7As', 'snippet': 'The House DOGE subcommittee is holding their first hearing today. This comes after Elon Musk was in the Oval Office with President Trump ...', 'position': 1}, {'title': 'How did Elon Musk become so powerful in the Trump administration?', 'link': 'https://www.npr.org/2025/02/12/g-s1-48392/how-did-elon-musk-became-so-powerful-in-the-trump-administration', 'snippet': \"Elon in 2023 was supporting Ron DeSantis, somewhat covertly, for president. And It wasn't until, you know, the assassination attempt in mid-2024 ...\", 'position': 2}, {'title': \"Musk's Oval Office Stunt Puts His Shadow Presidency in Plain Sight\", 'link': 'https://news.yahoo.com/musk-oval-office-stunt-puts-123422803.html', 'snippet': \"Elon Musk's secret for-profit shadow presidency has come into full view. The space tech billionaire hijacked an Oval Office news conference, ...\", 'position': 3}, {'title': \"With Elon Musk watching, Trump says he's giving DOGE even more ...\", 'link': 'https://www.nbcnews.com/politics/doge/elon-musk-trump-doge-executive-order-rcna191751', 'snippet': 'President Donald Trump said Tuesday he was signing an executive order to give tech billionaire Elon Musk more power over the federal workforce, ...', 'position': 4}, {'title': \"Elon Musk's Son Picks His Nose and Wipes It on Donald Trump's Desk\", 'link': 'https://www.eonline.com/news/1413375/elon-musks-son-picks-his-nose-and-wipes-it-on-donald-trumps-desk', 'snippet': \"Elon Musk's son X Æ A-Xii Musk left a present on the Oval Office desk during his visit to the White House. Spoiler alert: it was a booger. While ...\", 'position': 5}, {'title': 'Trump is giving Elon Musk an unprecedented amount of power', 'link': 'https://abcnews.go.com/538/trump-giving-elon-musk-unprecedented-amount-power/story?id=118439637', 'snippet': 'A 538 politics chat on Elon Musk and the Department of Government Efficiency.', 'position': 6}, {'title': 'Elon Musk defends his work from Oval Office as Trump signs EO to ...', 'link': 'https://www.delawarepublic.org/2025-02-11/elon-musk-defends-his-work-from-oval-office-as-trump-signs-eo-to-boost-doge-efforts', 'snippet': 'Elon Musk joined President Trump in the Oval Office for an unusual discussion of his work slashing government spending.', 'position': 7}, {'title': \"Musk's DOGE cuts based more on political ideology than real cost ...\", 'link': 'https://www.reuters.com/world/us/musk-cuts-based-more-political-ideology-than-real-cost-savings-so-far-2025-02-12/', 'snippet': 'Musk cost-cutting targets agencies disliked by conservatives, not major budget contributors; DOGE claims $37.69 billion savings to date - a ...', 'position': 8}, {'title': 'President Elon Musk Suddenly Realizes He Might Not Know How to ...', 'link': 'https://news.yahoo.com/president-elon-musk-suddenly-realizes-171122734.html', 'snippet': \"Elon Musk argued that he wasn't actually cutting funding for cancer research.\", 'position': 9}, {'title': \"California congressman blasts 'President Elon Musk' in ... - KTLA\", 'link': 'https://ktla.com/news/california/california-congressman-blasts-president-elon-musk-in-subcommittee-hearing/', 'snippet': \"California Congressman Robert Garcia took aim at billionaire Elon Musk's role as head of the new Department of Government Efficiency (DOGE) ...\", 'position': 10}], 'credits': 1}\u001b[00m\n",
            "\n",
            "\n",
            "\u001b[1m\u001b[95m# Agent:\u001b[00m \u001b[1m\u001b[92mContent Planner\u001b[00m\n",
            "\u001b[95m## Final Answer:\u001b[00m \u001b[92m\n",
            "# Content Plan for \"Elon Musk is Virtual President Today\"\n",
            "\n",
            "## Audience Analysis\n",
            "**Target Audience:**\n",
            "1. **Tech Enthusiasts**: Interested in the intersection of technology and politics, particularly how influential figures like Musk shape policy.\n",
            "2. **Political Analysts**: Seeking insights into the implications of Musk's role in government and how it affects governance.\n",
            "3. **General Public**: Citizens curious about the current political climate and the influence of tech billionaires in government.\n",
            "\n",
            "**Interests:**\n",
            "- The influence of technology in politics.\n",
            "- The role of billionaires in shaping public policy.\n",
            "- Current political events involving Elon Musk.\n",
            "\n",
            "**Pain Points:**\n",
            "- Confusion about the extent of Musk's influence in government.\n",
            "- Concerns regarding the implications of privatization of public sectors.\n",
            "- The potential risks of a tech-centric governance model.\n",
            "\n",
            "## Content Outline\n",
            "### Introduction\n",
            "- Briefly introduce Elon Musk and his recent rise to a powerful position within the U.S. government.\n",
            "- Define the term \"virtual president\" in the context of Musk's influence.\n",
            "\n",
            "### Key Points\n",
            "1. **Musk's Role and Influence**\n",
            "   - Overview of Musk's involvement with the Department of Government Efficiency (DOGE).\n",
            "   - Highlight key moments such as his participation in Oval Office meetings.\n",
            "   - Discuss the public perception of Musk as a \"shadow president.\"\n",
            "\n",
            "2. **Impact on Policy and Governance**\n",
            "   - Analyze how Musk's business strategies (like cost-cutting) affect governmental operations.\n",
            "   - Discuss the executive orders signed by Trump that empower Musk.\n",
            "\n",
            "3. **Public Reaction and Criticism**\n",
            "   - Examine reactions from political figures and the general public.\n",
            "   - Include quotes from prominent critics, like California Congressman Robert Garcia.\n",
            "\n",
            "4. **Future Implications**\n",
            "   - Speculate on the long-term effects of Musk's involvement in politics.\n",
            "   - Discuss potential scenarios regarding the relationship between technology and government.\n",
            "\n",
            "### Conclusion\n",
            "- Summarize the key points discussed.\n",
            "- Pose questions to the audience about the implications of Musk’s role in government.\n",
            "\n",
            "### Call to Action\n",
            "- Encourage readers to share their thoughts on Musk’s influence in politics through comments or social media.\n",
            "- Suggest following the blog for updates on this ongoing story.\n",
            "\n",
            "## SEO Keywords\n",
            "- Elon Musk virtual president\n",
            "- Musk DOGE influence\n",
            "- tech billionaires in politics\n",
            "- government efficiency department\n",
            "- Musk Trump relationship\n",
            "- shadow presidency\n",
            "\n",
            "## Resources\n",
            "1. [Musk's Oval Office Stunt Puts His Shadow Presidency in Plain Sight](https://news.yahoo.com/musk-oval-office-stunt-puts-123422803.html)\n",
            "2. [How did Elon Musk become so powerful in the Trump administration?](https://www.npr.org/2025/02/12/g-s1-48392/how-did-elon-musk-became-so-powerful-in-the-trump-administration)\n",
            "3. [Trump is giving Elon Musk an unprecedented amount of power](https://abcnews.go.com/538/trump-giving-elon-musk-unprecedented-amount-power/story?id=118439637)\n",
            "4. [Elon Musk defends his work from Oval Office as Trump signs EO to boost DOGE efforts](https://www.delawarepublic.org/2025-02-11/elon-musk-defends-his-work-from-oval-office-as-trump-signs-eo-to-boost-doge-efforts)\n",
            "\n",
            "This content plan aims to provide an engaging and informative article that captures the current trends surrounding Elon Musk's role in government, appealing to a wide audience and driving engagement.\n",
            "```\u001b[00m\n",
            "\n",
            "\n"
          ]
        }
      ],
      "source": [
        "result = crew.kickoff(inputs={\"topic\": \"Elon musk is virtual president today.\"})"
      ]
    },
    {
      "cell_type": "markdown",
      "metadata": {
        "id": "5-Qyv22eosi7"
      },
      "source": [
        "- Display the results of your execution as markdown in the notebook."
      ]
    },
    {
      "cell_type": "code",
      "execution_count": 48,
      "metadata": {
        "colab": {
          "base_uri": "https://localhost:8080/",
          "height": 766
        },
        "height": 47,
        "id": "cl2W-1vhosi7",
        "outputId": "5da4fb60-50e2-440b-bc25-466665be15b5"
      },
      "outputs": [
        {
          "data": {
            "text/markdown": [
              "# Content Plan for \"Elon Musk is Virtual President Today\"\n",
              "\n",
              "## Audience Analysis\n",
              "**Target Audience:**\n",
              "1. **Tech Enthusiasts**: Interested in the intersection of technology and politics, particularly how influential figures like Musk shape policy.\n",
              "2. **Political Analysts**: Seeking insights into the implications of Musk's role in government and how it affects governance.\n",
              "3. **General Public**: Citizens curious about the current political climate and the influence of tech billionaires in government.\n",
              "\n",
              "**Interests:**\n",
              "- The influence of technology in politics.\n",
              "- The role of billionaires in shaping public policy.\n",
              "- Current political events involving Elon Musk.\n",
              "\n",
              "**Pain Points:**\n",
              "- Confusion about the extent of Musk's influence in government.\n",
              "- Concerns regarding the implications of privatization of public sectors.\n",
              "- The potential risks of a tech-centric governance model.\n",
              "\n",
              "## Content Outline\n",
              "### Introduction\n",
              "- Briefly introduce Elon Musk and his recent rise to a powerful position within the U.S. government.\n",
              "- Define the term \"virtual president\" in the context of Musk's influence.\n",
              "\n",
              "### Key Points\n",
              "1. **Musk's Role and Influence**\n",
              "   - Overview of Musk's involvement with the Department of Government Efficiency (DOGE).\n",
              "   - Highlight key moments such as his participation in Oval Office meetings.\n",
              "   - Discuss the public perception of Musk as a \"shadow president.\"\n",
              "\n",
              "2. **Impact on Policy and Governance**\n",
              "   - Analyze how Musk's business strategies (like cost-cutting) affect governmental operations.\n",
              "   - Discuss the executive orders signed by Trump that empower Musk.\n",
              "\n",
              "3. **Public Reaction and Criticism**\n",
              "   - Examine reactions from political figures and the general public.\n",
              "   - Include quotes from prominent critics, like California Congressman Robert Garcia.\n",
              "\n",
              "4. **Future Implications**\n",
              "   - Speculate on the long-term effects of Musk's involvement in politics.\n",
              "   - Discuss potential scenarios regarding the relationship between technology and government.\n",
              "\n",
              "### Conclusion\n",
              "- Summarize the key points discussed.\n",
              "- Pose questions to the audience about the implications of Musk’s role in government.\n",
              "\n",
              "### Call to Action\n",
              "- Encourage readers to share their thoughts on Musk’s influence in politics through comments or social media.\n",
              "- Suggest following the blog for updates on this ongoing story.\n",
              "\n",
              "## SEO Keywords\n",
              "- Elon Musk virtual president\n",
              "- Musk DOGE influence\n",
              "- tech billionaires in politics\n",
              "- government efficiency department\n",
              "- Musk Trump relationship\n",
              "- shadow presidency\n",
              "\n",
              "## Resources\n",
              "1. [Musk's Oval Office Stunt Puts His Shadow Presidency in Plain Sight](https://news.yahoo.com/musk-oval-office-stunt-puts-123422803.html)\n",
              "2. [How did Elon Musk become so powerful in the Trump administration?](https://www.npr.org/2025/02/12/g-s1-48392/how-did-elon-musk-became-so-powerful-in-the-trump-administration)\n",
              "3. [Trump is giving Elon Musk an unprecedented amount of power](https://abcnews.go.com/538/trump-giving-elon-musk-unprecedented-amount-power/story?id=118439637)\n",
              "4. [Elon Musk defends his work from Oval Office as Trump signs EO to boost DOGE efforts](https://www.delawarepublic.org/2025-02-11/elon-musk-defends-his-work-from-oval-office-as-trump-signs-eo-to-boost-doge-efforts)\n",
              "\n",
              "This content plan aims to provide an engaging and informative article that captures the current trends surrounding Elon Musk's role in government, appealing to a wide audience and driving engagement.\n",
              "```"
            ],
            "text/plain": [
              "<IPython.core.display.Markdown object>"
            ]
          },
          "execution_count": 48,
          "metadata": {},
          "output_type": "execute_result"
        }
      ],
      "source": [
        "from IPython.display import Markdown\n",
        "Markdown(result.raw)"
      ]
    },
    {
      "cell_type": "code",
      "execution_count": null,
      "metadata": {},
      "outputs": [],
      "source": []
    }
  ],
  "metadata": {
    "colab": {
      "gpuType": "T4",
      "provenance": []
    },
    "kernelspec": {
      "display_name": "Python 3 (ipykernel)",
      "language": "python",
      "name": "python3"
    },
    "language_info": {
      "codemirror_mode": {
        "name": "ipython",
        "version": 3
      },
      "file_extension": ".py",
      "mimetype": "text/x-python",
      "name": "python",
      "nbconvert_exporter": "python",
      "pygments_lexer": "ipython3",
      "version": "3.10.16"
    }
  },
  "nbformat": 4,
  "nbformat_minor": 0
}
