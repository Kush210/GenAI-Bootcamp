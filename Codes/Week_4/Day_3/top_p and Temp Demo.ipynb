{
 "cells": [
  {
   "cell_type": "code",
   "execution_count": 13,
   "metadata": {},
   "outputs": [],
   "source": [
    "from dotenv import load_dotenv\n",
    "import os\n",
    "from openai import Client\n",
    "\n",
    "# Load variables from .env file\n",
    "load_dotenv()\n",
    "\n",
    "# Initialize the OpenAI Client\n",
    "client = Client()\n",
    "\n",
    "# Function to query OpenAI\n",
    "def query(user_input, temp, top_p):\n",
    "    response = client.chat.completions.create(\n",
    "        model=\"gpt-4o-mini\",\n",
    "        messages=[\n",
    "            {\"role\": \"developer\", \"content\": \"You are a helpful assistant.\"},\n",
    "            {\"role\": \"user\", \"content\": user_input}\n",
    "        ],\n",
    "        temperature=temp,\n",
    "        top_p= top_p,\n",
    "        max_tokens=10,\n",
    "    )\n",
    "    return response.choices[0].message.content"
   ]
  },
  {
   "cell_type": "code",
   "execution_count": 47,
   "metadata": {},
   "outputs": [
    {
     "name": "stdout",
     "output_type": "stream",
     "text": [
      "Once upon a time, in a small village surrounded\n",
      "Once upon a time, in a tranquil village tucked\n",
      "As the sun cast long shadows by the quaint village\n",
      "Once upon a time, in a quaint little village\n",
      "Once upon a time in a lush green valley nestled\n",
      "Once upon a time, in a quaint little village\n",
      "in a verdant forest, there was a small\n",
      "Once upon a time, in a land hidden far\n",
      "Once upon a time, in a small village nestled\n",
      "-in a quaint, faraway village nestled between rolling\n"
     ]
    }
   ],
   "source": [
    "#Most creative\n",
    "for i in range(10):\n",
    "    print(query(\"Once upon a time\", temp =2, top_p=1))"
   ]
  },
  {
   "cell_type": "code",
   "execution_count": 6,
   "metadata": {},
   "outputs": [
    {
     "name": "stdout",
     "output_type": "stream",
     "text": [
      "Once upon a time, in a vibrant kingdom nestled\n",
      "Once upon a time, in a quaint little village\n",
      "Once upon a time, in a quiet village nestled\n",
      "Once upon a time, in a small village nestled\n",
      "Once upon a time, in a quaint little village\n",
      "Once upon a time, in a quaint little village\n",
      "Once upon a time, in a lush green valley\n",
      "Once upon a time, in a quiet village nestled\n",
      "Once upon a time, in a lush green valley\n",
      "Once upon a time, in a lush, green\n"
     ]
    }
   ],
   "source": [
    "#Least creative\n",
    "for i in range(10):\n",
    "    print(query(\"Once upon a time\", temp =1, top_p=0.99))"
   ]
  },
  {
   "cell_type": "code",
   "execution_count": null,
   "metadata": {},
   "outputs": [],
   "source": []
  }
 ],
 "metadata": {
  "kernelspec": {
   "display_name": "Python 3 (ipykernel)",
   "language": "python",
   "name": "python3"
  },
  "language_info": {
   "codemirror_mode": {
    "name": "ipython",
    "version": 3
   },
   "file_extension": ".py",
   "mimetype": "text/x-python",
   "name": "python",
   "nbconvert_exporter": "python",
   "pygments_lexer": "ipython3",
   "version": "3.10.16"
  }
 },
 "nbformat": 4,
 "nbformat_minor": 2
}
